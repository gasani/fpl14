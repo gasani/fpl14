{
 "cells": [
  {
   "cell_type": "code",
   "execution_count": null,
   "metadata": {
    "collapsed": true
   },
   "outputs": [],
   "source": [
    "from sklearn import datasets\n",
    "from sklearn.preprocessing import label_binarize\n",
    "import numpy as np\n",
    "import tensorflow as tf\n",
    "diris = datasets.load_iris()\n",
    "iris = np.column_stack([diris['data'], diris['target']])\n",
    "np.random.shuffle(iris)\n",
    "target_multiclass = label_binarize(iris[:, -1], classes=[0, 1, 2])\n",
    "print(iris)\n",
    "print(len(iris))\n",
    "n_hidden_1 = 30\n",
    "n_hidden_2 = 30 \n",
    "n_input = 4 \n",
    "n_classes = 3\n",
    "learning_rate = 0.001\n",
    "training_epochs = 30\n",
    "batch_size = 20\n",
    "display_step = 1\n",
    "X = tf.placeholder(\"float\", [None, n_input])\n",
    "Y = tf.placeholder(\"float\", [None, n_classes])\n",
    "weights = {\n",
    "    'a1': tf.Variable(tf.random_normal([n_input, n_hidden_1])),\n",
    "    'a2': tf.Variable(tf.random_normal([n_hidden_1, n_hidden_2])),\n",
    "    'a3': tf.Variable(tf.random_normal([n_hidden_2, n_classes]))\n",
    "}\n",
    "biases = {\n",
    "    'b1': tf.Variable(tf.random_normal([n_hidden_1])),\n",
    "    'b2': tf.Variable(tf.random_normal([n_hidden_2])),\n",
    "    'b3': tf.Variable(tf.random_normal([n_classes]))\n",
    "}\n",
    "def multiperceptron(x):\n",
    "    layer_1 = tf.add(tf.matmul(x, weights['a1']), biases['b1'])\n",
    "    layer_2 = tf.add(tf.matmul(layer_1, weights['a2']), biases['b2'])\n",
    "    output = tf.matmul(layer_2, weights['a3']) + biases['b3']\n",
    "    return output\n",
    "logits = multiperceptron(X)\n",
    "loss_op = tf.reduce_mean(tf.nn.softmax_cross_entropy_with_logits(\n",
    "    logits=logits, labels=Y))\n",
    "optimizer = tf.train.AdamOptimizer(learning_rate=learning_rate)\n",
    "train_op = optimizer.minimize(loss_op)\n",
    "init = tf.global_variables_initializer()\n",
    "with tf.Session() as sess:\n",
    "    sess.run(init)\n",
    "    for epoch in range(training_epochs):\n",
    "        avg_cost = 0.\n",
    "        total_batch = int(150/batch_size)\n",
    "        for i in range(total_batch):\n",
    "            batch_x, batch_y = iris[i:i+batch_size,:4], target_multiclass[i:i+batch_size]\n",
    "            _, c = sess.run([train_op, loss_op], feed_dict={X: batch_x,Y: batch_y})\n",
    "            avg_cost += c / total_batch\n",
    "        if epoch % display_step == 0:\n",
    "            print(\"Epoch:\", '%04d' % (epoch+1), \"cost={:.9f}\".format(avg_cost))\n",
    "    print(\"Optimization Finished!\")\n",
    "    pred = tf.nn.softmax(logits)  \n",
    "    correct_prediction = tf.equal(tf.argmax(pred, 1), tf.argmax(Y, 1))\n",
    "    accuracy = tf.reduce_mean(tf.cast(correct_prediction, \"float\"))\n",
    "    print(\"Accuracy:\", accuracy.eval({X: iris[:,:-1], Y: target_multiclass}))"
   ]
  }
 ],
 "metadata": {
  "kernelspec": {
   "display_name": "Python 3",
   "language": "python",
   "name": "python3"
  },
  "language_info": {
   "codemirror_mode": {
    "name": "ipython",
    "version": 3
   },
   "file_extension": ".py",
   "mimetype": "text/x-python",
   "name": "python",
   "nbconvert_exporter": "python",
   "pygments_lexer": "ipython3",
   "version": "3.6.2"
  }
 },
 "nbformat": 4,
 "nbformat_minor": 2
}
