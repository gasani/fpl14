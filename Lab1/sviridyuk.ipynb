{
 "cells": [
  {
   "cell_type": "code",
   "execution_count": 1,
   "metadata": {
    "collapsed": true
   },
   "outputs": [],
   "source": [
    "from sklearn.linear_model import LogisticRegression\n",
    "from sklearn.datasets import load_iris\n",
    "import numpy as np\n",
    "from random import shuffle\n",
    "import tensorflow as tf\n",
    "from sklearn import datasets, utils\n",
    "from sklearn.preprocessing import label_binarize"
   ]
  },
  {
   "cell_type": "code",
   "execution_count": 52,
   "metadata": {},
   "outputs": [
    {
     "name": "stdout",
     "output_type": "stream",
     "text": [
      "Epoch: 0001 cost=77.524002075\n",
      "Epoch: 0002 cost=61.099717712\n",
      "Epoch: 0003 cost=45.041584015\n",
      "Epoch: 0004 cost=33.648373413\n",
      "Epoch: 0005 cost=26.954037476\n",
      "Epoch: 0006 cost=21.919200134\n",
      "Epoch: 0007 cost=17.604640770\n",
      "Epoch: 0008 cost=13.435563469\n",
      "Epoch: 0009 cost=9.437077332\n",
      "Epoch: 0010 cost=6.217611790\n",
      "Epoch: 0011 cost=3.047055340\n",
      "Epoch: 0012 cost=0.897659647\n",
      "Epoch: 0013 cost=1.447161150\n",
      "Epoch: 0014 cost=0.975597227\n",
      "Epoch: 0015 cost=0.384572309\n",
      "Epoch: 0016 cost=0.556627715\n",
      "Epoch: 0017 cost=0.525082785\n",
      "Epoch: 0018 cost=0.387204802\n",
      "Epoch: 0019 cost=0.387488851\n",
      "Epoch: 0020 cost=0.334774730\n",
      "Epoch: 0021 cost=0.302031642\n",
      "Epoch: 0022 cost=0.309449667\n",
      "Epoch: 0023 cost=0.290446568\n",
      "Epoch: 0024 cost=0.273943275\n",
      "Epoch: 0025 cost=0.253701466\n",
      "Epoch: 0026 cost=0.241063535\n",
      "Epoch: 0027 cost=0.232649729\n",
      "Epoch: 0028 cost=0.220446235\n",
      "Epoch: 0029 cost=0.207250977\n",
      "Epoch: 0030 cost=0.195967731\n",
      "Optimization Finished!\n",
      "Accuracy: 0.9\n"
     ]
    }
   ],
   "source": [
    "iris = load_iris()\n",
    "data_iris = np.column_stack([iris['data'], iris['target']])\n",
    "np.random.shuffle(data_iris)\n",
    "# print(data_iris)\n",
    "target_multiclass = label_binarize(data_iris[:, -1], classes=[0, 1, 2])\n",
    "\n",
    "# параметры\n",
    "learning_rate = 0.001\n",
    "training_epochs = 30\n",
    "batch_size = 20\n",
    "display_step = 1\n",
    "\n",
    "#  параметры с\n",
    "n_hidden_1 = 25 # первый слой\n",
    "n_hidden_2 = 20 \n",
    "n_input = 4 \n",
    "n_classes = 3 \n",
    "\n",
    "# tf Graph input\n",
    "X = tf.placeholder(\"float\", [None, n_input])\n",
    "Y = tf.placeholder(\"float\", [None, n_classes])\n",
    "\n",
    "weights = {\n",
    "    'h1': tf.Variable(tf.random_normal([n_input, n_hidden_1])),\n",
    "    'h2': tf.Variable(tf.random_normal([n_hidden_1, n_hidden_2])),\n",
    "    'out': tf.Variable(tf.random_normal([n_hidden_2, n_classes]))\n",
    "}\n",
    "biases = {\n",
    "    'b1': tf.Variable(tf.random_normal([n_hidden_1])),\n",
    "    'b2': tf.Variable(tf.random_normal([n_hidden_2])),\n",
    "    'out': tf.Variable(tf.random_normal([n_classes]))\n",
    "}\n",
    "\n",
    "\n",
    "# Create model\n",
    "def multilayer_perceptron(x):\n",
    "    layer_1 = tf.add(tf.matmul(x, weights['h1']), biases['b1'])\n",
    "    layer_2 = tf.add(tf.matmul(layer_1, weights['h2']), biases['b2'])\n",
    "    out_layer = tf.matmul(layer_2, weights['out']) + biases['out']\n",
    "    return out_layer\n",
    "\n",
    "# Construct model\n",
    "logits = multilayer_perceptron(X)\n",
    "\n",
    "loss_op = tf.reduce_mean(tf.nn.softmax_cross_entropy_with_logits(\n",
    "    logits=logits, labels=Y))\n",
    "optimizer = tf.train.AdamOptimizer(learning_rate=learning_rate)\n",
    "train_op = optimizer.minimize(loss_op)\n",
    "# Initializing the variables\n",
    "init = tf.global_variables_initializer()\n",
    "\n",
    "with tf.Session() as sess:\n",
    "    sess.run(init)\n",
    "\n",
    "    # Training cycle\n",
    "    for epoch in range(training_epochs):\n",
    "        avg_cost = 0\n",
    "        total_batch = int(100/batch_size)\n",
    "        train_x = data_iris[:100, :4]\n",
    "        train_y = target_multiclass[:100]\n",
    "        # Loop over all batches\n",
    "        for i in range(total_batch):\n",
    "            batch_x, batch_y = train_x[i:i+batch_size], train_y[i:i+batch_size]\n",
    "            # Run optimization op (backprop) and cost op (to get loss value)\n",
    "            _, c = sess.run([train_op, loss_op], feed_dict={X: batch_x,\n",
    "                                                            Y: batch_y})\n",
    "            # Compute average loss\n",
    "            avg_cost += c / total_batch\n",
    "        # Display logs per epoch step\n",
    "        if epoch % display_step == 0:\n",
    "            print(\"Epoch:\", '%04d' % (epoch+1), \"cost={:.9f}\".format(avg_cost))\n",
    "    print(\"Optimization Finished!\")\n",
    "\n",
    "# Test model\n",
    "    pred = tf.nn.softmax(logits)  # Apply softmax to logits\n",
    "    correct_prediction = tf.equal(tf.argmax(pred, 1), tf.argmax(Y, 1))\n",
    "    # Calculate accuracy\n",
    "    accuracy = tf.reduce_mean(tf.cast(correct_prediction, \"float\"))\n",
    "    print(\"Accuracy:\", accuracy.eval({X: data_iris[100:150,:4], Y: target_multiclass[100:150]}))"
   ]
  },
  {
   "cell_type": "code",
   "execution_count": null,
   "metadata": {
    "collapsed": true
   },
   "outputs": [],
   "source": []
  },
  {
   "cell_type": "code",
   "execution_count": null,
   "metadata": {
    "collapsed": true
   },
   "outputs": [],
   "source": []
  }
 ],
 "metadata": {
  "kernelspec": {
   "display_name": "Python 3",
   "language": "python",
   "name": "python3"
  },
  "language_info": {
   "codemirror_mode": {
    "name": "ipython",
    "version": 3
   },
   "file_extension": ".py",
   "mimetype": "text/x-python",
   "name": "python",
   "nbconvert_exporter": "python",
   "pygments_lexer": "ipython3",
   "version": "3.6.0"
  }
 },
 "nbformat": 4,
 "nbformat_minor": 2
}
