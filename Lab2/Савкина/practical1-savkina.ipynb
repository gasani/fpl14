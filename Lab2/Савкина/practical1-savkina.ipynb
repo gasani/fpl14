{
 "cells": [
  {
   "cell_type": "markdown",
   "metadata": {},
   "source": [
    "## Practical 1: word2vec\n",
    "<p>Oxford CS - Deep NLP 2017<br>\n",
    "https://www.cs.ox.ac.uk/teaching/courses/2016-2017/dl/</p>\n",
    "<p>[Yannis Assael, Brendan Shillingford, Chris Dyer]</p>"
   ]
  },
  {
   "cell_type": "markdown",
   "metadata": {},
   "source": [
    "This practical is presented as an IPython Notebook, with the code written for recent versions of **Python 3**. The code in this practical will not work with Python 2 unless you modify it. If you are using your own Python installation, ensure you have a setup identical to that described in the installation shell script (which is intended for use with the department lab machines). We will be unable to support installation on personal machines due to time constraints, so please use the lab machines and the setup script if you are unfamiliar with how to install Anaconda.\n",
    "\n",
    "To execute a notebook cell, press `shift-enter`. The return value of the last command will be displayed, if it is not `None`.\n",
    "\n",
    "Potentially useful library documentation, references, and resources:\n",
    "\n",
    "* IPython notebooks: <https://ipython.org/ipython-doc/3/notebook/notebook.html#introduction>\n",
    "* Numpy numerical array library: <https://docs.scipy.org/doc/>\n",
    "* Gensim's word2vec: <https://radimrehurek.com/gensim/models/word2vec.html>\n",
    "* Bokeh interactive plots: <http://bokeh.pydata.org/en/latest/> (we provide plotting code here, but click the thumbnails for more examples to copy-paste)\n",
    "* scikit-learn ML library (aka `sklearn`): <http://scikit-learn.org/stable/documentation.html>\n",
    "* nltk NLP toolkit: <http://www.nltk.org/>\n",
    "* tutorial for processing xml in python using `lxml`: <http://lxml.de/tutorial.html> (we did this for you below, but in case you need it in the future)"
   ]
  },
  {
   "cell_type": "code",
   "execution_count": 1,
   "metadata": {},
   "outputs": [
    {
     "data": {
      "text/html": [
       "\n",
       "    <div class=\"bk-root\">\n",
       "        <a href=\"http://bokeh.pydata.org\" target=\"_blank\" class=\"bk-logo bk-logo-small bk-logo-notebook\"></a>\n",
       "        <span id=\"9ab87535-2203-43e5-bcbe-81f3c2f848b5\">Loading BokehJS ...</span>\n",
       "    </div>"
      ]
     },
     "metadata": {},
     "output_type": "display_data"
    },
    {
     "data": {
      "application/javascript": [
       "\n",
       "(function(global) {\n",
       "  function now() {\n",
       "    return new Date();\n",
       "  }\n",
       "\n",
       "  var force = true;\n",
       "\n",
       "  if (typeof (window._bokeh_onload_callbacks) === \"undefined\" || force === true) {\n",
       "    window._bokeh_onload_callbacks = [];\n",
       "    window._bokeh_is_loading = undefined;\n",
       "  }\n",
       "\n",
       "\n",
       "  \n",
       "  if (typeof (window._bokeh_timeout) === \"undefined\" || force === true) {\n",
       "    window._bokeh_timeout = Date.now() + 5000;\n",
       "    window._bokeh_failed_load = false;\n",
       "  }\n",
       "\n",
       "  var NB_LOAD_WARNING = {'data': {'text/html':\n",
       "     \"<div style='background-color: #fdd'>\\n\"+\n",
       "     \"<p>\\n\"+\n",
       "     \"BokehJS does not appear to have successfully loaded. If loading BokehJS from CDN, this \\n\"+\n",
       "     \"may be due to a slow or bad network connection. Possible fixes:\\n\"+\n",
       "     \"</p>\\n\"+\n",
       "     \"<ul>\\n\"+\n",
       "     \"<li>re-rerun `output_notebook()` to attempt to load from CDN again, or</li>\\n\"+\n",
       "     \"<li>use INLINE resources instead, as so:</li>\\n\"+\n",
       "     \"</ul>\\n\"+\n",
       "     \"<code>\\n\"+\n",
       "     \"from bokeh.resources import INLINE\\n\"+\n",
       "     \"output_notebook(resources=INLINE)\\n\"+\n",
       "     \"</code>\\n\"+\n",
       "     \"</div>\"}};\n",
       "\n",
       "  function display_loaded() {\n",
       "    if (window.Bokeh !== undefined) {\n",
       "      var el = document.getElementById(\"9ab87535-2203-43e5-bcbe-81f3c2f848b5\");\n",
       "      el.textContent = \"BokehJS \" + Bokeh.version + \" successfully loaded.\";\n",
       "    } else if (Date.now() < window._bokeh_timeout) {\n",
       "      setTimeout(display_loaded, 100)\n",
       "    }\n",
       "  }\n",
       "\n",
       "  function run_callbacks() {\n",
       "    window._bokeh_onload_callbacks.forEach(function(callback) { callback() });\n",
       "    delete window._bokeh_onload_callbacks\n",
       "    console.info(\"Bokeh: all callbacks have finished\");\n",
       "  }\n",
       "\n",
       "  function load_libs(js_urls, callback) {\n",
       "    window._bokeh_onload_callbacks.push(callback);\n",
       "    if (window._bokeh_is_loading > 0) {\n",
       "      console.log(\"Bokeh: BokehJS is being loaded, scheduling callback at\", now());\n",
       "      return null;\n",
       "    }\n",
       "    if (js_urls == null || js_urls.length === 0) {\n",
       "      run_callbacks();\n",
       "      return null;\n",
       "    }\n",
       "    console.log(\"Bokeh: BokehJS not loaded, scheduling load and callback at\", now());\n",
       "    window._bokeh_is_loading = js_urls.length;\n",
       "    for (var i = 0; i < js_urls.length; i++) {\n",
       "      var url = js_urls[i];\n",
       "      var s = document.createElement('script');\n",
       "      s.src = url;\n",
       "      s.async = false;\n",
       "      s.onreadystatechange = s.onload = function() {\n",
       "        window._bokeh_is_loading--;\n",
       "        if (window._bokeh_is_loading === 0) {\n",
       "          console.log(\"Bokeh: all BokehJS libraries loaded\");\n",
       "          run_callbacks()\n",
       "        }\n",
       "      };\n",
       "      s.onerror = function() {\n",
       "        console.warn(\"failed to load library \" + url);\n",
       "      };\n",
       "      console.log(\"Bokeh: injecting script tag for BokehJS library: \", url);\n",
       "      document.getElementsByTagName(\"head\")[0].appendChild(s);\n",
       "    }\n",
       "  };var element = document.getElementById(\"9ab87535-2203-43e5-bcbe-81f3c2f848b5\");\n",
       "  if (element == null) {\n",
       "    console.log(\"Bokeh: ERROR: autoload.js configured with elementid '9ab87535-2203-43e5-bcbe-81f3c2f848b5' but no matching script tag was found. \")\n",
       "    return false;\n",
       "  }\n",
       "\n",
       "  var js_urls = [\"https://cdn.pydata.org/bokeh/release/bokeh-0.12.5.min.js\", \"https://cdn.pydata.org/bokeh/release/bokeh-widgets-0.12.5.min.js\"];\n",
       "\n",
       "  var inline_js = [\n",
       "    function(Bokeh) {\n",
       "      Bokeh.set_log_level(\"info\");\n",
       "    },\n",
       "    \n",
       "    function(Bokeh) {\n",
       "      \n",
       "    },\n",
       "    \n",
       "    function(Bokeh) {\n",
       "      \n",
       "      document.getElementById(\"9ab87535-2203-43e5-bcbe-81f3c2f848b5\").textContent = \"BokehJS is loading...\";\n",
       "    },\n",
       "    function(Bokeh) {\n",
       "      console.log(\"Bokeh: injecting CSS: https://cdn.pydata.org/bokeh/release/bokeh-0.12.5.min.css\");\n",
       "      Bokeh.embed.inject_css(\"https://cdn.pydata.org/bokeh/release/bokeh-0.12.5.min.css\");\n",
       "      console.log(\"Bokeh: injecting CSS: https://cdn.pydata.org/bokeh/release/bokeh-widgets-0.12.5.min.css\");\n",
       "      Bokeh.embed.inject_css(\"https://cdn.pydata.org/bokeh/release/bokeh-widgets-0.12.5.min.css\");\n",
       "    }\n",
       "  ];\n",
       "\n",
       "  function run_inline_js() {\n",
       "    \n",
       "    if ((window.Bokeh !== undefined) || (force === true)) {\n",
       "      for (var i = 0; i < inline_js.length; i++) {\n",
       "        inline_js[i](window.Bokeh);\n",
       "      }if (force === true) {\n",
       "        display_loaded();\n",
       "      }} else if (Date.now() < window._bokeh_timeout) {\n",
       "      setTimeout(run_inline_js, 100);\n",
       "    } else if (!window._bokeh_failed_load) {\n",
       "      console.log(\"Bokeh: BokehJS failed to load within specified timeout.\");\n",
       "      window._bokeh_failed_load = true;\n",
       "    } else if (force !== true) {\n",
       "      var cell = $(document.getElementById(\"9ab87535-2203-43e5-bcbe-81f3c2f848b5\")).parents('.cell').data().cell;\n",
       "      cell.output_area.append_execute_result(NB_LOAD_WARNING)\n",
       "    }\n",
       "\n",
       "  }\n",
       "\n",
       "  if (window._bokeh_is_loading === 0) {\n",
       "    console.log(\"Bokeh: BokehJS loaded, going straight to plotting\");\n",
       "    run_inline_js();\n",
       "  } else {\n",
       "    load_libs(js_urls, function() {\n",
       "      console.log(\"Bokeh: BokehJS plotting callback run at\", now());\n",
       "      run_inline_js();\n",
       "    });\n",
       "  }\n",
       "}(this));"
      ]
     },
     "metadata": {},
     "output_type": "display_data"
    }
   ],
   "source": [
    "from bokeh.models import ColumnDataSource, LabelSet\n",
    "from bokeh.plotting import figure, show, output_file\n",
    "from bokeh.io import output_notebook\n",
    "output_notebook()"
   ]
  },
  {
   "cell_type": "code",
   "execution_count": 2,
   "metadata": {
    "collapsed": true
   },
   "outputs": [],
   "source": [
    "import numpy as np\n",
    "import os\n",
    "from random import shuffle\n",
    "import re"
   ]
  },
  {
   "cell_type": "markdown",
   "metadata": {},
   "source": [
    "### Part 0: Download the TED dataset"
   ]
  },
  {
   "cell_type": "code",
   "execution_count": 3,
   "metadata": {
    "collapsed": true
   },
   "outputs": [],
   "source": [
    "import urllib.request\n",
    "import zipfile\n",
    "import lxml.etree"
   ]
  },
  {
   "cell_type": "code",
   "execution_count": 4,
   "metadata": {
    "collapsed": true
   },
   "outputs": [],
   "source": [
    "# Download the dataset if it's not already there: this may take a minute as it is 75MB\n",
    "if not os.path.isfile('ted_en-20160408.zip'):\n",
    "    urllib.request.urlretrieve(\"https://wit3.fbk.eu/get.php?path=XML_releases/xml/ted_en-20160408.zip&filename=ted_en-20160408.zip\", filename=\"ted_en-20160408.zip\")"
   ]
  },
  {
   "cell_type": "code",
   "execution_count": 5,
   "metadata": {
    "collapsed": true
   },
   "outputs": [],
   "source": [
    "# For now, we're only interested in the subtitle text, so let's extract that from the XML:\n",
    "with zipfile.ZipFile('ted_en-20160408.zip', 'r') as z:\n",
    "    doc = lxml.etree.parse(z.open('ted_en-20160408.xml', 'r'))\n",
    "input_text = '\\n'.join(doc.xpath('//content/text()'))\n",
    "del doc"
   ]
  },
  {
   "cell_type": "markdown",
   "metadata": {},
   "source": [
    "### Part 1: Preprocessing\n",
    "\n",
    "In this part, we attempt to clean up the raw subtitles a bit, so that we get only sentences. The following substring shows examples of what we're trying to get rid of. Since it's hard to define precisely what we want to get rid of, we'll just use some simple heuristics."
   ]
  },
  {
   "cell_type": "code",
   "execution_count": 6,
   "metadata": {
    "scrolled": false
   },
   "outputs": [
    {
     "data": {
      "text/plain": [
       "' baby does.\\n(Video) Hyowon Gweon: See this? (Ball squeaks) Did you see that? (Ball squeaks) Cool. See this one? (Ball squeaks) Wow.\\nLaura Schulz: Told you. (Laughs)\\n(Vide'"
      ]
     },
     "execution_count": 6,
     "metadata": {},
     "output_type": "execute_result"
    }
   ],
   "source": [
    "i = input_text.find(\"Hyowon Gweon: See this?\")\n",
    "input_text[i-20:i+150]"
   ]
  },
  {
   "cell_type": "markdown",
   "metadata": {},
   "source": [
    "Let's start by removing all parenthesized strings using a regex:"
   ]
  },
  {
   "cell_type": "code",
   "execution_count": 7,
   "metadata": {
    "collapsed": true
   },
   "outputs": [],
   "source": [
    "input_text_noparens = re.sub(r'\\([^)]*\\)', '', input_text)"
   ]
  },
  {
   "cell_type": "markdown",
   "metadata": {},
   "source": [
    "We can verify the same location in the text is now clean as follows. We won't worry about the irregular spaces since we'll later split the text into sentences and tokenize it anyway."
   ]
  },
  {
   "cell_type": "code",
   "execution_count": 8,
   "metadata": {},
   "outputs": [
    {
     "data": {
      "text/plain": [
       "\"hat the baby does.\\n Hyowon Gweon: See this?  Did you see that?  Cool. See this one?  Wow.\\nLaura Schulz: Told you. \\n HG: See this one?  Hey Clara, this one's for you. You \""
      ]
     },
     "execution_count": 8,
     "metadata": {},
     "output_type": "execute_result"
    }
   ],
   "source": [
    "i = input_text_noparens.find(\"Hyowon Gweon: See this?\")\n",
    "input_text_noparens[i-20:i+150]"
   ]
  },
  {
   "cell_type": "markdown",
   "metadata": {},
   "source": [
    "Now, let's attempt to remove speakers' names that occur at the beginning of a line, by deleting pieces of the form \"`<up to 20 characters>:`\", as shown in this example. Of course, this is an imperfect heuristic. "
   ]
  },
  {
   "cell_type": "code",
   "execution_count": 9,
   "metadata": {},
   "outputs": [
    {
     "data": {
      "text/plain": [
       "[\"Here are two reasons companies fail: they only do more of the same, or they only do what's new\",\n",
       " 'To me the real, real solution to quality growth is figuring out the balance between two activities: exploration and exploitation',\n",
       " ' Both are necessary, but it can be too much of a good thing',\n",
       " 'Consider Facit',\n",
       " \" I'm actually old enough to remember them\"]"
      ]
     },
     "execution_count": 9,
     "metadata": {},
     "output_type": "execute_result"
    }
   ],
   "source": [
    "sentences_strings_ted = []\n",
    "for line in input_text_noparens.split('\\n'):\n",
    "    m = re.match(r'^(?:(?P<precolon>[^:]{,20}):)?(?P<postcolon>.*)$', line)\n",
    "    sentences_strings_ted.extend(sent for sent in m.groupdict()['postcolon'].split('.') if sent)\n",
    "\n",
    "# Uncomment if you need to save some RAM: these strings are about 50MB.\n",
    "# del input_text, input_text_noparens\n",
    "\n",
    "# Let's view the first few:\n",
    "sentences_strings_ted[:5]"
   ]
  },
  {
   "cell_type": "markdown",
   "metadata": {},
   "source": [
    "Now that we have sentences, we're ready to tokenize each of them into words. This tokenization is imperfect, of course. For instance, how many tokens is \"can't\", and where/how do we split it? We'll take the simplest naive approach of splitting on spaces. Before splitting, we remove non-alphanumeric characters, such as punctuation. You may want to consider the following question: why do we replace these characters with spaces rather than deleting them? Think of a case where this yields a different answer."
   ]
  },
  {
   "cell_type": "code",
   "execution_count": 11,
   "metadata": {},
   "outputs": [],
   "source": [
    "sentences_ted = []\n",
    "for sent_str in sentences_strings_ted:\n",
    "    tokens = re.sub(r\"[^a-z0-9]+\", \" \", sent_str.lower()).split()\n",
    "    sentences_ted.append(tokens)"
   ]
  },
  {
   "cell_type": "markdown",
   "metadata": {},
   "source": [
    "Two sample processed sentences:"
   ]
  },
  {
   "cell_type": "code",
   "execution_count": 12,
   "metadata": {},
   "outputs": [
    {
     "data": {
      "text/plain": [
       "266694"
      ]
     },
     "execution_count": 12,
     "metadata": {},
     "output_type": "execute_result"
    }
   ],
   "source": [
    "len(sentences_ted)"
   ]
  },
  {
   "cell_type": "code",
   "execution_count": 13,
   "metadata": {},
   "outputs": [
    {
     "name": "stdout",
     "output_type": "stream",
     "text": [
      "['here', 'are', 'two', 'reasons', 'companies', 'fail', 'they', 'only', 'do', 'more', 'of', 'the', 'same', 'or', 'they', 'only', 'do', 'what', 's', 'new']\n",
      "['to', 'me', 'the', 'real', 'real', 'solution', 'to', 'quality', 'growth', 'is', 'figuring', 'out', 'the', 'balance', 'between', 'two', 'activities', 'exploration', 'and', 'exploitation']\n"
     ]
    }
   ],
   "source": [
    "print(sentences_ted[0])\n",
    "print(sentences_ted[1])"
   ]
  },
  {
   "cell_type": "markdown",
   "metadata": {},
   "source": [
    "### Part 2: Word Frequencies"
   ]
  },
  {
   "cell_type": "markdown",
   "metadata": {},
   "source": [
    "If you store the counts of the top 1000 words in a list called `counts_ted_top1000`, the code below will plot the histogram requested in the writeup."
   ]
  },
  {
   "cell_type": "code",
   "execution_count": 14,
   "metadata": {
    "collapsed": true
   },
   "outputs": [],
   "source": [
    "from collections import Counter\n",
    "from itertools import chain"
   ]
  },
  {
   "cell_type": "code",
   "execution_count": 15,
   "metadata": {
    "collapsed": true
   },
   "outputs": [],
   "source": [
    "#...\n",
    "words_top_ted, counts_ted_top1000 = zip(*Counter(chain.from_iterable(sentences_ted)).most_common(1000))"
   ]
  },
  {
   "cell_type": "code",
   "execution_count": 16,
   "metadata": {},
   "outputs": [
    {
     "name": "stdout",
     "output_type": "stream",
     "text": [
      "('the', 'and', 'to', 'of', 'a', 'that', 'i', 'in', 'it', 'you') (207748, 149305, 125169, 114818, 105399, 95146, 83180, 78070, 74738, 70923)\n"
     ]
    }
   ],
   "source": [
    "print( words_top_ted[:10], counts_ted_top1000[:10] )"
   ]
  },
  {
   "cell_type": "markdown",
   "metadata": {},
   "source": [
    "Plot distribution of top-1000 words"
   ]
  },
  {
   "cell_type": "code",
   "execution_count": 17,
   "metadata": {},
   "outputs": [
    {
     "data": {
      "text/html": [
       "\n",
       "\n",
       "    <div class=\"bk-root\">\n",
       "        <div class=\"bk-plotdiv\" id=\"24650728-996a-4c8e-a782-ad22dd4b726f\"></div>\n",
       "    </div>\n",
       "<script type=\"text/javascript\">\n",
       "  \n",
       "  (function(global) {\n",
       "    function now() {\n",
       "      return new Date();\n",
       "    }\n",
       "  \n",
       "    var force = false;\n",
       "  \n",
       "    if (typeof (window._bokeh_onload_callbacks) === \"undefined\" || force === true) {\n",
       "      window._bokeh_onload_callbacks = [];\n",
       "      window._bokeh_is_loading = undefined;\n",
       "    }\n",
       "  \n",
       "  \n",
       "    \n",
       "    if (typeof (window._bokeh_timeout) === \"undefined\" || force === true) {\n",
       "      window._bokeh_timeout = Date.now() + 0;\n",
       "      window._bokeh_failed_load = false;\n",
       "    }\n",
       "  \n",
       "    var NB_LOAD_WARNING = {'data': {'text/html':\n",
       "       \"<div style='background-color: #fdd'>\\n\"+\n",
       "       \"<p>\\n\"+\n",
       "       \"BokehJS does not appear to have successfully loaded. If loading BokehJS from CDN, this \\n\"+\n",
       "       \"may be due to a slow or bad network connection. Possible fixes:\\n\"+\n",
       "       \"</p>\\n\"+\n",
       "       \"<ul>\\n\"+\n",
       "       \"<li>re-rerun `output_notebook()` to attempt to load from CDN again, or</li>\\n\"+\n",
       "       \"<li>use INLINE resources instead, as so:</li>\\n\"+\n",
       "       \"</ul>\\n\"+\n",
       "       \"<code>\\n\"+\n",
       "       \"from bokeh.resources import INLINE\\n\"+\n",
       "       \"output_notebook(resources=INLINE)\\n\"+\n",
       "       \"</code>\\n\"+\n",
       "       \"</div>\"}};\n",
       "  \n",
       "    function display_loaded() {\n",
       "      if (window.Bokeh !== undefined) {\n",
       "        var el = document.getElementById(\"24650728-996a-4c8e-a782-ad22dd4b726f\");\n",
       "        el.textContent = \"BokehJS \" + Bokeh.version + \" successfully loaded.\";\n",
       "      } else if (Date.now() < window._bokeh_timeout) {\n",
       "        setTimeout(display_loaded, 100)\n",
       "      }\n",
       "    }\n",
       "  \n",
       "    function run_callbacks() {\n",
       "      window._bokeh_onload_callbacks.forEach(function(callback) { callback() });\n",
       "      delete window._bokeh_onload_callbacks\n",
       "      console.info(\"Bokeh: all callbacks have finished\");\n",
       "    }\n",
       "  \n",
       "    function load_libs(js_urls, callback) {\n",
       "      window._bokeh_onload_callbacks.push(callback);\n",
       "      if (window._bokeh_is_loading > 0) {\n",
       "        console.log(\"Bokeh: BokehJS is being loaded, scheduling callback at\", now());\n",
       "        return null;\n",
       "      }\n",
       "      if (js_urls == null || js_urls.length === 0) {\n",
       "        run_callbacks();\n",
       "        return null;\n",
       "      }\n",
       "      console.log(\"Bokeh: BokehJS not loaded, scheduling load and callback at\", now());\n",
       "      window._bokeh_is_loading = js_urls.length;\n",
       "      for (var i = 0; i < js_urls.length; i++) {\n",
       "        var url = js_urls[i];\n",
       "        var s = document.createElement('script');\n",
       "        s.src = url;\n",
       "        s.async = false;\n",
       "        s.onreadystatechange = s.onload = function() {\n",
       "          window._bokeh_is_loading--;\n",
       "          if (window._bokeh_is_loading === 0) {\n",
       "            console.log(\"Bokeh: all BokehJS libraries loaded\");\n",
       "            run_callbacks()\n",
       "          }\n",
       "        };\n",
       "        s.onerror = function() {\n",
       "          console.warn(\"failed to load library \" + url);\n",
       "        };\n",
       "        console.log(\"Bokeh: injecting script tag for BokehJS library: \", url);\n",
       "        document.getElementsByTagName(\"head\")[0].appendChild(s);\n",
       "      }\n",
       "    };var element = document.getElementById(\"24650728-996a-4c8e-a782-ad22dd4b726f\");\n",
       "    if (element == null) {\n",
       "      console.log(\"Bokeh: ERROR: autoload.js configured with elementid '24650728-996a-4c8e-a782-ad22dd4b726f' but no matching script tag was found. \")\n",
       "      return false;\n",
       "    }\n",
       "  \n",
       "    var js_urls = [];\n",
       "  \n",
       "    var inline_js = [\n",
       "      function(Bokeh) {\n",
       "        (function() {\n",
       "          var fn = function() {\n",
       "            var docs_json = {\"e5f8f4ca-eba1-4195-84c5-5e8ff9e398dc\":{\"roots\":{\"references\":[{\"attributes\":{\"callback\":null},\"id\":\"86ca894e-540f-4bc2-a816-194c9c66ca96\",\"type\":\"DataRange1d\"},{\"attributes\":{\"data_source\":{\"id\":\"614936d1-59ef-4295-906c-a1b98e81d3df\",\"type\":\"ColumnDataSource\"},\"glyph\":{\"id\":\"c3593bd3-47de-4e83-885e-996d63d9e647\",\"type\":\"Quad\"},\"hover_glyph\":null,\"muted_glyph\":null,\"nonselection_glyph\":{\"id\":\"564dd7fc-e615-45f8-b2bf-f1921d2a6269\",\"type\":\"Quad\"},\"selection_glyph\":null},\"id\":\"4054f7bf-c493-4b3e-8d50-3dffc0d94081\",\"type\":\"GlyphRenderer\"},{\"attributes\":{},\"id\":\"7a9f9c4d-341b-4f93-bf4a-2dc850cec15c\",\"type\":\"BasicTickFormatter\"},{\"attributes\":{\"plot\":null,\"text\":\"Top-1000 words distribution\"},\"id\":\"7774ca21-a50d-40ff-a15f-33e38582f6bd\",\"type\":\"Title\"},{\"attributes\":{},\"id\":\"188ccaf9-f1de-4ede-91ae-e0c1a78950c6\",\"type\":\"ToolEvents\"},{\"attributes\":{\"active_drag\":\"auto\",\"active_scroll\":\"auto\",\"active_tap\":\"auto\",\"tools\":[{\"id\":\"b320eed7-1b82-4c1c-8a68-7485458650ed\",\"type\":\"PanTool\"},{\"id\":\"4333209f-0dcd-40e6-83a1-3c159e9dfb90\",\"type\":\"WheelZoomTool\"},{\"id\":\"116d5695-e2db-4fca-acbe-a0635d9fe6de\",\"type\":\"ResetTool\"},{\"id\":\"4b30c452-9ec5-4034-aa52-1daa3436c717\",\"type\":\"SaveTool\"}]},\"id\":\"fcd63dc4-aa26-4016-bda3-58b75a6bb1ba\",\"type\":\"Toolbar\"},{\"attributes\":{\"formatter\":{\"id\":\"7a9f9c4d-341b-4f93-bf4a-2dc850cec15c\",\"type\":\"BasicTickFormatter\"},\"plot\":{\"id\":\"0f4c465f-fe0f-473d-9e5b-c29638363331\",\"subtype\":\"Figure\",\"type\":\"Plot\"},\"ticker\":{\"id\":\"d72f4742-7bfd-49c9-a631-2f6c8e9568b1\",\"type\":\"BasicTicker\"}},\"id\":\"5cc57ff0-5504-41a2-9f88-1a0fc6125125\",\"type\":\"LinearAxis\"},{\"attributes\":{\"callback\":null},\"id\":\"d526ccba-a387-4b9a-9031-8cfc3b4d7bcb\",\"type\":\"DataRange1d\"},{\"attributes\":{},\"id\":\"d72f4742-7bfd-49c9-a631-2f6c8e9568b1\",\"type\":\"BasicTicker\"},{\"attributes\":{\"plot\":{\"id\":\"0f4c465f-fe0f-473d-9e5b-c29638363331\",\"subtype\":\"Figure\",\"type\":\"Plot\"},\"ticker\":{\"id\":\"d72f4742-7bfd-49c9-a631-2f6c8e9568b1\",\"type\":\"BasicTicker\"}},\"id\":\"4fb4ee77-da1b-478c-a097-3bcb93b319b1\",\"type\":\"Grid\"},{\"attributes\":{\"formatter\":{\"id\":\"a0822f8c-9588-4b72-b179-8e67d7ca8588\",\"type\":\"BasicTickFormatter\"},\"plot\":{\"id\":\"0f4c465f-fe0f-473d-9e5b-c29638363331\",\"subtype\":\"Figure\",\"type\":\"Plot\"},\"ticker\":{\"id\":\"c3f93169-8753-4fb6-ac92-d76d1d59cb12\",\"type\":\"BasicTicker\"}},\"id\":\"25f07fc7-e11d-414c-972a-427c9591331e\",\"type\":\"LinearAxis\"},{\"attributes\":{},\"id\":\"c3f93169-8753-4fb6-ac92-d76d1d59cb12\",\"type\":\"BasicTicker\"},{\"attributes\":{\"dimension\":1,\"plot\":{\"id\":\"0f4c465f-fe0f-473d-9e5b-c29638363331\",\"subtype\":\"Figure\",\"type\":\"Plot\"},\"ticker\":{\"id\":\"c3f93169-8753-4fb6-ac92-d76d1d59cb12\",\"type\":\"BasicTicker\"}},\"id\":\"06f2a873-08e4-43e2-ab60-61f2bf5c591d\",\"type\":\"Grid\"},{\"attributes\":{},\"id\":\"a0822f8c-9588-4b72-b179-8e67d7ca8588\",\"type\":\"BasicTickFormatter\"},{\"attributes\":{\"plot\":{\"id\":\"0f4c465f-fe0f-473d-9e5b-c29638363331\",\"subtype\":\"Figure\",\"type\":\"Plot\"}},\"id\":\"b320eed7-1b82-4c1c-8a68-7485458650ed\",\"type\":\"PanTool\"},{\"attributes\":{\"plot\":{\"id\":\"0f4c465f-fe0f-473d-9e5b-c29638363331\",\"subtype\":\"Figure\",\"type\":\"Plot\"}},\"id\":\"4333209f-0dcd-40e6-83a1-3c159e9dfb90\",\"type\":\"WheelZoomTool\"},{\"attributes\":{\"plot\":{\"id\":\"0f4c465f-fe0f-473d-9e5b-c29638363331\",\"subtype\":\"Figure\",\"type\":\"Plot\"}},\"id\":\"116d5695-e2db-4fca-acbe-a0635d9fe6de\",\"type\":\"ResetTool\"},{\"attributes\":{\"bottom\":{\"value\":0},\"fill_alpha\":{\"value\":0.1},\"fill_color\":{\"value\":\"#1f77b4\"},\"left\":{\"field\":\"left\"},\"line_alpha\":{\"value\":0.1},\"line_color\":{\"value\":\"#1f77b4\"},\"right\":{\"field\":\"right\"},\"top\":{\"field\":\"top\"}},\"id\":\"564dd7fc-e615-45f8-b2bf-f1921d2a6269\",\"type\":\"Quad\"},{\"attributes\":{\"plot\":{\"id\":\"0f4c465f-fe0f-473d-9e5b-c29638363331\",\"subtype\":\"Figure\",\"type\":\"Plot\"}},\"id\":\"4b30c452-9ec5-4034-aa52-1daa3436c717\",\"type\":\"SaveTool\"},{\"attributes\":{\"below\":[{\"id\":\"5cc57ff0-5504-41a2-9f88-1a0fc6125125\",\"type\":\"LinearAxis\"}],\"left\":[{\"id\":\"25f07fc7-e11d-414c-972a-427c9591331e\",\"type\":\"LinearAxis\"}],\"renderers\":[{\"id\":\"5cc57ff0-5504-41a2-9f88-1a0fc6125125\",\"type\":\"LinearAxis\"},{\"id\":\"4fb4ee77-da1b-478c-a097-3bcb93b319b1\",\"type\":\"Grid\"},{\"id\":\"25f07fc7-e11d-414c-972a-427c9591331e\",\"type\":\"LinearAxis\"},{\"id\":\"06f2a873-08e4-43e2-ab60-61f2bf5c591d\",\"type\":\"Grid\"},{\"id\":\"4054f7bf-c493-4b3e-8d50-3dffc0d94081\",\"type\":\"GlyphRenderer\"}],\"title\":{\"id\":\"7774ca21-a50d-40ff-a15f-33e38582f6bd\",\"type\":\"Title\"},\"tool_events\":{\"id\":\"188ccaf9-f1de-4ede-91ae-e0c1a78950c6\",\"type\":\"ToolEvents\"},\"toolbar\":{\"id\":\"fcd63dc4-aa26-4016-bda3-58b75a6bb1ba\",\"type\":\"Toolbar\"},\"toolbar_location\":\"above\",\"x_range\":{\"id\":\"86ca894e-540f-4bc2-a816-194c9c66ca96\",\"type\":\"DataRange1d\"},\"y_range\":{\"id\":\"d526ccba-a387-4b9a-9031-8cfc3b4d7bcb\",\"type\":\"DataRange1d\"}},\"id\":\"0f4c465f-fe0f-473d-9e5b-c29638363331\",\"subtype\":\"Figure\",\"type\":\"Plot\"},{\"attributes\":{\"callback\":null,\"column_names\":[\"left\",\"right\",\"top\"],\"data\":{\"left\":{\"__ndarray__\":\"AAAAAABAeUB7FK5H4VqjQHsUrkfhxrFAuB6F61HguUB7FK5H4fzAQJqZmZmZCcVAuB6F61EWyUDXo3A9CiPNQHsUrkfhl9BACtejcD2e0kCamZmZmaTUQClcj8L1qtZAuB6F61Gx2EBI4XoUrrfaQNejcD0KvtxAZ2ZmZmbE3kB7FK5HYWXgQMP1KFyPaOFACtejcL1r4kBSuB6F627jQJqZmZkZcuRA4XoUrkd15UApXI/CdXjmQHE9Cteje+dAuB6F69F+6EAAAAAAAILpQEjhehQuhepAkML1KFyI60DXo3A9iovsQB+F61G4ju1AZ2ZmZuaR7kCuR+F6FJXvQHsUrkchTPBAH4XrUbjN8EDD9ShcT0/xQGdmZmbm0PFACtejcH1S8kCuR+F6FNTyQFK4HoWrVfNA9ihcj0LX80CamZmZ2Vj0QD4K16Nw2vRA4XoUrgdc9UCF61G4nt31QClcj8I1X/ZAzczMzMzg9kBxPQrXY2L3QBWuR+H64/dAuB6F65Fl+EBcj8L1KOf4QAAAAADAaPlApHA9Clfq+UBI4XoU7mv6QOxRuB6F7fpAkML1KBxv+0AzMzMzs/D7QNejcD1KcvxAexSuR+Hz/EAfhetReHX9QMP1KFwP9/1AZ2ZmZqZ4/kAK16NwPfr+QK5H4XrUe/9AUrgehWv9/0B7FK5HgT8AQc3MzMxMgABBH4XrURjBAEFxPQrX4wEBQcP1KFyvQgFBFa5H4XqDAUFnZmZmRsQBQbgehesRBQJBCtejcN1FAkFcj8L1qIYCQa5H4Xp0xwJBAAAAAEAIA0FSuB6FC0kDQaRwPQrXiQNB9ihcj6LKA0FI4XoUbgsEQZqZmZk5TARB7FG4HgWNBEE+Ctej0M0EQZDC9SicDgVB4XoUrmdPBUEzMzMzM5AFQYXrUbj+0AVB16NwPcoRBkEpXI/ClVIGQXsUrkdhkwZBzczMzCzUBkEfhetR+BQHQXE9CtfDVQdBw/UoXI+WB0EVrkfhWtcHQWdmZmYmGAhBuB6F6/FYCEEK16NwvZkIQVyPwvWI2ghBrkfhelQbCUE=\",\"dtype\":\"float64\",\"shape\":[100]},\"right\":{\"__ndarray__\":\"exSuR+Fao0B7FK5H4caxQLgehetR4LlAexSuR+H8wECamZmZmQnFQLgehetRFslA16NwPQojzUB7FK5H4ZfQQArXo3A9ntJAmpmZmZmk1EApXI/C9arWQLgehetRsdhASOF6FK632kDXo3A9Cr7cQGdmZmZmxN5AexSuR2Fl4EDD9Shcj2jhQArXo3C9a+JAUrgehetu40CamZmZGXLkQOF6FK5HdeVAKVyPwnV45kBxPQrXo3vnQLgehevRfuhAAAAAAACC6UBI4XoULoXqQJDC9ShciOtA16NwPYqL7EAfhetRuI7tQGdmZmbmke5ArkfhehSV70B7FK5HIUzwQB+F61G4zfBAw/UoXE9P8UBnZmZm5tDxQArXo3B9UvJArkfhehTU8kBSuB6Fq1XzQPYoXI9C1/NAmpmZmdlY9EA+CtejcNr0QOF6FK4HXPVAhetRuJ7d9UApXI/CNV/2QM3MzMzM4PZAcT0K12Ni90AVrkfh+uP3QLgeheuRZfhAXI/C9Sjn+EAAAAAAwGj5QKRwPQpX6vlASOF6FO5r+kDsUbgehe36QJDC9Sgcb/tAMzMzM7Pw+0DXo3A9SnL8QHsUrkfh8/xAH4XrUXh1/UDD9ShcD/f9QGdmZmameP5ACtejcD36/kCuR+F61Hv/QFK4HoVr/f9AexSuR4E/AEHNzMzMTIAAQR+F61EYwQBBcT0K1+MBAUHD9Shcr0IBQRWuR+F6gwFBZ2ZmZkbEAUG4HoXrEQUCQQrXo3DdRQJBXI/C9aiGAkGuR+F6dMcCQQAAAABACANBUrgehQtJA0GkcD0K14kDQfYoXI+iygNBSOF6FG4LBEGamZmZOUwEQexRuB4FjQRBPgrXo9DNBEGQwvUonA4FQeF6FK5nTwVBMzMzMzOQBUGF61G4/tAFQdejcD3KEQZBKVyPwpVSBkF7FK5HYZMGQc3MzMws1AZBH4XrUfgUB0FxPQrXw1UHQcP1KFyPlgdBFa5H4VrXB0FnZmZmJhgIQbgehevxWAhBCtejcL2ZCEFcj8L1iNoIQa5H4XpUGwlBAAAAACBcCUE=\",\"dtype\":\"float64\",\"shape\":[100]},\"top\":{\"__ndarray__\":\"50H1zNSBOT/ypb1tgHIBPwsriUb5Uew+zuTFiLI04j78kGUPxTHhPh40R25oQNY+zuTFiLI00j4pPQWW1y7APsTbB2FDRsg+JT0FltcuwD4tPQWW1y6wPi09BZbXLrA+JT0FltcuwD4tPQWW1y6gPiU9BZbXLrA+LT0FltcuoD4AAAAAAAAAADU9BZbXLqA+AAAAAAAAAAAAAAAAAAAAAAAAAAAAAAAAAAAAAAAAAAAAAAAAAAAAADU9BZbXLqA+AAAAAAAAAAAAAAAAAAAAAAAAAAAAAAAANT0FltcuoD4AAAAAAAAAAAAAAAAAAAAANT0FltcuoD4AAAAAAAAAACU9BZbXLqA+AAAAAAAAAAAlPQWW1y6gPkU9BZbXLqA+AAAAAAAAAAAlPQWW1y6gPgAAAAAAAAAAJT0FltcuoD4AAAAAAAAAAAAAAAAAAAAAAAAAAAAAAAAAAAAAAAAAAAAAAAAAAAAAJT0FltcuoD4AAAAAAAAAAAAAAAAAAAAAAAAAAAAAAAAAAAAAAAAAACU9BZbXLqA+AAAAAAAAAAAAAAAAAAAAAAAAAAAAAAAAAAAAAAAAAAAlPQWW1y6gPgAAAAAAAAAAAAAAAAAAAAAAAAAAAAAAAAAAAAAAAAAART0FltcuoD4AAAAAAAAAAAAAAAAAAAAAAAAAAAAAAAAAAAAAAAAAAAAAAAAAAAAAAAAAAAAAAAAAAAAAAAAAAAAAAAAAAAAAAAAAAAAAAAAAAAAAAAAAACU9BZbXLqA+AAAAAAAAAAAAAAAAAAAAAAAAAAAAAAAAAAAAAAAAAAAAAAAAAAAAAAAAAAAAAAAAAAAAAAAAAAAAAAAAAAAAAAAAAAAAAAAAAAAAAAAAAAAAAAAAAAAAAAAAAAAAAAAAAAAAAAAAAAAAAAAAAAAAAAAAAAAAAAAAAAAAAAAAAAAAAAAAAAAAAAAAAAAAAAAAAAAAAAAAAAAAAAAAAAAAAAAAAAAAAAAAAAAAAAAAAAAAAAAAAAAAAAAAAAAAAAAAAAAAAAAAAAAAAAAAAAAAAAAAAAAAAAAAJT0FltcuoD4=\",\"dtype\":\"float64\",\"shape\":[100]}}},\"id\":\"614936d1-59ef-4295-906c-a1b98e81d3df\",\"type\":\"ColumnDataSource\"},{\"attributes\":{\"bottom\":{\"value\":0},\"fill_color\":{\"value\":\"#1f77b4\"},\"left\":{\"field\":\"left\"},\"line_color\":{\"value\":\"#555555\"},\"right\":{\"field\":\"right\"},\"top\":{\"field\":\"top\"}},\"id\":\"c3593bd3-47de-4e83-885e-996d63d9e647\",\"type\":\"Quad\"}],\"root_ids\":[\"0f4c465f-fe0f-473d-9e5b-c29638363331\"]},\"title\":\"Bokeh Application\",\"version\":\"0.12.5\"}};\n",
       "            var render_items = [{\"docid\":\"e5f8f4ca-eba1-4195-84c5-5e8ff9e398dc\",\"elementid\":\"24650728-996a-4c8e-a782-ad22dd4b726f\",\"modelid\":\"0f4c465f-fe0f-473d-9e5b-c29638363331\"}];\n",
       "            \n",
       "            Bokeh.embed.embed_items(docs_json, render_items);\n",
       "          };\n",
       "          if (document.readyState != \"loading\") fn();\n",
       "          else document.addEventListener(\"DOMContentLoaded\", fn);\n",
       "        })();\n",
       "      },\n",
       "      function(Bokeh) {\n",
       "      }\n",
       "    ];\n",
       "  \n",
       "    function run_inline_js() {\n",
       "      \n",
       "      if ((window.Bokeh !== undefined) || (force === true)) {\n",
       "        for (var i = 0; i < inline_js.length; i++) {\n",
       "          inline_js[i](window.Bokeh);\n",
       "        }if (force === true) {\n",
       "          display_loaded();\n",
       "        }} else if (Date.now() < window._bokeh_timeout) {\n",
       "        setTimeout(run_inline_js, 100);\n",
       "      } else if (!window._bokeh_failed_load) {\n",
       "        console.log(\"Bokeh: BokehJS failed to load within specified timeout.\");\n",
       "        window._bokeh_failed_load = true;\n",
       "      } else if (force !== true) {\n",
       "        var cell = $(document.getElementById(\"24650728-996a-4c8e-a782-ad22dd4b726f\")).parents('.cell').data().cell;\n",
       "        cell.output_area.append_execute_result(NB_LOAD_WARNING)\n",
       "      }\n",
       "  \n",
       "    }\n",
       "  \n",
       "    if (window._bokeh_is_loading === 0) {\n",
       "      console.log(\"Bokeh: BokehJS loaded, going straight to plotting\");\n",
       "      run_inline_js();\n",
       "    } else {\n",
       "      load_libs(js_urls, function() {\n",
       "        console.log(\"Bokeh: BokehJS plotting callback run at\", now());\n",
       "        run_inline_js();\n",
       "      });\n",
       "    }\n",
       "  }(this));\n",
       "</script>"
      ]
     },
     "metadata": {},
     "output_type": "display_data"
    }
   ],
   "source": [
    "hist, edges = np.histogram(counts_ted_top1000, density=True, bins=100, normed=True)\n",
    "\n",
    "p = figure(tools=\"pan,wheel_zoom,reset,save\",\n",
    "           toolbar_location=\"above\",\n",
    "           title=\"Top-1000 words distribution\")\n",
    "p.quad(top=hist, bottom=0, left=edges[:-1], right=edges[1:], line_color=\"#555555\")\n",
    "show(p)"
   ]
  },
  {
   "cell_type": "markdown",
   "metadata": {},
   "source": [
    "### Part 3: Train Word2Vec"
   ]
  },
  {
   "cell_type": "code",
   "execution_count": 18,
   "metadata": {},
   "outputs": [
    {
     "name": "stderr",
     "output_type": "stream",
     "text": [
      "C:\\Users\\user\\Anaconda3\\lib\\site-packages\\gensim\\utils.py:862: UserWarning: detected Windows; aliasing chunkize to chunkize_serial\n",
      "  warnings.warn(\"detected Windows; aliasing chunkize to chunkize_serial\")\n"
     ]
    }
   ],
   "source": [
    "from gensim.models import Word2Vec"
   ]
  },
  {
   "cell_type": "code",
   "execution_count": 19,
   "metadata": {
    "collapsed": true
   },
   "outputs": [],
   "source": [
    "# ...\n",
    "model_ted = Word2Vec(min_count = 1, size=100, sentences = sentences_ted)"
   ]
  },
  {
   "cell_type": "markdown",
   "metadata": {},
   "source": [
    "### Part 4: Ted Learnt Representations"
   ]
  },
  {
   "cell_type": "markdown",
   "metadata": {},
   "source": [
    "Finding similar words: (see gensim docs for more functionality of `most_similar`)"
   ]
  },
  {
   "cell_type": "code",
   "execution_count": 20,
   "metadata": {},
   "outputs": [
    {
     "data": {
      "text/plain": [
       "[('woman', 0.8567920923233032),\n",
       " ('guy', 0.819573700428009),\n",
       " ('girl', 0.7729761600494385),\n",
       " ('lady', 0.7695634961128235),\n",
       " ('soldier', 0.7538402080535889),\n",
       " ('boy', 0.7515976428985596),\n",
       " ('gentleman', 0.7476722598075867),\n",
       " ('friend', 0.6787726879119873),\n",
       " ('king', 0.6677687168121338),\n",
       " ('laughlin', 0.6644694209098816)]"
      ]
     },
     "execution_count": 20,
     "metadata": {},
     "output_type": "execute_result"
    }
   ],
   "source": [
    "model_ted.most_similar(\"man\")"
   ]
  },
  {
   "cell_type": "code",
   "execution_count": 21,
   "metadata": {},
   "outputs": [
    {
     "data": {
      "text/plain": [
       "[('machine', 0.7680667638778687),\n",
       " ('software', 0.759370744228363),\n",
       " ('robot', 0.7069594860076904),\n",
       " ('device', 0.6959714889526367),\n",
       " ('video', 0.6861193180084229),\n",
       " ('program', 0.6755824685096741),\n",
       " ('3d', 0.6746622920036316),\n",
       " ('interface', 0.6619060039520264),\n",
       " ('printer', 0.6604657769203186),\n",
       " ('chip', 0.6541054844856262)]"
      ]
     },
     "execution_count": 21,
     "metadata": {},
     "output_type": "execute_result"
    }
   ],
   "source": [
    "model_ted.most_similar(\"computer\")"
   ]
  },
  {
   "cell_type": "code",
   "execution_count": 22,
   "metadata": {},
   "outputs": [
    {
     "data": {
      "text/plain": [
       "[('woman', 0.7686681747436523),\n",
       " ('guy', 0.679842472076416),\n",
       " ('girl', 0.678594708442688),\n",
       " ('kid', 0.6628841161727905),\n",
       " ('boy', 0.6499814987182617),\n",
       " ('friend', 0.6195281744003296),\n",
       " ('doctor', 0.6187155246734619),\n",
       " ('person', 0.6050296425819397),\n",
       " ('teacher', 0.5923327207565308),\n",
       " ('son', 0.5858767628669739)]"
      ]
     },
     "execution_count": 22,
     "metadata": {},
     "output_type": "execute_result"
    }
   ],
   "source": [
    "# ...\n",
    "model_ted.most_similar(positive=['man', 'child'], negative=['adult'])"
   ]
  },
  {
   "cell_type": "markdown",
   "metadata": {},
   "source": [
    "#### t-SNE visualization\n",
    "To use the t-SNE code below, first put a list of the top 1000 words (as strings) into a variable `words_top_ted`. The following code gets the corresponding vectors from the model, assuming it's called `model_ted`:"
   ]
  },
  {
   "cell_type": "code",
   "execution_count": 23,
   "metadata": {
    "collapsed": true
   },
   "outputs": [],
   "source": [
    "# This assumes words_top_ted is a list of strings, the top 1000 words\n",
    "words_top_vec_ted = model_ted[words_top_ted]"
   ]
  },
  {
   "cell_type": "code",
   "execution_count": 24,
   "metadata": {
    "collapsed": true
   },
   "outputs": [],
   "source": [
    "from sklearn.manifold import TSNE"
   ]
  },
  {
   "cell_type": "code",
   "execution_count": 25,
   "metadata": {
    "collapsed": true
   },
   "outputs": [],
   "source": [
    "tsne = TSNE(n_components=2, random_state=0)\n",
    "words_top_ted_tsne = tsne.fit_transform(words_top_vec_ted)"
   ]
  },
  {
   "cell_type": "code",
   "execution_count": 26,
   "metadata": {},
   "outputs": [
    {
     "data": {
      "text/html": [
       "\n",
       "\n",
       "    <div class=\"bk-root\">\n",
       "        <div class=\"bk-plotdiv\" id=\"0dc30e37-c3ff-412d-a207-b489ae410d9b\"></div>\n",
       "    </div>\n",
       "<script type=\"text/javascript\">\n",
       "  \n",
       "  (function(global) {\n",
       "    function now() {\n",
       "      return new Date();\n",
       "    }\n",
       "  \n",
       "    var force = false;\n",
       "  \n",
       "    if (typeof (window._bokeh_onload_callbacks) === \"undefined\" || force === true) {\n",
       "      window._bokeh_onload_callbacks = [];\n",
       "      window._bokeh_is_loading = undefined;\n",
       "    }\n",
       "  \n",
       "  \n",
       "    \n",
       "    if (typeof (window._bokeh_timeout) === \"undefined\" || force === true) {\n",
       "      window._bokeh_timeout = Date.now() + 0;\n",
       "      window._bokeh_failed_load = false;\n",
       "    }\n",
       "  \n",
       "    var NB_LOAD_WARNING = {'data': {'text/html':\n",
       "       \"<div style='background-color: #fdd'>\\n\"+\n",
       "       \"<p>\\n\"+\n",
       "       \"BokehJS does not appear to have successfully loaded. If loading BokehJS from CDN, this \\n\"+\n",
       "       \"may be due to a slow or bad network connection. Possible fixes:\\n\"+\n",
       "       \"</p>\\n\"+\n",
       "       \"<ul>\\n\"+\n",
       "       \"<li>re-rerun `output_notebook()` to attempt to load from CDN again, or</li>\\n\"+\n",
       "       \"<li>use INLINE resources instead, as so:</li>\\n\"+\n",
       "       \"</ul>\\n\"+\n",
       "       \"<code>\\n\"+\n",
       "       \"from bokeh.resources import INLINE\\n\"+\n",
       "       \"output_notebook(resources=INLINE)\\n\"+\n",
       "       \"</code>\\n\"+\n",
       "       \"</div>\"}};\n",
       "  \n",
       "    function display_loaded() {\n",
       "      if (window.Bokeh !== undefined) {\n",
       "        var el = document.getElementById(\"0dc30e37-c3ff-412d-a207-b489ae410d9b\");\n",
       "        el.textContent = \"BokehJS \" + Bokeh.version + \" successfully loaded.\";\n",
       "      } else if (Date.now() < window._bokeh_timeout) {\n",
       "        setTimeout(display_loaded, 100)\n",
       "      }\n",
       "    }\n",
       "  \n",
       "    function run_callbacks() {\n",
       "      window._bokeh_onload_callbacks.forEach(function(callback) { callback() });\n",
       "      delete window._bokeh_onload_callbacks\n",
       "      console.info(\"Bokeh: all callbacks have finished\");\n",
       "    }\n",
       "  \n",
       "    function load_libs(js_urls, callback) {\n",
       "      window._bokeh_onload_callbacks.push(callback);\n",
       "      if (window._bokeh_is_loading > 0) {\n",
       "        console.log(\"Bokeh: BokehJS is being loaded, scheduling callback at\", now());\n",
       "        return null;\n",
       "      }\n",
       "      if (js_urls == null || js_urls.length === 0) {\n",
       "        run_callbacks();\n",
       "        return null;\n",
       "      }\n",
       "      console.log(\"Bokeh: BokehJS not loaded, scheduling load and callback at\", now());\n",
       "      window._bokeh_is_loading = js_urls.length;\n",
       "      for (var i = 0; i < js_urls.length; i++) {\n",
       "        var url = js_urls[i];\n",
       "        var s = document.createElement('script');\n",
       "        s.src = url;\n",
       "        s.async = false;\n",
       "        s.onreadystatechange = s.onload = function() {\n",
       "          window._bokeh_is_loading--;\n",
       "          if (window._bokeh_is_loading === 0) {\n",
       "            console.log(\"Bokeh: all BokehJS libraries loaded\");\n",
       "            run_callbacks()\n",
       "          }\n",
       "        };\n",
       "        s.onerror = function() {\n",
       "          console.warn(\"failed to load library \" + url);\n",
       "        };\n",
       "        console.log(\"Bokeh: injecting script tag for BokehJS library: \", url);\n",
       "        document.getElementsByTagName(\"head\")[0].appendChild(s);\n",
       "      }\n",
       "    };var element = document.getElementById(\"0dc30e37-c3ff-412d-a207-b489ae410d9b\");\n",
       "    if (element == null) {\n",
       "      console.log(\"Bokeh: ERROR: autoload.js configured with elementid '0dc30e37-c3ff-412d-a207-b489ae410d9b' but no matching script tag was found. \")\n",
       "      return false;\n",
       "    }\n",
       "  \n",
       "    var js_urls = [];\n",
       "  \n",
       "    var inline_js = [\n",
       "      function(Bokeh) {\n",
       "        (function() {\n",
       "          var fn = function() {\n",
       "            var docs_json = {\"99054ce3-d6ad-42ce-bbec-c6e0768129f6\":{\"roots\":{\"references\":[{\"attributes\":{\"fill_color\":{\"value\":\"#1f77b4\"},\"line_color\":{\"value\":\"#1f77b4\"},\"size\":{\"units\":\"screen\",\"value\":8},\"x\":{\"field\":\"x1\"},\"y\":{\"field\":\"x2\"}},\"id\":\"331db163-e985-4e38-8772-cc4feeabcde8\",\"type\":\"Circle\"},{\"attributes\":{},\"id\":\"af2e1c65-c83a-4342-893c-a0de9b7f0e5b\",\"type\":\"BasicTickFormatter\"},{\"attributes\":{\"below\":[{\"id\":\"be5ab5f6-88f4-48a1-ad02-f812f4b76c18\",\"type\":\"LinearAxis\"}],\"left\":[{\"id\":\"3cbd4ba5-adb9-48b8-abd5-5bd67c1f2a23\",\"type\":\"LinearAxis\"}],\"renderers\":[{\"id\":\"be5ab5f6-88f4-48a1-ad02-f812f4b76c18\",\"type\":\"LinearAxis\"},{\"id\":\"5e01d109-17e0-4923-8146-2facad5b5238\",\"type\":\"Grid\"},{\"id\":\"3cbd4ba5-adb9-48b8-abd5-5bd67c1f2a23\",\"type\":\"LinearAxis\"},{\"id\":\"29a147d4-063b-436e-86ca-8a0c9ce30516\",\"type\":\"Grid\"},{\"id\":\"673d08aa-30f1-4005-9e1a-efa6237b5d95\",\"type\":\"GlyphRenderer\"},{\"id\":\"60c42f1b-00e4-48bd-8afe-f14d5b07983a\",\"type\":\"LabelSet\"}],\"title\":{\"id\":\"35386d1d-fecc-416d-a822-7cd17c873874\",\"type\":\"Title\"},\"tool_events\":{\"id\":\"a9e3471e-c546-4a87-9ce5-3767968c8dc3\",\"type\":\"ToolEvents\"},\"toolbar\":{\"id\":\"8b2b2770-8d82-4c67-aba0-ece879c577b1\",\"type\":\"Toolbar\"},\"toolbar_location\":\"above\",\"x_range\":{\"id\":\"473cfd27-86ca-4cf9-88e8-f3f706bef19e\",\"type\":\"DataRange1d\"},\"y_range\":{\"id\":\"31dce999-05cf-4ff8-9abe-9eb17b088c4d\",\"type\":\"DataRange1d\"}},\"id\":\"2ecafbcb-71f0-4bb9-9235-9693921d742b\",\"subtype\":\"Figure\",\"type\":\"Plot\"},{\"attributes\":{\"callback\":null,\"column_names\":[\"x1\",\"x2\",\"names\"],\"data\":{\"names\":[\"the\",\"and\",\"to\",\"of\",\"a\",\"that\",\"i\",\"in\",\"it\",\"you\",\"we\",\"is\",\"s\",\"this\",\"so\",\"they\",\"was\",\"for\",\"are\",\"have\",\"but\",\"what\",\"on\",\"with\",\"can\",\"t\",\"about\",\"there\",\"be\",\"as\",\"at\",\"all\",\"not\",\"do\",\"my\",\"one\",\"re\",\"people\",\"like\",\"if\",\"from\",\"now\",\"our\",\"he\",\"an\",\"just\",\"these\",\"or\",\"when\",\"because\",\"very\",\"me\",\"out\",\"by\",\"them\",\"how\",\"know\",\"up\",\"going\",\"had\",\"more\",\"think\",\"who\",\"were\",\"see\",\"your\",\"their\",\"which\",\"would\",\"here\",\"really\",\"get\",\"ve\",\"then\",\"m\",\"world\",\"us\",\"time\",\"some\",\"has\",\"don\",\"actually\",\"into\",\"way\",\"where\",\"will\",\"years\",\"things\",\"other\",\"no\",\"could\",\"go\",\"well\",\"want\",\"been\",\"make\",\"right\",\"she\",\"said\",\"something\",\"those\",\"first\",\"two\",\"than\",\"much\",\"also\",\"look\",\"new\",\"thing\",\"little\",\"got\",\"back\",\"over\",\"most\",\"say\",\"even\",\"his\",\"life\",\"only\",\"work\",\"many\",\"take\",\"need\",\"did\",\"lot\",\"kind\",\"why\",\"good\",\"around\",\"every\",\"different\",\"down\",\"ll\",\"let\",\"her\",\"through\",\"same\",\"being\",\"come\",\"d\",\"day\",\"year\",\"three\",\"use\",\"doing\",\"put\",\"called\",\"any\",\"today\",\"percent\",\"made\",\"after\",\"thank\",\"tell\",\"great\",\"human\",\"find\",\"didn\",\"fact\",\"talk\",\"change\",\"started\",\"another\",\"idea\",\"big\",\"last\",\"own\",\"before\",\"its\",\"never\",\"should\",\"better\",\"give\",\"thought\",\"went\",\"might\",\"important\",\"000\",\"again\",\"able\",\"together\",\"still\",\"problem\",\"off\",\"next\",\"part\",\"course\",\"system\",\"him\",\"does\",\"each\",\"start\",\"show\",\"long\",\"ago\",\"story\",\"came\",\"brain\",\"few\",\"bit\",\"between\",\"used\",\"place\",\"technology\",\"women\",\"too\",\"old\",\"mean\",\"data\",\"water\",\"looking\",\"question\",\"maybe\",\"found\",\"love\",\"doesn\",\"end\",\"example\",\"10\",\"done\",\"point\",\"four\",\"real\",\"wanted\",\"ever\",\"school\",\"understand\",\"sort\",\"live\",\"call\",\"whole\",\"children\",\"always\",\"trying\",\"may\",\"person\",\"away\",\"believe\",\"feel\",\"try\",\"million\",\"working\",\"help\",\"everything\",\"five\",\"country\",\"thinking\",\"second\",\"using\",\"information\",\"money\",\"means\",\"power\",\"took\",\"times\",\"high\",\"space\",\"number\",\"kids\",\"home\",\"become\",\"create\",\"small\",\"design\",\"making\",\"best\",\"left\",\"getting\",\"future\",\"enough\",\"man\",\"quite\",\"city\",\"without\",\"sense\",\"happened\",\"comes\",\"social\",\"probably\",\"less\",\"light\",\"talking\",\"energy\",\"am\",\"building\",\"science\",\"food\",\"body\",\"told\",\"interesting\",\"ask\",\"half\",\"pretty\",\"hard\",\"play\",\"anything\",\"lives\",\"countries\",\"coming\",\"such\",\"family\",\"stuff\",\"dollars\",\"earth\",\"moment\",\"20\",\"imagine\",\"across\",\"side\",\"while\",\"saw\",\"happen\",\"once\",\"okay\",\"build\",\"having\",\"men\",\"later\",\"experience\",\"makes\",\"asked\",\"living\",\"seen\",\"says\",\"room\",\"hand\",\"simple\",\"health\",\"ways\",\"else\",\"case\",\"yet\",\"almost\",\"young\",\"days\",\"nothing\",\"care\",\"bad\",\"happens\",\"goes\",\"move\",\"states\",\"reason\",\"computer\",\"open\",\"learn\",\"africa\",\"process\",\"inside\",\"someone\",\"six\",\"far\",\"mind\",\"project\",\"remember\",\"single\",\"picture\",\"both\",\"whether\",\"problems\",\"saying\",\"community\",\"basically\",\"already\",\"within\",\"looked\",\"myself\",\"billion\",\"often\",\"possible\",\"business\",\"planet\",\"global\",\"everybody\",\"top\",\"sure\",\"public\",\"set\",\"wrong\",\"car\",\"book\",\"keep\",\"yes\",\"answer\",\"oh\",\"hope\",\"sometimes\",\"true\",\"history\",\"war\",\"guy\",\"child\",\"instead\",\"months\",\"ideas\",\"looks\",\"matter\",\"government\",\"amazing\",\"united\",\"since\",\"bring\",\"age\",\"cells\",\"job\",\"heard\",\"until\",\"face\",\"wasn\",\"100\",\"read\",\"control\",\"isn\",\"research\",\"30\",\"words\",\"u\",\"group\",\"under\",\"self\",\"somebody\",\"built\",\"state\",\"woman\",\"turn\",\"friends\",\"beautiful\",\"line\",\"knew\",\"couple\",\"order\",\"form\",\"yeah\",\"internet\",\"middle\",\"music\",\"piece\",\"nature\",\"head\",\"though\",\"stop\",\"everyone\",\"50\",\"places\",\"video\",\"learned\",\"language\",\"run\",\"night\",\"decided\",\"study\",\"word\",\"cancer\",\"taking\",\"works\",\"became\",\"exactly\",\"species\",\"society\",\"completely\",\"education\",\"against\",\"stories\",\"large\",\"share\",\"level\",\"heart\",\"america\",\"model\",\"questions\",\"gets\",\"mother\",\"god\",\"company\",\"turns\",\"ourselves\",\"happening\",\"hear\",\"art\",\"themselves\",\"must\",\"itself\",\"rather\",\"kinds\",\"students\",\"name\",\"hours\",\"disease\",\"front\",\"house\",\"huge\",\"couldn\",\"created\",\"universe\",\"ok\",\"animals\",\"american\",\"environment\",\"worked\",\"minutes\",\"ones\",\"black\",\"perhaps\",\"1\",\"past\",\"third\",\"along\",\"others\",\"finally\",\"sound\",\"early\",\"game\",\"thousands\",\"century\",\"based\",\"least\",\"per\",\"ted\",\"lots\",\"figure\",\"free\",\"guys\",\"particular\",\"happy\",\"news\",\"learning\",\"entire\",\"won\",\"gave\",\"machine\",\"india\",\"during\",\"systems\",\"air\",\"difference\",\"outside\",\"natural\",\"taken\",\"seven\",\"given\",\"changed\",\"leave\",\"cell\",\"15\",\"close\",\"behind\",\"cities\",\"full\",\"scale\",\"difficult\",\"china\",\"takes\",\"companies\",\"yourself\",\"area\",\"reality\",\"seeing\",\"easy\",\"turned\",\"cost\",\"eyes\",\"team\",\"moving\",\"population\",\"culture\",\"york\",\"hands\",\"whatever\",\"began\",\"needs\",\"terms\",\"image\",\"simply\",\"needed\",\"beginning\",\"father\",\"local\",\"realized\",\"media\",\"death\",\"parents\",\"view\",\"walk\",\"white\",\"market\",\"parts\",\"ocean\",\"economic\",\"eight\",\"powerful\",\"known\",\"week\",\"size\",\"felt\",\"humans\",\"certain\",\"spend\",\"longer\",\"phone\",\"wonderful\",\"cannot\",\"grow\",\"common\",\"center\",\"tried\",\"fish\",\"land\",\"oil\",\"political\",\"interested\",\"deal\",\"red\",\"gone\",\"amount\",\"weeks\",\"spent\",\"opportunity\",\"paper\",\"lost\",\"national\",\"quickly\",\"blue\",\"step\",\"poor\",\"green\",\"buy\",\"growth\",\"wouldn\",\"either\",\"patients\",\"sitting\",\"ability\",\"changes\",\"write\",\"challenge\",\"south\",\"low\",\"growing\",\"friend\",\"field\",\"shows\",\"2\",\"born\",\"rest\",\"climate\",\"40\",\"test\",\"street\",\"surface\",\"incredible\",\"average\",\"physical\",\"morning\",\"scientists\",\"program\",\"pay\",\"value\",\"feeling\",\"hundreds\",\"girl\",\"met\",\"behavior\",\"economy\",\"dna\",\"complex\",\"access\",\"risk\",\"animal\",\"structure\",\"feet\",\"attention\",\"areas\",\"anyone\",\"deep\",\"watch\",\"short\",\"absolutely\",\"speak\",\"brought\",\"die\",\"bottom\",\"numbers\",\"audience\",\"stage\",\"realize\",\"law\",\"images\",\"wrote\",\"understanding\",\"knowledge\",\"literally\",\"books\",\"movement\",\"ground\",\"giving\",\"eat\",\"force\",\"seems\",\"alone\",\"telling\",\"starting\",\"hold\",\"nice\",\"forward\",\"sea\",\"developed\",\"individual\",\"kid\",\"millions\",\"support\",\"miles\",\"tools\",\"running\",\"online\",\"result\",\"act\",\"medical\",\"technologies\",\"north\",\"lab\",\"development\",\"blood\",\"fear\",\"nobody\",\"map\",\"personal\",\"issue\",\"voice\",\"material\",\"key\",\"12\",\"recently\",\"theory\",\"cut\",\"cars\",\"sun\",\"fast\",\"changing\",\"playing\",\"clear\",\"especially\",\"soon\",\"girls\",\"patient\",\"choice\",\"fly\",\"creating\",\"normal\",\"discovered\",\"europe\",\"talked\",\"relationship\",\"gives\",\"generation\",\"dark\",\"type\",\"showed\",\"chance\",\"seem\",\"industry\",\"asking\",\"rate\",\"fun\",\"issues\",\"color\",\"designed\",\"hour\",\"university\",\"innovation\",\"several\",\"class\",\"computers\",\"english\",\"tiny\",\"allow\",\"save\",\"focus\",\"digital\",\"solve\",\"developing\",\"network\",\"film\",\"special\",\"wall\",\"situation\",\"baby\",\"solution\",\"reasons\",\"box\",\"knows\",\"meet\",\"dead\",\"stand\",\"begin\",\"haven\",\"impact\",\"anybody\",\"term\",\"beyond\",\"pictures\",\"please\",\"ice\",\"produce\",\"shape\",\"non\",\"resources\",\"robot\",\"cool\",\"groups\",\"likely\",\"stay\",\"available\",\"truth\",\"rights\",\"major\",\"cause\",\"evidence\",\"obviously\",\"writing\",\"experiment\",\"modern\",\"drug\",\"becomes\",\"incredibly\",\"aren\",\"bigger\",\"guess\",\"nine\",\"product\",\"drugs\",\"lived\",\"involved\",\"perfect\",\"google\",\"month\",\"effect\",\"similar\",\"putting\",\"eye\",\"pick\",\"message\",\"quality\",\"violence\",\"web\",\"evolution\",\"security\",\"office\",\"basic\",\"solar\",\"indeed\",\"general\",\"towards\",\"present\",\"drive\",\"send\",\"listen\",\"worth\",\"revolution\",\"explain\",\"hundred\",\"certainly\",\"died\",\"ready\",\"teach\",\"journey\",\"25\",\"hit\",\"walking\",\"led\",\"approach\",\"international\",\"200\",\"scientific\",\"games\",\"60\",\"potential\",\"crazy\",\"communities\",\"chinese\",\"device\",\"source\",\"camera\",\"rules\",\"sex\",\"carbon\",\"sounds\",\"boy\",\"reach\",\"starts\",\"examples\",\"west\",\"3\",\"success\",\"measure\",\"particularly\",\"software\",\"totally\",\"suddenly\",\"action\",\"college\",\"higher\",\"code\",\"eventually\",\"democracy\",\"among\",\"minute\",\"sit\",\"largest\",\"showing\",\"hospital\",\"notice\",\"period\",\"mass\",\"develop\",\"dream\",\"onto\",\"plants\",\"break\",\"add\",\"memory\",\"everywhere\",\"favorite\",\"11\",\"zero\",\"speed\",\"schools\",\"moved\",\"response\",\"wants\",\"extremely\",\"movie\",\"individuals\",\"table\",\"wait\",\"medicine\",\"follow\",\"anyway\",\"trust\",\"plant\",\"biggest\",\"watching\",\"organization\",\"creative\",\"road\",\"choose\",\"worse\",\"lead\",\"results\",\"500\",\"exciting\",\"grew\",\"materials\",\"jobs\",\"plan\",\"east\",\"poverty\",\"positive\",\"safe\",\"strong\",\"fall\",\"essentially\",\"object\",\"door\",\"son\",\"vision\",\"further\",\"happiness\",\"continue\",\"student\",\"doctor\",\"including\",\"named\",\"role\",\"objects\",\"extraordinary\",\"standing\",\"skin\",\"leaders\",\"usually\",\"african\",\"conversation\",\"projects\",\"allowed\",\"models\",\"supposed\",\"faster\",\"interest\",\"families\",\"police\",\"fight\",\"tree\",\"connected\",\"screen\",\"5\",\"cases\",\"goal\",\"somewhere\",\"finding\",\"buildings\",\"shown\"],\"x1\":{\"__ndarray__\":\"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\",\"dtype\":\"float64\",\"shape\":[1000]},\"x2\":{\"__ndarray__\":\"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\",\"dtype\":\"float64\",\"shape\":[1000]}}},\"id\":\"d18a2f23-c571-4c97-b8df-4c2fee521e06\",\"type\":\"ColumnDataSource\"},{\"attributes\":{\"data_source\":{\"id\":\"d18a2f23-c571-4c97-b8df-4c2fee521e06\",\"type\":\"ColumnDataSource\"},\"glyph\":{\"id\":\"331db163-e985-4e38-8772-cc4feeabcde8\",\"type\":\"Circle\"},\"hover_glyph\":null,\"muted_glyph\":null,\"nonselection_glyph\":{\"id\":\"75aee67d-8030-4e1d-b8d1-620434ab8c30\",\"type\":\"Circle\"},\"selection_glyph\":null},\"id\":\"673d08aa-30f1-4005-9e1a-efa6237b5d95\",\"type\":\"GlyphRenderer\"},{\"attributes\":{\"plot\":null,\"text\":\"word2vec T-SNE for most common words\"},\"id\":\"35386d1d-fecc-416d-a822-7cd17c873874\",\"type\":\"Title\"},{\"attributes\":{},\"id\":\"a9e3471e-c546-4a87-9ce5-3767968c8dc3\",\"type\":\"ToolEvents\"},{\"attributes\":{},\"id\":\"65f08d5d-ea2d-4028-aadd-57a7e303a03c\",\"type\":\"BasicTickFormatter\"},{\"attributes\":{\"active_drag\":\"auto\",\"active_scroll\":\"auto\",\"active_tap\":\"auto\",\"tools\":[{\"id\":\"a2881604-30a9-4dae-88d2-2baaf5ca21cb\",\"type\":\"PanTool\"},{\"id\":\"46943a55-53e6-418e-a6bf-35c35e29cb13\",\"type\":\"WheelZoomTool\"},{\"id\":\"4769b68c-b7f7-4d7e-906b-04559b92763c\",\"type\":\"ResetTool\"},{\"id\":\"6a6f3716-2d93-4fb3-9c35-3a073b331f70\",\"type\":\"SaveTool\"}]},\"id\":\"8b2b2770-8d82-4c67-aba0-ece879c577b1\",\"type\":\"Toolbar\"},{\"attributes\":{\"formatter\":{\"id\":\"65f08d5d-ea2d-4028-aadd-57a7e303a03c\",\"type\":\"BasicTickFormatter\"},\"plot\":{\"id\":\"2ecafbcb-71f0-4bb9-9235-9693921d742b\",\"subtype\":\"Figure\",\"type\":\"Plot\"},\"ticker\":{\"id\":\"2fac56f0-ed1e-4df6-9a24-1ff8a356af80\",\"type\":\"BasicTicker\"}},\"id\":\"3cbd4ba5-adb9-48b8-abd5-5bd67c1f2a23\",\"type\":\"LinearAxis\"},{\"attributes\":{},\"id\":\"668c75e6-3a53-4c9b-a51b-666135176b6f\",\"type\":\"BasicTicker\"},{\"attributes\":{\"callback\":null},\"id\":\"473cfd27-86ca-4cf9-88e8-f3f706bef19e\",\"type\":\"DataRange1d\"},{\"attributes\":{\"plot\":{\"id\":\"2ecafbcb-71f0-4bb9-9235-9693921d742b\",\"subtype\":\"Figure\",\"type\":\"Plot\"},\"ticker\":{\"id\":\"668c75e6-3a53-4c9b-a51b-666135176b6f\",\"type\":\"BasicTicker\"}},\"id\":\"5e01d109-17e0-4923-8146-2facad5b5238\",\"type\":\"Grid\"},{\"attributes\":{\"callback\":null},\"id\":\"31dce999-05cf-4ff8-9abe-9eb17b088c4d\",\"type\":\"DataRange1d\"},{\"attributes\":{},\"id\":\"2fac56f0-ed1e-4df6-9a24-1ff8a356af80\",\"type\":\"BasicTicker\"},{\"attributes\":{\"dimension\":1,\"plot\":{\"id\":\"2ecafbcb-71f0-4bb9-9235-9693921d742b\",\"subtype\":\"Figure\",\"type\":\"Plot\"},\"ticker\":{\"id\":\"2fac56f0-ed1e-4df6-9a24-1ff8a356af80\",\"type\":\"BasicTicker\"}},\"id\":\"29a147d4-063b-436e-86ca-8a0c9ce30516\",\"type\":\"Grid\"},{\"attributes\":{\"plot\":{\"id\":\"2ecafbcb-71f0-4bb9-9235-9693921d742b\",\"subtype\":\"Figure\",\"type\":\"Plot\"},\"source\":{\"id\":\"d18a2f23-c571-4c97-b8df-4c2fee521e06\",\"type\":\"ColumnDataSource\"},\"text\":{\"field\":\"names\"},\"text_align\":\"center\",\"text_color\":{\"value\":\"#555555\"},\"text_font_size\":{\"value\":\"8pt\"},\"x\":{\"field\":\"x1\"},\"y\":{\"field\":\"x2\"},\"y_offset\":{\"value\":6}},\"id\":\"60c42f1b-00e4-48bd-8afe-f14d5b07983a\",\"type\":\"LabelSet\"},{\"attributes\":{\"plot\":{\"id\":\"2ecafbcb-71f0-4bb9-9235-9693921d742b\",\"subtype\":\"Figure\",\"type\":\"Plot\"}},\"id\":\"a2881604-30a9-4dae-88d2-2baaf5ca21cb\",\"type\":\"PanTool\"},{\"attributes\":{\"plot\":{\"id\":\"2ecafbcb-71f0-4bb9-9235-9693921d742b\",\"subtype\":\"Figure\",\"type\":\"Plot\"}},\"id\":\"46943a55-53e6-418e-a6bf-35c35e29cb13\",\"type\":\"WheelZoomTool\"},{\"attributes\":{\"plot\":{\"id\":\"2ecafbcb-71f0-4bb9-9235-9693921d742b\",\"subtype\":\"Figure\",\"type\":\"Plot\"}},\"id\":\"4769b68c-b7f7-4d7e-906b-04559b92763c\",\"type\":\"ResetTool\"},{\"attributes\":{\"plot\":{\"id\":\"2ecafbcb-71f0-4bb9-9235-9693921d742b\",\"subtype\":\"Figure\",\"type\":\"Plot\"}},\"id\":\"6a6f3716-2d93-4fb3-9c35-3a073b331f70\",\"type\":\"SaveTool\"},{\"attributes\":{\"fill_alpha\":{\"value\":0.1},\"fill_color\":{\"value\":\"#1f77b4\"},\"line_alpha\":{\"value\":0.1},\"line_color\":{\"value\":\"#1f77b4\"},\"size\":{\"units\":\"screen\",\"value\":8},\"x\":{\"field\":\"x1\"},\"y\":{\"field\":\"x2\"}},\"id\":\"75aee67d-8030-4e1d-b8d1-620434ab8c30\",\"type\":\"Circle\"},{\"attributes\":{\"formatter\":{\"id\":\"af2e1c65-c83a-4342-893c-a0de9b7f0e5b\",\"type\":\"BasicTickFormatter\"},\"plot\":{\"id\":\"2ecafbcb-71f0-4bb9-9235-9693921d742b\",\"subtype\":\"Figure\",\"type\":\"Plot\"},\"ticker\":{\"id\":\"668c75e6-3a53-4c9b-a51b-666135176b6f\",\"type\":\"BasicTicker\"}},\"id\":\"be5ab5f6-88f4-48a1-ad02-f812f4b76c18\",\"type\":\"LinearAxis\"}],\"root_ids\":[\"2ecafbcb-71f0-4bb9-9235-9693921d742b\"]},\"title\":\"Bokeh Application\",\"version\":\"0.12.5\"}};\n",
       "            var render_items = [{\"docid\":\"99054ce3-d6ad-42ce-bbec-c6e0768129f6\",\"elementid\":\"0dc30e37-c3ff-412d-a207-b489ae410d9b\",\"modelid\":\"2ecafbcb-71f0-4bb9-9235-9693921d742b\"}];\n",
       "            \n",
       "            Bokeh.embed.embed_items(docs_json, render_items);\n",
       "          };\n",
       "          if (document.readyState != \"loading\") fn();\n",
       "          else document.addEventListener(\"DOMContentLoaded\", fn);\n",
       "        })();\n",
       "      },\n",
       "      function(Bokeh) {\n",
       "      }\n",
       "    ];\n",
       "  \n",
       "    function run_inline_js() {\n",
       "      \n",
       "      if ((window.Bokeh !== undefined) || (force === true)) {\n",
       "        for (var i = 0; i < inline_js.length; i++) {\n",
       "          inline_js[i](window.Bokeh);\n",
       "        }if (force === true) {\n",
       "          display_loaded();\n",
       "        }} else if (Date.now() < window._bokeh_timeout) {\n",
       "        setTimeout(run_inline_js, 100);\n",
       "      } else if (!window._bokeh_failed_load) {\n",
       "        console.log(\"Bokeh: BokehJS failed to load within specified timeout.\");\n",
       "        window._bokeh_failed_load = true;\n",
       "      } else if (force !== true) {\n",
       "        var cell = $(document.getElementById(\"0dc30e37-c3ff-412d-a207-b489ae410d9b\")).parents('.cell').data().cell;\n",
       "        cell.output_area.append_execute_result(NB_LOAD_WARNING)\n",
       "      }\n",
       "  \n",
       "    }\n",
       "  \n",
       "    if (window._bokeh_is_loading === 0) {\n",
       "      console.log(\"Bokeh: BokehJS loaded, going straight to plotting\");\n",
       "      run_inline_js();\n",
       "    } else {\n",
       "      load_libs(js_urls, function() {\n",
       "        console.log(\"Bokeh: BokehJS plotting callback run at\", now());\n",
       "        run_inline_js();\n",
       "      });\n",
       "    }\n",
       "  }(this));\n",
       "</script>"
      ]
     },
     "metadata": {},
     "output_type": "display_data"
    }
   ],
   "source": [
    "p = figure(tools=\"pan,wheel_zoom,reset,save\",\n",
    "           toolbar_location=\"above\",\n",
    "           title=\"word2vec T-SNE for most common words\")\n",
    "\n",
    "source = ColumnDataSource(data=dict(x1=words_top_ted_tsne[:,0],\n",
    "                                    x2=words_top_ted_tsne[:,1],\n",
    "                                    names=words_top_ted))\n",
    "\n",
    "p.scatter(x=\"x1\", y=\"x2\", size=8, source=source)\n",
    "\n",
    "labels = LabelSet(x=\"x1\", y=\"x2\", text=\"names\", y_offset=6,\n",
    "                  text_font_size=\"8pt\", text_color=\"#555555\",\n",
    "                  source=source, text_align='center')\n",
    "p.add_layout(labels)\n",
    "\n",
    "show(p)"
   ]
  },
  {
   "cell_type": "markdown",
   "metadata": {},
   "source": [
    "### Part 5: Wiki Learnt Representations"
   ]
  },
  {
   "cell_type": "markdown",
   "metadata": {},
   "source": [
    "Download dataset"
   ]
  },
  {
   "cell_type": "code",
   "execution_count": 27,
   "metadata": {
    "collapsed": true
   },
   "outputs": [],
   "source": [
    "if not os.path.isfile('wikitext-103-raw-v1.zip'):\n",
    "    urllib.request.urlretrieve(\"https://s3.amazonaws.com/research.metamind.io/wikitext/wikitext-103-raw-v1.zip\", filename=\"wikitext-103-raw-v1.zip\")"
   ]
  },
  {
   "cell_type": "code",
   "execution_count": 29,
   "metadata": {},
   "outputs": [],
   "source": [
    "with zipfile.ZipFile('wikitext-103-raw-v1.zip', 'r') as z:\n",
    "    input_text = str(z.open('wikitext-103-raw/wiki.train.raw', 'r').read(), encoding='utf-8') # Thanks Robert Bastian"
   ]
  },
  {
   "cell_type": "markdown",
   "metadata": {},
   "source": [
    "Preprocess sentences (note that it's important to remove small sentences for performance)"
   ]
  },
  {
   "cell_type": "code",
   "execution_count": 30,
   "metadata": {
    "collapsed": true
   },
   "outputs": [],
   "source": [
    "sentences_wiki = []\n",
    "for line in input_text.split('\\n'):\n",
    "    s = [x for x in line.split('.') if x and len(x.split()) >= 5]\n",
    "    sentences_wiki.extend(s)\n",
    "    \n",
    "for s_i in range(len(sentences_wiki)):\n",
    "    sentences_wiki[s_i] = re.sub(\"[^a-z0-9]+\", \" \", sentences_wiki[s_i].lower())\n",
    "    sentences_wiki[s_i] = re.sub(r'\\([^)]*\\)', '', sentences_wiki[s_i])\n",
    "del input_text"
   ]
  },
  {
   "cell_type": "code",
   "execution_count": 31,
   "metadata": {},
   "outputs": [
    {
     "name": "stdout",
     "output_type": "stream",
     "text": [
      "4267112\n",
      "853422\n"
     ]
    }
   ],
   "source": [
    "# sample 1/5 of the data\n",
    "shuffle(sentences_wiki)\n",
    "print(len(sentences_wiki))\n",
    "sentences_wiki = sentences_wiki[:int(len(sentences_wiki)/5)]\n",
    "print(len(sentences_wiki))"
   ]
  },
  {
   "cell_type": "markdown",
   "metadata": {},
   "source": [
    "Now, repeat all the same steps that you performed above. You should be able to reuse essentially all the code."
   ]
  },
  {
   "cell_type": "code",
   "execution_count": 32,
   "metadata": {
    "collapsed": true
   },
   "outputs": [],
   "source": [
    "for s_i in range(len(sentences_wiki)):\n",
    "    sentences_wiki[s_i] = sentences_wiki[s_i].split()"
   ]
  },
  {
   "cell_type": "code",
   "execution_count": 33,
   "metadata": {},
   "outputs": [
    {
     "name": "stdout",
     "output_type": "stream",
     "text": [
      "['paul', 'has', 'a', 'brain', 'tumour', 'removed', 'and', 'he', 'loses', 'his', 'memory']\n",
      "['the', 'train', 'is', 'wrecked', 'and', 'the', 'sheriff', 'who', 'is', 'handcuffed', 'to', 'bill', 'is', 'killed']\n",
      "['threatened', 'by', 'harold', 's', 'fleet', 'tostig', 'moved', 'north', 'and', 'raided', 'in', 'east', 'anglia', 'and', 'lincolnshire']\n"
     ]
    }
   ],
   "source": [
    "# ...\n",
    "print(sentences_wiki[0])\n",
    "print(sentences_wiki[1])\n",
    "print(sentences_wiki[2])"
   ]
  },
  {
   "cell_type": "markdown",
   "metadata": {},
   "source": [
    "P.2 Word frequences"
   ]
  },
  {
   "cell_type": "code",
   "execution_count": 34,
   "metadata": {
    "collapsed": true
   },
   "outputs": [],
   "source": [
    "words_top_wiki, counts_wiki_top1000 = zip(*Counter(chain.from_iterable(sentences_wiki)).most_common(1000))"
   ]
  },
  {
   "cell_type": "code",
   "execution_count": 35,
   "metadata": {},
   "outputs": [
    {
     "name": "stdout",
     "output_type": "stream",
     "text": [
      "('the', 'of', 'and', 'in', 'to', 'a', 'was', 'on', 's', 'as') (1286486, 548779, 500020, 433666, 398678, 356853, 214222, 153648, 152111, 144938)\n"
     ]
    }
   ],
   "source": [
    "print (words_top_wiki[:10], counts_wiki_top1000[:10])"
   ]
  },
  {
   "cell_type": "code",
   "execution_count": 36,
   "metadata": {},
   "outputs": [
    {
     "data": {
      "text/html": [
       "\n",
       "\n",
       "    <div class=\"bk-root\">\n",
       "        <div class=\"bk-plotdiv\" id=\"de5a9956-3688-4f74-8822-b965ebf78634\"></div>\n",
       "    </div>\n",
       "<script type=\"text/javascript\">\n",
       "  \n",
       "  (function(global) {\n",
       "    function now() {\n",
       "      return new Date();\n",
       "    }\n",
       "  \n",
       "    var force = false;\n",
       "  \n",
       "    if (typeof (window._bokeh_onload_callbacks) === \"undefined\" || force === true) {\n",
       "      window._bokeh_onload_callbacks = [];\n",
       "      window._bokeh_is_loading = undefined;\n",
       "    }\n",
       "  \n",
       "  \n",
       "    \n",
       "    if (typeof (window._bokeh_timeout) === \"undefined\" || force === true) {\n",
       "      window._bokeh_timeout = Date.now() + 0;\n",
       "      window._bokeh_failed_load = false;\n",
       "    }\n",
       "  \n",
       "    var NB_LOAD_WARNING = {'data': {'text/html':\n",
       "       \"<div style='background-color: #fdd'>\\n\"+\n",
       "       \"<p>\\n\"+\n",
       "       \"BokehJS does not appear to have successfully loaded. If loading BokehJS from CDN, this \\n\"+\n",
       "       \"may be due to a slow or bad network connection. Possible fixes:\\n\"+\n",
       "       \"</p>\\n\"+\n",
       "       \"<ul>\\n\"+\n",
       "       \"<li>re-rerun `output_notebook()` to attempt to load from CDN again, or</li>\\n\"+\n",
       "       \"<li>use INLINE resources instead, as so:</li>\\n\"+\n",
       "       \"</ul>\\n\"+\n",
       "       \"<code>\\n\"+\n",
       "       \"from bokeh.resources import INLINE\\n\"+\n",
       "       \"output_notebook(resources=INLINE)\\n\"+\n",
       "       \"</code>\\n\"+\n",
       "       \"</div>\"}};\n",
       "  \n",
       "    function display_loaded() {\n",
       "      if (window.Bokeh !== undefined) {\n",
       "        var el = document.getElementById(\"de5a9956-3688-4f74-8822-b965ebf78634\");\n",
       "        el.textContent = \"BokehJS \" + Bokeh.version + \" successfully loaded.\";\n",
       "      } else if (Date.now() < window._bokeh_timeout) {\n",
       "        setTimeout(display_loaded, 100)\n",
       "      }\n",
       "    }\n",
       "  \n",
       "    function run_callbacks() {\n",
       "      window._bokeh_onload_callbacks.forEach(function(callback) { callback() });\n",
       "      delete window._bokeh_onload_callbacks\n",
       "      console.info(\"Bokeh: all callbacks have finished\");\n",
       "    }\n",
       "  \n",
       "    function load_libs(js_urls, callback) {\n",
       "      window._bokeh_onload_callbacks.push(callback);\n",
       "      if (window._bokeh_is_loading > 0) {\n",
       "        console.log(\"Bokeh: BokehJS is being loaded, scheduling callback at\", now());\n",
       "        return null;\n",
       "      }\n",
       "      if (js_urls == null || js_urls.length === 0) {\n",
       "        run_callbacks();\n",
       "        return null;\n",
       "      }\n",
       "      console.log(\"Bokeh: BokehJS not loaded, scheduling load and callback at\", now());\n",
       "      window._bokeh_is_loading = js_urls.length;\n",
       "      for (var i = 0; i < js_urls.length; i++) {\n",
       "        var url = js_urls[i];\n",
       "        var s = document.createElement('script');\n",
       "        s.src = url;\n",
       "        s.async = false;\n",
       "        s.onreadystatechange = s.onload = function() {\n",
       "          window._bokeh_is_loading--;\n",
       "          if (window._bokeh_is_loading === 0) {\n",
       "            console.log(\"Bokeh: all BokehJS libraries loaded\");\n",
       "            run_callbacks()\n",
       "          }\n",
       "        };\n",
       "        s.onerror = function() {\n",
       "          console.warn(\"failed to load library \" + url);\n",
       "        };\n",
       "        console.log(\"Bokeh: injecting script tag for BokehJS library: \", url);\n",
       "        document.getElementsByTagName(\"head\")[0].appendChild(s);\n",
       "      }\n",
       "    };var element = document.getElementById(\"de5a9956-3688-4f74-8822-b965ebf78634\");\n",
       "    if (element == null) {\n",
       "      console.log(\"Bokeh: ERROR: autoload.js configured with elementid 'de5a9956-3688-4f74-8822-b965ebf78634' but no matching script tag was found. \")\n",
       "      return false;\n",
       "    }\n",
       "  \n",
       "    var js_urls = [];\n",
       "  \n",
       "    var inline_js = [\n",
       "      function(Bokeh) {\n",
       "        (function() {\n",
       "          var fn = function() {\n",
       "            var docs_json = {\"ecb4df4d-2dd4-47ec-bfb7-85fdd2d7c750\":{\"roots\":{\"references\":[{\"attributes\":{\"bottom\":{\"value\":0},\"fill_alpha\":{\"value\":0.1},\"fill_color\":{\"value\":\"#1f77b4\"},\"left\":{\"field\":\"left\"},\"line_alpha\":{\"value\":0.1},\"line_color\":{\"value\":\"#1f77b4\"},\"right\":{\"field\":\"right\"},\"top\":{\"field\":\"top\"}},\"id\":\"6912c81c-9165-455f-a6e0-ed62ca418915\",\"type\":\"Quad\"},{\"attributes\":{\"dimension\":1,\"plot\":{\"id\":\"caf2ce8e-61ef-4d96-86df-a417d8001620\",\"subtype\":\"Figure\",\"type\":\"Plot\"},\"ticker\":{\"id\":\"5a012bbf-15e8-4855-ae0a-f9defeea90ae\",\"type\":\"BasicTicker\"}},\"id\":\"e17cb263-5496-429c-8048-b72729bbc874\",\"type\":\"Grid\"},{\"attributes\":{\"data_source\":{\"id\":\"b387a94c-e1b7-4349-ba9d-79dbd92f5da5\",\"type\":\"ColumnDataSource\"},\"glyph\":{\"id\":\"5b383bba-4e46-4bed-80d9-8569d2ea7371\",\"type\":\"Quad\"},\"hover_glyph\":null,\"muted_glyph\":null,\"nonselection_glyph\":{\"id\":\"6912c81c-9165-455f-a6e0-ed62ca418915\",\"type\":\"Quad\"},\"selection_glyph\":null},\"id\":\"f6158d77-fa1a-4dff-8bc4-31128094d6cb\",\"type\":\"GlyphRenderer\"},{\"attributes\":{},\"id\":\"72dcfd80-e854-46ff-a996-28f3f8f72f53\",\"type\":\"BasicTickFormatter\"},{\"attributes\":{\"plot\":{\"id\":\"caf2ce8e-61ef-4d96-86df-a417d8001620\",\"subtype\":\"Figure\",\"type\":\"Plot\"}},\"id\":\"393c3764-14d6-4c5d-bed5-6ad95cb9af4e\",\"type\":\"PanTool\"},{\"attributes\":{\"plot\":{\"id\":\"caf2ce8e-61ef-4d96-86df-a417d8001620\",\"subtype\":\"Figure\",\"type\":\"Plot\"}},\"id\":\"30a2fe3f-8bd1-4c0f-ac0d-17f59fc753aa\",\"type\":\"WheelZoomTool\"},{\"attributes\":{\"plot\":{\"id\":\"caf2ce8e-61ef-4d96-86df-a417d8001620\",\"subtype\":\"Figure\",\"type\":\"Plot\"}},\"id\":\"790a2096-ea67-45d3-9bcb-c5a0fa403837\",\"type\":\"ResetTool\"},{\"attributes\":{\"plot\":{\"id\":\"caf2ce8e-61ef-4d96-86df-a417d8001620\",\"subtype\":\"Figure\",\"type\":\"Plot\"}},\"id\":\"743e9893-e53e-4f6b-97f0-350d89f90cc5\",\"type\":\"SaveTool\"},{\"attributes\":{},\"id\":\"9f637853-d364-4c4b-a9ce-32e55800b016\",\"type\":\"BasicTickFormatter\"},{\"attributes\":{\"below\":[{\"id\":\"f9b5a52f-152e-4837-be04-7306280c5dfd\",\"type\":\"LinearAxis\"}],\"left\":[{\"id\":\"a7e74b19-1c54-45ff-8801-47cd3c8e830b\",\"type\":\"LinearAxis\"}],\"renderers\":[{\"id\":\"f9b5a52f-152e-4837-be04-7306280c5dfd\",\"type\":\"LinearAxis\"},{\"id\":\"6f6ddc35-cc9c-4c30-be67-410c8e85053b\",\"type\":\"Grid\"},{\"id\":\"a7e74b19-1c54-45ff-8801-47cd3c8e830b\",\"type\":\"LinearAxis\"},{\"id\":\"e17cb263-5496-429c-8048-b72729bbc874\",\"type\":\"Grid\"},{\"id\":\"f6158d77-fa1a-4dff-8bc4-31128094d6cb\",\"type\":\"GlyphRenderer\"}],\"title\":{\"id\":\"14017c8a-138f-41a0-b594-4e2d3fc498a5\",\"type\":\"Title\"},\"tool_events\":{\"id\":\"5e4f4839-ef0f-4834-9121-ba9e33e29047\",\"type\":\"ToolEvents\"},\"toolbar\":{\"id\":\"7a72f8de-6af0-425f-95c9-7aafa873ee85\",\"type\":\"Toolbar\"},\"toolbar_location\":\"above\",\"x_range\":{\"id\":\"01336d4c-8a7e-415a-a8c5-487fd764db3d\",\"type\":\"DataRange1d\"},\"y_range\":{\"id\":\"d0d7bb1b-57a0-4057-849e-df6fe7c35c13\",\"type\":\"DataRange1d\"}},\"id\":\"caf2ce8e-61ef-4d96-86df-a417d8001620\",\"subtype\":\"Figure\",\"type\":\"Plot\"},{\"attributes\":{\"bottom\":{\"value\":0},\"fill_color\":{\"value\":\"#1f77b4\"},\"left\":{\"field\":\"left\"},\"line_color\":{\"value\":\"#555555\"},\"right\":{\"field\":\"right\"},\"top\":{\"field\":\"top\"}},\"id\":\"5b383bba-4e46-4bed-80d9-8569d2ea7371\",\"type\":\"Quad\"},{\"attributes\":{\"callback\":null,\"column_names\":[\"left\",\"right\",\"top\"],\"data\":{\"left\":{\"__ndarray__\":\"AAAAAAA4n0A9CtejcP3MQD0K16PwCdtArkfhepTK40A9CtejMBDqQGZmZmbmKvBArkfherRN80D1KFyPgnD2QD0K16NQk/lAhetRuB62/EDMzMzM7Nj/QArXo3DdfQFBrkfhekQPA0FSuB6Fq6AEQfUoXI8SMgZBmZmZmXnDB0E9Ctej4FQJQeF6FK5H5gpBhetRuK53DEEoXI/CFQkOQczMzMx8mg9BuB6F6/GVEEEK16NwpV4RQVyPwvVYJxJBrkfhegzwEkEAAAAAwLgTQVK4HoVzgRRBo3A9CidKFUH1KFyP2hIWQUfhehSO2xZBmZmZmUGkF0HrUbge9WwYQT0K16OoNRlBj8L1KFz+GUHhehSuD8caQTMzMzPDjxtBhetRuHZYHEHXo3A9KiEdQShcj8Ld6R1BehSuR5GyHkHMzMzMRHsfQY/C9Sj8ISBBuB6F61WGIEHhehSur+ogQQrXo3AJTyFBMzMzM2OzIUFcj8L1vBciQYXrUbgWfCJBrkfhenDgIkHXo3A9ykQjQQAAAAAkqSNBKVyPwn0NJEFSuB6F13EkQXsUrkcx1iRBo3A9Cos6JUHMzMzM5J4lQfUoXI8+AyZBHoXrUZhnJkFH4XoU8ssmQXA9CtdLMCdBmZmZmaWUJ0HC9Shc//gnQetRuB5ZXShBFK5H4bLBKEE9CtejDCYpQWZmZmZmiilBj8L1KMDuKUG4HoXrGVMqQeF6FK5ztypBCtejcM0bK0EzMzMzJ4ArQVyPwvWA5CtBhetRuNpILEGuR+F6NK0sQdejcD2OES1B/////+d1LUEoXI/CQdotQVG4HoWbPi5BehSuR/WiLkGjcD0KTwcvQczMzMyoay9B9ShcjwLQL0GPwvUoLhowQaRwPQpbTDBBuB6F64d+MEHNzMzMtLAwQeF6FK7h4jBB9Shcjw4VMUEK16NwO0cxQR6F61FoeTFBMzMzM5WrMUFH4XoUwt0xQVyPwvXuDzJBcD0K1xtCMkGF61G4SHQyQZmZmZl1pjJBrkfheqLYMkHC9ShczwozQdejcD38PDNB61G4HilvM0E=\",\"dtype\":\"float64\",\"shape\":[100]},\"right\":{\"__ndarray__\":\"PQrXo3D9zEA9Ctej8AnbQK5H4XqUyuNAPQrXozAQ6kBmZmZm5irwQK5H4Xq0TfNA9Shcj4Jw9kA9CtejUJP5QIXrUbgetvxAzMzMzOzY/0AK16Nw3X0BQa5H4XpEDwNBUrgehaugBEH1KFyPEjIGQZmZmZl5wwdBPQrXo+BUCUHhehSuR+YKQYXrUbiudwxBKFyPwhUJDkHMzMzMfJoPQbgehevxlRBBCtejcKVeEUFcj8L1WCcSQa5H4XoM8BJBAAAAAMC4E0FSuB6Fc4EUQaNwPQonShVB9Shcj9oSFkFH4XoUjtsWQZmZmZlBpBdB61G4HvVsGEE9CtejqDUZQY/C9Shc/hlB4XoUrg/HGkEzMzMzw48bQYXrUbh2WBxB16NwPSohHUEoXI/C3ekdQXoUrkeRsh5BzMzMzER7H0GPwvUo/CEgQbgehetVhiBB4XoUrq/qIEEK16NwCU8hQTMzMzNjsyFBXI/C9bwXIkGF61G4FnwiQa5H4Xpw4CJB16NwPcpEI0EAAAAAJKkjQSlcj8J9DSRBUrgehddxJEF7FK5HMdYkQaNwPQqLOiVBzMzMzOSeJUH1KFyPPgMmQR6F61GYZyZBR+F6FPLLJkFwPQrXSzAnQZmZmZmllCdBwvUoXP/4J0HrUbgeWV0oQRSuR+GywShBPQrXowwmKUFmZmZmZoopQY/C9SjA7ilBuB6F6xlTKkHhehSuc7cqQQrXo3DNGytBMzMzMyeAK0Fcj8L1gOQrQYXrUbjaSCxBrkfhejStLEHXo3A9jhEtQf/////ndS1BKFyPwkHaLUFRuB6Fmz4uQXoUrkf1oi5Bo3A9Ck8HL0HMzMzMqGsvQfUoXI8C0C9Bj8L1KC4aMEGkcD0KW0wwQbgeheuHfjBBzczMzLSwMEHhehSu4eIwQfUoXI8OFTFBCtejcDtHMUEehetRaHkxQTMzMzOVqzFBR+F6FMLdMUFcj8L17g8yQXA9CtcbQjJBhetRuEh0MkGZmZmZdaYyQa5H4Xqi2DJBwvUoXM8KM0HXo3A9/DwzQetRuB4pbzNBAAAAAFahM0E=\",\"dtype\":\"float64\",\"shape\":[100]},\"top\":{\"__ndarray__\":\"XXTEO+y2Ej/JPFMPEdHIPugo7KFSNLY++544a/PllD547tQg7ViPPveeOGvz5XQ+fe7UIO1Yjz5z7tQg7ViPPgAAAAAAAAAA/p44a/PlhD73njhr8+WEPnPu1CDtWI8+AAAAAAAAAAAAAAAAAAAAAAAAAAAAAAAAAAAAAAAAAAD3njhr8+V0PgAAAAAAAAAAAAAAAAAAAAAAAAAAAAAAAAAAAAAAAAAAAAAAAAAAAAAAAAAAAAAAAAAAAAAAAAAAAAAAAAAAAAAAAAAAAAAAAAAAAAAAAAAA9544a/PldD4AAAAAAAAAAAAAAAAAAAAA9544a/PldD4AAAAAAAAAAAAAAAAAAAAA9544a/PldD4AAAAAAAAAAAAAAAAAAAAAAAAAAAAAAAAAAAAAAAAAAPeeOGvz5XQ+AAAAAAAAAAAAAAAAAAAAAAAAAAAAAAAA9544a/PldD4AAAAAAAAAAAAAAAAAAAAAAAAAAAAAAAAAAAAAAAAAAAAAAAAAAAAAAAAAAAAAAAAAAAAAAAAAAAAAAAAAAAAAAAAAAAAAAAAAAAAAAAAAAAAAAAAAAAAAAAAAAAAAAAAAAAAAAAAAAAAAAAAAAAAAAAAAAAAAAAAAAAAAAAAAAAAAAAAAAAAAAAAAAAAAAAAAAAAAAAAAAAAAAAAAAAAAAAAAAAAAAAAAAAAAAAAAAAAAAAAAAAAAAAAAAAAAAAAAAAAAAAAAAAAAAAAAAAAAAAAAAAAAAAAAAAAAAAAAAAAAAAAAAAAAAAAAAAAAAAAAAAAAAAAAAAAAAAAAAAAAAAAAAAAAAAAAAAAAAAAAAAAAAAAAAAAAAAAAAAAAAAAAAAAAAAAAAAAAAAAAAAAAAAAAAAAAAAAAAAAAAAAAAAAAAAAAAAAAAAAAAAAAAAAAAAAAAAAAAAAAAAAAAAAAAAAAAAAAAAAAAAAAAAAAAAAAAAAAAAAAAAAAAAAAAAAAAAAAAAAAAAAAAAAAAAAAAAAAAAAAAAAAAAAAAAAAAAAAAAAAAAAAAAAAAAAAAAAAAAAAAAAAAAAAAAAAAAAAwp44a/PldD4=\",\"dtype\":\"float64\",\"shape\":[100]}}},\"id\":\"b387a94c-e1b7-4349-ba9d-79dbd92f5da5\",\"type\":\"ColumnDataSource\"},{\"attributes\":{\"plot\":null,\"text\":\"Top-1000 words distribution\"},\"id\":\"14017c8a-138f-41a0-b594-4e2d3fc498a5\",\"type\":\"Title\"},{\"attributes\":{\"callback\":null},\"id\":\"01336d4c-8a7e-415a-a8c5-487fd764db3d\",\"type\":\"DataRange1d\"},{\"attributes\":{},\"id\":\"5e4f4839-ef0f-4834-9121-ba9e33e29047\",\"type\":\"ToolEvents\"},{\"attributes\":{\"active_drag\":\"auto\",\"active_scroll\":\"auto\",\"active_tap\":\"auto\",\"tools\":[{\"id\":\"393c3764-14d6-4c5d-bed5-6ad95cb9af4e\",\"type\":\"PanTool\"},{\"id\":\"30a2fe3f-8bd1-4c0f-ac0d-17f59fc753aa\",\"type\":\"WheelZoomTool\"},{\"id\":\"790a2096-ea67-45d3-9bcb-c5a0fa403837\",\"type\":\"ResetTool\"},{\"id\":\"743e9893-e53e-4f6b-97f0-350d89f90cc5\",\"type\":\"SaveTool\"}]},\"id\":\"7a72f8de-6af0-425f-95c9-7aafa873ee85\",\"type\":\"Toolbar\"},{\"attributes\":{},\"id\":\"5a012bbf-15e8-4855-ae0a-f9defeea90ae\",\"type\":\"BasicTicker\"},{\"attributes\":{\"formatter\":{\"id\":\"72dcfd80-e854-46ff-a996-28f3f8f72f53\",\"type\":\"BasicTickFormatter\"},\"plot\":{\"id\":\"caf2ce8e-61ef-4d96-86df-a417d8001620\",\"subtype\":\"Figure\",\"type\":\"Plot\"},\"ticker\":{\"id\":\"7064b221-5533-48ea-bf5c-436e36a6afe9\",\"type\":\"BasicTicker\"}},\"id\":\"f9b5a52f-152e-4837-be04-7306280c5dfd\",\"type\":\"LinearAxis\"},{\"attributes\":{\"callback\":null},\"id\":\"d0d7bb1b-57a0-4057-849e-df6fe7c35c13\",\"type\":\"DataRange1d\"},{\"attributes\":{},\"id\":\"7064b221-5533-48ea-bf5c-436e36a6afe9\",\"type\":\"BasicTicker\"},{\"attributes\":{\"plot\":{\"id\":\"caf2ce8e-61ef-4d96-86df-a417d8001620\",\"subtype\":\"Figure\",\"type\":\"Plot\"},\"ticker\":{\"id\":\"7064b221-5533-48ea-bf5c-436e36a6afe9\",\"type\":\"BasicTicker\"}},\"id\":\"6f6ddc35-cc9c-4c30-be67-410c8e85053b\",\"type\":\"Grid\"},{\"attributes\":{\"formatter\":{\"id\":\"9f637853-d364-4c4b-a9ce-32e55800b016\",\"type\":\"BasicTickFormatter\"},\"plot\":{\"id\":\"caf2ce8e-61ef-4d96-86df-a417d8001620\",\"subtype\":\"Figure\",\"type\":\"Plot\"},\"ticker\":{\"id\":\"5a012bbf-15e8-4855-ae0a-f9defeea90ae\",\"type\":\"BasicTicker\"}},\"id\":\"a7e74b19-1c54-45ff-8801-47cd3c8e830b\",\"type\":\"LinearAxis\"}],\"root_ids\":[\"caf2ce8e-61ef-4d96-86df-a417d8001620\"]},\"title\":\"Bokeh Application\",\"version\":\"0.12.5\"}};\n",
       "            var render_items = [{\"docid\":\"ecb4df4d-2dd4-47ec-bfb7-85fdd2d7c750\",\"elementid\":\"de5a9956-3688-4f74-8822-b965ebf78634\",\"modelid\":\"caf2ce8e-61ef-4d96-86df-a417d8001620\"}];\n",
       "            \n",
       "            Bokeh.embed.embed_items(docs_json, render_items);\n",
       "          };\n",
       "          if (document.readyState != \"loading\") fn();\n",
       "          else document.addEventListener(\"DOMContentLoaded\", fn);\n",
       "        })();\n",
       "      },\n",
       "      function(Bokeh) {\n",
       "      }\n",
       "    ];\n",
       "  \n",
       "    function run_inline_js() {\n",
       "      \n",
       "      if ((window.Bokeh !== undefined) || (force === true)) {\n",
       "        for (var i = 0; i < inline_js.length; i++) {\n",
       "          inline_js[i](window.Bokeh);\n",
       "        }if (force === true) {\n",
       "          display_loaded();\n",
       "        }} else if (Date.now() < window._bokeh_timeout) {\n",
       "        setTimeout(run_inline_js, 100);\n",
       "      } else if (!window._bokeh_failed_load) {\n",
       "        console.log(\"Bokeh: BokehJS failed to load within specified timeout.\");\n",
       "        window._bokeh_failed_load = true;\n",
       "      } else if (force !== true) {\n",
       "        var cell = $(document.getElementById(\"de5a9956-3688-4f74-8822-b965ebf78634\")).parents('.cell').data().cell;\n",
       "        cell.output_area.append_execute_result(NB_LOAD_WARNING)\n",
       "      }\n",
       "  \n",
       "    }\n",
       "  \n",
       "    if (window._bokeh_is_loading === 0) {\n",
       "      console.log(\"Bokeh: BokehJS loaded, going straight to plotting\");\n",
       "      run_inline_js();\n",
       "    } else {\n",
       "      load_libs(js_urls, function() {\n",
       "        console.log(\"Bokeh: BokehJS plotting callback run at\", now());\n",
       "        run_inline_js();\n",
       "      });\n",
       "    }\n",
       "  }(this));\n",
       "</script>"
      ]
     },
     "metadata": {},
     "output_type": "display_data"
    }
   ],
   "source": [
    "hist, edges = np.histogram(counts_wiki_top1000, density=True, bins=100, normed=True)\n",
    "\n",
    "p = figure(tools=\"pan,wheel_zoom,reset,save\",\n",
    "           toolbar_location=\"above\",\n",
    "           title=\"Top-1000 words distribution\")\n",
    "p.quad(top=hist, bottom=0, left=edges[:-1], right=edges[1:], line_color=\"#555555\")\n",
    "show(p)"
   ]
  },
  {
   "cell_type": "markdown",
   "metadata": {},
   "source": [
    "P.3 Word2Vec"
   ]
  },
  {
   "cell_type": "code",
   "execution_count": 37,
   "metadata": {
    "collapsed": true
   },
   "outputs": [],
   "source": [
    "model_wiki = Word2Vec(min_count = 1, size=100, sentences = sentences_wiki)"
   ]
  },
  {
   "cell_type": "markdown",
   "metadata": {},
   "source": [
    "P.4 Learnt Representation"
   ]
  },
  {
   "cell_type": "code",
   "execution_count": 38,
   "metadata": {},
   "outputs": [
    {
     "data": {
      "text/plain": [
       "[('woman', 0.688234806060791),\n",
       " ('boy', 0.6431769132614136),\n",
       " ('person', 0.6310368180274963),\n",
       " ('soldier', 0.6237457990646362),\n",
       " ('dog', 0.5880556106567383),\n",
       " ('girl', 0.5840200185775757),\n",
       " ('salticid', 0.5782127976417542),\n",
       " ('sword', 0.5528937578201294),\n",
       " ('creature', 0.5508073568344116),\n",
       " ('men', 0.5453656315803528)]"
      ]
     },
     "execution_count": 38,
     "metadata": {},
     "output_type": "execute_result"
    }
   ],
   "source": [
    "model_wiki.most_similar('man')"
   ]
  },
  {
   "cell_type": "code",
   "execution_count": 39,
   "metadata": {},
   "outputs": [
    {
     "data": {
      "text/plain": [
       "[('software', 0.8151989579200745),\n",
       " ('computers', 0.7765566110610962),\n",
       " ('simulation', 0.7540918588638306),\n",
       " ('interface', 0.7486334443092346),\n",
       " ('hardware', 0.734882652759552),\n",
       " ('computing', 0.7306196093559265),\n",
       " ('technology', 0.7149679660797119),\n",
       " ('electronics', 0.7140133380889893),\n",
       " ('animation', 0.7041857242584229),\n",
       " ('3d', 0.6945927739143372)]"
      ]
     },
     "execution_count": 39,
     "metadata": {},
     "output_type": "execute_result"
    }
   ],
   "source": [
    "model_wiki.most_similar('computer')"
   ]
  },
  {
   "cell_type": "code",
   "execution_count": 40,
   "metadata": {},
   "outputs": [
    {
     "data": {
      "text/plain": [
       "[('woman', 0.6173664927482605),\n",
       " ('victim', 0.6040840148925781),\n",
       " ('son', 0.5915666222572327),\n",
       " ('person', 0.5813471674919128),\n",
       " ('father', 0.5614498257637024),\n",
       " ('soldier', 0.5333063006401062),\n",
       " ('grace', 0.5294967293739319),\n",
       " ('prisoner', 0.5276654362678528),\n",
       " ('boy', 0.5263757705688477),\n",
       " ('girl', 0.5212563872337341)]"
      ]
     },
     "execution_count": 40,
     "metadata": {},
     "output_type": "execute_result"
    }
   ],
   "source": [
    "model_wiki.most_similar(positive=['man', 'child'], negative=['adult'])"
   ]
  },
  {
   "cell_type": "markdown",
   "metadata": {},
   "source": [
    "#### t-SNE visualization"
   ]
  },
  {
   "cell_type": "code",
   "execution_count": 41,
   "metadata": {
    "collapsed": true
   },
   "outputs": [],
   "source": [
    "# This assumes words_top_wiki is a list of strings, the top 1000 words\n",
    "words_top_vec_wiki = model_wiki[words_top_wiki]\n",
    "\n",
    "tsne = TSNE(n_components=2, random_state=0)\n",
    "words_top_wiki_tsne = tsne.fit_transform(words_top_vec_wiki)"
   ]
  },
  {
   "cell_type": "code",
   "execution_count": 42,
   "metadata": {},
   "outputs": [
    {
     "data": {
      "text/html": [
       "\n",
       "\n",
       "    <div class=\"bk-root\">\n",
       "        <div class=\"bk-plotdiv\" id=\"f03c31d6-68c0-4093-94f8-9da1877eee34\"></div>\n",
       "    </div>\n",
       "<script type=\"text/javascript\">\n",
       "  \n",
       "  (function(global) {\n",
       "    function now() {\n",
       "      return new Date();\n",
       "    }\n",
       "  \n",
       "    var force = false;\n",
       "  \n",
       "    if (typeof (window._bokeh_onload_callbacks) === \"undefined\" || force === true) {\n",
       "      window._bokeh_onload_callbacks = [];\n",
       "      window._bokeh_is_loading = undefined;\n",
       "    }\n",
       "  \n",
       "  \n",
       "    \n",
       "    if (typeof (window._bokeh_timeout) === \"undefined\" || force === true) {\n",
       "      window._bokeh_timeout = Date.now() + 0;\n",
       "      window._bokeh_failed_load = false;\n",
       "    }\n",
       "  \n",
       "    var NB_LOAD_WARNING = {'data': {'text/html':\n",
       "       \"<div style='background-color: #fdd'>\\n\"+\n",
       "       \"<p>\\n\"+\n",
       "       \"BokehJS does not appear to have successfully loaded. If loading BokehJS from CDN, this \\n\"+\n",
       "       \"may be due to a slow or bad network connection. Possible fixes:\\n\"+\n",
       "       \"</p>\\n\"+\n",
       "       \"<ul>\\n\"+\n",
       "       \"<li>re-rerun `output_notebook()` to attempt to load from CDN again, or</li>\\n\"+\n",
       "       \"<li>use INLINE resources instead, as so:</li>\\n\"+\n",
       "       \"</ul>\\n\"+\n",
       "       \"<code>\\n\"+\n",
       "       \"from bokeh.resources import INLINE\\n\"+\n",
       "       \"output_notebook(resources=INLINE)\\n\"+\n",
       "       \"</code>\\n\"+\n",
       "       \"</div>\"}};\n",
       "  \n",
       "    function display_loaded() {\n",
       "      if (window.Bokeh !== undefined) {\n",
       "        var el = document.getElementById(\"f03c31d6-68c0-4093-94f8-9da1877eee34\");\n",
       "        el.textContent = \"BokehJS \" + Bokeh.version + \" successfully loaded.\";\n",
       "      } else if (Date.now() < window._bokeh_timeout) {\n",
       "        setTimeout(display_loaded, 100)\n",
       "      }\n",
       "    }\n",
       "  \n",
       "    function run_callbacks() {\n",
       "      window._bokeh_onload_callbacks.forEach(function(callback) { callback() });\n",
       "      delete window._bokeh_onload_callbacks\n",
       "      console.info(\"Bokeh: all callbacks have finished\");\n",
       "    }\n",
       "  \n",
       "    function load_libs(js_urls, callback) {\n",
       "      window._bokeh_onload_callbacks.push(callback);\n",
       "      if (window._bokeh_is_loading > 0) {\n",
       "        console.log(\"Bokeh: BokehJS is being loaded, scheduling callback at\", now());\n",
       "        return null;\n",
       "      }\n",
       "      if (js_urls == null || js_urls.length === 0) {\n",
       "        run_callbacks();\n",
       "        return null;\n",
       "      }\n",
       "      console.log(\"Bokeh: BokehJS not loaded, scheduling load and callback at\", now());\n",
       "      window._bokeh_is_loading = js_urls.length;\n",
       "      for (var i = 0; i < js_urls.length; i++) {\n",
       "        var url = js_urls[i];\n",
       "        var s = document.createElement('script');\n",
       "        s.src = url;\n",
       "        s.async = false;\n",
       "        s.onreadystatechange = s.onload = function() {\n",
       "          window._bokeh_is_loading--;\n",
       "          if (window._bokeh_is_loading === 0) {\n",
       "            console.log(\"Bokeh: all BokehJS libraries loaded\");\n",
       "            run_callbacks()\n",
       "          }\n",
       "        };\n",
       "        s.onerror = function() {\n",
       "          console.warn(\"failed to load library \" + url);\n",
       "        };\n",
       "        console.log(\"Bokeh: injecting script tag for BokehJS library: \", url);\n",
       "        document.getElementsByTagName(\"head\")[0].appendChild(s);\n",
       "      }\n",
       "    };var element = document.getElementById(\"f03c31d6-68c0-4093-94f8-9da1877eee34\");\n",
       "    if (element == null) {\n",
       "      console.log(\"Bokeh: ERROR: autoload.js configured with elementid 'f03c31d6-68c0-4093-94f8-9da1877eee34' but no matching script tag was found. \")\n",
       "      return false;\n",
       "    }\n",
       "  \n",
       "    var js_urls = [];\n",
       "  \n",
       "    var inline_js = [\n",
       "      function(Bokeh) {\n",
       "        (function() {\n",
       "          var fn = function() {\n",
       "            var docs_json = {\"f1d76b93-8551-4ae2-be68-e28d7dc62d54\":{\"roots\":{\"references\":[{\"attributes\":{\"plot\":{\"id\":\"c99b1dc0-e042-4fb2-9740-0b6282cc8874\",\"subtype\":\"Figure\",\"type\":\"Plot\"},\"source\":{\"id\":\"24b99e03-9e2c-421a-bec2-b5708d7321bf\",\"type\":\"ColumnDataSource\"},\"text\":{\"field\":\"names\"},\"text_align\":\"center\",\"text_color\":{\"value\":\"#555555\"},\"text_font_size\":{\"value\":\"8pt\"},\"x\":{\"field\":\"x1\"},\"y\":{\"field\":\"x2\"},\"y_offset\":{\"value\":6}},\"id\":\"20205396-6c44-475a-8ae9-40351da403ed\",\"type\":\"LabelSet\"},{\"attributes\":{\"plot\":null,\"text\":\"word2vec T-SNE for most common words\"},\"id\":\"41ff0bcc-84b4-4eca-83e9-eb475631d7e7\",\"type\":\"Title\"},{\"attributes\":{\"callback\":null,\"column_names\":[\"x1\",\"x2\",\"names\"],\"data\":{\"names\":[\"the\",\"of\",\"and\",\"in\",\"to\",\"a\",\"was\",\"on\",\"s\",\"as\",\"for\",\"that\",\"with\",\"by\",\"is\",\"his\",\"at\",\"he\",\"from\",\"it\",\"were\",\"an\",\"had\",\"which\",\"be\",\"this\",\"but\",\"are\",\"first\",\"not\",\"their\",\"after\",\"one\",\"her\",\"also\",\"its\",\"they\",\"two\",\"or\",\"have\",\"who\",\"new\",\"been\",\"has\",\"she\",\"when\",\"during\",\"time\",\"other\",\"would\",\"into\",\"all\",\"i\",\"more\",\"1\",\"while\",\"over\",\"him\",\"only\",\"later\",\"game\",\"up\",\"most\",\"three\",\"about\",\"out\",\"between\",\"there\",\"2\",\"than\",\"some\",\"film\",\"may\",\"before\",\"year\",\"made\",\"no\",\"such\",\"season\",\"000\",\"second\",\"where\",\"3\",\"war\",\"world\",\"years\",\"both\",\"through\",\"however\",\"used\",\"then\",\"these\",\"series\",\"song\",\"being\",\"them\",\"against\",\"album\",\"5\",\"many\",\"team\",\"part\",\"became\",\"city\",\"number\",\"united\",\"north\",\"well\",\"including\",\"four\",\"can\",\"several\",\"early\",\"4\",\"under\",\"state\",\"m\",\"music\",\"south\",\"day\",\"episode\",\"so\",\"states\",\"said\",\"following\",\"could\",\"although\",\"known\",\"american\",\"did\",\"work\",\"began\",\"until\",\"because\",\"released\",\"called\",\"like\",\"high\",\"10\",\"t\",\"people\",\"end\",\"since\",\"british\",\"6\",\"national\",\"long\",\"best\",\"around\",\"each\",\"if\",\"found\",\"life\",\"september\",\"another\",\"same\",\"along\",\"us\",\"west\",\"five\",\"million\",\"back\",\"show\",\"took\",\"area\",\"final\",\"you\",\"use\",\"off\",\"any\",\"century\",\"october\",\"group\",\"7\",\"received\",\"august\",\"school\",\"8\",\"line\",\"what\",\"due\",\"government\",\"john\",\"will\",\"east\",\"km\",\"june\",\"november\",\"home\",\"single\",\"games\",\"system\",\"0\",\"july\",\"march\",\"much\",\"third\",\"april\",\"9\",\"general\",\"set\",\"large\",\"york\",\"based\",\"left\",\"family\",\"just\",\"down\",\"major\",\"place\",\"we\",\"army\",\"company\",\"house\",\"name\",\"december\",\"included\",\"road\",\"history\",\"12\",\"character\",\"january\",\"played\",\"20\",\"six\",\"band\",\"now\",\"king\",\"wrote\",\"times\",\"won\",\"led\",\"according\",\"15\",\"described\",\"air\",\"men\",\"main\",\"those\",\"within\",\"next\",\"own\",\"death\",\"near\",\"30\",\"river\",\"named\",\"video\",\"last\",\"still\",\"top\",\"de\",\"battle\",\"ship\",\"way\",\"original\",\"release\",\"late\",\"record\",\"force\",\"league\",\"make\",\"very\",\"species\",\"man\",\"small\",\"production\",\"great\",\"route\",\"club\",\"though\",\"even\",\"february\",\"old\",\"storm\",\"public\",\"again\",\"held\",\"built\",\"among\",\"11\",\"further\",\"days\",\"university\",\"service\",\"french\",\"division\",\"2010\",\"u\",\"book\",\"do\",\"play\",\"role\",\"german\",\"side\",\"story\",\"white\",\"match\",\"members\",\"having\",\"power\",\"point\",\"player\",\"100\",\"order\",\"often\",\"2008\",\"d\",\"water\",\"local\",\"former\",\"2009\",\"town\",\"despite\",\"career\",\"2011\",\"black\",\"continued\",\"half\",\"without\",\"came\",\"considered\",\"party\",\"park\",\"18\",\"16\",\"england\",\"county\",\"13\",\"14\",\"become\",\"take\",\"h\",\"written\",\"support\",\"few\",\"2007\",\"island\",\"version\",\"different\",\"2012\",\"period\",\"military\",\"form\",\"development\",\"english\",\"moved\",\"forces\",\"b\",\"25\",\"songs\",\"court\",\"given\",\"building\",\"international\",\"little\",\"country\",\"lost\",\"london\",\"president\",\"using\",\"ii\",\"track\",\"tropical\",\"gave\",\"my\",\"tour\",\"re\",\"published\",\"similar\",\"returned\",\"produced\",\"attack\",\"performance\",\"went\",\"short\",\"television\",\"never\",\"class\",\"lead\",\"position\",\"royal\",\"street\",\"western\",\"recorded\",\"church\",\"highway\",\"total\",\"stated\",\"father\",\"children\",\"control\",\"live\",\"good\",\"2006\",\"ships\",\"17\",\"c\",\"land\",\"fire\",\"run\",\"per\",\"week\",\"women\",\"once\",\"n\",\"aircraft\",\"include\",\"how\",\"star\",\"making\",\"throughout\",\"right\",\"love\",\"2013\",\"himself\",\"head\",\"me\",\"upon\",\"design\",\"characters\",\"less\",\"instead\",\"australia\",\"age\",\"young\",\"light\",\"players\",\"result\",\"across\",\"central\",\"station\",\"remained\",\"away\",\"sea\",\"months\",\"writing\",\"red\",\"title\",\"ft\",\"hurricane\",\"21\",\"night\",\"developed\",\"24\",\"rock\",\"seven\",\"died\",\"james\",\"ten\",\"return\",\"political\",\"low\",\"areas\",\"eight\",\"law\",\"southern\",\"reported\",\"office\",\"center\",\"race\",\"previous\",\"america\",\"created\",\"noted\",\"reached\",\"style\",\"act\",\"japanese\",\"son\",\"too\",\"various\",\"college\",\"win\",\"miles\",\"field\",\"st\",\"eventually\",\"seen\",\"announced\",\"r\",\"22\",\"felt\",\"should\",\"sent\",\"2005\",\"50\",\"award\",\"member\",\"19\",\"construction\",\"followed\",\"william\",\"performed\",\"2014\",\"campaign\",\"served\",\"northern\",\"points\",\"full\",\"front\",\"works\",\"together\",\"common\",\"taken\",\"killed\",\"level\",\"body\",\"established\",\"chart\",\"born\",\"success\",\"originally\",\"australian\",\"range\",\"mm\",\"george\",\"able\",\"appeared\",\"special\",\"started\",\"others\",\"football\",\"action\",\"23\",\"added\",\"sold\",\"critics\",\"features\",\"stage\",\"playing\",\"project\",\"e\",\"modern\",\"thought\",\"decided\",\"feet\",\"located\",\"bridge\",\"caused\",\"get\",\"post\",\"present\",\"fourth\",\"heavy\",\"rather\",\"formed\",\"every\",\"addition\",\"popular\",\"site\",\"david\",\"behind\",\"almost\",\"open\",\"director\",\"see\",\"initially\",\"saw\",\"population\",\"close\",\"40\",\"completed\",\"28\",\"command\",\"championship\",\"non\",\"strong\",\"important\",\"damage\",\"kingdom\",\"fleet\",\"union\",\"awards\",\"free\",\"soon\",\"ground\",\"guns\",\"art\",\"working\",\"leading\",\"weeks\",\"26\",\"eastern\",\"go\",\"coast\",\"worked\",\"mother\",\"opened\",\"2004\",\"case\",\"27\",\"o\",\"2015\",\"michael\",\"region\",\"sound\",\"hall\",\"brought\",\"france\",\"wanted\",\"scored\",\"help\",\"henry\",\"towards\",\"ever\",\"scene\",\"recording\",\"event\",\"navy\",\"events\",\"provided\",\"washington\",\"average\",\"least\",\"l\",\"records\",\"troops\",\"placed\",\"training\",\"allowed\",\"generally\",\"put\",\"mi\",\"200\",\"victory\",\"list\",\"featured\",\"example\",\"studio\",\"cup\",\"does\",\"29\",\"far\",\"runs\",\"human\",\"either\",\"wife\",\"magazine\",\"f\",\"hit\",\"europe\",\"joined\",\"2003\",\"believed\",\"council\",\"summer\",\"500\",\"opening\",\"mid\",\"hours\",\"nine\",\"japan\",\"finished\",\"brown\",\"designed\",\"replaced\",\"official\",\"police\",\"co\",\"media\",\"rest\",\"films\",\"start\",\"squadron\",\"big\",\"earlier\",\"operation\",\"association\",\"particularly\",\"saying\",\"minutes\",\"robert\",\"process\",\"beginning\",\"largest\",\"possible\",\"successful\",\"european\",\"shot\",\"research\",\"base\",\"radio\",\"met\",\"forced\",\"review\",\"mph\",\"2000\",\"increased\",\"change\",\"crew\",\"significant\",\"taking\",\"al\",\"test\",\"captain\",\"month\",\"2001\",\"reviews\",\"involved\",\"society\",\"outside\",\"better\",\"appearance\",\"available\",\"cast\",\"going\",\"praised\",\"charles\",\"highest\",\"units\",\"move\",\"rights\",\"stone\",\"hill\",\"space\",\"previously\",\"passed\",\"turned\",\"business\",\"must\",\"additional\",\"enough\",\"relationship\",\"ended\",\"community\",\"section\",\"real\",\"thus\",\"lower\",\"staff\",\"come\",\"winds\",\"future\",\"canada\",\"san\",\"middle\",\"musical\",\"gun\",\"social\",\"goal\",\"2002\",\"ordered\",\"interest\",\"board\",\"elements\",\"infantry\",\"critical\",\"31\",\"above\",\"cross\",\"positive\",\"gold\",\"parts\",\"thomas\",\"failed\",\"chief\",\"paul\",\"money\",\"give\",\"spent\",\"signed\",\"required\",\"attempt\",\"female\",\"california\",\"committee\",\"sometimes\",\"find\",\"lake\",\"usually\",\"germany\",\"groups\",\"overall\",\"asked\",\"personal\",\"directed\",\"lines\",\"plan\",\"cover\",\"our\",\"district\",\"news\",\"round\",\"evidence\",\"term\",\"castle\",\"type\",\"don\",\"room\",\"told\",\"turn\",\"itself\",\"program\",\"port\",\"prior\",\"introduced\",\"brother\",\"uk\",\"india\",\"blue\",\"hand\",\"entire\",\"bill\",\"election\",\"students\",\"novel\",\"battalion\",\"score\",\"grand\",\"especially\",\"plot\",\"past\",\"food\",\"response\",\"reception\",\"whose\",\"square\",\"material\",\"bay\",\"study\",\"stars\",\"already\",\"indian\",\"smith\",\"person\",\"education\",\"x\",\"loss\",\"effects\",\"complete\",\"background\",\"limited\",\"department\",\"press\",\"governor\",\"woman\",\"flight\",\"claimed\",\"minister\",\"writer\",\"quickly\",\"village\",\"arrived\",\"britain\",\"science\",\"idea\",\"cut\",\"debut\",\"fifth\",\"teams\",\"estimated\",\"speed\",\"whom\",\"child\",\"shows\",\"decision\",\"movement\",\"richard\",\"mark\",\"green\",\"carried\",\"la\",\"issue\",\"earth\",\"virginia\",\"ny\",\"centre\",\"1999\",\"episodes\",\"surface\",\"civil\",\"size\",\"living\",\"running\",\"anti\",\"length\",\"hot\",\"dark\",\"services\",\"defeated\",\"industry\",\"remaining\",\"wide\",\"changes\",\"pressure\",\"god\",\"voice\",\"operations\",\"scenes\",\"commercial\",\"might\",\"percent\",\"railway\",\"peter\",\"date\",\"leaving\",\"experience\",\"commander\",\"becoming\",\"influence\",\"structure\",\"subsequently\",\"larger\",\"latter\",\"soviet\",\"fact\",\"suggested\",\"los\",\"entered\",\"v\",\"tracks\",\"report\",\"current\",\"nearly\",\"nature\",\"empire\",\"naval\",\"shortly\",\"finally\",\"approximately\",\"daughter\",\"married\",\"network\",\"queen\",\"g\",\"cost\",\"course\",\"producer\",\"car\",\"proposed\",\"immediately\",\"view\",\"appointed\",\"whether\",\"today\",\"self\",\"officer\",\"fort\",\"islands\",\"regular\",\"depression\",\"pop\",\"brigade\",\"intended\",\"destroyed\",\"winning\",\"spanish\",\"language\",\"planned\",\"p\",\"manager\",\"higher\",\"done\",\"related\",\"feature\",\"agreed\",\"lack\",\"leader\",\"friends\",\"changed\",\"provide\",\"contract\",\"books\",\"1998\",\"yet\",\"compared\",\"corps\",\"awarded\",\"fans\",\"supported\",\"plans\",\"chicago\",\"k\",\"trade\",\"got\",\"natural\",\"regiment\",\"friend\",\"60\",\"jackson\",\"via\",\"initial\",\"upper\",\"guitar\",\"singles\",\"helped\",\"remains\",\"ball\",\"face\",\"health\",\"officers\",\"soldiers\",\"lord\",\"captured\",\"key\",\"private\",\"federal\",\"associated\",\"extended\"],\"x1\":{\"__ndarray__\":\"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\",\"dtype\":\"float64\",\"shape\":[1000]},\"x2\":{\"__ndarray__\":\"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\",\"dtype\":\"float64\",\"shape\":[1000]}}},\"id\":\"24b99e03-9e2c-421a-bec2-b5708d7321bf\",\"type\":\"ColumnDataSource\"},{\"attributes\":{\"callback\":null},\"id\":\"1cf92de0-6b8c-47c9-b501-fd311432a8ff\",\"type\":\"DataRange1d\"},{\"attributes\":{\"below\":[{\"id\":\"0deb2ed1-8f0e-42bf-a4a6-210abb657486\",\"type\":\"LinearAxis\"}],\"left\":[{\"id\":\"ec1a41e7-58fb-4a3c-96dd-c26d21249c7f\",\"type\":\"LinearAxis\"}],\"renderers\":[{\"id\":\"0deb2ed1-8f0e-42bf-a4a6-210abb657486\",\"type\":\"LinearAxis\"},{\"id\":\"03aa8128-0729-41fd-9fda-00c11f3b7759\",\"type\":\"Grid\"},{\"id\":\"ec1a41e7-58fb-4a3c-96dd-c26d21249c7f\",\"type\":\"LinearAxis\"},{\"id\":\"44088ea0-90ec-4ce7-af4c-2b3a53f1af9e\",\"type\":\"Grid\"},{\"id\":\"67a429c3-8903-4a6b-8a17-416ccf9b212b\",\"type\":\"GlyphRenderer\"},{\"id\":\"20205396-6c44-475a-8ae9-40351da403ed\",\"type\":\"LabelSet\"}],\"title\":{\"id\":\"41ff0bcc-84b4-4eca-83e9-eb475631d7e7\",\"type\":\"Title\"},\"tool_events\":{\"id\":\"59e232cc-62ec-4a90-9c18-cfec3133f7d8\",\"type\":\"ToolEvents\"},\"toolbar\":{\"id\":\"52962e7b-2547-4fce-bbb8-0e210b56da4c\",\"type\":\"Toolbar\"},\"toolbar_location\":\"above\",\"x_range\":{\"id\":\"1cf92de0-6b8c-47c9-b501-fd311432a8ff\",\"type\":\"DataRange1d\"},\"y_range\":{\"id\":\"a42ec4bf-459e-41cc-b4e3-fa8c4e838474\",\"type\":\"DataRange1d\"}},\"id\":\"c99b1dc0-e042-4fb2-9740-0b6282cc8874\",\"subtype\":\"Figure\",\"type\":\"Plot\"},{\"attributes\":{\"fill_color\":{\"value\":\"#1f77b4\"},\"line_color\":{\"value\":\"#1f77b4\"},\"size\":{\"units\":\"screen\",\"value\":8},\"x\":{\"field\":\"x1\"},\"y\":{\"field\":\"x2\"}},\"id\":\"3858fa84-24e5-45eb-97b0-8fa3d520019d\",\"type\":\"Circle\"},{\"attributes\":{},\"id\":\"59e232cc-62ec-4a90-9c18-cfec3133f7d8\",\"type\":\"ToolEvents\"},{\"attributes\":{\"active_drag\":\"auto\",\"active_scroll\":\"auto\",\"active_tap\":\"auto\",\"tools\":[{\"id\":\"4b7b7ab5-8234-4626-b4b3-07229c22a839\",\"type\":\"PanTool\"},{\"id\":\"7d9c82c0-6696-4081-be1c-1fb3170f3071\",\"type\":\"WheelZoomTool\"},{\"id\":\"9061166f-57c7-4ae8-ad84-8610d797174a\",\"type\":\"ResetTool\"},{\"id\":\"bf871e6c-581e-4727-9ea6-609d898c766c\",\"type\":\"SaveTool\"}]},\"id\":\"52962e7b-2547-4fce-bbb8-0e210b56da4c\",\"type\":\"Toolbar\"},{\"attributes\":{\"formatter\":{\"id\":\"19bb4eca-e24b-40f2-bdb5-05ea38232e7e\",\"type\":\"BasicTickFormatter\"},\"plot\":{\"id\":\"c99b1dc0-e042-4fb2-9740-0b6282cc8874\",\"subtype\":\"Figure\",\"type\":\"Plot\"},\"ticker\":{\"id\":\"4039994e-aba2-4fcd-9444-c7973aa5cab6\",\"type\":\"BasicTicker\"}},\"id\":\"0deb2ed1-8f0e-42bf-a4a6-210abb657486\",\"type\":\"LinearAxis\"},{\"attributes\":{\"callback\":null},\"id\":\"a42ec4bf-459e-41cc-b4e3-fa8c4e838474\",\"type\":\"DataRange1d\"},{\"attributes\":{},\"id\":\"4039994e-aba2-4fcd-9444-c7973aa5cab6\",\"type\":\"BasicTicker\"},{\"attributes\":{\"plot\":{\"id\":\"c99b1dc0-e042-4fb2-9740-0b6282cc8874\",\"subtype\":\"Figure\",\"type\":\"Plot\"},\"ticker\":{\"id\":\"4039994e-aba2-4fcd-9444-c7973aa5cab6\",\"type\":\"BasicTicker\"}},\"id\":\"03aa8128-0729-41fd-9fda-00c11f3b7759\",\"type\":\"Grid\"},{\"attributes\":{\"formatter\":{\"id\":\"33720426-1dd1-4b2a-a2d4-eb338be589c3\",\"type\":\"BasicTickFormatter\"},\"plot\":{\"id\":\"c99b1dc0-e042-4fb2-9740-0b6282cc8874\",\"subtype\":\"Figure\",\"type\":\"Plot\"},\"ticker\":{\"id\":\"158606f3-6cd1-4c17-b24f-37a663a6c336\",\"type\":\"BasicTicker\"}},\"id\":\"ec1a41e7-58fb-4a3c-96dd-c26d21249c7f\",\"type\":\"LinearAxis\"},{\"attributes\":{},\"id\":\"158606f3-6cd1-4c17-b24f-37a663a6c336\",\"type\":\"BasicTicker\"},{\"attributes\":{\"dimension\":1,\"plot\":{\"id\":\"c99b1dc0-e042-4fb2-9740-0b6282cc8874\",\"subtype\":\"Figure\",\"type\":\"Plot\"},\"ticker\":{\"id\":\"158606f3-6cd1-4c17-b24f-37a663a6c336\",\"type\":\"BasicTicker\"}},\"id\":\"44088ea0-90ec-4ce7-af4c-2b3a53f1af9e\",\"type\":\"Grid\"},{\"attributes\":{},\"id\":\"33720426-1dd1-4b2a-a2d4-eb338be589c3\",\"type\":\"BasicTickFormatter\"},{\"attributes\":{},\"id\":\"19bb4eca-e24b-40f2-bdb5-05ea38232e7e\",\"type\":\"BasicTickFormatter\"},{\"attributes\":{\"plot\":{\"id\":\"c99b1dc0-e042-4fb2-9740-0b6282cc8874\",\"subtype\":\"Figure\",\"type\":\"Plot\"}},\"id\":\"4b7b7ab5-8234-4626-b4b3-07229c22a839\",\"type\":\"PanTool\"},{\"attributes\":{\"plot\":{\"id\":\"c99b1dc0-e042-4fb2-9740-0b6282cc8874\",\"subtype\":\"Figure\",\"type\":\"Plot\"}},\"id\":\"7d9c82c0-6696-4081-be1c-1fb3170f3071\",\"type\":\"WheelZoomTool\"},{\"attributes\":{\"plot\":{\"id\":\"c99b1dc0-e042-4fb2-9740-0b6282cc8874\",\"subtype\":\"Figure\",\"type\":\"Plot\"}},\"id\":\"9061166f-57c7-4ae8-ad84-8610d797174a\",\"type\":\"ResetTool\"},{\"attributes\":{\"plot\":{\"id\":\"c99b1dc0-e042-4fb2-9740-0b6282cc8874\",\"subtype\":\"Figure\",\"type\":\"Plot\"}},\"id\":\"bf871e6c-581e-4727-9ea6-609d898c766c\",\"type\":\"SaveTool\"},{\"attributes\":{\"data_source\":{\"id\":\"24b99e03-9e2c-421a-bec2-b5708d7321bf\",\"type\":\"ColumnDataSource\"},\"glyph\":{\"id\":\"3858fa84-24e5-45eb-97b0-8fa3d520019d\",\"type\":\"Circle\"},\"hover_glyph\":null,\"muted_glyph\":null,\"nonselection_glyph\":{\"id\":\"0ce075d7-a6c9-48e3-aa80-63e8c0c1be5b\",\"type\":\"Circle\"},\"selection_glyph\":null},\"id\":\"67a429c3-8903-4a6b-8a17-416ccf9b212b\",\"type\":\"GlyphRenderer\"},{\"attributes\":{\"fill_alpha\":{\"value\":0.1},\"fill_color\":{\"value\":\"#1f77b4\"},\"line_alpha\":{\"value\":0.1},\"line_color\":{\"value\":\"#1f77b4\"},\"size\":{\"units\":\"screen\",\"value\":8},\"x\":{\"field\":\"x1\"},\"y\":{\"field\":\"x2\"}},\"id\":\"0ce075d7-a6c9-48e3-aa80-63e8c0c1be5b\",\"type\":\"Circle\"}],\"root_ids\":[\"c99b1dc0-e042-4fb2-9740-0b6282cc8874\"]},\"title\":\"Bokeh Application\",\"version\":\"0.12.5\"}};\n",
       "            var render_items = [{\"docid\":\"f1d76b93-8551-4ae2-be68-e28d7dc62d54\",\"elementid\":\"f03c31d6-68c0-4093-94f8-9da1877eee34\",\"modelid\":\"c99b1dc0-e042-4fb2-9740-0b6282cc8874\"}];\n",
       "            \n",
       "            Bokeh.embed.embed_items(docs_json, render_items);\n",
       "          };\n",
       "          if (document.readyState != \"loading\") fn();\n",
       "          else document.addEventListener(\"DOMContentLoaded\", fn);\n",
       "        })();\n",
       "      },\n",
       "      function(Bokeh) {\n",
       "      }\n",
       "    ];\n",
       "  \n",
       "    function run_inline_js() {\n",
       "      \n",
       "      if ((window.Bokeh !== undefined) || (force === true)) {\n",
       "        for (var i = 0; i < inline_js.length; i++) {\n",
       "          inline_js[i](window.Bokeh);\n",
       "        }if (force === true) {\n",
       "          display_loaded();\n",
       "        }} else if (Date.now() < window._bokeh_timeout) {\n",
       "        setTimeout(run_inline_js, 100);\n",
       "      } else if (!window._bokeh_failed_load) {\n",
       "        console.log(\"Bokeh: BokehJS failed to load within specified timeout.\");\n",
       "        window._bokeh_failed_load = true;\n",
       "      } else if (force !== true) {\n",
       "        var cell = $(document.getElementById(\"f03c31d6-68c0-4093-94f8-9da1877eee34\")).parents('.cell').data().cell;\n",
       "        cell.output_area.append_execute_result(NB_LOAD_WARNING)\n",
       "      }\n",
       "  \n",
       "    }\n",
       "  \n",
       "    if (window._bokeh_is_loading === 0) {\n",
       "      console.log(\"Bokeh: BokehJS loaded, going straight to plotting\");\n",
       "      run_inline_js();\n",
       "    } else {\n",
       "      load_libs(js_urls, function() {\n",
       "        console.log(\"Bokeh: BokehJS plotting callback run at\", now());\n",
       "        run_inline_js();\n",
       "      });\n",
       "    }\n",
       "  }(this));\n",
       "</script>"
      ]
     },
     "metadata": {},
     "output_type": "display_data"
    }
   ],
   "source": [
    "p = figure(tools=\"pan,wheel_zoom,reset,save\",\n",
    "           toolbar_location=\"above\",\n",
    "           title=\"word2vec T-SNE for most common words\")\n",
    "\n",
    "source = ColumnDataSource(data=dict(x1=words_top_wiki_tsne[:,0],\n",
    "                                    x2=words_top_wiki_tsne[:,1],\n",
    "                                    names=words_top_wiki))\n",
    "\n",
    "p.scatter(x=\"x1\", y=\"x2\", size=8, source=source)\n",
    "\n",
    "labels = LabelSet(x=\"x1\", y=\"x2\", text=\"names\", y_offset=6,\n",
    "                  text_font_size=\"8pt\", text_color=\"#555555\",\n",
    "                  source=source, text_align='center')\n",
    "p.add_layout(labels)\n",
    "\n",
    "show(p)"
   ]
  },
  {
   "cell_type": "code",
   "execution_count": null,
   "metadata": {
    "collapsed": true
   },
   "outputs": [],
   "source": []
  }
 ],
 "metadata": {
  "anaconda-cloud": {},
  "kernelspec": {
   "display_name": "Python 3",
   "language": "python",
   "name": "python3"
  },
  "language_info": {
   "codemirror_mode": {
    "name": "ipython",
    "version": 3
   },
   "file_extension": ".py",
   "mimetype": "text/x-python",
   "name": "python",
   "nbconvert_exporter": "python",
   "pygments_lexer": "ipython3",
   "version": "3.6.1"
  }
 },
 "nbformat": 4,
 "nbformat_minor": 1
}
