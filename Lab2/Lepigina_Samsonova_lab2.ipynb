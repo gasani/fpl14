{
 "cells": [
  {
   "cell_type": "markdown",
   "metadata": {},
   "source": [
    "## Practical 1: word2vec\n",
    "<p>Oxford CS - Deep NLP 2017<br>\n",
    "https://www.cs.ox.ac.uk/teaching/courses/2016-2017/dl/</p>\n",
    "<p>[Yannis Assael, Brendan Shillingford, Chris Dyer]</p>"
   ]
  },
  {
   "cell_type": "markdown",
   "metadata": {},
   "source": [
    "This practical is presented as an IPython Notebook, with the code written for recent versions of **Python 3**. The code in this practical will not work with Python 2 unless you modify it. If you are using your own Python installation, ensure you have a setup identical to that described in the installation shell script (which is intended for use with the department lab machines). We will be unable to support installation on personal machines due to time constraints, so please use the lab machines and the setup script if you are unfamiliar with how to install Anaconda.\n",
    "\n",
    "To execute a notebook cell, press `shift-enter`. The return value of the last command will be displayed, if it is not `None`.\n",
    "\n",
    "Potentially useful library documentation, references, and resources:\n",
    "\n",
    "* IPython notebooks: <https://ipython.org/ipython-doc/3/notebook/notebook.html#introduction>\n",
    "* Numpy numerical array library: <https://docs.scipy.org/doc/>\n",
    "* Gensim's word2vec: <https://radimrehurek.com/gensim/models/word2vec.html>\n",
    "* Bokeh interactive plots: <http://bokeh.pydata.org/en/latest/> (we provide plotting code here, but click the thumbnails for more examples to copy-paste)\n",
    "* scikit-learn ML library (aka `sklearn`): <http://scikit-learn.org/stable/documentation.html>\n",
    "* nltk NLP toolkit: <http://www.nltk.org/>\n",
    "* tutorial for processing xml in python using `lxml`: <http://lxml.de/tutorial.html> (we did this for you below, but in case you need it in the future)"
   ]
  },
  {
   "cell_type": "code",
   "execution_count": 1,
   "metadata": {
    "collapsed": true
   },
   "outputs": [],
   "source": [
    "import numpy as np\n",
    "import os\n",
    "from random import shuffle\n",
    "import re\n",
    "from sklearn.feature_extraction.text import CountVectorizer"
   ]
  },
  {
   "cell_type": "code",
   "execution_count": 2,
   "metadata": {},
   "outputs": [
    {
     "data": {
      "text/html": [
       "\n",
       "    <div class=\"bk-root\">\n",
       "        <a href=\"http://bokeh.pydata.org\" target=\"_blank\" class=\"bk-logo bk-logo-small bk-logo-notebook\"></a>\n",
       "        <span id=\"c0f18afc-3eb3-4e9a-940c-a4e11d9d0a8e\">Loading BokehJS ...</span>\n",
       "    </div>"
      ]
     },
     "metadata": {},
     "output_type": "display_data"
    },
    {
     "data": {
      "application/javascript": [
       "\n",
       "(function(global) {\n",
       "  function now() {\n",
       "    return new Date();\n",
       "  }\n",
       "\n",
       "  var force = true;\n",
       "\n",
       "  if (typeof (window._bokeh_onload_callbacks) === \"undefined\" || force === true) {\n",
       "    window._bokeh_onload_callbacks = [];\n",
       "    window._bokeh_is_loading = undefined;\n",
       "  }\n",
       "\n",
       "\n",
       "  \n",
       "  if (typeof (window._bokeh_timeout) === \"undefined\" || force === true) {\n",
       "    window._bokeh_timeout = Date.now() + 5000;\n",
       "    window._bokeh_failed_load = false;\n",
       "  }\n",
       "\n",
       "  var NB_LOAD_WARNING = {'data': {'text/html':\n",
       "     \"<div style='background-color: #fdd'>\\n\"+\n",
       "     \"<p>\\n\"+\n",
       "     \"BokehJS does not appear to have successfully loaded. If loading BokehJS from CDN, this \\n\"+\n",
       "     \"may be due to a slow or bad network connection. Possible fixes:\\n\"+\n",
       "     \"</p>\\n\"+\n",
       "     \"<ul>\\n\"+\n",
       "     \"<li>re-rerun `output_notebook()` to attempt to load from CDN again, or</li>\\n\"+\n",
       "     \"<li>use INLINE resources instead, as so:</li>\\n\"+\n",
       "     \"</ul>\\n\"+\n",
       "     \"<code>\\n\"+\n",
       "     \"from bokeh.resources import INLINE\\n\"+\n",
       "     \"output_notebook(resources=INLINE)\\n\"+\n",
       "     \"</code>\\n\"+\n",
       "     \"</div>\"}};\n",
       "\n",
       "  function display_loaded() {\n",
       "    if (window.Bokeh !== undefined) {\n",
       "      document.getElementById(\"c0f18afc-3eb3-4e9a-940c-a4e11d9d0a8e\").textContent = \"BokehJS successfully loaded.\";\n",
       "    } else if (Date.now() < window._bokeh_timeout) {\n",
       "      setTimeout(display_loaded, 100)\n",
       "    }\n",
       "  }\n",
       "\n",
       "  function run_callbacks() {\n",
       "    window._bokeh_onload_callbacks.forEach(function(callback) { callback() });\n",
       "    delete window._bokeh_onload_callbacks\n",
       "    console.info(\"Bokeh: all callbacks have finished\");\n",
       "  }\n",
       "\n",
       "  function load_libs(js_urls, callback) {\n",
       "    window._bokeh_onload_callbacks.push(callback);\n",
       "    if (window._bokeh_is_loading > 0) {\n",
       "      console.log(\"Bokeh: BokehJS is being loaded, scheduling callback at\", now());\n",
       "      return null;\n",
       "    }\n",
       "    if (js_urls == null || js_urls.length === 0) {\n",
       "      run_callbacks();\n",
       "      return null;\n",
       "    }\n",
       "    console.log(\"Bokeh: BokehJS not loaded, scheduling load and callback at\", now());\n",
       "    window._bokeh_is_loading = js_urls.length;\n",
       "    for (var i = 0; i < js_urls.length; i++) {\n",
       "      var url = js_urls[i];\n",
       "      var s = document.createElement('script');\n",
       "      s.src = url;\n",
       "      s.async = false;\n",
       "      s.onreadystatechange = s.onload = function() {\n",
       "        window._bokeh_is_loading--;\n",
       "        if (window._bokeh_is_loading === 0) {\n",
       "          console.log(\"Bokeh: all BokehJS libraries loaded\");\n",
       "          run_callbacks()\n",
       "        }\n",
       "      };\n",
       "      s.onerror = function() {\n",
       "        console.warn(\"failed to load library \" + url);\n",
       "      };\n",
       "      console.log(\"Bokeh: injecting script tag for BokehJS library: \", url);\n",
       "      document.getElementsByTagName(\"head\")[0].appendChild(s);\n",
       "    }\n",
       "  };var element = document.getElementById(\"c0f18afc-3eb3-4e9a-940c-a4e11d9d0a8e\");\n",
       "  if (element == null) {\n",
       "    console.log(\"Bokeh: ERROR: autoload.js configured with elementid 'c0f18afc-3eb3-4e9a-940c-a4e11d9d0a8e' but no matching script tag was found. \")\n",
       "    return false;\n",
       "  }\n",
       "\n",
       "  var js_urls = [\"https://cdn.pydata.org/bokeh/release/bokeh-0.12.4.min.js\", \"https://cdn.pydata.org/bokeh/release/bokeh-widgets-0.12.4.min.js\"];\n",
       "\n",
       "  var inline_js = [\n",
       "    function(Bokeh) {\n",
       "      Bokeh.set_log_level(\"info\");\n",
       "    },\n",
       "    \n",
       "    function(Bokeh) {\n",
       "      \n",
       "      document.getElementById(\"c0f18afc-3eb3-4e9a-940c-a4e11d9d0a8e\").textContent = \"BokehJS is loading...\";\n",
       "    },\n",
       "    function(Bokeh) {\n",
       "      console.log(\"Bokeh: injecting CSS: https://cdn.pydata.org/bokeh/release/bokeh-0.12.4.min.css\");\n",
       "      Bokeh.embed.inject_css(\"https://cdn.pydata.org/bokeh/release/bokeh-0.12.4.min.css\");\n",
       "      console.log(\"Bokeh: injecting CSS: https://cdn.pydata.org/bokeh/release/bokeh-widgets-0.12.4.min.css\");\n",
       "      Bokeh.embed.inject_css(\"https://cdn.pydata.org/bokeh/release/bokeh-widgets-0.12.4.min.css\");\n",
       "    }\n",
       "  ];\n",
       "\n",
       "  function run_inline_js() {\n",
       "    \n",
       "    if ((window.Bokeh !== undefined) || (force === true)) {\n",
       "      for (var i = 0; i < inline_js.length; i++) {\n",
       "        inline_js[i](window.Bokeh);\n",
       "      }if (force === true) {\n",
       "        display_loaded();\n",
       "      }} else if (Date.now() < window._bokeh_timeout) {\n",
       "      setTimeout(run_inline_js, 100);\n",
       "    } else if (!window._bokeh_failed_load) {\n",
       "      console.log(\"Bokeh: BokehJS failed to load within specified timeout.\");\n",
       "      window._bokeh_failed_load = true;\n",
       "    } else if (force !== true) {\n",
       "      var cell = $(document.getElementById(\"c0f18afc-3eb3-4e9a-940c-a4e11d9d0a8e\")).parents('.cell').data().cell;\n",
       "      cell.output_area.append_execute_result(NB_LOAD_WARNING)\n",
       "    }\n",
       "\n",
       "  }\n",
       "\n",
       "  if (window._bokeh_is_loading === 0) {\n",
       "    console.log(\"Bokeh: BokehJS loaded, going straight to plotting\");\n",
       "    run_inline_js();\n",
       "  } else {\n",
       "    load_libs(js_urls, function() {\n",
       "      console.log(\"Bokeh: BokehJS plotting callback run at\", now());\n",
       "      run_inline_js();\n",
       "    });\n",
       "  }\n",
       "}(this));"
      ]
     },
     "metadata": {},
     "output_type": "display_data"
    }
   ],
   "source": [
    "from bokeh.models import ColumnDataSource, LabelSet\n",
    "from bokeh.plotting import figure, show, output_file\n",
    "from bokeh.io import output_notebook\n",
    "output_notebook()"
   ]
  },
  {
   "cell_type": "markdown",
   "metadata": {},
   "source": [
    "### Part 0: Download the TED dataset"
   ]
  },
  {
   "cell_type": "code",
   "execution_count": 3,
   "metadata": {
    "collapsed": true
   },
   "outputs": [],
   "source": [
    "import urllib.request\n",
    "import zipfile\n",
    "import lxml.etree"
   ]
  },
  {
   "cell_type": "code",
   "execution_count": 4,
   "metadata": {
    "collapsed": true
   },
   "outputs": [],
   "source": [
    "# Download the dataset if it's not already there: this may take a minute as it is 75MB\n",
    "if not os.path.isfile('ted_en-20160408.zip'):\n",
    "    urllib.request.urlretrieve(\"https://wit3.fbk.eu/get.php?path=XML_releases/xml/ted_en-20160408.zip&filename=ted_en-20160408.zip\", filename=\"ted_en-20160408.zip\")"
   ]
  },
  {
   "cell_type": "code",
   "execution_count": 5,
   "metadata": {
    "collapsed": true
   },
   "outputs": [],
   "source": [
    "# For now, we're only interested in the subtitle text, so let's extract that from the XML:\n",
    "with zipfile.ZipFile('ted_en-20160408.zip', 'r') as z:\n",
    "    doc = lxml.etree.parse(z.open('ted_en-20160408.xml', 'r'))\n",
    "input_text = '\\n'.join(doc.xpath('//content/text()'))\n",
    "del doc"
   ]
  },
  {
   "cell_type": "markdown",
   "metadata": {},
   "source": [
    "### Part 1: Preprocessing\n",
    "\n",
    "In this part, we attempt to clean up the raw subtitles a bit, so that we get only sentences. The following substring shows examples of what we're trying to get rid of. Since it's hard to define precisely what we want to get rid of, we'll just use some simple heuristics."
   ]
  },
  {
   "cell_type": "code",
   "execution_count": 6,
   "metadata": {
    "scrolled": false
   },
   "outputs": [
    {
     "data": {
      "text/plain": [
       "' baby does.\\n(Video) Hyowon Gweon: See this? (Ball squeaks) Did you see that? (Ball squeaks) Cool. See this one? (Ball squeaks) Wow.\\nLaura Schulz: Told you. (Laughs)\\n(Vide'"
      ]
     },
     "execution_count": 6,
     "metadata": {},
     "output_type": "execute_result"
    }
   ],
   "source": [
    "i = input_text.find(\"Hyowon Gweon: See this?\")\n",
    "input_text[i-20:i+150]"
   ]
  },
  {
   "cell_type": "markdown",
   "metadata": {},
   "source": [
    "Let's start by removing all parenthesized strings using a regex:"
   ]
  },
  {
   "cell_type": "code",
   "execution_count": 7,
   "metadata": {
    "collapsed": true
   },
   "outputs": [],
   "source": [
    "input_text_noparens = re.sub(r'\\([^)]*\\)', '', input_text)"
   ]
  },
  {
   "cell_type": "markdown",
   "metadata": {},
   "source": [
    "We can verify the same location in the text is now clean as follows. We won't worry about the irregular spaces since we'll later split the text into sentences and tokenize it anyway."
   ]
  },
  {
   "cell_type": "code",
   "execution_count": 8,
   "metadata": {},
   "outputs": [
    {
     "data": {
      "text/plain": [
       "\"hat the baby does.\\n Hyowon Gweon: See this?  Did you see that?  Cool. See this one?  Wow.\\nLaura Schulz: Told you. \\n HG: See this one?  Hey Clara, this one's for you. You \""
      ]
     },
     "execution_count": 8,
     "metadata": {},
     "output_type": "execute_result"
    }
   ],
   "source": [
    "i = input_text_noparens.find(\"Hyowon Gweon: See this?\")\n",
    "input_text_noparens[i-20:i+150]"
   ]
  },
  {
   "cell_type": "markdown",
   "metadata": {},
   "source": [
    "Now, let's attempt to remove speakers' names that occur at the beginning of a line, by deleting pieces of the form \"`<up to 20 characters>:`\", as shown in this example. Of course, this is an imperfect heuristic. "
   ]
  },
  {
   "cell_type": "code",
   "execution_count": 9,
   "metadata": {},
   "outputs": [
    {
     "data": {
      "text/plain": [
       "[\"Here are two reasons companies fail: they only do more of the same, or they only do what's new\",\n",
       " 'To me the real, real solution to quality growth is figuring out the balance between two activities: exploration and exploitation',\n",
       " ' Both are necessary, but it can be too much of a good thing',\n",
       " 'Consider Facit',\n",
       " \" I'm actually old enough to remember them\"]"
      ]
     },
     "execution_count": 9,
     "metadata": {},
     "output_type": "execute_result"
    }
   ],
   "source": [
    "sentences_strings_ted = []\n",
    "for line in input_text_noparens.split('\\n'):\n",
    "    m = re.match(r'^(?:(?P<precolon>[^:]{,20}):)?(?P<postcolon>.*)$', line)\n",
    "    sentences_strings_ted.extend(sent for sent in m.groupdict()['postcolon'].split('.') if sent)\n",
    "\n",
    "# Uncomment if you need to save some RAM: these strings are about 50MB.\n",
    "# del input_text, input_text_noparens\n",
    "\n",
    "# Let's view the first few:\n",
    "sentences_strings_ted[:5]"
   ]
  },
  {
   "cell_type": "markdown",
   "metadata": {},
   "source": [
    "Now that we have sentences, we're ready to tokenize each of them into words. This tokenization is imperfect, of course. For instance, how many tokens is \"can't\", and where/how do we split it? We'll take the simplest naive approach of splitting on spaces. Before splitting, we remove non-alphanumeric characters, such as punctuation. You may want to consider the following question: why do we replace these characters with spaces rather than deleting them? Think of a case where this yields a different answer."
   ]
  },
  {
   "cell_type": "code",
   "execution_count": 10,
   "metadata": {},
   "outputs": [
    {
     "name": "stdout",
     "output_type": "stream",
     "text": [
      "[['here', 'are', 'two', 'reasons', 'companies', 'fail', 'they', 'only', 'do', 'more', 'of', 'the', 'same', 'or', 'they', 'only', 'do', 'what', 's', 'new'], ['to', 'me', 'the', 'real', 'real', 'solution', 'to', 'quality', 'growth', 'is', 'figuring', 'out', 'the', 'balance', 'between', 'two', 'activities', 'exploration', 'and', 'exploitation']]\n"
     ]
    }
   ],
   "source": [
    "sentences_ted = []\n",
    "for sent_str in sentences_strings_ted:\n",
    "    tokens = re.sub(r\"[^a-z0-9]+\", \" \", sent_str.lower()).split()\n",
    "    sentences_ted.append(tokens)\n",
    "print(sentences_ted[:2])"
   ]
  },
  {
   "cell_type": "markdown",
   "metadata": {},
   "source": [
    "Two sample processed sentences:"
   ]
  },
  {
   "cell_type": "code",
   "execution_count": 11,
   "metadata": {},
   "outputs": [
    {
     "data": {
      "text/plain": [
       "266694"
      ]
     },
     "execution_count": 11,
     "metadata": {},
     "output_type": "execute_result"
    }
   ],
   "source": [
    "len(sentences_ted)"
   ]
  },
  {
   "cell_type": "code",
   "execution_count": 12,
   "metadata": {},
   "outputs": [
    {
     "name": "stdout",
     "output_type": "stream",
     "text": [
      "['here', 'are', 'two', 'reasons', 'companies', 'fail', 'they', 'only', 'do', 'more', 'of', 'the', 'same', 'or', 'they', 'only', 'do', 'what', 's', 'new']\n",
      "['to', 'me', 'the', 'real', 'real', 'solution', 'to', 'quality', 'growth', 'is', 'figuring', 'out', 'the', 'balance', 'between', 'two', 'activities', 'exploration', 'and', 'exploitation']\n"
     ]
    }
   ],
   "source": [
    "print(sentences_ted[0])\n",
    "print(sentences_ted[1])"
   ]
  },
  {
   "cell_type": "markdown",
   "metadata": {},
   "source": [
    "### Part 2: Word Frequencies"
   ]
  },
  {
   "cell_type": "markdown",
   "metadata": {},
   "source": [
    "If you store the counts of the top 1000 words in a list called `counts_ted_top1000`, the code below will plot the histogram requested in the writeup."
   ]
  },
  {
   "cell_type": "code",
   "execution_count": 13,
   "metadata": {},
   "outputs": [
    {
     "name": "stdout",
     "output_type": "stream",
     "text": [
      "(266694, 28372)\n",
      "28372\n"
     ]
    },
    {
     "data": {
      "text/plain": [
       "'for i in np.argsort(count_words)[:50]:\\n    counts_ted_top1000.append(i)\\nprint(counts_ted_top1000)'"
      ]
     },
     "execution_count": 13,
     "metadata": {},
     "output_type": "execute_result"
    }
   ],
   "source": [
    "vectorizer = CountVectorizer(min_df=3)\n",
    "a = vectorizer.fit_transform([' '.join(sent) for sent in sentences_ted]).toarray()\n",
    "print(a.shape)\n",
    "#print(a)\n",
    "#print(vectorizer.vocabulary_)\n",
    "names = vectorizer.get_feature_names()\n",
    "#print(names)\n",
    "count_words = np.sum(a, axis=0)\n",
    "print(len(count_words))"
   ]
  },
  {
   "cell_type": "code",
   "execution_count": 36,
   "metadata": {},
   "outputs": [
    {
     "name": "stdout",
     "output_type": "stream",
     "text": [
      "['wife', 'village', 'mine', 'fire', 'decision', 'expect', 'taught', '80', 'teachers', 'meaning', 'older', 'finding', 'shown', 'buildings', 'somewhere', 'goal', 'cases', 'screen', 'connected', 'tree', 'fight', 'police', 'families', 'interest', 'faster', 'supposed', 'allowed', 'models', 'projects', 'leaders', 'skin', 'usually', 'african', 'conversation', 'standing', 'extraordinary', 'role', 'including', 'objects', 'named', 'student', 'doctor', 'vision', 'continue', 'further', 'son', 'happiness', 'object', 'door', 'essentially', 'strong', 'fall', 'safe', 'positive', 'poverty', 'east', 'plan', 'jobs', 'grew', 'materials', 'exciting', 'results', 'lead', '500', 'choose', 'worse', 'creative', 'road', 'organization', 'watching', 'biggest', 'plant', 'follow', 'trust', 'anyway', 'medicine', 'individuals', 'extremely', 'wait', 'table', 'movie', 'wants', 'speed', 'schools', 'moved', 'response', '11', 'zero', 'favorite', 'everywhere', 'plants', 'memory', 'add', 'break', 'onto', 'dream', 'mass', 'develop', 'notice', 'period', 'showing', 'hospital', 'largest', 'among', 'minute', 'sit', 'democracy', 'eventually', 'code', 'college', 'higher', 'action', 'suddenly', 'totally', 'measure', 'particularly', 'software', 'success', 'examples', 'west', 'starts', 'reach', 'boy', 'sounds', 'rules', 'carbon', 'sex', 'source', 'camera', 'device', 'crazy', 'chinese', 'potential', 'communities', '60', 'games', 'scientific', '200', 'international', 'approach', 'led', 'hit', 'walking', '25', 'journey', 'teach', 'ready', 'certainly', 'died', 'explain', 'hundred', 'revolution', 'worth', 'listen', 'send', 'present', 'drive', 'towards', 'basic', 'indeed', 'general', 'solar', 'security', 'office', 'evolution', 'violence', 'web', 'quality', 'message', 'pick', 'eye', 'effect', 'similar', 'putting', 'perfect', 'month', 'google', 'involved', 'lived', 'nine', 'drugs', 'product', 'guess', 'bigger', 'aren', 'incredibly', 'becomes', 'modern', 'drug', 'cause', 'writing', 'obviously', 'evidence', 'experiment', 'rights', 'truth', 'available', 'major', 'groups', 'likely', 'stay', 'robot', 'resources', 'cool', 'non', 'shape', 'ice', 'produce', 'please', 'beyond', 'pictures', 'term', 'anybody', 'impact', 'begin', 'haven', 'meet', 'stand', 'dead', 'knows', 'reasons', 'box', 'solution', 'situation', 'baby', 'wall', 'special', 'network', 'film', 'solve', 'developing', 'digital', 'allow', 'save', 'focus', 'tiny', 'english', 'computers', 'several', 'university', 'class', 'innovation', 'hour', 'issues', 'designed', 'fun', 'color', 'rate', 'industry', 'seem', 'chance', 'asking', 'type', 'showed', 'dark', 'generation', 'gives', 'discovered', 'relationship', 'normal', 'europe', 'talked', 'creating', 'fly', 'choice', 'patient', 'soon', 'girls', 'especially', 'playing', 'clear', 'changing', 'sun', 'fast', 'cars', 'cut', 'theory', '12', 'recently', 'key', 'material', 'issue', 'voice', 'personal', 'nobody', 'map', 'fear', 'blood', 'lab', 'development', 'north', 'act', 'technologies', 'medical', 'result', 'online', 'miles', 'running', 'tools', 'support', 'millions', 'kid', 'individual', 'developed', 'forward', 'sea', 'nice', 'hold', 'starting', 'telling', 'alone', 'seems', 'force', 'eat', 'giving', 'ground', 'movement', 'knowledge', 'books', 'literally', 'understanding', 'wrote', 'law', 'images', 'realize', 'stage', 'numbers', 'audience', 'bottom', 'die', 'brought', 'speak', 'absolutely', 'short', 'watch', 'deep', 'anyone', 'areas', 'attention', 'feet', 'structure', 'animal', 'risk', 'access', 'complex', 'dna', 'economy', 'girl', 'met', 'behavior', 'feeling', 'hundreds', 'morning', 'program', 'scientists', 'value', 'pay', 'physical', 'average', 'incredible', 'surface', 'street', 'test', '40', 'climate', 'rest', 'born', 'shows', 'field', 'growing', 'friend', 'low', 'challenge', 'south', 'write', 'changes', 'ability', 'sitting', 'patients', 'either', 'wouldn', 'growth', 'buy', 'green', 'poor', 'step', 'blue', 'quickly', 'national', 'paper', 'lost', 'opportunity', 'spent', 'weeks', 'amount', 'gone', 'red', 'interested', 'political', 'deal', 'oil', 'land', 'fish', 'center', 'tried', 'common', 'grow', 'cannot', 'wonderful', 'phone', 'longer', 'spend', 'certain', 'humans', 'felt', 'size', 'week', 'known', 'powerful', 'eight', 'economic', 'ocean', 'parts', 'market', 'white', 'walk', 'view', 'death', 'parents', 'media', 'realized', 'local', 'father', 'beginning', 'needed', 'simply', 'image', 'terms', 'needs', 'began', 'whatever', 'hands', 'york', 'culture', 'population', 'moving', 'team', 'eyes', 'cost', 'turned', 'easy', 'seeing', 'reality', 'yourself', 'area', 'companies', 'takes', 'china', 'difficult', 'scale', 'full', 'behind', 'cities', 'close', '15', 'cell', 'leave', 'changed', 'given', 'seven', 'taken', 'natural', 'outside', 'difference', 'air', 'systems', 'during', 'machine', 'india', 'gave', 'won', 'entire', 'learning', 'news', 'happy', 'particular', 'guys', 'free', 'figure', 'lots', 'ted', 'per', 'least', 'based', 'century', 'thousands', 'game', 'early', 'sound', 'finally', 'others', 'along', 'third', 'past', 'perhaps', 'black', 'ones', 'minutes', 'worked', 'environment', 'american', 'animals', 'ok', 'universe', 'created', 'couldn', 'huge', 'house', 'front', 'disease', 'hours', 'name', 'students', 'rather', 'kinds', 'itself', 'must', 'themselves', 'art', 'hear', 'happening', 'ourselves', 'turns', 'company', 'god', 'mother', 'questions', 'gets', 'model', 'america', 'heart', 'level', 'share', 'large', 'stories', 'against', 'education', 'completely', 'society', 'species', 'exactly', 'became', 'works', 'taking', 'cancer', 'word', 'study', 'decided', 'night', 'run', 'language', 'learned', 'video', 'places', '50', 'everyone', 'stop', 'though', 'head', 'nature', 'piece', 'music', 'middle', 'internet', 'yeah', 'form', 'order', 'couple', 'knew', 'line', 'friends', 'beautiful', 'turn', 'woman', 'state', 'built', 'somebody', 'self', 'under', 'group', 'words', '30', 'research', 'isn', 'control', 'read', '100', 'wasn', 'face', 'until', 'heard', 'job', 'bring', 'age', 'cells', 'since', 'united', 'amazing', 'government', 'matter', 'looks', 'ideas', 'months', 'instead', 'guy', 'child', 'war', 'true', 'history', 'hope', 'sometimes', 'oh', 'answer', 'yes', 'keep', 'book', 'car', 'wrong', 'set', 'sure', 'public', 'everybody', 'top', 'global', 'planet', 'business', 'possible', 'often', 'billion', 'myself', 'looked', 'within', 'already', 'community', 'basically', 'saying', 'problems', 'whether', 'both', 'picture', 'single', 'remember', 'project', 'mind', 'far', 'six', 'someone', 'inside', 'process', 'learn', 'africa', 'open', 'computer', 'reason', 'states', 'move', 'goes', 'happens', 'bad', 'care', 'nothing', 'days', 'young', 'yet', 'almost', 'case', 'else', 'ways', 'health', 'simple', 'hand', 'room', 'says', 'seen', 'living', 'asked', 'makes', 'experience', 'later', 'men', 'having', 'build', 'once', 'okay', 'happen', 'while', 'saw', 'side', 'across', 'imagine', '20', 'earth', 'moment', 'dollars', 'stuff', 'family', 'coming', 'such', 'countries', 'lives', 'anything', 'play', 'hard', 'pretty', 'ask', 'half', 'interesting', 'told', 'body', 'food', 'science', 'building', 'am', 'talking', 'energy', 'light', 'less', 'probably', 'social', 'comes', 'happened', 'sense', 'without', 'city', 'quite', 'man', 'enough', 'future', 'getting', 'left', 'best', 'making', 'design', 'small', 'create', 'become', 'home', 'kids', 'number', 'space', 'high', 'times', 'power', 'took', 'means', 'money', 'information', 'using', 'second', 'thinking', 'country', 'five', 'everything', 'help', 'working', 'million', 'try', 'feel', 'believe', 'away', 'person', 'may', 'trying', 'always', 'children', 'whole', 'call', 'live', 'sort', 'understand', 'school', 'ever', 'wanted', 'real', 'four', 'point', 'done', '10', 'example', 'end', 'doesn', 'love', 'found', 'maybe', 'question', 'looking', 'water', 'data', 'mean', 'old', 'too', 'women', 'technology', 'place', 'used', 'between', 'bit', 'few', 'brain', 'came', 'story', 'ago', 'long', 'show', 'start', 'each', 'does', 'him', 'system', 'course', 'part', 'next', 'off', 'problem', 'still', 'able', 'together', 'again', '000', 'important', 'might', 'went', 'thought', 'give', 'better', 'should', 'never', 'its', 'before', 'own', 'last', 'big', 'idea', 'another', 'started', 'change', 'talk', 'fact', 'didn', 'find', 'human', 'great', 'tell', 'thank', 'after', 'made', 'percent', 'today', 'any', 'called', 'put', 'doing', 'use', 'three', 'year', 'day', 'come', 'being', 'same', 'through', 'her', 'let', 'll', 'down', 'different', 'every', 'around', 'good', 'why', 'kind', 'lot', 'did', 'need', 'take', 'many', 'work', 'only', 'life', 'his', 'even', 'say', 'most', 'over', 'back', 'got', 'little', 'thing', 'new', 'look', 'also', 'much', 'than', 'two', 'first', 'those', 'something', 'said', 'she', 'right', 'make', 'been', 'want', 'well', 'go', 'could', 'no', 'other', 'things', 'years', 'will', 'where', 'way', 'into', 'actually', 'don', 'has', 'some', 'time', 'us', 'world', 'then', 've', 'get', 'really', 'here', 'would', 'which', 'their', 'your', 'see', 'were', 'who', 'think', 'more', 'had', 'going', 'up', 'know', 'how', 'them', 'by', 'out', 'me', 'very', 'because', 'when', 'or', 'these', 'just', 'an', 'he', 'our', 'now', 'from', 'if', 'like', 'people', 're', 'one', 'my', 'do', 'not', 'all', 'at', 'as', 'be', 'there', 'about', 'can', 'with', 'on', 'what', 'but', 'have', 'are', 'for', 'was', 'they', 'so', 'this', 'is', 'we', 'you', 'it', 'in', 'that', 'of', 'to', 'and', 'the']\n"
     ]
    }
   ],
   "source": [
    "indexes_ted_top1000 = np.argsort(count_words)[-1000:]\n",
    "counts_ted_top1000 = np.sort(count_words)[-1000:]\n",
    "\n",
    "words_top_ted = []\n",
    "for i in indexes_ted_top1000:\n",
    "    words_top_ted.append(names[i])\n",
    "\n",
    "print(words_top_ted)"
   ]
  },
  {
   "cell_type": "markdown",
   "metadata": {},
   "source": [
    "Plot distribution of top-1000 words"
   ]
  },
  {
   "cell_type": "code",
   "execution_count": 56,
   "metadata": {},
   "outputs": [
    {
     "data": {
      "text/html": [
       "\n",
       "\n",
       "    <div class=\"bk-root\">\n",
       "        <div class=\"bk-plotdiv\" id=\"5865f414-859b-4b67-a35f-441939800eb5\"></div>\n",
       "    </div>\n",
       "<script type=\"text/javascript\">\n",
       "  \n",
       "  (function(global) {\n",
       "    function now() {\n",
       "      return new Date();\n",
       "    }\n",
       "  \n",
       "    var force = false;\n",
       "  \n",
       "    if (typeof (window._bokeh_onload_callbacks) === \"undefined\" || force === true) {\n",
       "      window._bokeh_onload_callbacks = [];\n",
       "      window._bokeh_is_loading = undefined;\n",
       "    }\n",
       "  \n",
       "  \n",
       "    \n",
       "    if (typeof (window._bokeh_timeout) === \"undefined\" || force === true) {\n",
       "      window._bokeh_timeout = Date.now() + 0;\n",
       "      window._bokeh_failed_load = false;\n",
       "    }\n",
       "  \n",
       "    var NB_LOAD_WARNING = {'data': {'text/html':\n",
       "       \"<div style='background-color: #fdd'>\\n\"+\n",
       "       \"<p>\\n\"+\n",
       "       \"BokehJS does not appear to have successfully loaded. If loading BokehJS from CDN, this \\n\"+\n",
       "       \"may be due to a slow or bad network connection. Possible fixes:\\n\"+\n",
       "       \"</p>\\n\"+\n",
       "       \"<ul>\\n\"+\n",
       "       \"<li>re-rerun `output_notebook()` to attempt to load from CDN again, or</li>\\n\"+\n",
       "       \"<li>use INLINE resources instead, as so:</li>\\n\"+\n",
       "       \"</ul>\\n\"+\n",
       "       \"<code>\\n\"+\n",
       "       \"from bokeh.resources import INLINE\\n\"+\n",
       "       \"output_notebook(resources=INLINE)\\n\"+\n",
       "       \"</code>\\n\"+\n",
       "       \"</div>\"}};\n",
       "  \n",
       "    function display_loaded() {\n",
       "      if (window.Bokeh !== undefined) {\n",
       "        document.getElementById(\"5865f414-859b-4b67-a35f-441939800eb5\").textContent = \"BokehJS successfully loaded.\";\n",
       "      } else if (Date.now() < window._bokeh_timeout) {\n",
       "        setTimeout(display_loaded, 100)\n",
       "      }\n",
       "    }\n",
       "  \n",
       "    function run_callbacks() {\n",
       "      window._bokeh_onload_callbacks.forEach(function(callback) { callback() });\n",
       "      delete window._bokeh_onload_callbacks\n",
       "      console.info(\"Bokeh: all callbacks have finished\");\n",
       "    }\n",
       "  \n",
       "    function load_libs(js_urls, callback) {\n",
       "      window._bokeh_onload_callbacks.push(callback);\n",
       "      if (window._bokeh_is_loading > 0) {\n",
       "        console.log(\"Bokeh: BokehJS is being loaded, scheduling callback at\", now());\n",
       "        return null;\n",
       "      }\n",
       "      if (js_urls == null || js_urls.length === 0) {\n",
       "        run_callbacks();\n",
       "        return null;\n",
       "      }\n",
       "      console.log(\"Bokeh: BokehJS not loaded, scheduling load and callback at\", now());\n",
       "      window._bokeh_is_loading = js_urls.length;\n",
       "      for (var i = 0; i < js_urls.length; i++) {\n",
       "        var url = js_urls[i];\n",
       "        var s = document.createElement('script');\n",
       "        s.src = url;\n",
       "        s.async = false;\n",
       "        s.onreadystatechange = s.onload = function() {\n",
       "          window._bokeh_is_loading--;\n",
       "          if (window._bokeh_is_loading === 0) {\n",
       "            console.log(\"Bokeh: all BokehJS libraries loaded\");\n",
       "            run_callbacks()\n",
       "          }\n",
       "        };\n",
       "        s.onerror = function() {\n",
       "          console.warn(\"failed to load library \" + url);\n",
       "        };\n",
       "        console.log(\"Bokeh: injecting script tag for BokehJS library: \", url);\n",
       "        document.getElementsByTagName(\"head\")[0].appendChild(s);\n",
       "      }\n",
       "    };var element = document.getElementById(\"5865f414-859b-4b67-a35f-441939800eb5\");\n",
       "    if (element == null) {\n",
       "      console.log(\"Bokeh: ERROR: autoload.js configured with elementid '5865f414-859b-4b67-a35f-441939800eb5' but no matching script tag was found. \")\n",
       "      return false;\n",
       "    }\n",
       "  \n",
       "    var js_urls = [];\n",
       "  \n",
       "    var inline_js = [\n",
       "      function(Bokeh) {\n",
       "        (function() {\n",
       "          var fn = function() {\n",
       "            var docs_json = {\"2510ccff-84a5-40df-84ca-52b322ce1da8\":{\"roots\":{\"references\":[{\"attributes\":{\"plot\":null,\"text\":\"Top-1000 words distribution\"},\"id\":\"5b205608-4596-4416-a640-771008a1de6a\",\"type\":\"Title\"},{\"attributes\":{\"dimension\":1,\"plot\":{\"id\":\"f8ea83eb-3e0d-4c50-8974-b401913cd137\",\"subtype\":\"Figure\",\"type\":\"Plot\"},\"ticker\":{\"id\":\"259d6986-a74d-427b-90da-bc3dc8ac1126\",\"type\":\"BasicTicker\"}},\"id\":\"e0df643d-e6bb-4e87-b952-a6e99a4a45dd\",\"type\":\"Grid\"},{\"attributes\":{\"callback\":null,\"column_names\":[\"left\",\"right\",\"top\"],\"data\":{\"left\":{\"__ndarray__\":\"AAAAAADweEAUrkfh+lCjQBSuR+H6wbFAHoXrUXjbuUAUrkfhevrAQJmZmZk5B8VAHoXrUfgTyUCjcD0KtyDNQBSuR+G6ltBA1qNwPRqd0kCZmZmZeaPUQFyPwvXYqdZAHoXrUTiw2EDgehSul7baQKNwPQr3vNxAZmZmZlbD3kAUrkfh2mTgQPUoXI8KaOFA1qNwPTpr4kC4HoXraW7jQJmZmZmZceRAehSuR8l05UBcj8L1+HfmQD0K16Moe+dAHoXrUVh+6ED/////h4HpQOB6FK63hOpAwvUoXOeH60CjcD0KF4vsQITrUbhGju1AZmZmZnaR7kBH4XoUppTvQBSuR+HqS/BAhetRuILN8ED1KFyPGk/xQGZmZmay0PFA1qNwPUpS8kBH4XoU4tPyQLgehet5VfNAKFyPwhHX80CZmZmZqVj0QArXo3BB2vRAehSuR9lb9UDrUbgecd31QFyPwvUIX/ZAzMzMzKDg9kA9CtejOGL3QK1H4XrQ4/dAHoXrUWhl+ECPwvUoAOf4QP////+XaPlAcD0K1y/q+UDgehSux2v6QFG4HoVf7fpAwvUoXPdu+0AyMzMzj/D7QKNwPQoncvxAFK5H4b7z/ECE61G4VnX9QPUoXI/u9v1AZmZmZoZ4/kDWo3A9Hvr+QEfhehS2e/9Atx6F6039/0AUrkfhcj8AQczMzMw+gABBhetRuArBAEE9Ctej1gEBQfUoXI+iQgFBrkfhem6DAUFmZmZmOsQBQR6F61EGBQJB1qNwPdJFAkGPwvUonoYCQUfhehRqxwJB/////zUIA0G4HoXrAUkDQXA9CtfNiQNBKFyPwpnKA0HhehSuZQsEQZmZmZkxTARBUbgehf2MBEEK16Nwyc0EQcL1KFyVDgVBehSuR2FPBUEzMzMzLZAFQetRuB750AVBo3A9CsURBkFcj8L1kFIGQRSuR+FckwZBzMzMzCjUBkGE61G49BQHQT0K16PAVQdB9Shcj4yWB0GtR+F6WNcHQWZmZmYkGAhBHoXrUfBYCEHWo3A9vJkIQY/C9SiI2ghBR+F6FFQbCUE=\",\"dtype\":\"float64\",\"shape\":[100]},\"right\":{\"__ndarray__\":\"FK5H4fpQo0AUrkfh+sGxQB6F61F427lAFK5H4Xr6wECZmZmZOQfFQB6F61H4E8lAo3A9CrcgzUAUrkfhupbQQNajcD0andJAmZmZmXmj1EBcj8L12KnWQB6F61E4sNhA4HoUrpe22kCjcD0K97zcQGZmZmZWw95AFK5H4dpk4ED1KFyPCmjhQNajcD06a+JAuB6F62lu40CZmZmZmXHkQHoUrkfJdOVAXI/C9fh35kA9CtejKHvnQB6F61FYfuhA/////4eB6UDgehSut4TqQML1KFznh+tAo3A9CheL7ECE61G4Ro7tQGZmZmZ2ke5AR+F6FKaU70AUrkfh6kvwQIXrUbiCzfBA9ShcjxpP8UBmZmZmstDxQNajcD1KUvJAR+F6FOLT8kC4HoXreVXzQChcj8IR1/NAmZmZmalY9EAK16NwQdr0QHoUrkfZW/VA61G4HnHd9UBcj8L1CF/2QMzMzMyg4PZAPQrXozhi90CtR+F60OP3QB6F61FoZfhAj8L1KADn+ED/////l2j5QHA9Ctcv6vlA4HoUrsdr+kBRuB6FX+36QML1KFz3bvtAMjMzM4/w+0CjcD0KJ3L8QBSuR+G+8/xAhOtRuFZ1/UD1KFyP7vb9QGZmZmaGeP5A1qNwPR76/kBH4XoUtnv/QLcehetN/f9AFK5H4XI/AEHMzMzMPoAAQYXrUbgKwQBBPQrXo9YBAUH1KFyPokIBQa5H4XpugwFBZmZmZjrEAUEehetRBgUCQdajcD3SRQJBj8L1KJ6GAkFH4XoUascCQf////81CANBuB6F6wFJA0FwPQrXzYkDQShcj8KZygNB4XoUrmULBEGZmZmZMUwEQVG4HoX9jARBCtejcMnNBEHC9ShclQ4FQXoUrkdhTwVBMzMzMy2QBUHrUbge+dAFQaNwPQrFEQZBXI/C9ZBSBkEUrkfhXJMGQczMzMwo1AZBhOtRuPQUB0E9CtejwFUHQfUoXI+MlgdBrUfheljXB0FmZmZmJBgIQR6F61HwWAhB1qNwPbyZCEGPwvUoiNoIQUfhehRUGwlBAAAAACBcCUE=\",\"dtype\":\"float64\",\"shape\":[100]},\"top\":{\"__ndarray__\":\"ZBqztziyOT+SMBnr7vAAP6NIXWW4VO0+DGJUw5U04j59rPUCvi7gPizNEURFQNY+DGJUw5U00j59rPUCvi7APsKCcAQdRsg+eaz1Ar4uwD55rPUCvi6gPoGs9QK+LrA+gaz1Ar4uwD55rPUCvi6gPnms9QK+LrA+gaz1Ar4uoD4AAAAAAAAAAIGs9QK+LqA+AAAAAAAAAAAAAAAAAAAAAAAAAAAAAAAAAAAAAAAAAAAAAAAAAAAAAIGs9QK+LqA+AAAAAAAAAAAAAAAAAAAAAAAAAAAAAAAAAAAAAAAAAAAAAAAAAAAAAAAAAAAAAAAAgaz1Ar4uoD4AAAAAAAAAAHGs9QK+LqA+AAAAAAAAAABxrPUCvi6gPpGs9QK+LqA+AAAAAAAAAABxrPUCvi6gPgAAAAAAAAAAAAAAAAAAAAAAAAAAAAAAAAAAAAAAAAAAAAAAAAAAAAAAAAAAAAAAAAAAAAAAAAAAcaz1Ar4uoD4AAAAAAAAAAAAAAAAAAAAAAAAAAAAAAAAAAAAAAAAAAAAAAAAAAAAAAAAAAAAAAAAAAAAAAAAAAAAAAAAAAAAAAAAAAAAAAABxrPUCvi6gPgAAAAAAAAAAAAAAAAAAAAAAAAAAAAAAAAAAAAAAAAAAkaz1Ar4uoD4AAAAAAAAAAAAAAAAAAAAAAAAAAAAAAAAAAAAAAAAAAAAAAAAAAAAAAAAAAAAAAAAAAAAAAAAAAAAAAAAAAAAAAAAAAAAAAAAAAAAAAAAAAJGs9QK+LqA+AAAAAAAAAAAAAAAAAAAAAAAAAAAAAAAAAAAAAAAAAAAAAAAAAAAAAAAAAAAAAAAAAAAAAAAAAAAAAAAAAAAAAAAAAAAAAAAAAAAAAAAAAAAAAAAAAAAAAAAAAAAAAAAAAAAAAAAAAAAAAAAAAAAAAAAAAAAAAAAAAAAAAAAAAAAAAAAAAAAAAAAAAAAAAAAAAAAAAAAAAAAAAAAAAAAAAAAAAAAAAAAAAAAAAAAAAAAAAAAAAAAAAAAAAAAAAAAAAAAAAAAAAAAAAAAAAAAAAAAAAAAAAAAAUaz1Ar4uoD4=\",\"dtype\":\"float64\",\"shape\":[100]}}},\"id\":\"5421a448-fcb1-4f01-97e0-4ae8f041fa51\",\"type\":\"ColumnDataSource\"},{\"attributes\":{\"bottom\":{\"value\":0},\"fill_alpha\":{\"value\":0.1},\"fill_color\":{\"value\":\"#1f77b4\"},\"left\":{\"field\":\"left\"},\"line_alpha\":{\"value\":0.1},\"line_color\":{\"value\":\"#1f77b4\"},\"right\":{\"field\":\"right\"},\"top\":{\"field\":\"top\"}},\"id\":\"8b3edfa1-eb01-4fb6-862a-e222f0dcd1ac\",\"type\":\"Quad\"},{\"attributes\":{\"formatter\":{\"id\":\"63ceec3b-20b5-4fb8-9021-4bd89c9235a7\",\"type\":\"BasicTickFormatter\"},\"plot\":{\"id\":\"f8ea83eb-3e0d-4c50-8974-b401913cd137\",\"subtype\":\"Figure\",\"type\":\"Plot\"},\"ticker\":{\"id\":\"afdb1d4c-123f-4963-8184-94fccb3f4053\",\"type\":\"BasicTicker\"}},\"id\":\"124b72d6-896a-4fa5-a342-c582a3d046db\",\"type\":\"LinearAxis\"},{\"attributes\":{},\"id\":\"63ceec3b-20b5-4fb8-9021-4bd89c9235a7\",\"type\":\"BasicTickFormatter\"},{\"attributes\":{\"plot\":{\"id\":\"f8ea83eb-3e0d-4c50-8974-b401913cd137\",\"subtype\":\"Figure\",\"type\":\"Plot\"},\"ticker\":{\"id\":\"afdb1d4c-123f-4963-8184-94fccb3f4053\",\"type\":\"BasicTicker\"}},\"id\":\"a6ea15ef-58fa-494f-909a-9fa40dde45ba\",\"type\":\"Grid\"},{\"attributes\":{\"plot\":{\"id\":\"f8ea83eb-3e0d-4c50-8974-b401913cd137\",\"subtype\":\"Figure\",\"type\":\"Plot\"}},\"id\":\"5f78b121-ae72-434a-8943-0edc005aa2d6\",\"type\":\"SaveTool\"},{\"attributes\":{},\"id\":\"aea7107c-8c89-4110-8672-e46c8a9ce6e0\",\"type\":\"ToolEvents\"},{\"attributes\":{\"bottom\":{\"value\":0},\"fill_color\":{\"value\":\"#1f77b4\"},\"left\":{\"field\":\"left\"},\"line_color\":{\"value\":\"#555555\"},\"right\":{\"field\":\"right\"},\"top\":{\"field\":\"top\"}},\"id\":\"65a9e783-bdef-419f-bb6b-a8974a58dad0\",\"type\":\"Quad\"},{\"attributes\":{},\"id\":\"afdb1d4c-123f-4963-8184-94fccb3f4053\",\"type\":\"BasicTicker\"},{\"attributes\":{\"callback\":null},\"id\":\"1d271d7f-89e5-4051-9acd-64e73a4946f2\",\"type\":\"DataRange1d\"},{\"attributes\":{\"below\":[{\"id\":\"124b72d6-896a-4fa5-a342-c582a3d046db\",\"type\":\"LinearAxis\"}],\"left\":[{\"id\":\"98242115-f7d4-4362-91ab-e264668c7b58\",\"type\":\"LinearAxis\"}],\"renderers\":[{\"id\":\"124b72d6-896a-4fa5-a342-c582a3d046db\",\"type\":\"LinearAxis\"},{\"id\":\"a6ea15ef-58fa-494f-909a-9fa40dde45ba\",\"type\":\"Grid\"},{\"id\":\"98242115-f7d4-4362-91ab-e264668c7b58\",\"type\":\"LinearAxis\"},{\"id\":\"e0df643d-e6bb-4e87-b952-a6e99a4a45dd\",\"type\":\"Grid\"},{\"id\":\"c4fc48dc-d2de-40bb-aaf1-0d9aa3608b87\",\"type\":\"GlyphRenderer\"}],\"title\":{\"id\":\"5b205608-4596-4416-a640-771008a1de6a\",\"type\":\"Title\"},\"tool_events\":{\"id\":\"aea7107c-8c89-4110-8672-e46c8a9ce6e0\",\"type\":\"ToolEvents\"},\"toolbar\":{\"id\":\"4debad36-33fa-47e9-9016-c8db73cf3a98\",\"type\":\"Toolbar\"},\"toolbar_location\":\"above\",\"x_range\":{\"id\":\"67e5361d-286d-4172-a5c7-735390cddb9b\",\"type\":\"DataRange1d\"},\"y_range\":{\"id\":\"1d271d7f-89e5-4051-9acd-64e73a4946f2\",\"type\":\"DataRange1d\"}},\"id\":\"f8ea83eb-3e0d-4c50-8974-b401913cd137\",\"subtype\":\"Figure\",\"type\":\"Plot\"},{\"attributes\":{\"plot\":{\"id\":\"f8ea83eb-3e0d-4c50-8974-b401913cd137\",\"subtype\":\"Figure\",\"type\":\"Plot\"}},\"id\":\"e8831a0e-4ac6-41af-b8a1-b031cbabeb4d\",\"type\":\"ResetTool\"},{\"attributes\":{\"callback\":null},\"id\":\"67e5361d-286d-4172-a5c7-735390cddb9b\",\"type\":\"DataRange1d\"},{\"attributes\":{\"formatter\":{\"id\":\"88efb737-667c-498d-91ed-187a371ed6df\",\"type\":\"BasicTickFormatter\"},\"plot\":{\"id\":\"f8ea83eb-3e0d-4c50-8974-b401913cd137\",\"subtype\":\"Figure\",\"type\":\"Plot\"},\"ticker\":{\"id\":\"259d6986-a74d-427b-90da-bc3dc8ac1126\",\"type\":\"BasicTicker\"}},\"id\":\"98242115-f7d4-4362-91ab-e264668c7b58\",\"type\":\"LinearAxis\"},{\"attributes\":{\"data_source\":{\"id\":\"5421a448-fcb1-4f01-97e0-4ae8f041fa51\",\"type\":\"ColumnDataSource\"},\"glyph\":{\"id\":\"65a9e783-bdef-419f-bb6b-a8974a58dad0\",\"type\":\"Quad\"},\"hover_glyph\":null,\"nonselection_glyph\":{\"id\":\"8b3edfa1-eb01-4fb6-862a-e222f0dcd1ac\",\"type\":\"Quad\"},\"selection_glyph\":null},\"id\":\"c4fc48dc-d2de-40bb-aaf1-0d9aa3608b87\",\"type\":\"GlyphRenderer\"},{\"attributes\":{},\"id\":\"259d6986-a74d-427b-90da-bc3dc8ac1126\",\"type\":\"BasicTicker\"},{\"attributes\":{\"plot\":{\"id\":\"f8ea83eb-3e0d-4c50-8974-b401913cd137\",\"subtype\":\"Figure\",\"type\":\"Plot\"}},\"id\":\"0ce68f76-0166-4e21-bdb8-652c301e4d05\",\"type\":\"WheelZoomTool\"},{\"attributes\":{\"active_drag\":\"auto\",\"active_scroll\":\"auto\",\"active_tap\":\"auto\",\"tools\":[{\"id\":\"802faff8-5bf3-4d4e-9442-1896d83676f7\",\"type\":\"PanTool\"},{\"id\":\"0ce68f76-0166-4e21-bdb8-652c301e4d05\",\"type\":\"WheelZoomTool\"},{\"id\":\"e8831a0e-4ac6-41af-b8a1-b031cbabeb4d\",\"type\":\"ResetTool\"},{\"id\":\"5f78b121-ae72-434a-8943-0edc005aa2d6\",\"type\":\"SaveTool\"}]},\"id\":\"4debad36-33fa-47e9-9016-c8db73cf3a98\",\"type\":\"Toolbar\"},{\"attributes\":{\"plot\":{\"id\":\"f8ea83eb-3e0d-4c50-8974-b401913cd137\",\"subtype\":\"Figure\",\"type\":\"Plot\"}},\"id\":\"802faff8-5bf3-4d4e-9442-1896d83676f7\",\"type\":\"PanTool\"},{\"attributes\":{},\"id\":\"88efb737-667c-498d-91ed-187a371ed6df\",\"type\":\"BasicTickFormatter\"}],\"root_ids\":[\"f8ea83eb-3e0d-4c50-8974-b401913cd137\"]},\"title\":\"Bokeh Application\",\"version\":\"0.12.4\"}};\n",
       "            var render_items = [{\"docid\":\"2510ccff-84a5-40df-84ca-52b322ce1da8\",\"elementid\":\"5865f414-859b-4b67-a35f-441939800eb5\",\"modelid\":\"f8ea83eb-3e0d-4c50-8974-b401913cd137\"}];\n",
       "            \n",
       "            Bokeh.embed.embed_items(docs_json, render_items);\n",
       "          };\n",
       "          if (document.readyState != \"loading\") fn();\n",
       "          else document.addEventListener(\"DOMContentLoaded\", fn);\n",
       "        })();\n",
       "      },\n",
       "      function(Bokeh) {\n",
       "      }\n",
       "    ];\n",
       "  \n",
       "    function run_inline_js() {\n",
       "      \n",
       "      if ((window.Bokeh !== undefined) || (force === true)) {\n",
       "        for (var i = 0; i < inline_js.length; i++) {\n",
       "          inline_js[i](window.Bokeh);\n",
       "        }if (force === true) {\n",
       "          display_loaded();\n",
       "        }} else if (Date.now() < window._bokeh_timeout) {\n",
       "        setTimeout(run_inline_js, 100);\n",
       "      } else if (!window._bokeh_failed_load) {\n",
       "        console.log(\"Bokeh: BokehJS failed to load within specified timeout.\");\n",
       "        window._bokeh_failed_load = true;\n",
       "      } else if (force !== true) {\n",
       "        var cell = $(document.getElementById(\"5865f414-859b-4b67-a35f-441939800eb5\")).parents('.cell').data().cell;\n",
       "        cell.output_area.append_execute_result(NB_LOAD_WARNING)\n",
       "      }\n",
       "  \n",
       "    }\n",
       "  \n",
       "    if (window._bokeh_is_loading === 0) {\n",
       "      console.log(\"Bokeh: BokehJS loaded, going straight to plotting\");\n",
       "      run_inline_js();\n",
       "    } else {\n",
       "      load_libs(js_urls, function() {\n",
       "        console.log(\"Bokeh: BokehJS plotting callback run at\", now());\n",
       "        run_inline_js();\n",
       "      });\n",
       "    }\n",
       "  }(this));\n",
       "</script>"
      ]
     },
     "metadata": {},
     "output_type": "display_data"
    }
   ],
   "source": [
    "hist, edges = np.histogram(counts_ted_top1000, density=True, bins=100, normed=True)\n",
    "\n",
    "p = figure(tools=\"pan,wheel_zoom,reset,save\",\n",
    "           toolbar_location=\"above\",\n",
    "           title=\"Top-1000 words distribution\")\n",
    "p.quad(top=hist, bottom=0, left=edges[:-1], right=edges[1:], line_color=\"#555555\")\n",
    "\n",
    "show(p)"
   ]
  },
  {
   "cell_type": "markdown",
   "metadata": {},
   "source": [
    "### Part 3: Train Word2Vec"
   ]
  },
  {
   "cell_type": "code",
   "execution_count": 16,
   "metadata": {},
   "outputs": [],
   "source": [
    "from gensim.models import Word2Vec"
   ]
  },
  {
   "cell_type": "code",
   "execution_count": 17,
   "metadata": {
    "collapsed": true
   },
   "outputs": [],
   "source": [
    "#model_ted = Word2Vec(sentences_ted, size=100, window=5, min_count=5, workers=4)"
   ]
  },
  {
   "cell_type": "code",
   "execution_count": 18,
   "metadata": {
    "collapsed": true
   },
   "outputs": [],
   "source": [
    "#model_ted.save('model_ted')"
   ]
  },
  {
   "cell_type": "markdown",
   "metadata": {},
   "source": [
    "### Part 4: Ted Learnt Representations"
   ]
  },
  {
   "cell_type": "markdown",
   "metadata": {},
   "source": [
    "Finding similar words: (see gensim docs for more functionality of `most_similar`)"
   ]
  },
  {
   "cell_type": "code",
   "execution_count": 19,
   "metadata": {},
   "outputs": [
    {
     "data": {
      "text/plain": [
       "[('woman', 0.8294707536697388),\n",
       " ('guy', 0.8152415752410889),\n",
       " ('girl', 0.744369626045227),\n",
       " ('gentleman', 0.7435609102249146),\n",
       " ('lady', 0.7348114252090454),\n",
       " ('boy', 0.7328171730041504),\n",
       " ('soldier', 0.7239211797714233),\n",
       " ('kid', 0.6812607049942017),\n",
       " ('poet', 0.663948118686676),\n",
       " ('john', 0.6615406274795532)]"
      ]
     },
     "execution_count": 19,
     "metadata": {},
     "output_type": "execute_result"
    }
   ],
   "source": [
    "model_ted = Word2Vec.load('model_ted')\n",
    "model_ted.most_similar(\"man\")"
   ]
  },
  {
   "cell_type": "code",
   "execution_count": 20,
   "metadata": {},
   "outputs": [
    {
     "data": {
      "text/plain": [
       "[('machine', 0.7279675006866455),\n",
       " ('software', 0.7263143658638),\n",
       " ('device', 0.7001446485519409),\n",
       " ('robot', 0.69496750831604),\n",
       " ('3d', 0.6794931888580322),\n",
       " ('camera', 0.6778303384780884),\n",
       " ('printer', 0.6639512181282043),\n",
       " ('laser', 0.6441822052001953),\n",
       " ('interface', 0.6379550695419312),\n",
       " ('simulation', 0.6342030167579651)]"
      ]
     },
     "execution_count": 20,
     "metadata": {},
     "output_type": "execute_result"
    }
   ],
   "source": [
    "model_ted.most_similar(\"computer\")"
   ]
  },
  {
   "cell_type": "code",
   "execution_count": 57,
   "metadata": {},
   "outputs": [
    {
     "data": {
      "text/plain": [
       "[('english', 0.6559274792671204),\n",
       " ('mathematics', 0.6485158801078796),\n",
       " ('culture', 0.6480445861816406),\n",
       " ('narrative', 0.6135907173156738),\n",
       " ('discipline', 0.600331723690033),\n",
       " ('beauty', 0.5931773781776428),\n",
       " ('technique', 0.5863878726959229),\n",
       " ('emotion', 0.585470974445343),\n",
       " ('logic', 0.5851237773895264),\n",
       " ('desire', 0.5849875211715698)]"
      ]
     },
     "execution_count": 57,
     "metadata": {},
     "output_type": "execute_result"
    }
   ],
   "source": [
    "model_ted.most_similar(\"language\")"
   ]
  },
  {
   "cell_type": "code",
   "execution_count": null,
   "metadata": {
    "collapsed": true
   },
   "outputs": [],
   "source": [
    "model_ted.wv.most_similar_cosmul(positive=['woman', 'king'], negative=['man'])"
   ]
  },
  {
   "cell_type": "code",
   "execution_count": 63,
   "metadata": {},
   "outputs": [
    {
     "name": "stdout",
     "output_type": "stream",
     "text": [
      "[('looks', 0.9924283), ('feels', 0.0052567362), ('looked', 0.00045622015), ('d', 0.00039840906), ('look', 0.00024918301), ('sounds', 0.00019324874), ('things', 0.00013808795), ('places', 7.2217284e-05), ('felt', 4.1551219e-05), ('smells', 1.9273108e-05)]\n"
     ]
    }
   ],
   "source": [
    "print(model_ted.predict_output_word(['I','like']))"
   ]
  },
  {
   "cell_type": "markdown",
   "metadata": {},
   "source": [
    "#### t-SNE visualization\n",
    "To use the t-SNE code below, first put a list of the top 1000 words (as strings) into a variable `words_top_ted`. The following code gets the corresponding vectors from the model, assuming it's called `model_ted`:"
   ]
  },
  {
   "cell_type": "code",
   "execution_count": 37,
   "metadata": {
    "collapsed": true
   },
   "outputs": [],
   "source": [
    "# This assumes words_top_ted is a list of strings, the top 1000 words\n",
    "words_top_vec_ted = model_ted[words_top_ted]"
   ]
  },
  {
   "cell_type": "code",
   "execution_count": 38,
   "metadata": {
    "collapsed": true
   },
   "outputs": [],
   "source": [
    "from sklearn.manifold import TSNE\n",
    "tsne = TSNE(n_components=2, random_state=0)\n",
    "words_top_ted_tsne = tsne.fit_transform(words_top_vec_ted)"
   ]
  },
  {
   "cell_type": "code",
   "execution_count": 39,
   "metadata": {},
   "outputs": [
    {
     "data": {
      "text/html": [
       "\n",
       "\n",
       "    <div class=\"bk-root\">\n",
       "        <div class=\"bk-plotdiv\" id=\"c42802af-d5b9-47e9-803c-aceb5a2399fe\"></div>\n",
       "    </div>\n",
       "<script type=\"text/javascript\">\n",
       "  \n",
       "  (function(global) {\n",
       "    function now() {\n",
       "      return new Date();\n",
       "    }\n",
       "  \n",
       "    var force = false;\n",
       "  \n",
       "    if (typeof (window._bokeh_onload_callbacks) === \"undefined\" || force === true) {\n",
       "      window._bokeh_onload_callbacks = [];\n",
       "      window._bokeh_is_loading = undefined;\n",
       "    }\n",
       "  \n",
       "  \n",
       "    \n",
       "    if (typeof (window._bokeh_timeout) === \"undefined\" || force === true) {\n",
       "      window._bokeh_timeout = Date.now() + 0;\n",
       "      window._bokeh_failed_load = false;\n",
       "    }\n",
       "  \n",
       "    var NB_LOAD_WARNING = {'data': {'text/html':\n",
       "       \"<div style='background-color: #fdd'>\\n\"+\n",
       "       \"<p>\\n\"+\n",
       "       \"BokehJS does not appear to have successfully loaded. If loading BokehJS from CDN, this \\n\"+\n",
       "       \"may be due to a slow or bad network connection. Possible fixes:\\n\"+\n",
       "       \"</p>\\n\"+\n",
       "       \"<ul>\\n\"+\n",
       "       \"<li>re-rerun `output_notebook()` to attempt to load from CDN again, or</li>\\n\"+\n",
       "       \"<li>use INLINE resources instead, as so:</li>\\n\"+\n",
       "       \"</ul>\\n\"+\n",
       "       \"<code>\\n\"+\n",
       "       \"from bokeh.resources import INLINE\\n\"+\n",
       "       \"output_notebook(resources=INLINE)\\n\"+\n",
       "       \"</code>\\n\"+\n",
       "       \"</div>\"}};\n",
       "  \n",
       "    function display_loaded() {\n",
       "      if (window.Bokeh !== undefined) {\n",
       "        document.getElementById(\"c42802af-d5b9-47e9-803c-aceb5a2399fe\").textContent = \"BokehJS successfully loaded.\";\n",
       "      } else if (Date.now() < window._bokeh_timeout) {\n",
       "        setTimeout(display_loaded, 100)\n",
       "      }\n",
       "    }\n",
       "  \n",
       "    function run_callbacks() {\n",
       "      window._bokeh_onload_callbacks.forEach(function(callback) { callback() });\n",
       "      delete window._bokeh_onload_callbacks\n",
       "      console.info(\"Bokeh: all callbacks have finished\");\n",
       "    }\n",
       "  \n",
       "    function load_libs(js_urls, callback) {\n",
       "      window._bokeh_onload_callbacks.push(callback);\n",
       "      if (window._bokeh_is_loading > 0) {\n",
       "        console.log(\"Bokeh: BokehJS is being loaded, scheduling callback at\", now());\n",
       "        return null;\n",
       "      }\n",
       "      if (js_urls == null || js_urls.length === 0) {\n",
       "        run_callbacks();\n",
       "        return null;\n",
       "      }\n",
       "      console.log(\"Bokeh: BokehJS not loaded, scheduling load and callback at\", now());\n",
       "      window._bokeh_is_loading = js_urls.length;\n",
       "      for (var i = 0; i < js_urls.length; i++) {\n",
       "        var url = js_urls[i];\n",
       "        var s = document.createElement('script');\n",
       "        s.src = url;\n",
       "        s.async = false;\n",
       "        s.onreadystatechange = s.onload = function() {\n",
       "          window._bokeh_is_loading--;\n",
       "          if (window._bokeh_is_loading === 0) {\n",
       "            console.log(\"Bokeh: all BokehJS libraries loaded\");\n",
       "            run_callbacks()\n",
       "          }\n",
       "        };\n",
       "        s.onerror = function() {\n",
       "          console.warn(\"failed to load library \" + url);\n",
       "        };\n",
       "        console.log(\"Bokeh: injecting script tag for BokehJS library: \", url);\n",
       "        document.getElementsByTagName(\"head\")[0].appendChild(s);\n",
       "      }\n",
       "    };var element = document.getElementById(\"c42802af-d5b9-47e9-803c-aceb5a2399fe\");\n",
       "    if (element == null) {\n",
       "      console.log(\"Bokeh: ERROR: autoload.js configured with elementid 'c42802af-d5b9-47e9-803c-aceb5a2399fe' but no matching script tag was found. \")\n",
       "      return false;\n",
       "    }\n",
       "  \n",
       "    var js_urls = [];\n",
       "  \n",
       "    var inline_js = [\n",
       "      function(Bokeh) {\n",
       "        (function() {\n",
       "          var fn = function() {\n",
       "            var docs_json = {\"d3137800-c568-4994-9e9d-53ba32012632\":{\"roots\":{\"references\":[{\"attributes\":{\"plot\":{\"id\":\"39b8ac7b-b215-454d-9afe-a6dc9b54e1b9\",\"subtype\":\"Figure\",\"type\":\"Plot\"}},\"id\":\"51753c54-b755-4c1d-b2f6-b565369038eb\",\"type\":\"SaveTool\"},{\"attributes\":{},\"id\":\"16982def-7b55-47ba-adb9-34baeb435b64\",\"type\":\"BasicTicker\"},{\"attributes\":{},\"id\":\"a6fe9258-c910-4224-8e16-50be6b2f7ddf\",\"type\":\"BasicTickFormatter\"},{\"attributes\":{\"callback\":null},\"id\":\"6620ac8e-ad73-4b93-ac39-73d746130793\",\"type\":\"DataRange1d\"},{\"attributes\":{\"plot\":{\"id\":\"39b8ac7b-b215-454d-9afe-a6dc9b54e1b9\",\"subtype\":\"Figure\",\"type\":\"Plot\"},\"source\":{\"id\":\"614508ae-47bd-4650-8728-e206e4a261fb\",\"type\":\"ColumnDataSource\"},\"text\":{\"field\":\"names\"},\"text_align\":\"center\",\"text_color\":{\"value\":\"#555555\"},\"text_font_size\":{\"value\":\"8pt\"},\"x\":{\"field\":\"x1\"},\"y\":{\"field\":\"x2\"},\"y_offset\":{\"value\":6}},\"id\":\"eddd5152-e5a5-44a5-9504-676873b441aa\",\"type\":\"LabelSet\"},{\"attributes\":{\"data_source\":{\"id\":\"614508ae-47bd-4650-8728-e206e4a261fb\",\"type\":\"ColumnDataSource\"},\"glyph\":{\"id\":\"84769435-ad1f-4b3b-920f-c60592e14cec\",\"type\":\"Circle\"},\"hover_glyph\":null,\"nonselection_glyph\":{\"id\":\"40d9c6d0-cc9e-4afb-947e-d1193b918968\",\"type\":\"Circle\"},\"selection_glyph\":null},\"id\":\"3dedc4f3-9656-4b3d-a795-d4312fc7911d\",\"type\":\"GlyphRenderer\"},{\"attributes\":{},\"id\":\"f12283ef-deda-41a9-9d02-a250bbff4780\",\"type\":\"BasicTicker\"},{\"attributes\":{\"below\":[{\"id\":\"a0881480-718e-4ee7-a422-e9c4923a1725\",\"type\":\"LinearAxis\"}],\"left\":[{\"id\":\"35658333-ccfc-45c6-b8f9-091276a7f416\",\"type\":\"LinearAxis\"}],\"renderers\":[{\"id\":\"a0881480-718e-4ee7-a422-e9c4923a1725\",\"type\":\"LinearAxis\"},{\"id\":\"f0a0900e-a2b4-4203-83ff-ef5e69022e5e\",\"type\":\"Grid\"},{\"id\":\"35658333-ccfc-45c6-b8f9-091276a7f416\",\"type\":\"LinearAxis\"},{\"id\":\"86ed4b71-caa2-4feb-9024-694b2b4d1f22\",\"type\":\"Grid\"},{\"id\":\"3dedc4f3-9656-4b3d-a795-d4312fc7911d\",\"type\":\"GlyphRenderer\"},{\"id\":\"eddd5152-e5a5-44a5-9504-676873b441aa\",\"type\":\"LabelSet\"}],\"title\":{\"id\":\"0ee1c454-f127-4670-a0e5-00bdd058eb0b\",\"type\":\"Title\"},\"tool_events\":{\"id\":\"172cd506-5be8-4a4b-873e-95cb7cfa145c\",\"type\":\"ToolEvents\"},\"toolbar\":{\"id\":\"85f0ad66-9861-487f-9d1e-d342b1424760\",\"type\":\"Toolbar\"},\"toolbar_location\":\"above\",\"x_range\":{\"id\":\"6620ac8e-ad73-4b93-ac39-73d746130793\",\"type\":\"DataRange1d\"},\"y_range\":{\"id\":\"c545956b-20ca-4112-833d-4b23b0a49396\",\"type\":\"DataRange1d\"}},\"id\":\"39b8ac7b-b215-454d-9afe-a6dc9b54e1b9\",\"subtype\":\"Figure\",\"type\":\"Plot\"},{\"attributes\":{\"callback\":null,\"column_names\":[\"x1\",\"x2\",\"names\"],\"data\":{\"names\":[\"wife\",\"village\",\"mine\",\"fire\",\"decision\",\"expect\",\"taught\",\"80\",\"teachers\",\"meaning\",\"older\",\"finding\",\"shown\",\"buildings\",\"somewhere\",\"goal\",\"cases\",\"screen\",\"connected\",\"tree\",\"fight\",\"police\",\"families\",\"interest\",\"faster\",\"supposed\",\"allowed\",\"models\",\"projects\",\"leaders\",\"skin\",\"usually\",\"african\",\"conversation\",\"standing\",\"extraordinary\",\"role\",\"including\",\"objects\",\"named\",\"student\",\"doctor\",\"vision\",\"continue\",\"further\",\"son\",\"happiness\",\"object\",\"door\",\"essentially\",\"strong\",\"fall\",\"safe\",\"positive\",\"poverty\",\"east\",\"plan\",\"jobs\",\"grew\",\"materials\",\"exciting\",\"results\",\"lead\",\"500\",\"choose\",\"worse\",\"creative\",\"road\",\"organization\",\"watching\",\"biggest\",\"plant\",\"follow\",\"trust\",\"anyway\",\"medicine\",\"individuals\",\"extremely\",\"wait\",\"table\",\"movie\",\"wants\",\"speed\",\"schools\",\"moved\",\"response\",\"11\",\"zero\",\"favorite\",\"everywhere\",\"plants\",\"memory\",\"add\",\"break\",\"onto\",\"dream\",\"mass\",\"develop\",\"notice\",\"period\",\"showing\",\"hospital\",\"largest\",\"among\",\"minute\",\"sit\",\"democracy\",\"eventually\",\"code\",\"college\",\"higher\",\"action\",\"suddenly\",\"totally\",\"measure\",\"particularly\",\"software\",\"success\",\"examples\",\"west\",\"starts\",\"reach\",\"boy\",\"sounds\",\"rules\",\"carbon\",\"sex\",\"source\",\"camera\",\"device\",\"crazy\",\"chinese\",\"potential\",\"communities\",\"60\",\"games\",\"scientific\",\"200\",\"international\",\"approach\",\"led\",\"hit\",\"walking\",\"25\",\"journey\",\"teach\",\"ready\",\"certainly\",\"died\",\"explain\",\"hundred\",\"revolution\",\"worth\",\"listen\",\"send\",\"present\",\"drive\",\"towards\",\"basic\",\"indeed\",\"general\",\"solar\",\"security\",\"office\",\"evolution\",\"violence\",\"web\",\"quality\",\"message\",\"pick\",\"eye\",\"effect\",\"similar\",\"putting\",\"perfect\",\"month\",\"google\",\"involved\",\"lived\",\"nine\",\"drugs\",\"product\",\"guess\",\"bigger\",\"aren\",\"incredibly\",\"becomes\",\"modern\",\"drug\",\"cause\",\"writing\",\"obviously\",\"evidence\",\"experiment\",\"rights\",\"truth\",\"available\",\"major\",\"groups\",\"likely\",\"stay\",\"robot\",\"resources\",\"cool\",\"non\",\"shape\",\"ice\",\"produce\",\"please\",\"beyond\",\"pictures\",\"term\",\"anybody\",\"impact\",\"begin\",\"haven\",\"meet\",\"stand\",\"dead\",\"knows\",\"reasons\",\"box\",\"solution\",\"situation\",\"baby\",\"wall\",\"special\",\"network\",\"film\",\"solve\",\"developing\",\"digital\",\"allow\",\"save\",\"focus\",\"tiny\",\"english\",\"computers\",\"several\",\"university\",\"class\",\"innovation\",\"hour\",\"issues\",\"designed\",\"fun\",\"color\",\"rate\",\"industry\",\"seem\",\"chance\",\"asking\",\"type\",\"showed\",\"dark\",\"generation\",\"gives\",\"discovered\",\"relationship\",\"normal\",\"europe\",\"talked\",\"creating\",\"fly\",\"choice\",\"patient\",\"soon\",\"girls\",\"especially\",\"playing\",\"clear\",\"changing\",\"sun\",\"fast\",\"cars\",\"cut\",\"theory\",\"12\",\"recently\",\"key\",\"material\",\"issue\",\"voice\",\"personal\",\"nobody\",\"map\",\"fear\",\"blood\",\"lab\",\"development\",\"north\",\"act\",\"technologies\",\"medical\",\"result\",\"online\",\"miles\",\"running\",\"tools\",\"support\",\"millions\",\"kid\",\"individual\",\"developed\",\"forward\",\"sea\",\"nice\",\"hold\",\"starting\",\"telling\",\"alone\",\"seems\",\"force\",\"eat\",\"giving\",\"ground\",\"movement\",\"knowledge\",\"books\",\"literally\",\"understanding\",\"wrote\",\"law\",\"images\",\"realize\",\"stage\",\"numbers\",\"audience\",\"bottom\",\"die\",\"brought\",\"speak\",\"absolutely\",\"short\",\"watch\",\"deep\",\"anyone\",\"areas\",\"attention\",\"feet\",\"structure\",\"animal\",\"risk\",\"access\",\"complex\",\"dna\",\"economy\",\"girl\",\"met\",\"behavior\",\"feeling\",\"hundreds\",\"morning\",\"program\",\"scientists\",\"value\",\"pay\",\"physical\",\"average\",\"incredible\",\"surface\",\"street\",\"test\",\"40\",\"climate\",\"rest\",\"born\",\"shows\",\"field\",\"growing\",\"friend\",\"low\",\"challenge\",\"south\",\"write\",\"changes\",\"ability\",\"sitting\",\"patients\",\"either\",\"wouldn\",\"growth\",\"buy\",\"green\",\"poor\",\"step\",\"blue\",\"quickly\",\"national\",\"paper\",\"lost\",\"opportunity\",\"spent\",\"weeks\",\"amount\",\"gone\",\"red\",\"interested\",\"political\",\"deal\",\"oil\",\"land\",\"fish\",\"center\",\"tried\",\"common\",\"grow\",\"cannot\",\"wonderful\",\"phone\",\"longer\",\"spend\",\"certain\",\"humans\",\"felt\",\"size\",\"week\",\"known\",\"powerful\",\"eight\",\"economic\",\"ocean\",\"parts\",\"market\",\"white\",\"walk\",\"view\",\"death\",\"parents\",\"media\",\"realized\",\"local\",\"father\",\"beginning\",\"needed\",\"simply\",\"image\",\"terms\",\"needs\",\"began\",\"whatever\",\"hands\",\"york\",\"culture\",\"population\",\"moving\",\"team\",\"eyes\",\"cost\",\"turned\",\"easy\",\"seeing\",\"reality\",\"yourself\",\"area\",\"companies\",\"takes\",\"china\",\"difficult\",\"scale\",\"full\",\"behind\",\"cities\",\"close\",\"15\",\"cell\",\"leave\",\"changed\",\"given\",\"seven\",\"taken\",\"natural\",\"outside\",\"difference\",\"air\",\"systems\",\"during\",\"machine\",\"india\",\"gave\",\"won\",\"entire\",\"learning\",\"news\",\"happy\",\"particular\",\"guys\",\"free\",\"figure\",\"lots\",\"ted\",\"per\",\"least\",\"based\",\"century\",\"thousands\",\"game\",\"early\",\"sound\",\"finally\",\"others\",\"along\",\"third\",\"past\",\"perhaps\",\"black\",\"ones\",\"minutes\",\"worked\",\"environment\",\"american\",\"animals\",\"ok\",\"universe\",\"created\",\"couldn\",\"huge\",\"house\",\"front\",\"disease\",\"hours\",\"name\",\"students\",\"rather\",\"kinds\",\"itself\",\"must\",\"themselves\",\"art\",\"hear\",\"happening\",\"ourselves\",\"turns\",\"company\",\"god\",\"mother\",\"questions\",\"gets\",\"model\",\"america\",\"heart\",\"level\",\"share\",\"large\",\"stories\",\"against\",\"education\",\"completely\",\"society\",\"species\",\"exactly\",\"became\",\"works\",\"taking\",\"cancer\",\"word\",\"study\",\"decided\",\"night\",\"run\",\"language\",\"learned\",\"video\",\"places\",\"50\",\"everyone\",\"stop\",\"though\",\"head\",\"nature\",\"piece\",\"music\",\"middle\",\"internet\",\"yeah\",\"form\",\"order\",\"couple\",\"knew\",\"line\",\"friends\",\"beautiful\",\"turn\",\"woman\",\"state\",\"built\",\"somebody\",\"self\",\"under\",\"group\",\"words\",\"30\",\"research\",\"isn\",\"control\",\"read\",\"100\",\"wasn\",\"face\",\"until\",\"heard\",\"job\",\"bring\",\"age\",\"cells\",\"since\",\"united\",\"amazing\",\"government\",\"matter\",\"looks\",\"ideas\",\"months\",\"instead\",\"guy\",\"child\",\"war\",\"true\",\"history\",\"hope\",\"sometimes\",\"oh\",\"answer\",\"yes\",\"keep\",\"book\",\"car\",\"wrong\",\"set\",\"sure\",\"public\",\"everybody\",\"top\",\"global\",\"planet\",\"business\",\"possible\",\"often\",\"billion\",\"myself\",\"looked\",\"within\",\"already\",\"community\",\"basically\",\"saying\",\"problems\",\"whether\",\"both\",\"picture\",\"single\",\"remember\",\"project\",\"mind\",\"far\",\"six\",\"someone\",\"inside\",\"process\",\"learn\",\"africa\",\"open\",\"computer\",\"reason\",\"states\",\"move\",\"goes\",\"happens\",\"bad\",\"care\",\"nothing\",\"days\",\"young\",\"yet\",\"almost\",\"case\",\"else\",\"ways\",\"health\",\"simple\",\"hand\",\"room\",\"says\",\"seen\",\"living\",\"asked\",\"makes\",\"experience\",\"later\",\"men\",\"having\",\"build\",\"once\",\"okay\",\"happen\",\"while\",\"saw\",\"side\",\"across\",\"imagine\",\"20\",\"earth\",\"moment\",\"dollars\",\"stuff\",\"family\",\"coming\",\"such\",\"countries\",\"lives\",\"anything\",\"play\",\"hard\",\"pretty\",\"ask\",\"half\",\"interesting\",\"told\",\"body\",\"food\",\"science\",\"building\",\"am\",\"talking\",\"energy\",\"light\",\"less\",\"probably\",\"social\",\"comes\",\"happened\",\"sense\",\"without\",\"city\",\"quite\",\"man\",\"enough\",\"future\",\"getting\",\"left\",\"best\",\"making\",\"design\",\"small\",\"create\",\"become\",\"home\",\"kids\",\"number\",\"space\",\"high\",\"times\",\"power\",\"took\",\"means\",\"money\",\"information\",\"using\",\"second\",\"thinking\",\"country\",\"five\",\"everything\",\"help\",\"working\",\"million\",\"try\",\"feel\",\"believe\",\"away\",\"person\",\"may\",\"trying\",\"always\",\"children\",\"whole\",\"call\",\"live\",\"sort\",\"understand\",\"school\",\"ever\",\"wanted\",\"real\",\"four\",\"point\",\"done\",\"10\",\"example\",\"end\",\"doesn\",\"love\",\"found\",\"maybe\",\"question\",\"looking\",\"water\",\"data\",\"mean\",\"old\",\"too\",\"women\",\"technology\",\"place\",\"used\",\"between\",\"bit\",\"few\",\"brain\",\"came\",\"story\",\"ago\",\"long\",\"show\",\"start\",\"each\",\"does\",\"him\",\"system\",\"course\",\"part\",\"next\",\"off\",\"problem\",\"still\",\"able\",\"together\",\"again\",\"000\",\"important\",\"might\",\"went\",\"thought\",\"give\",\"better\",\"should\",\"never\",\"its\",\"before\",\"own\",\"last\",\"big\",\"idea\",\"another\",\"started\",\"change\",\"talk\",\"fact\",\"didn\",\"find\",\"human\",\"great\",\"tell\",\"thank\",\"after\",\"made\",\"percent\",\"today\",\"any\",\"called\",\"put\",\"doing\",\"use\",\"three\",\"year\",\"day\",\"come\",\"being\",\"same\",\"through\",\"her\",\"let\",\"ll\",\"down\",\"different\",\"every\",\"around\",\"good\",\"why\",\"kind\",\"lot\",\"did\",\"need\",\"take\",\"many\",\"work\",\"only\",\"life\",\"his\",\"even\",\"say\",\"most\",\"over\",\"back\",\"got\",\"little\",\"thing\",\"new\",\"look\",\"also\",\"much\",\"than\",\"two\",\"first\",\"those\",\"something\",\"said\",\"she\",\"right\",\"make\",\"been\",\"want\",\"well\",\"go\",\"could\",\"no\",\"other\",\"things\",\"years\",\"will\",\"where\",\"way\",\"into\",\"actually\",\"don\",\"has\",\"some\",\"time\",\"us\",\"world\",\"then\",\"ve\",\"get\",\"really\",\"here\",\"would\",\"which\",\"their\",\"your\",\"see\",\"were\",\"who\",\"think\",\"more\",\"had\",\"going\",\"up\",\"know\",\"how\",\"them\",\"by\",\"out\",\"me\",\"very\",\"because\",\"when\",\"or\",\"these\",\"just\",\"an\",\"he\",\"our\",\"now\",\"from\",\"if\",\"like\",\"people\",\"re\",\"one\",\"my\",\"do\",\"not\",\"all\",\"at\",\"as\",\"be\",\"there\",\"about\",\"can\",\"with\",\"on\",\"what\",\"but\",\"have\",\"are\",\"for\",\"was\",\"they\",\"so\",\"this\",\"is\",\"we\",\"you\",\"it\",\"in\",\"that\",\"of\",\"to\",\"and\",\"the\"],\"x1\":{\"__ndarray__\":\"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\",\"dtype\":\"float64\",\"shape\":[1000]},\"x2\":{\"__ndarray__\":\"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\",\"dtype\":\"float64\",\"shape\":[1000]}}},\"id\":\"614508ae-47bd-4650-8728-e206e4a261fb\",\"type\":\"ColumnDataSource\"},{\"attributes\":{\"plot\":null,\"text\":\"word2vec T-SNE for most common words\"},\"id\":\"0ee1c454-f127-4670-a0e5-00bdd058eb0b\",\"type\":\"Title\"},{\"attributes\":{\"fill_alpha\":{\"value\":0.1},\"fill_color\":{\"value\":\"#1f77b4\"},\"line_alpha\":{\"value\":0.1},\"line_color\":{\"value\":\"#1f77b4\"},\"size\":{\"units\":\"screen\",\"value\":8},\"x\":{\"field\":\"x1\"},\"y\":{\"field\":\"x2\"}},\"id\":\"40d9c6d0-cc9e-4afb-947e-d1193b918968\",\"type\":\"Circle\"},{\"attributes\":{\"formatter\":{\"id\":\"52439f93-0d57-4214-ad10-5f8f73ab659c\",\"type\":\"BasicTickFormatter\"},\"plot\":{\"id\":\"39b8ac7b-b215-454d-9afe-a6dc9b54e1b9\",\"subtype\":\"Figure\",\"type\":\"Plot\"},\"ticker\":{\"id\":\"f12283ef-deda-41a9-9d02-a250bbff4780\",\"type\":\"BasicTicker\"}},\"id\":\"35658333-ccfc-45c6-b8f9-091276a7f416\",\"type\":\"LinearAxis\"},{\"attributes\":{},\"id\":\"172cd506-5be8-4a4b-873e-95cb7cfa145c\",\"type\":\"ToolEvents\"},{\"attributes\":{\"active_drag\":\"auto\",\"active_scroll\":\"auto\",\"active_tap\":\"auto\",\"tools\":[{\"id\":\"c97fe906-4636-40d1-b909-2f468020c10f\",\"type\":\"PanTool\"},{\"id\":\"776a9762-9a4b-4cd6-b9a7-ce6e4b3f8d2c\",\"type\":\"WheelZoomTool\"},{\"id\":\"ffde54d8-509a-4ab2-bef4-7054dbc901a7\",\"type\":\"ResetTool\"},{\"id\":\"51753c54-b755-4c1d-b2f6-b565369038eb\",\"type\":\"SaveTool\"}]},\"id\":\"85f0ad66-9861-487f-9d1e-d342b1424760\",\"type\":\"Toolbar\"},{\"attributes\":{\"callback\":null},\"id\":\"c545956b-20ca-4112-833d-4b23b0a49396\",\"type\":\"DataRange1d\"},{\"attributes\":{\"formatter\":{\"id\":\"a6fe9258-c910-4224-8e16-50be6b2f7ddf\",\"type\":\"BasicTickFormatter\"},\"plot\":{\"id\":\"39b8ac7b-b215-454d-9afe-a6dc9b54e1b9\",\"subtype\":\"Figure\",\"type\":\"Plot\"},\"ticker\":{\"id\":\"16982def-7b55-47ba-adb9-34baeb435b64\",\"type\":\"BasicTicker\"}},\"id\":\"a0881480-718e-4ee7-a422-e9c4923a1725\",\"type\":\"LinearAxis\"},{\"attributes\":{\"dimension\":1,\"plot\":{\"id\":\"39b8ac7b-b215-454d-9afe-a6dc9b54e1b9\",\"subtype\":\"Figure\",\"type\":\"Plot\"},\"ticker\":{\"id\":\"f12283ef-deda-41a9-9d02-a250bbff4780\",\"type\":\"BasicTicker\"}},\"id\":\"86ed4b71-caa2-4feb-9024-694b2b4d1f22\",\"type\":\"Grid\"},{\"attributes\":{\"fill_color\":{\"value\":\"#1f77b4\"},\"line_color\":{\"value\":\"#1f77b4\"},\"size\":{\"units\":\"screen\",\"value\":8},\"x\":{\"field\":\"x1\"},\"y\":{\"field\":\"x2\"}},\"id\":\"84769435-ad1f-4b3b-920f-c60592e14cec\",\"type\":\"Circle\"},{\"attributes\":{},\"id\":\"52439f93-0d57-4214-ad10-5f8f73ab659c\",\"type\":\"BasicTickFormatter\"},{\"attributes\":{\"plot\":{\"id\":\"39b8ac7b-b215-454d-9afe-a6dc9b54e1b9\",\"subtype\":\"Figure\",\"type\":\"Plot\"}},\"id\":\"c97fe906-4636-40d1-b909-2f468020c10f\",\"type\":\"PanTool\"},{\"attributes\":{\"plot\":{\"id\":\"39b8ac7b-b215-454d-9afe-a6dc9b54e1b9\",\"subtype\":\"Figure\",\"type\":\"Plot\"},\"ticker\":{\"id\":\"16982def-7b55-47ba-adb9-34baeb435b64\",\"type\":\"BasicTicker\"}},\"id\":\"f0a0900e-a2b4-4203-83ff-ef5e69022e5e\",\"type\":\"Grid\"},{\"attributes\":{\"plot\":{\"id\":\"39b8ac7b-b215-454d-9afe-a6dc9b54e1b9\",\"subtype\":\"Figure\",\"type\":\"Plot\"}},\"id\":\"776a9762-9a4b-4cd6-b9a7-ce6e4b3f8d2c\",\"type\":\"WheelZoomTool\"},{\"attributes\":{\"plot\":{\"id\":\"39b8ac7b-b215-454d-9afe-a6dc9b54e1b9\",\"subtype\":\"Figure\",\"type\":\"Plot\"}},\"id\":\"ffde54d8-509a-4ab2-bef4-7054dbc901a7\",\"type\":\"ResetTool\"}],\"root_ids\":[\"39b8ac7b-b215-454d-9afe-a6dc9b54e1b9\"]},\"title\":\"Bokeh Application\",\"version\":\"0.12.4\"}};\n",
       "            var render_items = [{\"docid\":\"d3137800-c568-4994-9e9d-53ba32012632\",\"elementid\":\"c42802af-d5b9-47e9-803c-aceb5a2399fe\",\"modelid\":\"39b8ac7b-b215-454d-9afe-a6dc9b54e1b9\"}];\n",
       "            \n",
       "            Bokeh.embed.embed_items(docs_json, render_items);\n",
       "          };\n",
       "          if (document.readyState != \"loading\") fn();\n",
       "          else document.addEventListener(\"DOMContentLoaded\", fn);\n",
       "        })();\n",
       "      },\n",
       "      function(Bokeh) {\n",
       "      }\n",
       "    ];\n",
       "  \n",
       "    function run_inline_js() {\n",
       "      \n",
       "      if ((window.Bokeh !== undefined) || (force === true)) {\n",
       "        for (var i = 0; i < inline_js.length; i++) {\n",
       "          inline_js[i](window.Bokeh);\n",
       "        }if (force === true) {\n",
       "          display_loaded();\n",
       "        }} else if (Date.now() < window._bokeh_timeout) {\n",
       "        setTimeout(run_inline_js, 100);\n",
       "      } else if (!window._bokeh_failed_load) {\n",
       "        console.log(\"Bokeh: BokehJS failed to load within specified timeout.\");\n",
       "        window._bokeh_failed_load = true;\n",
       "      } else if (force !== true) {\n",
       "        var cell = $(document.getElementById(\"c42802af-d5b9-47e9-803c-aceb5a2399fe\")).parents('.cell').data().cell;\n",
       "        cell.output_area.append_execute_result(NB_LOAD_WARNING)\n",
       "      }\n",
       "  \n",
       "    }\n",
       "  \n",
       "    if (window._bokeh_is_loading === 0) {\n",
       "      console.log(\"Bokeh: BokehJS loaded, going straight to plotting\");\n",
       "      run_inline_js();\n",
       "    } else {\n",
       "      load_libs(js_urls, function() {\n",
       "        console.log(\"Bokeh: BokehJS plotting callback run at\", now());\n",
       "        run_inline_js();\n",
       "      });\n",
       "    }\n",
       "  }(this));\n",
       "</script>"
      ]
     },
     "metadata": {},
     "output_type": "display_data"
    }
   ],
   "source": [
    "p = figure(tools=\"pan,wheel_zoom,reset,save\",\n",
    "           toolbar_location=\"above\",\n",
    "           title=\"word2vec T-SNE for most common words\")\n",
    "\n",
    "source = ColumnDataSource(data=dict(x1=words_top_ted_tsne[:,0],\n",
    "                                    x2=words_top_ted_tsne[:,1],\n",
    "                                    names=words_top_ted))\n",
    "\n",
    "p.scatter(x=\"x1\", y=\"x2\", size=8, source=source)\n",
    "\n",
    "labels = LabelSet(x=\"x1\", y=\"x2\", text=\"names\", y_offset=6,\n",
    "                  text_font_size=\"8pt\", text_color=\"#555555\",\n",
    "                  source=source, text_align='center')\n",
    "p.add_layout(labels)\n",
    "\n",
    "show(p)"
   ]
  },
  {
   "cell_type": "markdown",
   "metadata": {},
   "source": [
    "### Part 5: Wiki Learnt Representations"
   ]
  },
  {
   "cell_type": "markdown",
   "metadata": {},
   "source": [
    "Download dataset"
   ]
  },
  {
   "cell_type": "code",
   "execution_count": 69,
   "metadata": {
    "collapsed": true
   },
   "outputs": [],
   "source": [
    "if not os.path.isfile('wikitext-103-raw-v1.zip'):\n",
    "    urllib.request.urlretrieve(\"https://s3.amazonaws.com/research.metamind.io/wikitext/wikitext-103-raw-v1.zip\", filename=\"wikitext-103-raw-v1.zip\")"
   ]
  },
  {
   "cell_type": "code",
   "execution_count": 75,
   "metadata": {
    "collapsed": true
   },
   "outputs": [],
   "source": [
    "with zipfile.ZipFile('wikitext-103-raw-v1.zip', 'r') as z:\n",
    "    input_text = str(z.open('wikitext-103-raw/wiki.train.raw', 'r').read(), encoding='utf-8') # Thanks Robert Bastian"
   ]
  },
  {
   "cell_type": "markdown",
   "metadata": {},
   "source": [
    "Preprocess sentences (note that it's important to remove small sentences for performance)"
   ]
  },
  {
   "cell_type": "code",
   "execution_count": 76,
   "metadata": {},
   "outputs": [],
   "source": [
    "sentences_wiki = []\n",
    "for line in input_text.split('\\n'):\n",
    "    s = [x for x in line.split('.') if x and len(x.split()) >= 5]\n",
    "    sentences_wiki.extend(s)\n",
    "    \n",
    "for s_i in range(len(sentences_wiki)):\n",
    "    sentences_wiki[s_i] = re.sub(\"[^a-z]\", \" \", sentences_wiki[s_i].lower())\n",
    "    sentences_wiki[s_i] = re.sub(r'\\([^)]*\\)', '', sentences_wiki[s_i])\n",
    "del input_text"
   ]
  },
  {
   "cell_type": "code",
   "execution_count": 77,
   "metadata": {},
   "outputs": [
    {
     "name": "stdout",
     "output_type": "stream",
     "text": [
      "4267112\n",
      "853422\n"
     ]
    }
   ],
   "source": [
    "# sample 1/5 of the data\n",
    "shuffle(sentences_wiki)\n",
    "print(len(sentences_wiki))\n",
    "sentences_wiki = sentences_wiki[:int(len(sentences_wiki)/5)]\n",
    "print(len(sentences_wiki))"
   ]
  },
  {
   "cell_type": "markdown",
   "metadata": {},
   "source": [
    "Now, repeat all the same steps that you performed above. You should be able to reuse essentially all the code."
   ]
  },
  {
   "cell_type": "code",
   "execution_count": 73,
   "metadata": {},
   "outputs": [
    {
     "name": "stdout",
     "output_type": "stream",
     "text": [
      "[['inch', 'mm', 'guns'], ['microsoft', 's', 'entertainment', 'and', 'devices', 'division', 'experienced', 'a', 'huge', 'increase', 'in', 'revenue', 'largely', 'driven', 'by', 'the', 'release', 'of', 'halo', 'and', 'posted', 'a', 'quarterly', 'profit', 'for', 'the', 'first', 'time', 'in', 'two', 'years']]\n"
     ]
    }
   ],
   "source": [
    "sentences_wiki_tokenized = []\n",
    "for sent_str in sentences_wiki:\n",
    "    tokens = re.sub(r\"[^a-z0-9]+\", \" \", sent_str.lower()).split()\n",
    "    sentences_wiki_tokenized.append(tokens)\n",
    "print(sentences_wiki_tokenized[:2])"
   ]
  },
  {
   "cell_type": "code",
   "execution_count": 48,
   "metadata": {},
   "outputs": [
    {
     "name": "stdout",
     "output_type": "stream",
     "text": [
      "(34136, 16412)\n",
      "16412\n"
     ]
    }
   ],
   "source": [
    "vectorizer_1 = CountVectorizer(min_df=3)\n",
    "a = vectorizer_1.fit_transform([' '.join(sent) for sent in sentences_wiki_tokenized]).toarray()\n",
    "print(a.shape)\n",
    "names_wiki = vectorizer_1.get_feature_names()\n",
    "count_words_wiki = np.sum(a, axis=0)\n",
    "print(len(count_words_wiki))"
   ]
  },
  {
   "cell_type": "code",
   "execution_count": 49,
   "metadata": {},
   "outputs": [
    {
     "name": "stdout",
     "output_type": "stream",
     "text": [
      "['particular', 'latter', 'refused', 'minor', 'woman', 'direction', 'via', 'theme', 'empire', 'contains', 'remains', 'increase', 'producer', 'mass', 'lyrics', 'edge', 'minute', 'names', 'need', 'era', 'always', 'health', 'artist', 'americans', 'wind', 'winter', 'greatest', 'hospital', 'earned', 'dance', 'angeles', 'intended', 'language', 'la', 'actor', 'defeated', 'saint', 'federal', 'takes', 'course', 'atlantic', 'rd', 'hour', 'smaller', 'done', 'schools', 'key', 'african', 'edward', 'lord', 'pop', 'department', 'corps', 'richard', 'independent', 'tracks', 'things', 'deal', 'festival', 'cut', 'structure', 'books', 'immediately', 'debut', 'think', 'your', 'double', 'offered', 'martin', 'islands', 'performances', 'report', 'goals', 'soviet', 'museum', 'fight', 'railway', 'ran', 'includes', 'sales', 'male', 'meeting', 'marriage', 'terms', 'stars', 'removed', 'shows', 'cost', 'appear', 'blue', 'suggested', 'percent', 'singer', 'yet', 'subsequently', 'native', 'moving', 'defense', 'listed', 'self', 'remaining', 'attempted', 'tons', 'fell', 'reduced', 'destroyed', 'got', 'trade', 'keep', 'wide', 'operations', 'copies', 'words', 'date', 'themselves', 'higher', 'plans', 'our', 'might', 'leave', 'queen', 'science', 'associated', 'changed', 'novel', 'raised', 'guitar', 'chinese', 'respectively', 'groups', 'majority', 'decision', 'fifth', 'china', 'buildings', 'christian', 'arrived', 'officer', 'term', 'numbers', 'natural', 'centre', 'singles', 'deep', 'mixed', 'spent', 'composed', 'running', 'estimated', 'voice', 'al', 'news', 'provide', 'give', 'numerous', 'entered', 'view', 'positive', 'hard', 'fact', 'services', 'shortly', 'movement', 'civil', 'movie', 'planned', 'entire', 'network', 'los', 'rights', 'texas', 'person', 'awarded', 'officers', 'edition', 'room', 'above', 'itself', 'food', 'type', 'child', 'influence', 'already', 'indian', 'today', 'effect', 'larger', 'unit', 'elements', 'hand', 'praised', 'poor', 'wall', 'castle', 'upper', 'feature', 'nearly', 'size', 'nature', 'whether', 'virginia', 'contract', 'squadron', 'social', 'students', 'status', 'prior', 'past', 'regular', 'winning', 'election', 'create', 'experience', 'smith', 'asked', 'ordered', 'creek', 'current', 'initial', 'commander', 'naval', 'green', 'cover', 'nd', 'pressure', 'press', 'johnson', 'paul', 'face', 'plan', 'interest', 'governor', 'sometimes', 'space', 'extended', 'britain', 'introduced', 'chicago', 'brigade', 'ny', 'idea', 'spanish', 'bay', 'industry', 'speed', 'background', 'regiment', 'earth', 'grand', 'score', 'appointed', 'depression', 'compared', 'program', 'board', 'private', 'episodes', 'required', 'minister', 'surface', 'leader', 'quickly', 'commercial', 'dark', 'study', 'material', 'proposed', 'effects', 'attempt', 'brother', 'usually', 'staff', 'loss', 'hill', 'length', 'passed', 'issue', 'port', 'particularly', 'previously', 'find', 'mark', 'teams', 'winds', 'scenes', 'business', 'leaving', 'limited', 'largest', 'appearance', 'failed', 'married', 'goal', 'available', 'directed', 'forced', 'whom', 'claimed', 'crew', 'future', 'car', 'personal', 'told', 'anti', 'becoming', 'turn', 'significant', 'district', 'needed', 'god', 'bill', 'whose', 'peter', 'female', 'uk', 'turned', 'reviews', 'especially', 'india', 'agreed', 'taking', 'overall', 'research', 'battalion', 'increased', 'shot', 'base', 'education', 'brown', 'gold', 'changes', 'thomas', 'section', 'move', 'units', 'additional', 'magazine', 'gun', 'review', 'village', 'response', 'cross', 'real', 'cup', 'hours', 'minutes', 'change', 'weeks', 'lower', 'chief', 'money', 'rest', 'media', 'opened', 'charles', 'carried', 'must', 'sound', 'round', 'complete', 'reception', 'start', 'parts', 'committee', 'plot', 'either', 'infantry', 'flight', 'films', 'nine', 'living', 'evidence', 'critical', 'brought', 'going', 'wife', 'met', 'square', 'successful', 'highest', 'lake', 'test', 'earlier', 'thus', 'canada', 'mid', 'possible', 'cast', 'events', 'ended', 'lines', 'provided', 'saw', 'troops', 'hall', 'mph', 'better', 'guns', 'saying', 'california', 'operation', 'france', 'association', 'co', 'san', 'europe', 'free', 'big', 'community', 'captain', 'involved', 'robert', 'eastern', 'navy', 'radio', 'signed', 'designed', 'victory', 'region', 'art', 'caused', 'official', 'stone', 'police', 'finished', 'middle', 'wanted', 'records', 'come', 'opening', 'replaced', 'union', 'musical', 'enough', 'see', 'least', 'don', 'worked', 'help', 'michael', 'studio', 'non', 'human', 'ground', 'population', 'hit', 'damage', 'win', 'completed', 'strong', 'towards', 'formed', 'does', 'added', 'relationship', 'washington', 'fleet', 'outside', 'initially', 'list', 'allowed', 'feet', 'council', 'runs', 'mm', 'recording', 'scored', 'joined', 'japan', 'believed', 'month', 'important', 'mi', 'average', 'european', 'kingdom', 'training', 'david', 'beginning', 'open', 'featured', 'generally', 'mother', 'ever', 'close', 'placed', 'points', 'field', 'leading', 'put', 'event', 'championship', 'go', 'case', 'post', 'every', 'scene', 'present', 'process', 'decided', 'taken', 'ten', 'society', 'others', 'far', 'campaign', 'site', 'college', 'henry', 'located', 'get', 'behind', 'almost', 'example', 'addition', 'heavy', 'killed', 'coast', 'modern', 'awards', 'body', 'works', 'established', 'features', 'started', 'once', 'william', 'soon', 'award', 'summer', 'range', 'football', 'center', 'northern', 'chart', 'television', 'station', 'director', 'central', 'fourth', 'died', 'appeared', 'together', 'thought', 'command', 'sold', 'level', 'working', 'night', 'too', 'playing', 'should', 'stage', 'critics', 'member', 'rather', 'father', 'created', 'bridge', 'james', 'performed', 'eight', 'seen', 'players', 'action', 'become', 'popular', 'areas', 'age', 'himself', 'ft', 'return', 'various', 'george', 'reached', 'success', 'law', 'away', 'australian', 'returned', 'southern', 'star', 'america', 'followed', 'race', 'red', 'office', 'front', 'announced', 'result', 'son', 'born', 'australia', 'act', 'full', 'common', 'across', 'week', 'title', 'originally', 'lead', 'head', 'project', 'writing', 'months', 'good', 'felt', 'special', 'hurricane', 'young', 'construction', 'rock', 'characters', 'low', 'fire', 'previous', 'country', 'noted', 'style', 'served', 'sea', 'church', 'western', 'control', 'seven', 'japanese', 'remained', 'attack', 'forces', 'love', 'able', 'stated', 'produced', 'highway', 'tour', 'me', 'songs', 'include', 'per', 'making', 'light', 'throughout', 'women', 'upon', 'instead', 'right', 'less', 'sent', 'gave', 'using', 'ships', 'track', 'developed', 'miles', 'ii', 'political', 'reported', 'how', 'recorded', 'london', 'live', 'royal', 'aircraft', 'given', 'half', 'short', 'few', 'performance', 'eventually', 're', 'international', 'period', 'different', 'street', 'building', 'lost', 'published', 'order', 'similar', 'total', 'land', 'take', 'french', 'position', 'run', 'went', 'tropical', 'court', 'never', 'england', 'my', 'white', 'considered', 'island', 'design', 'form', 'military', 'water', 'development', 'class', 'english', 'local', 'former', 'party', 'little', 'though', 'despite', 'version', 'continued', 'children', 'support', 'career', 'park', 'moved', 'again', 'university', 'match', 'written', 'point', 'town', 'storm', 'built', 'story', 'side', 'service', 'came', 'often', 'president', 'player', 'book', 'play', 'having', 'do', 'further', 'black', 'held', 'february', 'german', 'without', 'air', 'make', 'ship', 'public', 'days', 'among', 'great', 'small', 'release', 'old', 'named', 'power', 'club', 'wrote', 'way', 'times', 'species', 'role', 'county', 'name', 'video', 'we', 'even', 'battle', 'won', 'river', 'men', 'now', 'members', 'next', 'top', 'division', 'production', 'very', 'man', 'last', 'described', 'league', 'company', 'late', 'original', 'de', 'within', 'road', 'st', 'just', 'history', 'own', 'near', 'character', 'single', 'included', 'april', 'led', 'left', 'record', 'january', 'force', 'large', 'death', 'major', 'set', 'according', 'based', 'band', 'much', 'due', 'six', 'still', 'those', 'december', 'home', 'east', 'main', 'route', 'place', 'family', 'will', 'system', 'third', 'down', 'king', 'line', 'house', 'general', 'army', 'played', 'august', 'york', 'july', 'october', 'john', 'games', 'area', 'what', 'use', 'march', 'off', 'november', 'any', 'school', 'found', 'another', 'five', 'century', 'group', 'back', 'show', 'around', 'government', 'long', 'west', 'along', 'received', 'took', 'june', 'september', 'km', 'final', 'you', 'end', 'same', 'national', 'us', 'life', 'began', 'if', 'high', 'people', 'like', 'until', 'because', 'million', 'best', 'british', 'since', 'american', 'called', 'each', 'although', 'released', 'could', 'said', 'did', 'work', 'following', 'south', 'states', 'episode', 'music', 'so', 'united', 'known', 'under', 'four', 'part', 'early', 'became', 'including', 'can', 'number', 'through', 'day', 'well', 'state', 'used', 'against', 'them', 'north', 'several', 'series', 'these', 'many', 'however', 'team', 'being', 'no', 'album', 'years', 'world', 'city', 'song', 'both', 'war', 'then', 'such', 'second', 'season', 'where', 'before', 'film', 'made', 'year', 'may', 'there', 'some', 'between', 'three', 'about', 'than', 'up', 'most', 'out', 'later', 'only', 'th', 'him', 'game', 'while', 'over', 'more', 'all', 'into', 'other', 'would', 'during', 'time', 'when', 'she', 'new', 'has', 'been', 'who', 'or', 'have', 'two', 'they', 'its', 'her', 'also', 'one', 'after', 'not', 'their', 'first', 'are', 'but', 'this', 'be', 'had', 'which', 'an', 'were', 'it', 'from', 'he', 'his', 'at', 'is', 'by', 'with', 'that', 'for', 'as', 'on', 'was', 'to', 'in', 'and', 'of', 'the']\n"
     ]
    }
   ],
   "source": [
    "indexes_wiki_top1000 = np.argsort(count_words_wiki)[-1000:]\n",
    "counts_wiki_top1000 = np.sort(count_words_wiki)[-1000:]\n",
    "\n",
    "words_top_wiki = []\n",
    "for i in indexes_wiki_top1000:\n",
    "    words_top_wiki.append(names_wiki[i])\n",
    "\n",
    "print(words_top_wiki)"
   ]
  },
  {
   "cell_type": "code",
   "execution_count": 50,
   "metadata": {},
   "outputs": [
    {
     "data": {
      "text/html": [
       "\n",
       "\n",
       "    <div class=\"bk-root\">\n",
       "        <div class=\"bk-plotdiv\" id=\"2c53feb7-3937-49f4-9a82-3d7a02c9b1b5\"></div>\n",
       "    </div>\n",
       "<script type=\"text/javascript\">\n",
       "  \n",
       "  (function(global) {\n",
       "    function now() {\n",
       "      return new Date();\n",
       "    }\n",
       "  \n",
       "    var force = false;\n",
       "  \n",
       "    if (typeof (window._bokeh_onload_callbacks) === \"undefined\" || force === true) {\n",
       "      window._bokeh_onload_callbacks = [];\n",
       "      window._bokeh_is_loading = undefined;\n",
       "    }\n",
       "  \n",
       "  \n",
       "    \n",
       "    if (typeof (window._bokeh_timeout) === \"undefined\" || force === true) {\n",
       "      window._bokeh_timeout = Date.now() + 0;\n",
       "      window._bokeh_failed_load = false;\n",
       "    }\n",
       "  \n",
       "    var NB_LOAD_WARNING = {'data': {'text/html':\n",
       "       \"<div style='background-color: #fdd'>\\n\"+\n",
       "       \"<p>\\n\"+\n",
       "       \"BokehJS does not appear to have successfully loaded. If loading BokehJS from CDN, this \\n\"+\n",
       "       \"may be due to a slow or bad network connection. Possible fixes:\\n\"+\n",
       "       \"</p>\\n\"+\n",
       "       \"<ul>\\n\"+\n",
       "       \"<li>re-rerun `output_notebook()` to attempt to load from CDN again, or</li>\\n\"+\n",
       "       \"<li>use INLINE resources instead, as so:</li>\\n\"+\n",
       "       \"</ul>\\n\"+\n",
       "       \"<code>\\n\"+\n",
       "       \"from bokeh.resources import INLINE\\n\"+\n",
       "       \"output_notebook(resources=INLINE)\\n\"+\n",
       "       \"</code>\\n\"+\n",
       "       \"</div>\"}};\n",
       "  \n",
       "    function display_loaded() {\n",
       "      if (window.Bokeh !== undefined) {\n",
       "        document.getElementById(\"2c53feb7-3937-49f4-9a82-3d7a02c9b1b5\").textContent = \"BokehJS successfully loaded.\";\n",
       "      } else if (Date.now() < window._bokeh_timeout) {\n",
       "        setTimeout(display_loaded, 100)\n",
       "      }\n",
       "    }\n",
       "  \n",
       "    function run_callbacks() {\n",
       "      window._bokeh_onload_callbacks.forEach(function(callback) { callback() });\n",
       "      delete window._bokeh_onload_callbacks\n",
       "      console.info(\"Bokeh: all callbacks have finished\");\n",
       "    }\n",
       "  \n",
       "    function load_libs(js_urls, callback) {\n",
       "      window._bokeh_onload_callbacks.push(callback);\n",
       "      if (window._bokeh_is_loading > 0) {\n",
       "        console.log(\"Bokeh: BokehJS is being loaded, scheduling callback at\", now());\n",
       "        return null;\n",
       "      }\n",
       "      if (js_urls == null || js_urls.length === 0) {\n",
       "        run_callbacks();\n",
       "        return null;\n",
       "      }\n",
       "      console.log(\"Bokeh: BokehJS not loaded, scheduling load and callback at\", now());\n",
       "      window._bokeh_is_loading = js_urls.length;\n",
       "      for (var i = 0; i < js_urls.length; i++) {\n",
       "        var url = js_urls[i];\n",
       "        var s = document.createElement('script');\n",
       "        s.src = url;\n",
       "        s.async = false;\n",
       "        s.onreadystatechange = s.onload = function() {\n",
       "          window._bokeh_is_loading--;\n",
       "          if (window._bokeh_is_loading === 0) {\n",
       "            console.log(\"Bokeh: all BokehJS libraries loaded\");\n",
       "            run_callbacks()\n",
       "          }\n",
       "        };\n",
       "        s.onerror = function() {\n",
       "          console.warn(\"failed to load library \" + url);\n",
       "        };\n",
       "        console.log(\"Bokeh: injecting script tag for BokehJS library: \", url);\n",
       "        document.getElementsByTagName(\"head\")[0].appendChild(s);\n",
       "      }\n",
       "    };var element = document.getElementById(\"2c53feb7-3937-49f4-9a82-3d7a02c9b1b5\");\n",
       "    if (element == null) {\n",
       "      console.log(\"Bokeh: ERROR: autoload.js configured with elementid '2c53feb7-3937-49f4-9a82-3d7a02c9b1b5' but no matching script tag was found. \")\n",
       "      return false;\n",
       "    }\n",
       "  \n",
       "    var js_urls = [];\n",
       "  \n",
       "    var inline_js = [\n",
       "      function(Bokeh) {\n",
       "        (function() {\n",
       "          var fn = function() {\n",
       "            var docs_json = {\"4442069a-efb5-44a7-bf79-fb21de8f3823\":{\"roots\":{\"references\":[{\"attributes\":{},\"id\":\"c3f0d548-f675-4c64-84bb-7198ac902b5a\",\"type\":\"BasicTickFormatter\"},{\"attributes\":{\"active_drag\":\"auto\",\"active_scroll\":\"auto\",\"active_tap\":\"auto\",\"tools\":[{\"id\":\"c3501769-34e4-4241-ba35-fcda4a4c664e\",\"type\":\"PanTool\"},{\"id\":\"2e895a97-ee7d-48b0-b8b7-0e215b5ef656\",\"type\":\"WheelZoomTool\"},{\"id\":\"d062e265-9375-419b-8f6d-feb31d072f93\",\"type\":\"ResetTool\"},{\"id\":\"c38dee34-c111-4e8d-b6d2-f50d689c0faa\",\"type\":\"SaveTool\"}]},\"id\":\"c3ccdb9c-d9cb-4634-9132-44e8aacd0565\",\"type\":\"Toolbar\"},{\"attributes\":{\"data_source\":{\"id\":\"a8e54306-293d-4166-93e0-9a1b79bdd1bc\",\"type\":\"ColumnDataSource\"},\"glyph\":{\"id\":\"0a2bad85-3aaf-4b77-ae3b-d5461cc903c3\",\"type\":\"Quad\"},\"hover_glyph\":null,\"nonselection_glyph\":{\"id\":\"632610c4-3c61-4a2a-8395-8ed979c5057b\",\"type\":\"Quad\"},\"selection_glyph\":null},\"id\":\"98a04b70-4f8a-4011-b3fd-18298469eb66\",\"type\":\"GlyphRenderer\"},{\"attributes\":{},\"id\":\"8e4a0511-9502-4fc7-93fc-182a803cf011\",\"type\":\"BasicTicker\"},{\"attributes\":{},\"id\":\"9771dc84-8d72-48b3-9f27-a6f76bc36d40\",\"type\":\"BasicTickFormatter\"},{\"attributes\":{\"callback\":null},\"id\":\"620e4ec7-0baa-4d73-809f-74ec3d059126\",\"type\":\"DataRange1d\"},{\"attributes\":{},\"id\":\"dd1fe210-6865-4322-b05b-cbf23f5f47a6\",\"type\":\"BasicTicker\"},{\"attributes\":{},\"id\":\"7e7f9e88-fffe-4a2b-bc79-ee06146d7ed4\",\"type\":\"ToolEvents\"},{\"attributes\":{\"bottom\":{\"value\":0},\"fill_alpha\":{\"value\":0.1},\"fill_color\":{\"value\":\"#1f77b4\"},\"left\":{\"field\":\"left\"},\"line_alpha\":{\"value\":0.1},\"line_color\":{\"value\":\"#1f77b4\"},\"right\":{\"field\":\"right\"},\"top\":{\"field\":\"top\"}},\"id\":\"632610c4-3c61-4a2a-8395-8ed979c5057b\",\"type\":\"Quad\"},{\"attributes\":{\"formatter\":{\"id\":\"9771dc84-8d72-48b3-9f27-a6f76bc36d40\",\"type\":\"BasicTickFormatter\"},\"plot\":{\"id\":\"5e7a0bcd-7e59-465e-8cd7-5954ae189bed\",\"subtype\":\"Figure\",\"type\":\"Plot\"},\"ticker\":{\"id\":\"8e4a0511-9502-4fc7-93fc-182a803cf011\",\"type\":\"BasicTicker\"}},\"id\":\"8fe429e6-5520-4fb1-98c0-a1567eff34f8\",\"type\":\"LinearAxis\"},{\"attributes\":{\"dimension\":1,\"plot\":{\"id\":\"5e7a0bcd-7e59-465e-8cd7-5954ae189bed\",\"subtype\":\"Figure\",\"type\":\"Plot\"},\"ticker\":{\"id\":\"8e4a0511-9502-4fc7-93fc-182a803cf011\",\"type\":\"BasicTicker\"}},\"id\":\"3049f177-cec5-49bf-b50c-1db6a9e8417f\",\"type\":\"Grid\"},{\"attributes\":{\"plot\":{\"id\":\"5e7a0bcd-7e59-465e-8cd7-5954ae189bed\",\"subtype\":\"Figure\",\"type\":\"Plot\"}},\"id\":\"c3501769-34e4-4241-ba35-fcda4a4c664e\",\"type\":\"PanTool\"},{\"attributes\":{\"bottom\":{\"value\":0},\"fill_color\":{\"value\":\"#1f77b4\"},\"left\":{\"field\":\"left\"},\"line_color\":{\"value\":\"#555555\"},\"right\":{\"field\":\"right\"},\"top\":{\"field\":\"top\"}},\"id\":\"0a2bad85-3aaf-4b77-ae3b-d5461cc903c3\",\"type\":\"Quad\"},{\"attributes\":{\"callback\":null},\"id\":\"e32da6cd-32bf-4a2d-b443-7ac34f49c872\",\"type\":\"DataRange1d\"},{\"attributes\":{\"below\":[{\"id\":\"fc671822-bef1-4429-90eb-b88de56d65f8\",\"type\":\"LinearAxis\"}],\"left\":[{\"id\":\"8fe429e6-5520-4fb1-98c0-a1567eff34f8\",\"type\":\"LinearAxis\"}],\"renderers\":[{\"id\":\"fc671822-bef1-4429-90eb-b88de56d65f8\",\"type\":\"LinearAxis\"},{\"id\":\"0fc67620-0d17-43f1-abf8-d09aae0e4078\",\"type\":\"Grid\"},{\"id\":\"8fe429e6-5520-4fb1-98c0-a1567eff34f8\",\"type\":\"LinearAxis\"},{\"id\":\"3049f177-cec5-49bf-b50c-1db6a9e8417f\",\"type\":\"Grid\"},{\"id\":\"98a04b70-4f8a-4011-b3fd-18298469eb66\",\"type\":\"GlyphRenderer\"}],\"title\":{\"id\":\"3aac92cf-5338-4e60-b157-4225e73ca93d\",\"type\":\"Title\"},\"tool_events\":{\"id\":\"7e7f9e88-fffe-4a2b-bc79-ee06146d7ed4\",\"type\":\"ToolEvents\"},\"toolbar\":{\"id\":\"c3ccdb9c-d9cb-4634-9132-44e8aacd0565\",\"type\":\"Toolbar\"},\"toolbar_location\":\"above\",\"x_range\":{\"id\":\"620e4ec7-0baa-4d73-809f-74ec3d059126\",\"type\":\"DataRange1d\"},\"y_range\":{\"id\":\"e32da6cd-32bf-4a2d-b443-7ac34f49c872\",\"type\":\"DataRange1d\"}},\"id\":\"5e7a0bcd-7e59-465e-8cd7-5954ae189bed\",\"subtype\":\"Figure\",\"type\":\"Plot\"},{\"attributes\":{\"plot\":{\"id\":\"5e7a0bcd-7e59-465e-8cd7-5954ae189bed\",\"subtype\":\"Figure\",\"type\":\"Plot\"},\"ticker\":{\"id\":\"dd1fe210-6865-4322-b05b-cbf23f5f47a6\",\"type\":\"BasicTicker\"}},\"id\":\"0fc67620-0d17-43f1-abf8-d09aae0e4078\",\"type\":\"Grid\"},{\"attributes\":{\"plot\":{\"id\":\"5e7a0bcd-7e59-465e-8cd7-5954ae189bed\",\"subtype\":\"Figure\",\"type\":\"Plot\"}},\"id\":\"c38dee34-c111-4e8d-b6d2-f50d689c0faa\",\"type\":\"SaveTool\"},{\"attributes\":{\"plot\":{\"id\":\"5e7a0bcd-7e59-465e-8cd7-5954ae189bed\",\"subtype\":\"Figure\",\"type\":\"Plot\"}},\"id\":\"d062e265-9375-419b-8f6d-feb31d072f93\",\"type\":\"ResetTool\"},{\"attributes\":{\"callback\":null,\"column_names\":[\"left\",\"right\",\"top\"],\"data\":{\"left\":{\"__ndarray__\":\"AAAAAADAUkBmZmZmZoSCQGZmZmZmWJFAmZmZmZlumUBmZmZmZsKgQAAAAACAzaRAmZmZmZnYqEAyMzMzs+OsQGZmZmZmd7BAMzMzM/N8skAAAAAAgIK0QMzMzMwMiLZAmZmZmZmNuEBmZmZmJpO6QDIzMzOzmLxA/////z+evkBmZmZm5lHAQMzMzMysVMFAMzMzM3NXwkCZmZmZOVrDQAAAAAAAXcRAZmZmZsZfxUDMzMzMjGLGQDMzMzNTZcdAmZmZmRloyED/////32rJQGZmZmambcpAzMzMzGxwy0AyMzMzM3PMQJmZmZn5dc1A/////794zkBmZmZmhnvPQGZmZmYmP9BAmZmZmYnA0EDMzMzM7EHRQAAAAABQw9FAMzMzM7NE0kBmZmZmFsbSQJmZmZl5R9NAzMzMzNzI00AAAAAAQErUQDMzMzOjy9RAZmZmZgZN1UCZmZmZac7VQMzMzMzMT9ZA/////y/R1kAzMzMzk1LXQGZmZmb209dAmZmZmVlV2EDMzMzMvNbYQP////8fWNlAMzMzM4PZ2UBmZmZm5lraQJmZmZlJ3NpAzMzMzKxd20D/////D9/bQDIzMzNzYNxAZmZmZtbh3ECZmZmZOWPdQMzMzMyc5N1A//////9l3kAyMzMzY+feQGZmZmbGaN9AmZmZmSnq30BmZmZmxjXgQAAAAAB4duBAmZmZmSm34EAzMzMz2/fgQMzMzMyMOOFAZmZmZj554UAAAAAA8LnhQJmZmZmh+uFAMzMzM1M74kDMzMzMBHziQGZmZma2vOJAAAAAAGj94kCZmZmZGT7jQDMzMzPLfuNAzMzMzHy/40BmZmZmLgDkQAAAAADgQORAmZmZmZGB5EAzMzMzQ8LkQMzMzMz0AuVAZmZmZqZD5UD/////V4TlQJmZmZkJxeVAMzMzM7sF5kDMzMzMbEbmQGZmZmYeh+ZA/////8/H5kCZmZmZgQjnQDMzMzMzSedAzMzMzOSJ50BmZmZmlsrnQP////9HC+hAmZmZmflL6EAzMzMzq4zoQMzMzMxczehAZmZmZg4O6UA=\",\"dtype\":\"float64\",\"shape\":[100]},\"right\":{\"__ndarray__\":\"ZmZmZmaEgkBmZmZmZliRQJmZmZmZbplAZmZmZmbCoEAAAAAAgM2kQJmZmZmZ2KhAMjMzM7PjrEBmZmZmZnewQDMzMzPzfLJAAAAAAICCtEDMzMzMDIi2QJmZmZmZjbhAZmZmZiaTukAyMzMzs5i8QP////8/nr5AZmZmZuZRwEDMzMzMrFTBQDMzMzNzV8JAmZmZmTlaw0AAAAAAAF3EQGZmZmbGX8VAzMzMzIxixkAzMzMzU2XHQJmZmZkZaMhA/////99qyUBmZmZmpm3KQMzMzMxscMtAMjMzMzNzzECZmZmZ+XXNQP////+/eM5AZmZmZoZ7z0BmZmZmJj/QQJmZmZmJwNBAzMzMzOxB0UAAAAAAUMPRQDMzMzOzRNJAZmZmZhbG0kCZmZmZeUfTQMzMzMzcyNNAAAAAAEBK1EAzMzMzo8vUQGZmZmYGTdVAmZmZmWnO1UDMzMzMzE/WQP////8v0dZAMzMzM5NS10BmZmZm9tPXQJmZmZlZVdhAzMzMzLzW2ED/////H1jZQDMzMzOD2dlAZmZmZuZa2kCZmZmZSdzaQMzMzMysXdtA/////w/f20AyMzMzc2DcQGZmZmbW4dxAmZmZmTlj3UDMzMzMnOTdQP//////Zd5AMjMzM2Pn3kBmZmZmxmjfQJmZmZkp6t9AZmZmZsY14EAAAAAAeHbgQJmZmZkpt+BAMzMzM9v34EDMzMzMjDjhQGZmZmY+eeFAAAAAAPC54UCZmZmZofrhQDMzMzNTO+JAzMzMzAR84kBmZmZmtrziQAAAAABo/eJAmZmZmRk+40AzMzMzy37jQMzMzMx8v+NAZmZmZi4A5EAAAAAA4EDkQJmZmZmRgeRAMzMzM0PC5EDMzMzM9ALlQGZmZmamQ+VA/////1eE5UCZmZmZCcXlQDMzMzO7BeZAzMzMzGxG5kBmZmZmHofmQP/////Px+ZAmZmZmYEI50AzMzMzM0nnQMzMzMzkiedAZmZmZpbK50D/////RwvoQJmZmZn5S+hAMzMzM6uM6EDMzMzMXM3oQGZmZmYODulAAAAAAMBO6UA=\",\"dtype\":\"float64\",\"shape\":[100]},\"top\":{\"__ndarray__\":\"XfBYlzxAXT/IZFcN/rYQP+gbyXFTNQA/4mI7TqhC5D7aqa0q/U/YPuobyXFTNcA+6hvJcVM14D7mG8lxUzXAPuYbyXFTNcA+5hvJcVM10D7vG8lxUzXQPuYbyXFTNdA+AAAAAAAAAAAAAAAAAAAAAAAAAAAAAAAAAAAAAAAAAADvG8lxUzXAPgAAAAAAAAAAAAAAAAAAAAAAAAAAAAAAAAAAAAAAAAAAAAAAAAAAAAAAAAAAAAAAAAAAAAAAAAAAAAAAAAAAAAAAAAAAAAAAAAAAAAAAAAAAAAAAAAAAAAAAAAAAAAAAAAAAAAAAAAAAAAAAAAAAAADvG8lxUzXAPgAAAAAAAAAA7xvJcVM1wD4AAAAAAAAAAAAAAAAAAAAAAAAAAAAAAAAAAAAAAAAAAO8byXFTNcA+AAAAAAAAAAAAAAAAAAAAAAAAAAAAAAAA7xvJcVM1wD4AAAAAAAAAAAAAAAAAAAAAAAAAAAAAAAAAAAAAAAAAAAAAAAAAAAAAAAAAAAAAAAAAAAAAAAAAAAAAAAAAAAAAAAAAAAAAAAAAAAAAAAAAAAAAAAAAAAAAAAAAAAAAAAAAAAAAAAAAAAAAAAAAAAAAAAAAAAAAAAAAAAAAAAAAAAAAAAAAAAAAAAAAAAAAAAAAAAAAAAAAAAAAAAAAAAAAAAAAAAAAAAAAAAAAAAAAAAAAAAAAAAAAAAAAAAAAAAAAAAAAAAAAAAAAAAAAAAAAAAAAAAAAAAAAAAAAAAAAAAAAAAAAAAAAAAAAAAAAAAAAAAAAAAAAAAAAAAAAAAAAAAAAAAAAAAAAAAAAAAAAAAAAAAAAAAAAAAAAAAAAAAAAAAAAAAAAAAAAAAAAAAAAAAAAAAAAAAAAAAAAAAAAAAAAAAAAAAAAAAAAAAAAAAAAAAAAAAAAAAAAAAAAAAAAAAAAAAAAAAAAAAAAAAAAAAAAAAAAAAAAAAAAAAAAAAAAAAAAAAAAAAAAAAAAAAAAAAAAAAAAAAAAAAAAAAAAAAAAAAAAAAAAAAAAAAAAAAAAAAAAAAAAAAAAAAAAAAAAzhvJcVM1wD4=\",\"dtype\":\"float64\",\"shape\":[100]}}},\"id\":\"a8e54306-293d-4166-93e0-9a1b79bdd1bc\",\"type\":\"ColumnDataSource\"},{\"attributes\":{\"formatter\":{\"id\":\"c3f0d548-f675-4c64-84bb-7198ac902b5a\",\"type\":\"BasicTickFormatter\"},\"plot\":{\"id\":\"5e7a0bcd-7e59-465e-8cd7-5954ae189bed\",\"subtype\":\"Figure\",\"type\":\"Plot\"},\"ticker\":{\"id\":\"dd1fe210-6865-4322-b05b-cbf23f5f47a6\",\"type\":\"BasicTicker\"}},\"id\":\"fc671822-bef1-4429-90eb-b88de56d65f8\",\"type\":\"LinearAxis\"},{\"attributes\":{\"plot\":null,\"text\":\"Top-1000 words distribution\"},\"id\":\"3aac92cf-5338-4e60-b157-4225e73ca93d\",\"type\":\"Title\"},{\"attributes\":{\"plot\":{\"id\":\"5e7a0bcd-7e59-465e-8cd7-5954ae189bed\",\"subtype\":\"Figure\",\"type\":\"Plot\"}},\"id\":\"2e895a97-ee7d-48b0-b8b7-0e215b5ef656\",\"type\":\"WheelZoomTool\"}],\"root_ids\":[\"5e7a0bcd-7e59-465e-8cd7-5954ae189bed\"]},\"title\":\"Bokeh Application\",\"version\":\"0.12.4\"}};\n",
       "            var render_items = [{\"docid\":\"4442069a-efb5-44a7-bf79-fb21de8f3823\",\"elementid\":\"2c53feb7-3937-49f4-9a82-3d7a02c9b1b5\",\"modelid\":\"5e7a0bcd-7e59-465e-8cd7-5954ae189bed\"}];\n",
       "            \n",
       "            Bokeh.embed.embed_items(docs_json, render_items);\n",
       "          };\n",
       "          if (document.readyState != \"loading\") fn();\n",
       "          else document.addEventListener(\"DOMContentLoaded\", fn);\n",
       "        })();\n",
       "      },\n",
       "      function(Bokeh) {\n",
       "      }\n",
       "    ];\n",
       "  \n",
       "    function run_inline_js() {\n",
       "      \n",
       "      if ((window.Bokeh !== undefined) || (force === true)) {\n",
       "        for (var i = 0; i < inline_js.length; i++) {\n",
       "          inline_js[i](window.Bokeh);\n",
       "        }if (force === true) {\n",
       "          display_loaded();\n",
       "        }} else if (Date.now() < window._bokeh_timeout) {\n",
       "        setTimeout(run_inline_js, 100);\n",
       "      } else if (!window._bokeh_failed_load) {\n",
       "        console.log(\"Bokeh: BokehJS failed to load within specified timeout.\");\n",
       "        window._bokeh_failed_load = true;\n",
       "      } else if (force !== true) {\n",
       "        var cell = $(document.getElementById(\"2c53feb7-3937-49f4-9a82-3d7a02c9b1b5\")).parents('.cell').data().cell;\n",
       "        cell.output_area.append_execute_result(NB_LOAD_WARNING)\n",
       "      }\n",
       "  \n",
       "    }\n",
       "  \n",
       "    if (window._bokeh_is_loading === 0) {\n",
       "      console.log(\"Bokeh: BokehJS loaded, going straight to plotting\");\n",
       "      run_inline_js();\n",
       "    } else {\n",
       "      load_libs(js_urls, function() {\n",
       "        console.log(\"Bokeh: BokehJS plotting callback run at\", now());\n",
       "        run_inline_js();\n",
       "      });\n",
       "    }\n",
       "  }(this));\n",
       "</script>"
      ]
     },
     "metadata": {},
     "output_type": "display_data"
    }
   ],
   "source": [
    "hist, edges = np.histogram(counts_wiki_top1000, density=True, bins=100, normed=True)\n",
    "\n",
    "p = figure(tools=\"pan,wheel_zoom,reset,save\",\n",
    "           toolbar_location=\"above\",\n",
    "           title=\"Top-1000 words distribution\")\n",
    "p.quad(top=hist, bottom=0, left=edges[:-1], right=edges[1:], line_color=\"#555555\")\n",
    "\n",
    "show(p)"
   ]
  },
  {
   "cell_type": "code",
   "execution_count": 51,
   "metadata": {
    "collapsed": true
   },
   "outputs": [],
   "source": [
    "#model_wiki = Word2Vec(sentences_wiki_tokenized, size=100, window=5, min_count=5, workers=4)\n",
    "#model_wiki.save('model_wiki')"
   ]
  },
  {
   "cell_type": "code",
   "execution_count": 52,
   "metadata": {},
   "outputs": [
    {
     "data": {
      "text/plain": [
       "[('intimate', 0.9800007343292236),\n",
       " ('job', 0.9799379706382751),\n",
       " ('child', 0.9787692427635193),\n",
       " ('interview', 0.9738097190856934),\n",
       " ('script', 0.9694739580154419),\n",
       " ('kind', 0.9687577486038208),\n",
       " ('mistake', 0.9684147238731384),\n",
       " ('voice', 0.9675799012184143),\n",
       " ('looked', 0.9675579071044922),\n",
       " ('instrument', 0.9658246040344238)]"
      ]
     },
     "execution_count": 52,
     "metadata": {},
     "output_type": "execute_result"
    }
   ],
   "source": [
    "model_wiki = Word2Vec.load('model_wiki')\n",
    "model_wiki.most_similar(\"man\")"
   ]
  },
  {
   "cell_type": "code",
   "execution_count": 53,
   "metadata": {},
   "outputs": [
    {
     "data": {
      "text/plain": [
       "[('flood', 0.9952467679977417),\n",
       " ('allegations', 0.9934673309326172),\n",
       " ('dawn', 0.993462324142456),\n",
       " ('conservatives', 0.9921740293502808),\n",
       " ('tie', 0.9918414354324341),\n",
       " ('gomez', 0.9917268753051758),\n",
       " ('sale', 0.9916478395462036),\n",
       " ('phillips', 0.9916264414787292),\n",
       " ('violence', 0.9916070103645325),\n",
       " ('shooting', 0.9915851950645447)]"
      ]
     },
     "execution_count": 53,
     "metadata": {},
     "output_type": "execute_result"
    }
   ],
   "source": [
    "model_wiki.most_similar(\"computer\")"
   ]
  },
  {
   "cell_type": "markdown",
   "metadata": {},
   "source": [
    "#### t-SNE visualization"
   ]
  },
  {
   "cell_type": "code",
   "execution_count": 54,
   "metadata": {
    "collapsed": true
   },
   "outputs": [],
   "source": [
    "# This assumes words_top_wiki is a list of strings, the top 1000 words\n",
    "words_top_vec_wiki = model_wiki[words_top_wiki]\n",
    "\n",
    "tsne = TSNE(n_components=2, random_state=0)\n",
    "words_top_wiki_tsne = tsne.fit_transform(words_top_vec_wiki)"
   ]
  },
  {
   "cell_type": "code",
   "execution_count": 55,
   "metadata": {
    "scrolled": true
   },
   "outputs": [
    {
     "data": {
      "text/html": [
       "\n",
       "\n",
       "    <div class=\"bk-root\">\n",
       "        <div class=\"bk-plotdiv\" id=\"db04c3b0-c4a3-4b41-b809-02ea58e75a05\"></div>\n",
       "    </div>\n",
       "<script type=\"text/javascript\">\n",
       "  \n",
       "  (function(global) {\n",
       "    function now() {\n",
       "      return new Date();\n",
       "    }\n",
       "  \n",
       "    var force = false;\n",
       "  \n",
       "    if (typeof (window._bokeh_onload_callbacks) === \"undefined\" || force === true) {\n",
       "      window._bokeh_onload_callbacks = [];\n",
       "      window._bokeh_is_loading = undefined;\n",
       "    }\n",
       "  \n",
       "  \n",
       "    \n",
       "    if (typeof (window._bokeh_timeout) === \"undefined\" || force === true) {\n",
       "      window._bokeh_timeout = Date.now() + 0;\n",
       "      window._bokeh_failed_load = false;\n",
       "    }\n",
       "  \n",
       "    var NB_LOAD_WARNING = {'data': {'text/html':\n",
       "       \"<div style='background-color: #fdd'>\\n\"+\n",
       "       \"<p>\\n\"+\n",
       "       \"BokehJS does not appear to have successfully loaded. If loading BokehJS from CDN, this \\n\"+\n",
       "       \"may be due to a slow or bad network connection. Possible fixes:\\n\"+\n",
       "       \"</p>\\n\"+\n",
       "       \"<ul>\\n\"+\n",
       "       \"<li>re-rerun `output_notebook()` to attempt to load from CDN again, or</li>\\n\"+\n",
       "       \"<li>use INLINE resources instead, as so:</li>\\n\"+\n",
       "       \"</ul>\\n\"+\n",
       "       \"<code>\\n\"+\n",
       "       \"from bokeh.resources import INLINE\\n\"+\n",
       "       \"output_notebook(resources=INLINE)\\n\"+\n",
       "       \"</code>\\n\"+\n",
       "       \"</div>\"}};\n",
       "  \n",
       "    function display_loaded() {\n",
       "      if (window.Bokeh !== undefined) {\n",
       "        document.getElementById(\"db04c3b0-c4a3-4b41-b809-02ea58e75a05\").textContent = \"BokehJS successfully loaded.\";\n",
       "      } else if (Date.now() < window._bokeh_timeout) {\n",
       "        setTimeout(display_loaded, 100)\n",
       "      }\n",
       "    }\n",
       "  \n",
       "    function run_callbacks() {\n",
       "      window._bokeh_onload_callbacks.forEach(function(callback) { callback() });\n",
       "      delete window._bokeh_onload_callbacks\n",
       "      console.info(\"Bokeh: all callbacks have finished\");\n",
       "    }\n",
       "  \n",
       "    function load_libs(js_urls, callback) {\n",
       "      window._bokeh_onload_callbacks.push(callback);\n",
       "      if (window._bokeh_is_loading > 0) {\n",
       "        console.log(\"Bokeh: BokehJS is being loaded, scheduling callback at\", now());\n",
       "        return null;\n",
       "      }\n",
       "      if (js_urls == null || js_urls.length === 0) {\n",
       "        run_callbacks();\n",
       "        return null;\n",
       "      }\n",
       "      console.log(\"Bokeh: BokehJS not loaded, scheduling load and callback at\", now());\n",
       "      window._bokeh_is_loading = js_urls.length;\n",
       "      for (var i = 0; i < js_urls.length; i++) {\n",
       "        var url = js_urls[i];\n",
       "        var s = document.createElement('script');\n",
       "        s.src = url;\n",
       "        s.async = false;\n",
       "        s.onreadystatechange = s.onload = function() {\n",
       "          window._bokeh_is_loading--;\n",
       "          if (window._bokeh_is_loading === 0) {\n",
       "            console.log(\"Bokeh: all BokehJS libraries loaded\");\n",
       "            run_callbacks()\n",
       "          }\n",
       "        };\n",
       "        s.onerror = function() {\n",
       "          console.warn(\"failed to load library \" + url);\n",
       "        };\n",
       "        console.log(\"Bokeh: injecting script tag for BokehJS library: \", url);\n",
       "        document.getElementsByTagName(\"head\")[0].appendChild(s);\n",
       "      }\n",
       "    };var element = document.getElementById(\"db04c3b0-c4a3-4b41-b809-02ea58e75a05\");\n",
       "    if (element == null) {\n",
       "      console.log(\"Bokeh: ERROR: autoload.js configured with elementid 'db04c3b0-c4a3-4b41-b809-02ea58e75a05' but no matching script tag was found. \")\n",
       "      return false;\n",
       "    }\n",
       "  \n",
       "    var js_urls = [];\n",
       "  \n",
       "    var inline_js = [\n",
       "      function(Bokeh) {\n",
       "        (function() {\n",
       "          var fn = function() {\n",
       "            var docs_json = {\"f9a0d919-976f-4cbe-8387-f30123139ec8\":{\"roots\":{\"references\":[{\"attributes\":{\"plot\":{\"id\":\"d3cd27b5-566f-481d-b0fe-5b4b044214af\",\"subtype\":\"Figure\",\"type\":\"Plot\"}},\"id\":\"e6818af8-3cf4-4263-a221-f1e47b18bee8\",\"type\":\"SaveTool\"},{\"attributes\":{\"formatter\":{\"id\":\"a2d3078c-ceab-44b2-89c7-81757796071a\",\"type\":\"BasicTickFormatter\"},\"plot\":{\"id\":\"d3cd27b5-566f-481d-b0fe-5b4b044214af\",\"subtype\":\"Figure\",\"type\":\"Plot\"},\"ticker\":{\"id\":\"28b00d1b-3260-4fcf-a6f9-90a1225a44ad\",\"type\":\"BasicTicker\"}},\"id\":\"0f1c8a65-cf43-4d6e-978d-c60d157ad2c6\",\"type\":\"LinearAxis\"},{\"attributes\":{\"below\":[{\"id\":\"0f1c8a65-cf43-4d6e-978d-c60d157ad2c6\",\"type\":\"LinearAxis\"}],\"left\":[{\"id\":\"6910ee25-2c08-4bdc-8b4c-143f00726434\",\"type\":\"LinearAxis\"}],\"renderers\":[{\"id\":\"0f1c8a65-cf43-4d6e-978d-c60d157ad2c6\",\"type\":\"LinearAxis\"},{\"id\":\"1125cdf1-92ee-4100-a327-9449f024f9da\",\"type\":\"Grid\"},{\"id\":\"6910ee25-2c08-4bdc-8b4c-143f00726434\",\"type\":\"LinearAxis\"},{\"id\":\"96114418-83c3-4364-918e-203759dfa53e\",\"type\":\"Grid\"},{\"id\":\"72ca76eb-d179-4169-8277-8f3f81accc8b\",\"type\":\"GlyphRenderer\"},{\"id\":\"e8d3989d-cf88-46c6-94c5-a339891da399\",\"type\":\"LabelSet\"}],\"title\":{\"id\":\"932c5da3-5806-4cf9-995c-d1b038769c50\",\"type\":\"Title\"},\"tool_events\":{\"id\":\"0738a8c3-0eef-487c-842b-a8d4ba7ce003\",\"type\":\"ToolEvents\"},\"toolbar\":{\"id\":\"35e88989-0154-4fbb-924c-7f1085d2ede9\",\"type\":\"Toolbar\"},\"toolbar_location\":\"above\",\"x_range\":{\"id\":\"df6957fc-2f93-4ff1-90ef-f3721e1a90bb\",\"type\":\"DataRange1d\"},\"y_range\":{\"id\":\"b026606b-8d2f-4e3d-8ddf-0eaba802bbaf\",\"type\":\"DataRange1d\"}},\"id\":\"d3cd27b5-566f-481d-b0fe-5b4b044214af\",\"subtype\":\"Figure\",\"type\":\"Plot\"},{\"attributes\":{\"callback\":null},\"id\":\"b026606b-8d2f-4e3d-8ddf-0eaba802bbaf\",\"type\":\"DataRange1d\"},{\"attributes\":{\"plot\":{\"id\":\"d3cd27b5-566f-481d-b0fe-5b4b044214af\",\"subtype\":\"Figure\",\"type\":\"Plot\"}},\"id\":\"898227e6-857f-4666-a027-2ac5bc4f5883\",\"type\":\"PanTool\"},{\"attributes\":{\"active_drag\":\"auto\",\"active_scroll\":\"auto\",\"active_tap\":\"auto\",\"tools\":[{\"id\":\"898227e6-857f-4666-a027-2ac5bc4f5883\",\"type\":\"PanTool\"},{\"id\":\"abd0e44c-ff41-4a9d-acdc-480669c94fab\",\"type\":\"WheelZoomTool\"},{\"id\":\"1148a207-32ad-4972-b570-189bf4d4a877\",\"type\":\"ResetTool\"},{\"id\":\"e6818af8-3cf4-4263-a221-f1e47b18bee8\",\"type\":\"SaveTool\"}]},\"id\":\"35e88989-0154-4fbb-924c-7f1085d2ede9\",\"type\":\"Toolbar\"},{\"attributes\":{\"callback\":null,\"column_names\":[\"x1\",\"x2\",\"names\"],\"data\":{\"names\":[\"particular\",\"latter\",\"refused\",\"minor\",\"woman\",\"direction\",\"via\",\"theme\",\"empire\",\"contains\",\"remains\",\"increase\",\"producer\",\"mass\",\"lyrics\",\"edge\",\"minute\",\"names\",\"need\",\"era\",\"always\",\"health\",\"artist\",\"americans\",\"wind\",\"winter\",\"greatest\",\"hospital\",\"earned\",\"dance\",\"angeles\",\"intended\",\"language\",\"la\",\"actor\",\"defeated\",\"saint\",\"federal\",\"takes\",\"course\",\"atlantic\",\"rd\",\"hour\",\"smaller\",\"done\",\"schools\",\"key\",\"african\",\"edward\",\"lord\",\"pop\",\"department\",\"corps\",\"richard\",\"independent\",\"tracks\",\"things\",\"deal\",\"festival\",\"cut\",\"structure\",\"books\",\"immediately\",\"debut\",\"think\",\"your\",\"double\",\"offered\",\"martin\",\"islands\",\"performances\",\"report\",\"goals\",\"soviet\",\"museum\",\"fight\",\"railway\",\"ran\",\"includes\",\"sales\",\"male\",\"meeting\",\"marriage\",\"terms\",\"stars\",\"removed\",\"shows\",\"cost\",\"appear\",\"blue\",\"suggested\",\"percent\",\"singer\",\"yet\",\"subsequently\",\"native\",\"moving\",\"defense\",\"listed\",\"self\",\"remaining\",\"attempted\",\"tons\",\"fell\",\"reduced\",\"destroyed\",\"got\",\"trade\",\"keep\",\"wide\",\"operations\",\"copies\",\"words\",\"date\",\"themselves\",\"higher\",\"plans\",\"our\",\"might\",\"leave\",\"queen\",\"science\",\"associated\",\"changed\",\"novel\",\"raised\",\"guitar\",\"chinese\",\"respectively\",\"groups\",\"majority\",\"decision\",\"fifth\",\"china\",\"buildings\",\"christian\",\"arrived\",\"officer\",\"term\",\"numbers\",\"natural\",\"centre\",\"singles\",\"deep\",\"mixed\",\"spent\",\"composed\",\"running\",\"estimated\",\"voice\",\"al\",\"news\",\"provide\",\"give\",\"numerous\",\"entered\",\"view\",\"positive\",\"hard\",\"fact\",\"services\",\"shortly\",\"movement\",\"civil\",\"movie\",\"planned\",\"entire\",\"network\",\"los\",\"rights\",\"texas\",\"person\",\"awarded\",\"officers\",\"edition\",\"room\",\"above\",\"itself\",\"food\",\"type\",\"child\",\"influence\",\"already\",\"indian\",\"today\",\"effect\",\"larger\",\"unit\",\"elements\",\"hand\",\"praised\",\"poor\",\"wall\",\"castle\",\"upper\",\"feature\",\"nearly\",\"size\",\"nature\",\"whether\",\"virginia\",\"contract\",\"squadron\",\"social\",\"students\",\"status\",\"prior\",\"past\",\"regular\",\"winning\",\"election\",\"create\",\"experience\",\"smith\",\"asked\",\"ordered\",\"creek\",\"current\",\"initial\",\"commander\",\"naval\",\"green\",\"cover\",\"nd\",\"pressure\",\"press\",\"johnson\",\"paul\",\"face\",\"plan\",\"interest\",\"governor\",\"sometimes\",\"space\",\"extended\",\"britain\",\"introduced\",\"chicago\",\"brigade\",\"ny\",\"idea\",\"spanish\",\"bay\",\"industry\",\"speed\",\"background\",\"regiment\",\"earth\",\"grand\",\"score\",\"appointed\",\"depression\",\"compared\",\"program\",\"board\",\"private\",\"episodes\",\"required\",\"minister\",\"surface\",\"leader\",\"quickly\",\"commercial\",\"dark\",\"study\",\"material\",\"proposed\",\"effects\",\"attempt\",\"brother\",\"usually\",\"staff\",\"loss\",\"hill\",\"length\",\"passed\",\"issue\",\"port\",\"particularly\",\"previously\",\"find\",\"mark\",\"teams\",\"winds\",\"scenes\",\"business\",\"leaving\",\"limited\",\"largest\",\"appearance\",\"failed\",\"married\",\"goal\",\"available\",\"directed\",\"forced\",\"whom\",\"claimed\",\"crew\",\"future\",\"car\",\"personal\",\"told\",\"anti\",\"becoming\",\"turn\",\"significant\",\"district\",\"needed\",\"god\",\"bill\",\"whose\",\"peter\",\"female\",\"uk\",\"turned\",\"reviews\",\"especially\",\"india\",\"agreed\",\"taking\",\"overall\",\"research\",\"battalion\",\"increased\",\"shot\",\"base\",\"education\",\"brown\",\"gold\",\"changes\",\"thomas\",\"section\",\"move\",\"units\",\"additional\",\"magazine\",\"gun\",\"review\",\"village\",\"response\",\"cross\",\"real\",\"cup\",\"hours\",\"minutes\",\"change\",\"weeks\",\"lower\",\"chief\",\"money\",\"rest\",\"media\",\"opened\",\"charles\",\"carried\",\"must\",\"sound\",\"round\",\"complete\",\"reception\",\"start\",\"parts\",\"committee\",\"plot\",\"either\",\"infantry\",\"flight\",\"films\",\"nine\",\"living\",\"evidence\",\"critical\",\"brought\",\"going\",\"wife\",\"met\",\"square\",\"successful\",\"highest\",\"lake\",\"test\",\"earlier\",\"thus\",\"canada\",\"mid\",\"possible\",\"cast\",\"events\",\"ended\",\"lines\",\"provided\",\"saw\",\"troops\",\"hall\",\"mph\",\"better\",\"guns\",\"saying\",\"california\",\"operation\",\"france\",\"association\",\"co\",\"san\",\"europe\",\"free\",\"big\",\"community\",\"captain\",\"involved\",\"robert\",\"eastern\",\"navy\",\"radio\",\"signed\",\"designed\",\"victory\",\"region\",\"art\",\"caused\",\"official\",\"stone\",\"police\",\"finished\",\"middle\",\"wanted\",\"records\",\"come\",\"opening\",\"replaced\",\"union\",\"musical\",\"enough\",\"see\",\"least\",\"don\",\"worked\",\"help\",\"michael\",\"studio\",\"non\",\"human\",\"ground\",\"population\",\"hit\",\"damage\",\"win\",\"completed\",\"strong\",\"towards\",\"formed\",\"does\",\"added\",\"relationship\",\"washington\",\"fleet\",\"outside\",\"initially\",\"list\",\"allowed\",\"feet\",\"council\",\"runs\",\"mm\",\"recording\",\"scored\",\"joined\",\"japan\",\"believed\",\"month\",\"important\",\"mi\",\"average\",\"european\",\"kingdom\",\"training\",\"david\",\"beginning\",\"open\",\"featured\",\"generally\",\"mother\",\"ever\",\"close\",\"placed\",\"points\",\"field\",\"leading\",\"put\",\"event\",\"championship\",\"go\",\"case\",\"post\",\"every\",\"scene\",\"present\",\"process\",\"decided\",\"taken\",\"ten\",\"society\",\"others\",\"far\",\"campaign\",\"site\",\"college\",\"henry\",\"located\",\"get\",\"behind\",\"almost\",\"example\",\"addition\",\"heavy\",\"killed\",\"coast\",\"modern\",\"awards\",\"body\",\"works\",\"established\",\"features\",\"started\",\"once\",\"william\",\"soon\",\"award\",\"summer\",\"range\",\"football\",\"center\",\"northern\",\"chart\",\"television\",\"station\",\"director\",\"central\",\"fourth\",\"died\",\"appeared\",\"together\",\"thought\",\"command\",\"sold\",\"level\",\"working\",\"night\",\"too\",\"playing\",\"should\",\"stage\",\"critics\",\"member\",\"rather\",\"father\",\"created\",\"bridge\",\"james\",\"performed\",\"eight\",\"seen\",\"players\",\"action\",\"become\",\"popular\",\"areas\",\"age\",\"himself\",\"ft\",\"return\",\"various\",\"george\",\"reached\",\"success\",\"law\",\"away\",\"australian\",\"returned\",\"southern\",\"star\",\"america\",\"followed\",\"race\",\"red\",\"office\",\"front\",\"announced\",\"result\",\"son\",\"born\",\"australia\",\"act\",\"full\",\"common\",\"across\",\"week\",\"title\",\"originally\",\"lead\",\"head\",\"project\",\"writing\",\"months\",\"good\",\"felt\",\"special\",\"hurricane\",\"young\",\"construction\",\"rock\",\"characters\",\"low\",\"fire\",\"previous\",\"country\",\"noted\",\"style\",\"served\",\"sea\",\"church\",\"western\",\"control\",\"seven\",\"japanese\",\"remained\",\"attack\",\"forces\",\"love\",\"able\",\"stated\",\"produced\",\"highway\",\"tour\",\"me\",\"songs\",\"include\",\"per\",\"making\",\"light\",\"throughout\",\"women\",\"upon\",\"instead\",\"right\",\"less\",\"sent\",\"gave\",\"using\",\"ships\",\"track\",\"developed\",\"miles\",\"ii\",\"political\",\"reported\",\"how\",\"recorded\",\"london\",\"live\",\"royal\",\"aircraft\",\"given\",\"half\",\"short\",\"few\",\"performance\",\"eventually\",\"re\",\"international\",\"period\",\"different\",\"street\",\"building\",\"lost\",\"published\",\"order\",\"similar\",\"total\",\"land\",\"take\",\"french\",\"position\",\"run\",\"went\",\"tropical\",\"court\",\"never\",\"england\",\"my\",\"white\",\"considered\",\"island\",\"design\",\"form\",\"military\",\"water\",\"development\",\"class\",\"english\",\"local\",\"former\",\"party\",\"little\",\"though\",\"despite\",\"version\",\"continued\",\"children\",\"support\",\"career\",\"park\",\"moved\",\"again\",\"university\",\"match\",\"written\",\"point\",\"town\",\"storm\",\"built\",\"story\",\"side\",\"service\",\"came\",\"often\",\"president\",\"player\",\"book\",\"play\",\"having\",\"do\",\"further\",\"black\",\"held\",\"february\",\"german\",\"without\",\"air\",\"make\",\"ship\",\"public\",\"days\",\"among\",\"great\",\"small\",\"release\",\"old\",\"named\",\"power\",\"club\",\"wrote\",\"way\",\"times\",\"species\",\"role\",\"county\",\"name\",\"video\",\"we\",\"even\",\"battle\",\"won\",\"river\",\"men\",\"now\",\"members\",\"next\",\"top\",\"division\",\"production\",\"very\",\"man\",\"last\",\"described\",\"league\",\"company\",\"late\",\"original\",\"de\",\"within\",\"road\",\"st\",\"just\",\"history\",\"own\",\"near\",\"character\",\"single\",\"included\",\"april\",\"led\",\"left\",\"record\",\"january\",\"force\",\"large\",\"death\",\"major\",\"set\",\"according\",\"based\",\"band\",\"much\",\"due\",\"six\",\"still\",\"those\",\"december\",\"home\",\"east\",\"main\",\"route\",\"place\",\"family\",\"will\",\"system\",\"third\",\"down\",\"king\",\"line\",\"house\",\"general\",\"army\",\"played\",\"august\",\"york\",\"july\",\"october\",\"john\",\"games\",\"area\",\"what\",\"use\",\"march\",\"off\",\"november\",\"any\",\"school\",\"found\",\"another\",\"five\",\"century\",\"group\",\"back\",\"show\",\"around\",\"government\",\"long\",\"west\",\"along\",\"received\",\"took\",\"june\",\"september\",\"km\",\"final\",\"you\",\"end\",\"same\",\"national\",\"us\",\"life\",\"began\",\"if\",\"high\",\"people\",\"like\",\"until\",\"because\",\"million\",\"best\",\"british\",\"since\",\"american\",\"called\",\"each\",\"although\",\"released\",\"could\",\"said\",\"did\",\"work\",\"following\",\"south\",\"states\",\"episode\",\"music\",\"so\",\"united\",\"known\",\"under\",\"four\",\"part\",\"early\",\"became\",\"including\",\"can\",\"number\",\"through\",\"day\",\"well\",\"state\",\"used\",\"against\",\"them\",\"north\",\"several\",\"series\",\"these\",\"many\",\"however\",\"team\",\"being\",\"no\",\"album\",\"years\",\"world\",\"city\",\"song\",\"both\",\"war\",\"then\",\"such\",\"second\",\"season\",\"where\",\"before\",\"film\",\"made\",\"year\",\"may\",\"there\",\"some\",\"between\",\"three\",\"about\",\"than\",\"up\",\"most\",\"out\",\"later\",\"only\",\"th\",\"him\",\"game\",\"while\",\"over\",\"more\",\"all\",\"into\",\"other\",\"would\",\"during\",\"time\",\"when\",\"she\",\"new\",\"has\",\"been\",\"who\",\"or\",\"have\",\"two\",\"they\",\"its\",\"her\",\"also\",\"one\",\"after\",\"not\",\"their\",\"first\",\"are\",\"but\",\"this\",\"be\",\"had\",\"which\",\"an\",\"were\",\"it\",\"from\",\"he\",\"his\",\"at\",\"is\",\"by\",\"with\",\"that\",\"for\",\"as\",\"on\",\"was\",\"to\",\"in\",\"and\",\"of\",\"the\"],\"x1\":{\"__ndarray__\":\"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\",\"dtype\":\"float64\",\"shape\":[1000]},\"x2\":{\"__ndarray__\":\"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\",\"dtype\":\"float64\",\"shape\":[1000]}}},\"id\":\"04491af8-60cb-4dc8-b4fc-5d0b590f3f48\",\"type\":\"ColumnDataSource\"},{\"attributes\":{\"plot\":null,\"text\":\"word2vec T-SNE for most common words\"},\"id\":\"932c5da3-5806-4cf9-995c-d1b038769c50\",\"type\":\"Title\"},{\"attributes\":{\"data_source\":{\"id\":\"04491af8-60cb-4dc8-b4fc-5d0b590f3f48\",\"type\":\"ColumnDataSource\"},\"glyph\":{\"id\":\"6167e405-4ccf-4708-bbe7-8c39b655a6fc\",\"type\":\"Circle\"},\"hover_glyph\":null,\"nonselection_glyph\":{\"id\":\"8afe82c9-31df-467d-b9f0-6c00f0bcb0eb\",\"type\":\"Circle\"},\"selection_glyph\":null},\"id\":\"72ca76eb-d179-4169-8277-8f3f81accc8b\",\"type\":\"GlyphRenderer\"},{\"attributes\":{},\"id\":\"c7c2b4cd-de4b-4871-b4c2-efd0855b036d\",\"type\":\"BasicTickFormatter\"},{\"attributes\":{},\"id\":\"a2d3078c-ceab-44b2-89c7-81757796071a\",\"type\":\"BasicTickFormatter\"},{\"attributes\":{\"callback\":null},\"id\":\"df6957fc-2f93-4ff1-90ef-f3721e1a90bb\",\"type\":\"DataRange1d\"},{\"attributes\":{\"plot\":{\"id\":\"d3cd27b5-566f-481d-b0fe-5b4b044214af\",\"subtype\":\"Figure\",\"type\":\"Plot\"}},\"id\":\"1148a207-32ad-4972-b570-189bf4d4a877\",\"type\":\"ResetTool\"},{\"attributes\":{\"fill_alpha\":{\"value\":0.1},\"fill_color\":{\"value\":\"#1f77b4\"},\"line_alpha\":{\"value\":0.1},\"line_color\":{\"value\":\"#1f77b4\"},\"size\":{\"units\":\"screen\",\"value\":8},\"x\":{\"field\":\"x1\"},\"y\":{\"field\":\"x2\"}},\"id\":\"8afe82c9-31df-467d-b9f0-6c00f0bcb0eb\",\"type\":\"Circle\"},{\"attributes\":{\"plot\":{\"id\":\"d3cd27b5-566f-481d-b0fe-5b4b044214af\",\"subtype\":\"Figure\",\"type\":\"Plot\"}},\"id\":\"abd0e44c-ff41-4a9d-acdc-480669c94fab\",\"type\":\"WheelZoomTool\"},{\"attributes\":{},\"id\":\"97f229f3-da5e-4310-957b-01d72cb586d3\",\"type\":\"BasicTicker\"},{\"attributes\":{\"plot\":{\"id\":\"d3cd27b5-566f-481d-b0fe-5b4b044214af\",\"subtype\":\"Figure\",\"type\":\"Plot\"},\"ticker\":{\"id\":\"28b00d1b-3260-4fcf-a6f9-90a1225a44ad\",\"type\":\"BasicTicker\"}},\"id\":\"1125cdf1-92ee-4100-a327-9449f024f9da\",\"type\":\"Grid\"},{\"attributes\":{\"formatter\":{\"id\":\"c7c2b4cd-de4b-4871-b4c2-efd0855b036d\",\"type\":\"BasicTickFormatter\"},\"plot\":{\"id\":\"d3cd27b5-566f-481d-b0fe-5b4b044214af\",\"subtype\":\"Figure\",\"type\":\"Plot\"},\"ticker\":{\"id\":\"97f229f3-da5e-4310-957b-01d72cb586d3\",\"type\":\"BasicTicker\"}},\"id\":\"6910ee25-2c08-4bdc-8b4c-143f00726434\",\"type\":\"LinearAxis\"},{\"attributes\":{\"fill_color\":{\"value\":\"#1f77b4\"},\"line_color\":{\"value\":\"#1f77b4\"},\"size\":{\"units\":\"screen\",\"value\":8},\"x\":{\"field\":\"x1\"},\"y\":{\"field\":\"x2\"}},\"id\":\"6167e405-4ccf-4708-bbe7-8c39b655a6fc\",\"type\":\"Circle\"},{\"attributes\":{},\"id\":\"0738a8c3-0eef-487c-842b-a8d4ba7ce003\",\"type\":\"ToolEvents\"},{\"attributes\":{},\"id\":\"28b00d1b-3260-4fcf-a6f9-90a1225a44ad\",\"type\":\"BasicTicker\"},{\"attributes\":{\"plot\":{\"id\":\"d3cd27b5-566f-481d-b0fe-5b4b044214af\",\"subtype\":\"Figure\",\"type\":\"Plot\"},\"source\":{\"id\":\"04491af8-60cb-4dc8-b4fc-5d0b590f3f48\",\"type\":\"ColumnDataSource\"},\"text\":{\"field\":\"names\"},\"text_align\":\"center\",\"text_color\":{\"value\":\"#555555\"},\"text_font_size\":{\"value\":\"8pt\"},\"x\":{\"field\":\"x1\"},\"y\":{\"field\":\"x2\"},\"y_offset\":{\"value\":6}},\"id\":\"e8d3989d-cf88-46c6-94c5-a339891da399\",\"type\":\"LabelSet\"},{\"attributes\":{\"dimension\":1,\"plot\":{\"id\":\"d3cd27b5-566f-481d-b0fe-5b4b044214af\",\"subtype\":\"Figure\",\"type\":\"Plot\"},\"ticker\":{\"id\":\"97f229f3-da5e-4310-957b-01d72cb586d3\",\"type\":\"BasicTicker\"}},\"id\":\"96114418-83c3-4364-918e-203759dfa53e\",\"type\":\"Grid\"}],\"root_ids\":[\"d3cd27b5-566f-481d-b0fe-5b4b044214af\"]},\"title\":\"Bokeh Application\",\"version\":\"0.12.4\"}};\n",
       "            var render_items = [{\"docid\":\"f9a0d919-976f-4cbe-8387-f30123139ec8\",\"elementid\":\"db04c3b0-c4a3-4b41-b809-02ea58e75a05\",\"modelid\":\"d3cd27b5-566f-481d-b0fe-5b4b044214af\"}];\n",
       "            \n",
       "            Bokeh.embed.embed_items(docs_json, render_items);\n",
       "          };\n",
       "          if (document.readyState != \"loading\") fn();\n",
       "          else document.addEventListener(\"DOMContentLoaded\", fn);\n",
       "        })();\n",
       "      },\n",
       "      function(Bokeh) {\n",
       "      }\n",
       "    ];\n",
       "  \n",
       "    function run_inline_js() {\n",
       "      \n",
       "      if ((window.Bokeh !== undefined) || (force === true)) {\n",
       "        for (var i = 0; i < inline_js.length; i++) {\n",
       "          inline_js[i](window.Bokeh);\n",
       "        }if (force === true) {\n",
       "          display_loaded();\n",
       "        }} else if (Date.now() < window._bokeh_timeout) {\n",
       "        setTimeout(run_inline_js, 100);\n",
       "      } else if (!window._bokeh_failed_load) {\n",
       "        console.log(\"Bokeh: BokehJS failed to load within specified timeout.\");\n",
       "        window._bokeh_failed_load = true;\n",
       "      } else if (force !== true) {\n",
       "        var cell = $(document.getElementById(\"db04c3b0-c4a3-4b41-b809-02ea58e75a05\")).parents('.cell').data().cell;\n",
       "        cell.output_area.append_execute_result(NB_LOAD_WARNING)\n",
       "      }\n",
       "  \n",
       "    }\n",
       "  \n",
       "    if (window._bokeh_is_loading === 0) {\n",
       "      console.log(\"Bokeh: BokehJS loaded, going straight to plotting\");\n",
       "      run_inline_js();\n",
       "    } else {\n",
       "      load_libs(js_urls, function() {\n",
       "        console.log(\"Bokeh: BokehJS plotting callback run at\", now());\n",
       "        run_inline_js();\n",
       "      });\n",
       "    }\n",
       "  }(this));\n",
       "</script>"
      ]
     },
     "metadata": {},
     "output_type": "display_data"
    }
   ],
   "source": [
    "p = figure(tools=\"pan,wheel_zoom,reset,save\",\n",
    "           toolbar_location=\"above\",\n",
    "           title=\"word2vec T-SNE for most common words\")\n",
    "\n",
    "source = ColumnDataSource(data=dict(x1=words_top_wiki_tsne[:,0],\n",
    "                                    x2=words_top_wiki_tsne[:,1],\n",
    "                                    names=words_top_wiki))\n",
    "\n",
    "p.scatter(x=\"x1\", y=\"x2\", size=8, source=source)\n",
    "\n",
    "labels = LabelSet(x=\"x1\", y=\"x2\", text=\"names\", y_offset=6,\n",
    "                  text_font_size=\"8pt\", text_color=\"#555555\",\n",
    "                  source=source, text_align='center')\n",
    "p.add_layout(labels)\n",
    "\n",
    "show(p)"
   ]
  },
  {
   "cell_type": "code",
   "execution_count": null,
   "metadata": {
    "collapsed": true
   },
   "outputs": [],
   "source": []
  }
 ],
 "metadata": {
  "anaconda-cloud": {},
  "kernelspec": {
   "display_name": "Python [default]",
   "language": "python",
   "name": "python3"
  },
  "language_info": {
   "codemirror_mode": {
    "name": "ipython",
    "version": 3
   },
   "file_extension": ".py",
   "mimetype": "text/x-python",
   "name": "python",
   "nbconvert_exporter": "python",
   "pygments_lexer": "ipython3",
   "version": "3.6.2"
  }
 },
 "nbformat": 4,
 "nbformat_minor": 1
}
