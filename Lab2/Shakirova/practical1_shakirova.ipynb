{
 "cells": [
  {
   "cell_type": "markdown",
   "metadata": {},
   "source": [
    "## Practical 1: word2vec\n",
    "<p>Oxford CS - Deep NLP 2017<br>\n",
    "https://www.cs.ox.ac.uk/teaching/courses/2016-2017/dl/</p>\n",
    "<p>[Yannis Assael, Brendan Shillingford, Chris Dyer]</p>"
   ]
  },
  {
   "cell_type": "markdown",
   "metadata": {},
   "source": [
    "This practical is presented as an IPython Notebook, with the code written for recent versions of **Python 3**. The code in this practical will not work with Python 2 unless you modify it. If you are using your own Python installation, ensure you have a setup identical to that described in the installation shell script (which is intended for use with the department lab machines). We will be unable to support installation on personal machines due to time constraints, so please use the lab machines and the setup script if you are unfamiliar with how to install Anaconda.\n",
    "\n",
    "To execute a notebook cell, press `shift-enter`. The return value of the last command will be displayed, if it is not `None`.\n",
    "\n",
    "Potentially useful library documentation, references, and resources:\n",
    "\n",
    "* IPython notebooks: <https://ipython.org/ipython-doc/3/notebook/notebook.html#introduction>\n",
    "* Numpy numerical array library: <https://docs.scipy.org/doc/>\n",
    "* Gensim's word2vec: <https://radimrehurek.com/gensim/models/word2vec.html>\n",
    "* Bokeh interactive plots: <http://bokeh.pydata.org/en/latest/> (we provide plotting code here, but click the thumbnails for more examples to copy-paste)\n",
    "* scikit-learn ML library (aka `sklearn`): <http://scikit-learn.org/stable/documentation.html>\n",
    "* nltk NLP toolkit: <http://www.nltk.org/>\n",
    "* tutorial for processing xml in python using `lxml`: <http://lxml.de/tutorial.html> (we did this for you below, but in case you need it in the future)"
   ]
  },
  {
   "cell_type": "code",
   "execution_count": 1,
   "metadata": {},
   "outputs": [],
   "source": [
    "import numpy as np\n",
    "import os\n",
    "from random import shuffle\n",
    "import re"
   ]
  },
  {
   "cell_type": "code",
   "execution_count": 2,
   "metadata": {},
   "outputs": [
    {
     "data": {
      "text/html": [
       "\n",
       "    <div class=\"bk-root\">\n",
       "        <a href=\"http://bokeh.pydata.org\" target=\"_blank\" class=\"bk-logo bk-logo-small bk-logo-notebook\"></a>\n",
       "        <span id=\"23f9dcca-197a-4919-b795-b5f3c7866faf\">Loading BokehJS ...</span>\n",
       "    </div>"
      ]
     },
     "metadata": {},
     "output_type": "display_data"
    },
    {
     "data": {
      "application/javascript": [
       "\n",
       "(function(global) {\n",
       "  function now() {\n",
       "    return new Date();\n",
       "  }\n",
       "\n",
       "  var force = true;\n",
       "\n",
       "  if (typeof (window._bokeh_onload_callbacks) === \"undefined\" || force === true) {\n",
       "    window._bokeh_onload_callbacks = [];\n",
       "    window._bokeh_is_loading = undefined;\n",
       "  }\n",
       "\n",
       "\n",
       "  \n",
       "  if (typeof (window._bokeh_timeout) === \"undefined\" || force === true) {\n",
       "    window._bokeh_timeout = Date.now() + 5000;\n",
       "    window._bokeh_failed_load = false;\n",
       "  }\n",
       "\n",
       "  var NB_LOAD_WARNING = {'data': {'text/html':\n",
       "     \"<div style='background-color: #fdd'>\\n\"+\n",
       "     \"<p>\\n\"+\n",
       "     \"BokehJS does not appear to have successfully loaded. If loading BokehJS from CDN, this \\n\"+\n",
       "     \"may be due to a slow or bad network connection. Possible fixes:\\n\"+\n",
       "     \"</p>\\n\"+\n",
       "     \"<ul>\\n\"+\n",
       "     \"<li>re-rerun `output_notebook()` to attempt to load from CDN again, or</li>\\n\"+\n",
       "     \"<li>use INLINE resources instead, as so:</li>\\n\"+\n",
       "     \"</ul>\\n\"+\n",
       "     \"<code>\\n\"+\n",
       "     \"from bokeh.resources import INLINE\\n\"+\n",
       "     \"output_notebook(resources=INLINE)\\n\"+\n",
       "     \"</code>\\n\"+\n",
       "     \"</div>\"}};\n",
       "\n",
       "  function display_loaded() {\n",
       "    if (window.Bokeh !== undefined) {\n",
       "      document.getElementById(\"23f9dcca-197a-4919-b795-b5f3c7866faf\").textContent = \"BokehJS successfully loaded.\";\n",
       "    } else if (Date.now() < window._bokeh_timeout) {\n",
       "      setTimeout(display_loaded, 100)\n",
       "    }\n",
       "  }\n",
       "\n",
       "  function run_callbacks() {\n",
       "    window._bokeh_onload_callbacks.forEach(function(callback) { callback() });\n",
       "    delete window._bokeh_onload_callbacks\n",
       "    console.info(\"Bokeh: all callbacks have finished\");\n",
       "  }\n",
       "\n",
       "  function load_libs(js_urls, callback) {\n",
       "    window._bokeh_onload_callbacks.push(callback);\n",
       "    if (window._bokeh_is_loading > 0) {\n",
       "      console.log(\"Bokeh: BokehJS is being loaded, scheduling callback at\", now());\n",
       "      return null;\n",
       "    }\n",
       "    if (js_urls == null || js_urls.length === 0) {\n",
       "      run_callbacks();\n",
       "      return null;\n",
       "    }\n",
       "    console.log(\"Bokeh: BokehJS not loaded, scheduling load and callback at\", now());\n",
       "    window._bokeh_is_loading = js_urls.length;\n",
       "    for (var i = 0; i < js_urls.length; i++) {\n",
       "      var url = js_urls[i];\n",
       "      var s = document.createElement('script');\n",
       "      s.src = url;\n",
       "      s.async = false;\n",
       "      s.onreadystatechange = s.onload = function() {\n",
       "        window._bokeh_is_loading--;\n",
       "        if (window._bokeh_is_loading === 0) {\n",
       "          console.log(\"Bokeh: all BokehJS libraries loaded\");\n",
       "          run_callbacks()\n",
       "        }\n",
       "      };\n",
       "      s.onerror = function() {\n",
       "        console.warn(\"failed to load library \" + url);\n",
       "      };\n",
       "      console.log(\"Bokeh: injecting script tag for BokehJS library: \", url);\n",
       "      document.getElementsByTagName(\"head\")[0].appendChild(s);\n",
       "    }\n",
       "  };var element = document.getElementById(\"23f9dcca-197a-4919-b795-b5f3c7866faf\");\n",
       "  if (element == null) {\n",
       "    console.log(\"Bokeh: ERROR: autoload.js configured with elementid '23f9dcca-197a-4919-b795-b5f3c7866faf' but no matching script tag was found. \")\n",
       "    return false;\n",
       "  }\n",
       "\n",
       "  var js_urls = [\"https://cdn.pydata.org/bokeh/release/bokeh-0.12.4.min.js\", \"https://cdn.pydata.org/bokeh/release/bokeh-widgets-0.12.4.min.js\"];\n",
       "\n",
       "  var inline_js = [\n",
       "    function(Bokeh) {\n",
       "      Bokeh.set_log_level(\"info\");\n",
       "    },\n",
       "    \n",
       "    function(Bokeh) {\n",
       "      \n",
       "      document.getElementById(\"23f9dcca-197a-4919-b795-b5f3c7866faf\").textContent = \"BokehJS is loading...\";\n",
       "    },\n",
       "    function(Bokeh) {\n",
       "      console.log(\"Bokeh: injecting CSS: https://cdn.pydata.org/bokeh/release/bokeh-0.12.4.min.css\");\n",
       "      Bokeh.embed.inject_css(\"https://cdn.pydata.org/bokeh/release/bokeh-0.12.4.min.css\");\n",
       "      console.log(\"Bokeh: injecting CSS: https://cdn.pydata.org/bokeh/release/bokeh-widgets-0.12.4.min.css\");\n",
       "      Bokeh.embed.inject_css(\"https://cdn.pydata.org/bokeh/release/bokeh-widgets-0.12.4.min.css\");\n",
       "    }\n",
       "  ];\n",
       "\n",
       "  function run_inline_js() {\n",
       "    \n",
       "    if ((window.Bokeh !== undefined) || (force === true)) {\n",
       "      for (var i = 0; i < inline_js.length; i++) {\n",
       "        inline_js[i](window.Bokeh);\n",
       "      }if (force === true) {\n",
       "        display_loaded();\n",
       "      }} else if (Date.now() < window._bokeh_timeout) {\n",
       "      setTimeout(run_inline_js, 100);\n",
       "    } else if (!window._bokeh_failed_load) {\n",
       "      console.log(\"Bokeh: BokehJS failed to load within specified timeout.\");\n",
       "      window._bokeh_failed_load = true;\n",
       "    } else if (force !== true) {\n",
       "      var cell = $(document.getElementById(\"23f9dcca-197a-4919-b795-b5f3c7866faf\")).parents('.cell').data().cell;\n",
       "      cell.output_area.append_execute_result(NB_LOAD_WARNING)\n",
       "    }\n",
       "\n",
       "  }\n",
       "\n",
       "  if (window._bokeh_is_loading === 0) {\n",
       "    console.log(\"Bokeh: BokehJS loaded, going straight to plotting\");\n",
       "    run_inline_js();\n",
       "  } else {\n",
       "    load_libs(js_urls, function() {\n",
       "      console.log(\"Bokeh: BokehJS plotting callback run at\", now());\n",
       "      run_inline_js();\n",
       "    });\n",
       "  }\n",
       "}(this));"
      ]
     },
     "metadata": {},
     "output_type": "display_data"
    }
   ],
   "source": [
    "from bokeh.models import ColumnDataSource, LabelSet\n",
    "from bokeh.plotting import figure, show, output_file\n",
    "from bokeh.io import output_notebook\n",
    "output_notebook()"
   ]
  },
  {
   "cell_type": "markdown",
   "metadata": {},
   "source": [
    "### Part 0: Download the TED dataset"
   ]
  },
  {
   "cell_type": "code",
   "execution_count": 3,
   "metadata": {},
   "outputs": [],
   "source": [
    "import urllib.request\n",
    "import zipfile\n",
    "import lxml.etree"
   ]
  },
  {
   "cell_type": "code",
   "execution_count": 4,
   "metadata": {},
   "outputs": [],
   "source": [
    "# Download the dataset if it's not already there: this may take a minute as it is 75MB\n",
    "if not os.path.isfile('ted_en-20160408.zip'):\n",
    "    urllib.request.urlretrieve(\"https://wit3.fbk.eu/get.php?path=XML_releases/xml/ted_en-20160408.zip&filename=ted_en-20160408.zip\", filename=\"ted_en-20160408.zip\")"
   ]
  },
  {
   "cell_type": "code",
   "execution_count": 5,
   "metadata": {
    "collapsed": true
   },
   "outputs": [],
   "source": [
    "# For now, we're only interested in the subtitle text, so let's extract that from the XML:\n",
    "with zipfile.ZipFile('ted_en-20160408.zip', 'r') as z:\n",
    "    doc = lxml.etree.parse(z.open('ted_en-20160408.xml', 'r'))\n",
    "input_text = '\\n'.join(doc.xpath('//content/text()'))\n",
    "del doc"
   ]
  },
  {
   "cell_type": "markdown",
   "metadata": {},
   "source": [
    "### Part 1: Preprocessing\n",
    "\n",
    "In this part, we attempt to clean up the raw subtitles a bit, so that we get only sentences. The following substring shows examples of what we're trying to get rid of. Since it's hard to define precisely what we want to get rid of, we'll just use some simple heuristics."
   ]
  },
  {
   "cell_type": "code",
   "execution_count": 6,
   "metadata": {
    "scrolled": false
   },
   "outputs": [
    {
     "data": {
      "text/plain": [
       "' baby does.\\n(Video) Hyowon Gweon: See this? (Ball squeaks) Did you see that? (Ball squeaks) Cool. See this one? (Ball squeaks) Wow.\\nLaura Schulz: Told you. (Laughs)\\n(Vide'"
      ]
     },
     "execution_count": 6,
     "metadata": {},
     "output_type": "execute_result"
    }
   ],
   "source": [
    "i = input_text.find(\"Hyowon Gweon: See this?\")\n",
    "input_text[i-20:i+150]"
   ]
  },
  {
   "cell_type": "markdown",
   "metadata": {},
   "source": [
    "Let's start by removing all parenthesized strings using a regex:"
   ]
  },
  {
   "cell_type": "code",
   "execution_count": 7,
   "metadata": {
    "collapsed": true
   },
   "outputs": [],
   "source": [
    "input_text_noparens = re.sub(r'\\([^)]*\\)', '', input_text)"
   ]
  },
  {
   "cell_type": "markdown",
   "metadata": {},
   "source": [
    "We can verify the same location in the text is now clean as follows. We won't worry about the irregular spaces since we'll later split the text into sentences and tokenize it anyway."
   ]
  },
  {
   "cell_type": "code",
   "execution_count": 8,
   "metadata": {},
   "outputs": [
    {
     "data": {
      "text/plain": [
       "\"hat the baby does.\\n Hyowon Gweon: See this?  Did you see that?  Cool. See this one?  Wow.\\nLaura Schulz: Told you. \\n HG: See this one?  Hey Clara, this one's for you. You \""
      ]
     },
     "execution_count": 8,
     "metadata": {},
     "output_type": "execute_result"
    }
   ],
   "source": [
    "i = input_text_noparens.find(\"Hyowon Gweon: See this?\")\n",
    "input_text_noparens[i-20:i+150]"
   ]
  },
  {
   "cell_type": "markdown",
   "metadata": {},
   "source": [
    "Now, let's attempt to remove speakers' names that occur at the beginning of a line, by deleting pieces of the form \"`<up to 20 characters>:`\", as shown in this example. Of course, this is an imperfect heuristic. "
   ]
  },
  {
   "cell_type": "code",
   "execution_count": 9,
   "metadata": {},
   "outputs": [
    {
     "data": {
      "text/plain": [
       "[\"Here are two reasons companies fail: they only do more of the same, or they only do what's new\",\n",
       " 'To me the real, real solution to quality growth is figuring out the balance between two activities: exploration and exploitation',\n",
       " ' Both are necessary, but it can be too much of a good thing',\n",
       " 'Consider Facit',\n",
       " \" I'm actually old enough to remember them\"]"
      ]
     },
     "execution_count": 9,
     "metadata": {},
     "output_type": "execute_result"
    }
   ],
   "source": [
    "sentences_strings_ted = []\n",
    "for line in input_text_noparens.split('\\n'):\n",
    "    m = re.match(r'^(?:(?P<precolon>[^:]{,20}):)?(?P<postcolon>.*)$', line)\n",
    "    sentences_strings_ted.extend(sent for sent in m.groupdict()['postcolon'].split('.') if sent)\n",
    "\n",
    "# Uncomment if you need to save some RAM: these strings are about 50MB.\n",
    "# del input_text, input_text_noparens\n",
    "\n",
    "# Let's view the first few:\n",
    "sentences_strings_ted[:5]"
   ]
  },
  {
   "cell_type": "markdown",
   "metadata": {},
   "source": [
    "Now that we have sentences, we're ready to tokenize each of them into words. This tokenization is imperfect, of course. For instance, how many tokens is \"can't\", and where/how do we split it? We'll take the simplest naive approach of splitting on spaces. Before splitting, we remove non-alphanumeric characters, such as punctuation. You may want to consider the following question: why do we replace these characters with spaces rather than deleting them? Think of a case where this yields a different answer."
   ]
  },
  {
   "cell_type": "code",
   "execution_count": 10,
   "metadata": {},
   "outputs": [],
   "source": [
    "sentences_ted = []\n",
    "for sent_str in sentences_strings_ted:\n",
    "    tokens = re.sub(r\"[^a-z0-9]+\", \" \", sent_str.lower()).split()\n",
    "    sentences_ted.append(tokens)"
   ]
  },
  {
   "cell_type": "markdown",
   "metadata": {},
   "source": [
    "Two sample processed sentences:"
   ]
  },
  {
   "cell_type": "code",
   "execution_count": 11,
   "metadata": {},
   "outputs": [
    {
     "data": {
      "text/plain": [
       "266694"
      ]
     },
     "execution_count": 11,
     "metadata": {},
     "output_type": "execute_result"
    }
   ],
   "source": [
    "len(sentences_ted)"
   ]
  },
  {
   "cell_type": "code",
   "execution_count": 12,
   "metadata": {},
   "outputs": [
    {
     "name": "stdout",
     "output_type": "stream",
     "text": [
      "['here', 'are', 'two', 'reasons', 'companies', 'fail', 'they', 'only', 'do', 'more', 'of', 'the', 'same', 'or', 'they', 'only', 'do', 'what', 's', 'new']\n",
      "['to', 'me', 'the', 'real', 'real', 'solution', 'to', 'quality', 'growth', 'is', 'figuring', 'out', 'the', 'balance', 'between', 'two', 'activities', 'exploration', 'and', 'exploitation']\n"
     ]
    }
   ],
   "source": [
    "print(sentences_ted[0])\n",
    "print(sentences_ted[1])"
   ]
  },
  {
   "cell_type": "markdown",
   "metadata": {},
   "source": [
    "### Part 2: Word Frequencies"
   ]
  },
  {
   "cell_type": "markdown",
   "metadata": {},
   "source": [
    "If you store the counts of the top 1000 words in a list called `counts_ted_top1000`, the code below will plot the histogram requested in the writeup."
   ]
  },
  {
   "cell_type": "code",
   "execution_count": 46,
   "metadata": {},
   "outputs": [],
   "source": [
    "import collections\n",
    "c=collections.Counter()\n",
    "for s in sentences_ted:\n",
    "    for word in s:\n",
    "        c[word]+=1\n",
    "#print (c.most_common(1000))\n",
    "#counts=list(c.most_common(1000))\n",
    "words_top_ted=list(k[0] for k in c.most_common(1000))\n",
    "counts_ted_top1000=list(k[1] for k in c.most_common(1000))\n",
    "#print(counts_ted_top1000[:7])"
   ]
  },
  {
   "cell_type": "markdown",
   "metadata": {},
   "source": [
    "Plot distribution of top-1000 words"
   ]
  },
  {
   "cell_type": "code",
   "execution_count": 30,
   "metadata": {
    "scrolled": true
   },
   "outputs": [
    {
     "data": {
      "text/html": [
       "\n",
       "\n",
       "    <div class=\"bk-root\">\n",
       "        <div class=\"bk-plotdiv\" id=\"513713fe-86d7-4c2e-96cb-4edae03cfaaa\"></div>\n",
       "    </div>\n",
       "<script type=\"text/javascript\">\n",
       "  \n",
       "  (function(global) {\n",
       "    function now() {\n",
       "      return new Date();\n",
       "    }\n",
       "  \n",
       "    var force = false;\n",
       "  \n",
       "    if (typeof (window._bokeh_onload_callbacks) === \"undefined\" || force === true) {\n",
       "      window._bokeh_onload_callbacks = [];\n",
       "      window._bokeh_is_loading = undefined;\n",
       "    }\n",
       "  \n",
       "  \n",
       "    \n",
       "    if (typeof (window._bokeh_timeout) === \"undefined\" || force === true) {\n",
       "      window._bokeh_timeout = Date.now() + 0;\n",
       "      window._bokeh_failed_load = false;\n",
       "    }\n",
       "  \n",
       "    var NB_LOAD_WARNING = {'data': {'text/html':\n",
       "       \"<div style='background-color: #fdd'>\\n\"+\n",
       "       \"<p>\\n\"+\n",
       "       \"BokehJS does not appear to have successfully loaded. If loading BokehJS from CDN, this \\n\"+\n",
       "       \"may be due to a slow or bad network connection. Possible fixes:\\n\"+\n",
       "       \"</p>\\n\"+\n",
       "       \"<ul>\\n\"+\n",
       "       \"<li>re-rerun `output_notebook()` to attempt to load from CDN again, or</li>\\n\"+\n",
       "       \"<li>use INLINE resources instead, as so:</li>\\n\"+\n",
       "       \"</ul>\\n\"+\n",
       "       \"<code>\\n\"+\n",
       "       \"from bokeh.resources import INLINE\\n\"+\n",
       "       \"output_notebook(resources=INLINE)\\n\"+\n",
       "       \"</code>\\n\"+\n",
       "       \"</div>\"}};\n",
       "  \n",
       "    function display_loaded() {\n",
       "      if (window.Bokeh !== undefined) {\n",
       "        document.getElementById(\"513713fe-86d7-4c2e-96cb-4edae03cfaaa\").textContent = \"BokehJS successfully loaded.\";\n",
       "      } else if (Date.now() < window._bokeh_timeout) {\n",
       "        setTimeout(display_loaded, 100)\n",
       "      }\n",
       "    }\n",
       "  \n",
       "    function run_callbacks() {\n",
       "      window._bokeh_onload_callbacks.forEach(function(callback) { callback() });\n",
       "      delete window._bokeh_onload_callbacks\n",
       "      console.info(\"Bokeh: all callbacks have finished\");\n",
       "    }\n",
       "  \n",
       "    function load_libs(js_urls, callback) {\n",
       "      window._bokeh_onload_callbacks.push(callback);\n",
       "      if (window._bokeh_is_loading > 0) {\n",
       "        console.log(\"Bokeh: BokehJS is being loaded, scheduling callback at\", now());\n",
       "        return null;\n",
       "      }\n",
       "      if (js_urls == null || js_urls.length === 0) {\n",
       "        run_callbacks();\n",
       "        return null;\n",
       "      }\n",
       "      console.log(\"Bokeh: BokehJS not loaded, scheduling load and callback at\", now());\n",
       "      window._bokeh_is_loading = js_urls.length;\n",
       "      for (var i = 0; i < js_urls.length; i++) {\n",
       "        var url = js_urls[i];\n",
       "        var s = document.createElement('script');\n",
       "        s.src = url;\n",
       "        s.async = false;\n",
       "        s.onreadystatechange = s.onload = function() {\n",
       "          window._bokeh_is_loading--;\n",
       "          if (window._bokeh_is_loading === 0) {\n",
       "            console.log(\"Bokeh: all BokehJS libraries loaded\");\n",
       "            run_callbacks()\n",
       "          }\n",
       "        };\n",
       "        s.onerror = function() {\n",
       "          console.warn(\"failed to load library \" + url);\n",
       "        };\n",
       "        console.log(\"Bokeh: injecting script tag for BokehJS library: \", url);\n",
       "        document.getElementsByTagName(\"head\")[0].appendChild(s);\n",
       "      }\n",
       "    };var element = document.getElementById(\"513713fe-86d7-4c2e-96cb-4edae03cfaaa\");\n",
       "    if (element == null) {\n",
       "      console.log(\"Bokeh: ERROR: autoload.js configured with elementid '513713fe-86d7-4c2e-96cb-4edae03cfaaa' but no matching script tag was found. \")\n",
       "      return false;\n",
       "    }\n",
       "  \n",
       "    var js_urls = [];\n",
       "  \n",
       "    var inline_js = [\n",
       "      function(Bokeh) {\n",
       "        (function() {\n",
       "          var fn = function() {\n",
       "            var docs_json = {\"da53dd40-6eef-43cd-b7e4-ced9b2334859\":{\"roots\":{\"references\":[{\"attributes\":{\"below\":[{\"id\":\"d75bf43d-d16f-4209-beb9-d943d48e9780\",\"type\":\"LinearAxis\"}],\"left\":[{\"id\":\"4ba4d754-3356-4312-b9de-e9e270e04937\",\"type\":\"LinearAxis\"}],\"renderers\":[{\"id\":\"d75bf43d-d16f-4209-beb9-d943d48e9780\",\"type\":\"LinearAxis\"},{\"id\":\"001d490c-5d1b-4e53-ae6b-c72ea343805d\",\"type\":\"Grid\"},{\"id\":\"4ba4d754-3356-4312-b9de-e9e270e04937\",\"type\":\"LinearAxis\"},{\"id\":\"45332bf6-f14e-4920-8931-3273e7682f19\",\"type\":\"Grid\"},{\"id\":\"99344afe-57a6-41ea-a3c9-5c1a1923fd4e\",\"type\":\"GlyphRenderer\"}],\"title\":{\"id\":\"b8fac4cf-8d2a-4869-a2ad-69ed57d1ce34\",\"type\":\"Title\"},\"tool_events\":{\"id\":\"f291dd8c-0f3d-4284-9226-7882fc07561e\",\"type\":\"ToolEvents\"},\"toolbar\":{\"id\":\"795f4f3e-99f6-4742-a348-e93f7556d7ac\",\"type\":\"Toolbar\"},\"toolbar_location\":\"above\",\"x_range\":{\"id\":\"329ece89-163c-449f-a791-c6b9745e4212\",\"type\":\"DataRange1d\"},\"y_range\":{\"id\":\"74200f29-89b7-4531-9502-52caefebeb10\",\"type\":\"DataRange1d\"}},\"id\":\"25a4f641-5389-4312-a542-ab9c3ca68e0b\",\"subtype\":\"Figure\",\"type\":\"Plot\"},{\"attributes\":{},\"id\":\"06b7b4c1-9e72-4674-b251-4b792f39af3c\",\"type\":\"BasicTicker\"},{\"attributes\":{\"plot\":{\"id\":\"25a4f641-5389-4312-a542-ab9c3ca68e0b\",\"subtype\":\"Figure\",\"type\":\"Plot\"}},\"id\":\"d812d47e-0e60-415c-b538-b0d4f815beec\",\"type\":\"PanTool\"},{\"attributes\":{\"plot\":null,\"text\":\"Top-1000 words distribution\"},\"id\":\"b8fac4cf-8d2a-4869-a2ad-69ed57d1ce34\",\"type\":\"Title\"},{\"attributes\":{\"formatter\":{\"id\":\"11961b35-01bc-4c9b-b7f4-fc50f9a1d0d4\",\"type\":\"BasicTickFormatter\"},\"plot\":{\"id\":\"25a4f641-5389-4312-a542-ab9c3ca68e0b\",\"subtype\":\"Figure\",\"type\":\"Plot\"},\"ticker\":{\"id\":\"a4b31b56-6414-40a2-86ea-42df6c87e33b\",\"type\":\"BasicTicker\"}},\"id\":\"4ba4d754-3356-4312-b9de-e9e270e04937\",\"type\":\"LinearAxis\"},{\"attributes\":{\"plot\":{\"id\":\"25a4f641-5389-4312-a542-ab9c3ca68e0b\",\"subtype\":\"Figure\",\"type\":\"Plot\"}},\"id\":\"8ba63dd7-989b-4e4c-8451-fcf1ed70be21\",\"type\":\"ResetTool\"},{\"attributes\":{\"formatter\":{\"id\":\"ed08032f-1c05-4f93-bed8-5467e929f014\",\"type\":\"BasicTickFormatter\"},\"plot\":{\"id\":\"25a4f641-5389-4312-a542-ab9c3ca68e0b\",\"subtype\":\"Figure\",\"type\":\"Plot\"},\"ticker\":{\"id\":\"06b7b4c1-9e72-4674-b251-4b792f39af3c\",\"type\":\"BasicTicker\"}},\"id\":\"d75bf43d-d16f-4209-beb9-d943d48e9780\",\"type\":\"LinearAxis\"},{\"attributes\":{\"dimension\":1,\"plot\":{\"id\":\"25a4f641-5389-4312-a542-ab9c3ca68e0b\",\"subtype\":\"Figure\",\"type\":\"Plot\"},\"ticker\":{\"id\":\"a4b31b56-6414-40a2-86ea-42df6c87e33b\",\"type\":\"BasicTicker\"}},\"id\":\"45332bf6-f14e-4920-8931-3273e7682f19\",\"type\":\"Grid\"},{\"attributes\":{\"bottom\":{\"value\":0},\"fill_alpha\":{\"value\":0.1},\"fill_color\":{\"value\":\"#1f77b4\"},\"left\":{\"field\":\"left\"},\"line_alpha\":{\"value\":0.1},\"line_color\":{\"value\":\"#1f77b4\"},\"right\":{\"field\":\"right\"},\"top\":{\"field\":\"top\"}},\"id\":\"8f5b642f-34bb-4434-9a4d-1cd4353f32d5\",\"type\":\"Quad\"},{\"attributes\":{\"callback\":null},\"id\":\"74200f29-89b7-4531-9502-52caefebeb10\",\"type\":\"DataRange1d\"},{\"attributes\":{\"plot\":{\"id\":\"25a4f641-5389-4312-a542-ab9c3ca68e0b\",\"subtype\":\"Figure\",\"type\":\"Plot\"}},\"id\":\"29fb70d1-3308-4f68-a678-160856647ed4\",\"type\":\"SaveTool\"},{\"attributes\":{\"callback\":null,\"column_names\":[\"left\",\"right\",\"top\"],\"data\":{\"left\":{\"__ndarray__\":\"AAAAAABAeUB7FK5H4VqjQHsUrkfhxrFAuB6F61HguUB7FK5H4fzAQJqZmZmZCcVAuB6F61EWyUDXo3A9CiPNQHsUrkfhl9BACtejcD2e0kCamZmZmaTUQClcj8L1qtZAuB6F61Gx2EBI4XoUrrfaQNejcD0KvtxAZ2ZmZmbE3kB7FK5HYWXgQMP1KFyPaOFACtejcL1r4kBSuB6F627jQJqZmZkZcuRA4XoUrkd15UApXI/CdXjmQHE9Cteje+dAuB6F69F+6EAAAAAAAILpQEjhehQuhepAkML1KFyI60DXo3A9iovsQB+F61G4ju1AZ2ZmZuaR7kCuR+F6FJXvQHsUrkchTPBAH4XrUbjN8EDD9ShcT0/xQGdmZmbm0PFACtejcH1S8kCuR+F6FNTyQFK4HoWrVfNA9ihcj0LX80CamZmZ2Vj0QD4K16Nw2vRA4XoUrgdc9UCF61G4nt31QClcj8I1X/ZAzczMzMzg9kBxPQrXY2L3QBWuR+H64/dAuB6F65Fl+EBcj8L1KOf4QAAAAADAaPlApHA9Clfq+UBI4XoU7mv6QOxRuB6F7fpAkML1KBxv+0AzMzMzs/D7QNejcD1KcvxAexSuR+Hz/EAfhetReHX9QMP1KFwP9/1AZ2ZmZqZ4/kAK16NwPfr+QK5H4XrUe/9AUrgehWv9/0B7FK5HgT8AQc3MzMxMgABBH4XrURjBAEFxPQrX4wEBQcP1KFyvQgFBFa5H4XqDAUFnZmZmRsQBQbgehesRBQJBCtejcN1FAkFcj8L1qIYCQa5H4Xp0xwJBAAAAAEAIA0FSuB6FC0kDQaRwPQrXiQNB9ihcj6LKA0FI4XoUbgsEQZqZmZk5TARB7FG4HgWNBEE+Ctej0M0EQZDC9SicDgVB4XoUrmdPBUEzMzMzM5AFQYXrUbj+0AVB16NwPcoRBkEpXI/ClVIGQXsUrkdhkwZBzczMzCzUBkEfhetR+BQHQXE9CtfDVQdBw/UoXI+WB0EVrkfhWtcHQWdmZmYmGAhBuB6F6/FYCEEK16NwvZkIQVyPwvWI2ghBrkfhelQbCUE=\",\"dtype\":\"float64\",\"shape\":[100]},\"right\":{\"__ndarray__\":\"exSuR+Fao0B7FK5H4caxQLgehetR4LlAexSuR+H8wECamZmZmQnFQLgehetRFslA16NwPQojzUB7FK5H4ZfQQArXo3A9ntJAmpmZmZmk1EApXI/C9arWQLgehetRsdhASOF6FK632kDXo3A9Cr7cQGdmZmZmxN5AexSuR2Fl4EDD9Shcj2jhQArXo3C9a+JAUrgehetu40CamZmZGXLkQOF6FK5HdeVAKVyPwnV45kBxPQrXo3vnQLgehevRfuhAAAAAAACC6UBI4XoULoXqQJDC9ShciOtA16NwPYqL7EAfhetRuI7tQGdmZmbmke5ArkfhehSV70B7FK5HIUzwQB+F61G4zfBAw/UoXE9P8UBnZmZm5tDxQArXo3B9UvJArkfhehTU8kBSuB6Fq1XzQPYoXI9C1/NAmpmZmdlY9EA+CtejcNr0QOF6FK4HXPVAhetRuJ7d9UApXI/CNV/2QM3MzMzM4PZAcT0K12Ni90AVrkfh+uP3QLgeheuRZfhAXI/C9Sjn+EAAAAAAwGj5QKRwPQpX6vlASOF6FO5r+kDsUbgehe36QJDC9Sgcb/tAMzMzM7Pw+0DXo3A9SnL8QHsUrkfh8/xAH4XrUXh1/UDD9ShcD/f9QGdmZmameP5ACtejcD36/kCuR+F61Hv/QFK4HoVr/f9AexSuR4E/AEHNzMzMTIAAQR+F61EYwQBBcT0K1+MBAUHD9Shcr0IBQRWuR+F6gwFBZ2ZmZkbEAUG4HoXrEQUCQQrXo3DdRQJBXI/C9aiGAkGuR+F6dMcCQQAAAABACANBUrgehQtJA0GkcD0K14kDQfYoXI+iygNBSOF6FG4LBEGamZmZOUwEQexRuB4FjQRBPgrXo9DNBEGQwvUonA4FQeF6FK5nTwVBMzMzMzOQBUGF61G4/tAFQdejcD3KEQZBKVyPwpVSBkF7FK5HYZMGQc3MzMws1AZBH4XrUfgUB0FxPQrXw1UHQcP1KFyPlgdBFa5H4VrXB0FnZmZmJhgIQbgehevxWAhBCtejcL2ZCEFcj8L1iNoIQa5H4XpUGwlBAAAAACBcCUE=\",\"dtype\":\"float64\",\"shape\":[100]},\"top\":{\"__ndarray__\":\"50H1zNSBOT/ypb1tgHIBPwsriUb5Uew+zuTFiLI04j78kGUPxTHhPh40R25oQNY+zuTFiLI00j4pPQWW1y7APsTbB2FDRsg+JT0FltcuwD4tPQWW1y6wPi09BZbXLrA+JT0FltcuwD4tPQWW1y6gPiU9BZbXLrA+LT0FltcuoD4AAAAAAAAAADU9BZbXLqA+AAAAAAAAAAAAAAAAAAAAAAAAAAAAAAAAAAAAAAAAAAAAAAAAAAAAADU9BZbXLqA+AAAAAAAAAAAAAAAAAAAAAAAAAAAAAAAANT0FltcuoD4AAAAAAAAAAAAAAAAAAAAANT0FltcuoD4AAAAAAAAAACU9BZbXLqA+AAAAAAAAAAAlPQWW1y6gPkU9BZbXLqA+AAAAAAAAAAAlPQWW1y6gPgAAAAAAAAAAJT0FltcuoD4AAAAAAAAAAAAAAAAAAAAAAAAAAAAAAAAAAAAAAAAAAAAAAAAAAAAAJT0FltcuoD4AAAAAAAAAAAAAAAAAAAAAAAAAAAAAAAAAAAAAAAAAACU9BZbXLqA+AAAAAAAAAAAAAAAAAAAAAAAAAAAAAAAAAAAAAAAAAAAlPQWW1y6gPgAAAAAAAAAAAAAAAAAAAAAAAAAAAAAAAAAAAAAAAAAART0FltcuoD4AAAAAAAAAAAAAAAAAAAAAAAAAAAAAAAAAAAAAAAAAAAAAAAAAAAAAAAAAAAAAAAAAAAAAAAAAAAAAAAAAAAAAAAAAAAAAAAAAAAAAAAAAACU9BZbXLqA+AAAAAAAAAAAAAAAAAAAAAAAAAAAAAAAAAAAAAAAAAAAAAAAAAAAAAAAAAAAAAAAAAAAAAAAAAAAAAAAAAAAAAAAAAAAAAAAAAAAAAAAAAAAAAAAAAAAAAAAAAAAAAAAAAAAAAAAAAAAAAAAAAAAAAAAAAAAAAAAAAAAAAAAAAAAAAAAAAAAAAAAAAAAAAAAAAAAAAAAAAAAAAAAAAAAAAAAAAAAAAAAAAAAAAAAAAAAAAAAAAAAAAAAAAAAAAAAAAAAAAAAAAAAAAAAAAAAAAAAAAAAAAAAAJT0FltcuoD4=\",\"dtype\":\"float64\",\"shape\":[100]}}},\"id\":\"fcd6fcd8-dad0-4b6c-8740-dfbdb6cb1459\",\"type\":\"ColumnDataSource\"},{\"attributes\":{},\"id\":\"ed08032f-1c05-4f93-bed8-5467e929f014\",\"type\":\"BasicTickFormatter\"},{\"attributes\":{},\"id\":\"11961b35-01bc-4c9b-b7f4-fc50f9a1d0d4\",\"type\":\"BasicTickFormatter\"},{\"attributes\":{\"data_source\":{\"id\":\"fcd6fcd8-dad0-4b6c-8740-dfbdb6cb1459\",\"type\":\"ColumnDataSource\"},\"glyph\":{\"id\":\"5b045e4d-d852-4acf-9626-d0fcaa199ac1\",\"type\":\"Quad\"},\"hover_glyph\":null,\"nonselection_glyph\":{\"id\":\"8f5b642f-34bb-4434-9a4d-1cd4353f32d5\",\"type\":\"Quad\"},\"selection_glyph\":null},\"id\":\"99344afe-57a6-41ea-a3c9-5c1a1923fd4e\",\"type\":\"GlyphRenderer\"},{\"attributes\":{\"bottom\":{\"value\":0},\"fill_color\":{\"value\":\"#1f77b4\"},\"left\":{\"field\":\"left\"},\"line_color\":{\"value\":\"#555555\"},\"right\":{\"field\":\"right\"},\"top\":{\"field\":\"top\"}},\"id\":\"5b045e4d-d852-4acf-9626-d0fcaa199ac1\",\"type\":\"Quad\"},{\"attributes\":{\"active_drag\":\"auto\",\"active_scroll\":\"auto\",\"active_tap\":\"auto\",\"tools\":[{\"id\":\"d812d47e-0e60-415c-b538-b0d4f815beec\",\"type\":\"PanTool\"},{\"id\":\"878c5880-2714-433d-ad79-fffcccc23e86\",\"type\":\"WheelZoomTool\"},{\"id\":\"8ba63dd7-989b-4e4c-8451-fcf1ed70be21\",\"type\":\"ResetTool\"},{\"id\":\"29fb70d1-3308-4f68-a678-160856647ed4\",\"type\":\"SaveTool\"}]},\"id\":\"795f4f3e-99f6-4742-a348-e93f7556d7ac\",\"type\":\"Toolbar\"},{\"attributes\":{},\"id\":\"f291dd8c-0f3d-4284-9226-7882fc07561e\",\"type\":\"ToolEvents\"},{\"attributes\":{},\"id\":\"a4b31b56-6414-40a2-86ea-42df6c87e33b\",\"type\":\"BasicTicker\"},{\"attributes\":{\"callback\":null},\"id\":\"329ece89-163c-449f-a791-c6b9745e4212\",\"type\":\"DataRange1d\"},{\"attributes\":{\"plot\":{\"id\":\"25a4f641-5389-4312-a542-ab9c3ca68e0b\",\"subtype\":\"Figure\",\"type\":\"Plot\"}},\"id\":\"878c5880-2714-433d-ad79-fffcccc23e86\",\"type\":\"WheelZoomTool\"},{\"attributes\":{\"plot\":{\"id\":\"25a4f641-5389-4312-a542-ab9c3ca68e0b\",\"subtype\":\"Figure\",\"type\":\"Plot\"},\"ticker\":{\"id\":\"06b7b4c1-9e72-4674-b251-4b792f39af3c\",\"type\":\"BasicTicker\"}},\"id\":\"001d490c-5d1b-4e53-ae6b-c72ea343805d\",\"type\":\"Grid\"}],\"root_ids\":[\"25a4f641-5389-4312-a542-ab9c3ca68e0b\"]},\"title\":\"Bokeh Application\",\"version\":\"0.12.4\"}};\n",
       "            var render_items = [{\"docid\":\"da53dd40-6eef-43cd-b7e4-ced9b2334859\",\"elementid\":\"513713fe-86d7-4c2e-96cb-4edae03cfaaa\",\"modelid\":\"25a4f641-5389-4312-a542-ab9c3ca68e0b\"}];\n",
       "            \n",
       "            Bokeh.embed.embed_items(docs_json, render_items);\n",
       "          };\n",
       "          if (document.readyState != \"loading\") fn();\n",
       "          else document.addEventListener(\"DOMContentLoaded\", fn);\n",
       "        })();\n",
       "      },\n",
       "      function(Bokeh) {\n",
       "      }\n",
       "    ];\n",
       "  \n",
       "    function run_inline_js() {\n",
       "      \n",
       "      if ((window.Bokeh !== undefined) || (force === true)) {\n",
       "        for (var i = 0; i < inline_js.length; i++) {\n",
       "          inline_js[i](window.Bokeh);\n",
       "        }if (force === true) {\n",
       "          display_loaded();\n",
       "        }} else if (Date.now() < window._bokeh_timeout) {\n",
       "        setTimeout(run_inline_js, 100);\n",
       "      } else if (!window._bokeh_failed_load) {\n",
       "        console.log(\"Bokeh: BokehJS failed to load within specified timeout.\");\n",
       "        window._bokeh_failed_load = true;\n",
       "      } else if (force !== true) {\n",
       "        var cell = $(document.getElementById(\"513713fe-86d7-4c2e-96cb-4edae03cfaaa\")).parents('.cell').data().cell;\n",
       "        cell.output_area.append_execute_result(NB_LOAD_WARNING)\n",
       "      }\n",
       "  \n",
       "    }\n",
       "  \n",
       "    if (window._bokeh_is_loading === 0) {\n",
       "      console.log(\"Bokeh: BokehJS loaded, going straight to plotting\");\n",
       "      run_inline_js();\n",
       "    } else {\n",
       "      load_libs(js_urls, function() {\n",
       "        console.log(\"Bokeh: BokehJS plotting callback run at\", now());\n",
       "        run_inline_js();\n",
       "      });\n",
       "    }\n",
       "  }(this));\n",
       "</script>"
      ]
     },
     "metadata": {},
     "output_type": "display_data"
    }
   ],
   "source": [
    "hist, edges = np.histogram(counts_ted_top1000, density=True, bins=100, normed=True)\n",
    "\n",
    "p = figure(tools=\"pan,wheel_zoom,reset,save\",\n",
    "           toolbar_location=\"above\",\n",
    "           title=\"Top-1000 words distribution\")\n",
    "p.quad(top=hist, bottom=0, left=edges[:-1], right=edges[1:], line_color=\"#555555\")\n",
    "show(p)"
   ]
  },
  {
   "cell_type": "markdown",
   "metadata": {},
   "source": [
    "### Part 3: Train Word2Vec"
   ]
  },
  {
   "cell_type": "code",
   "execution_count": 34,
   "metadata": {},
   "outputs": [],
   "source": [
    "from gensim.models import Word2Vec"
   ]
  },
  {
   "cell_type": "code",
   "execution_count": 37,
   "metadata": {},
   "outputs": [],
   "source": [
    "ted_model = Word2Vec(sentences_ted, size=100, window=5, min_count=5, workers=4)"
   ]
  },
  {
   "cell_type": "code",
   "execution_count": 38,
   "metadata": {
    "collapsed": true
   },
   "outputs": [],
   "source": [
    "ted_model.save('ted_model')"
   ]
  },
  {
   "cell_type": "code",
   "execution_count": 40,
   "metadata": {
    "collapsed": true
   },
   "outputs": [],
   "source": [
    "model_ted=Word2Vec.load('ted_model')"
   ]
  },
  {
   "cell_type": "markdown",
   "metadata": {},
   "source": [
    "### Part 4: Ted Learnt Representations"
   ]
  },
  {
   "cell_type": "markdown",
   "metadata": {},
   "source": [
    "Finding similar words: (see gensim docs for more functionality of `most_similar`)"
   ]
  },
  {
   "cell_type": "code",
   "execution_count": 41,
   "metadata": {},
   "outputs": [
    {
     "data": {
      "text/plain": [
       "[('woman', 0.8418140411376953),\n",
       " ('guy', 0.8019509315490723),\n",
       " ('lady', 0.779926061630249),\n",
       " ('girl', 0.7522783279418945),\n",
       " ('boy', 0.7340458631515503),\n",
       " ('soldier', 0.7012436389923096),\n",
       " ('kid', 0.6950050592422485),\n",
       " ('gentleman', 0.6791736483573914),\n",
       " ('david', 0.6696418523788452),\n",
       " ('poet', 0.666323184967041)]"
      ]
     },
     "execution_count": 41,
     "metadata": {},
     "output_type": "execute_result"
    }
   ],
   "source": [
    "model_ted.most_similar(\"man\")"
   ]
  },
  {
   "cell_type": "code",
   "execution_count": 42,
   "metadata": {},
   "outputs": [
    {
     "data": {
      "text/plain": [
       "[('machine', 0.7558526396751404),\n",
       " ('software', 0.7435612678527832),\n",
       " ('robot', 0.7120693922042847),\n",
       " ('printer', 0.7010622024536133),\n",
       " ('3d', 0.6938218474388123),\n",
       " ('device', 0.6744407415390015),\n",
       " ('program', 0.6506799459457397),\n",
       " ('interface', 0.630203366279602),\n",
       " ('video', 0.6286095380783081),\n",
       " ('camera', 0.6227009296417236)]"
      ]
     },
     "execution_count": 42,
     "metadata": {},
     "output_type": "execute_result"
    }
   ],
   "source": [
    "model_ted.most_similar(\"computer\")"
   ]
  },
  {
   "cell_type": "code",
   "execution_count": 45,
   "metadata": {},
   "outputs": [
    {
     "data": {
      "text/plain": [
       "[('3d', 0.5310326814651489),\n",
       " ('robotic', 0.48670458793640137),\n",
       " ('personalized', 0.48617684841156006),\n",
       " ('motor', 0.4809409976005554),\n",
       " ('mobile', 0.47924473881721497),\n",
       " ('synthetic', 0.47842317819595337),\n",
       " ('circuit', 0.4707862138748169),\n",
       " ('neural', 0.4674309194087982),\n",
       " ('memory', 0.46332329511642456),\n",
       " ('chemical', 0.46291378140449524)]"
      ]
     },
     "execution_count": 45,
     "metadata": {},
     "output_type": "execute_result"
    }
   ],
   "source": [
    "model_ted.most_similar('child')\n",
    "model_ted.most_similar(positive=['child','toy'], negative=['man','woman'])"
   ]
  },
  {
   "cell_type": "markdown",
   "metadata": {},
   "source": [
    "#### t-SNE visualization\n",
    "To use the t-SNE code below, first put a list of the top 1000 words (as strings) into a variable `words_top_ted`. The following code gets the corresponding vectors from the model, assuming it's called `model_ted`:"
   ]
  },
  {
   "cell_type": "code",
   "execution_count": 47,
   "metadata": {},
   "outputs": [],
   "source": [
    "# This assumes words_top_ted is a list of strings, the top 1000 words\n",
    "words_top_vec_ted = model_ted[words_top_ted]"
   ]
  },
  {
   "cell_type": "code",
   "execution_count": 48,
   "metadata": {},
   "outputs": [],
   "source": [
    "from sklearn.manifold import TSNE\n",
    "tsne = TSNE(n_components=2, random_state=0)\n",
    "words_top_ted_tsne = tsne.fit_transform(words_top_vec_ted)"
   ]
  },
  {
   "cell_type": "code",
   "execution_count": 49,
   "metadata": {},
   "outputs": [
    {
     "data": {
      "text/html": [
       "\n",
       "\n",
       "    <div class=\"bk-root\">\n",
       "        <div class=\"bk-plotdiv\" id=\"63cd3283-62ba-4cb0-bfc6-e8533a6efad4\"></div>\n",
       "    </div>\n",
       "<script type=\"text/javascript\">\n",
       "  \n",
       "  (function(global) {\n",
       "    function now() {\n",
       "      return new Date();\n",
       "    }\n",
       "  \n",
       "    var force = false;\n",
       "  \n",
       "    if (typeof (window._bokeh_onload_callbacks) === \"undefined\" || force === true) {\n",
       "      window._bokeh_onload_callbacks = [];\n",
       "      window._bokeh_is_loading = undefined;\n",
       "    }\n",
       "  \n",
       "  \n",
       "    \n",
       "    if (typeof (window._bokeh_timeout) === \"undefined\" || force === true) {\n",
       "      window._bokeh_timeout = Date.now() + 0;\n",
       "      window._bokeh_failed_load = false;\n",
       "    }\n",
       "  \n",
       "    var NB_LOAD_WARNING = {'data': {'text/html':\n",
       "       \"<div style='background-color: #fdd'>\\n\"+\n",
       "       \"<p>\\n\"+\n",
       "       \"BokehJS does not appear to have successfully loaded. If loading BokehJS from CDN, this \\n\"+\n",
       "       \"may be due to a slow or bad network connection. Possible fixes:\\n\"+\n",
       "       \"</p>\\n\"+\n",
       "       \"<ul>\\n\"+\n",
       "       \"<li>re-rerun `output_notebook()` to attempt to load from CDN again, or</li>\\n\"+\n",
       "       \"<li>use INLINE resources instead, as so:</li>\\n\"+\n",
       "       \"</ul>\\n\"+\n",
       "       \"<code>\\n\"+\n",
       "       \"from bokeh.resources import INLINE\\n\"+\n",
       "       \"output_notebook(resources=INLINE)\\n\"+\n",
       "       \"</code>\\n\"+\n",
       "       \"</div>\"}};\n",
       "  \n",
       "    function display_loaded() {\n",
       "      if (window.Bokeh !== undefined) {\n",
       "        document.getElementById(\"63cd3283-62ba-4cb0-bfc6-e8533a6efad4\").textContent = \"BokehJS successfully loaded.\";\n",
       "      } else if (Date.now() < window._bokeh_timeout) {\n",
       "        setTimeout(display_loaded, 100)\n",
       "      }\n",
       "    }\n",
       "  \n",
       "    function run_callbacks() {\n",
       "      window._bokeh_onload_callbacks.forEach(function(callback) { callback() });\n",
       "      delete window._bokeh_onload_callbacks\n",
       "      console.info(\"Bokeh: all callbacks have finished\");\n",
       "    }\n",
       "  \n",
       "    function load_libs(js_urls, callback) {\n",
       "      window._bokeh_onload_callbacks.push(callback);\n",
       "      if (window._bokeh_is_loading > 0) {\n",
       "        console.log(\"Bokeh: BokehJS is being loaded, scheduling callback at\", now());\n",
       "        return null;\n",
       "      }\n",
       "      if (js_urls == null || js_urls.length === 0) {\n",
       "        run_callbacks();\n",
       "        return null;\n",
       "      }\n",
       "      console.log(\"Bokeh: BokehJS not loaded, scheduling load and callback at\", now());\n",
       "      window._bokeh_is_loading = js_urls.length;\n",
       "      for (var i = 0; i < js_urls.length; i++) {\n",
       "        var url = js_urls[i];\n",
       "        var s = document.createElement('script');\n",
       "        s.src = url;\n",
       "        s.async = false;\n",
       "        s.onreadystatechange = s.onload = function() {\n",
       "          window._bokeh_is_loading--;\n",
       "          if (window._bokeh_is_loading === 0) {\n",
       "            console.log(\"Bokeh: all BokehJS libraries loaded\");\n",
       "            run_callbacks()\n",
       "          }\n",
       "        };\n",
       "        s.onerror = function() {\n",
       "          console.warn(\"failed to load library \" + url);\n",
       "        };\n",
       "        console.log(\"Bokeh: injecting script tag for BokehJS library: \", url);\n",
       "        document.getElementsByTagName(\"head\")[0].appendChild(s);\n",
       "      }\n",
       "    };var element = document.getElementById(\"63cd3283-62ba-4cb0-bfc6-e8533a6efad4\");\n",
       "    if (element == null) {\n",
       "      console.log(\"Bokeh: ERROR: autoload.js configured with elementid '63cd3283-62ba-4cb0-bfc6-e8533a6efad4' but no matching script tag was found. \")\n",
       "      return false;\n",
       "    }\n",
       "  \n",
       "    var js_urls = [];\n",
       "  \n",
       "    var inline_js = [\n",
       "      function(Bokeh) {\n",
       "        (function() {\n",
       "          var fn = function() {\n",
       "            var docs_json = {\"251dc793-7035-4b6d-8201-903380510ba9\":{\"roots\":{\"references\":[{\"attributes\":{\"plot\":{\"id\":\"43e7e004-ff07-4715-8886-62b4e2a3d11a\",\"subtype\":\"Figure\",\"type\":\"Plot\"}},\"id\":\"90aae440-13d2-4dc7-93e4-a67fe24832c2\",\"type\":\"PanTool\"},{\"attributes\":{\"plot\":{\"id\":\"43e7e004-ff07-4715-8886-62b4e2a3d11a\",\"subtype\":\"Figure\",\"type\":\"Plot\"}},\"id\":\"650e4aba-4120-4a49-862a-52ae716d2807\",\"type\":\"WheelZoomTool\"},{\"attributes\":{\"plot\":{\"id\":\"43e7e004-ff07-4715-8886-62b4e2a3d11a\",\"subtype\":\"Figure\",\"type\":\"Plot\"}},\"id\":\"5e45303c-f8fa-40bb-9d41-646b49967b19\",\"type\":\"ResetTool\"},{\"attributes\":{\"plot\":{\"id\":\"43e7e004-ff07-4715-8886-62b4e2a3d11a\",\"subtype\":\"Figure\",\"type\":\"Plot\"}},\"id\":\"dc6f044a-4378-492a-8e6d-471422c54da2\",\"type\":\"SaveTool\"},{\"attributes\":{\"data_source\":{\"id\":\"3a4db24e-c445-4b80-b511-bb428f5e5d76\",\"type\":\"ColumnDataSource\"},\"glyph\":{\"id\":\"eb769631-9760-4125-8f98-bb5a633f3432\",\"type\":\"Circle\"},\"hover_glyph\":null,\"nonselection_glyph\":{\"id\":\"8eb51112-c67c-458c-b1af-10dce9280e42\",\"type\":\"Circle\"},\"selection_glyph\":null},\"id\":\"cbc6b1ca-5f0f-407c-9750-53c40e160168\",\"type\":\"GlyphRenderer\"},{\"attributes\":{},\"id\":\"9959d8cd-e159-4abf-ba60-079c9639295b\",\"type\":\"BasicTickFormatter\"},{\"attributes\":{},\"id\":\"ae18814c-e493-4fe7-b6e9-0bb978edc94a\",\"type\":\"BasicTickFormatter\"},{\"attributes\":{\"fill_color\":{\"value\":\"#1f77b4\"},\"line_color\":{\"value\":\"#1f77b4\"},\"size\":{\"units\":\"screen\",\"value\":8},\"x\":{\"field\":\"x1\"},\"y\":{\"field\":\"x2\"}},\"id\":\"eb769631-9760-4125-8f98-bb5a633f3432\",\"type\":\"Circle\"},{\"attributes\":{\"fill_alpha\":{\"value\":0.1},\"fill_color\":{\"value\":\"#1f77b4\"},\"line_alpha\":{\"value\":0.1},\"line_color\":{\"value\":\"#1f77b4\"},\"size\":{\"units\":\"screen\",\"value\":8},\"x\":{\"field\":\"x1\"},\"y\":{\"field\":\"x2\"}},\"id\":\"8eb51112-c67c-458c-b1af-10dce9280e42\",\"type\":\"Circle\"},{\"attributes\":{\"below\":[{\"id\":\"2ff29767-9f3f-46ca-8b3d-0a7d8eb04303\",\"type\":\"LinearAxis\"}],\"left\":[{\"id\":\"dd8ddbfd-c880-4a4f-9d87-1214c1efa29a\",\"type\":\"LinearAxis\"}],\"renderers\":[{\"id\":\"2ff29767-9f3f-46ca-8b3d-0a7d8eb04303\",\"type\":\"LinearAxis\"},{\"id\":\"1dd2a87e-7b8f-49f8-ba0f-a16bffe962d2\",\"type\":\"Grid\"},{\"id\":\"dd8ddbfd-c880-4a4f-9d87-1214c1efa29a\",\"type\":\"LinearAxis\"},{\"id\":\"0ee4ecbf-5871-4683-857a-741f0b07efb9\",\"type\":\"Grid\"},{\"id\":\"cbc6b1ca-5f0f-407c-9750-53c40e160168\",\"type\":\"GlyphRenderer\"},{\"id\":\"677803ae-018b-484d-9afa-5b0bd4fda522\",\"type\":\"LabelSet\"}],\"title\":{\"id\":\"539a7272-66e7-460d-a8dd-34b415259dcd\",\"type\":\"Title\"},\"tool_events\":{\"id\":\"baa89be5-d19b-49d2-ac39-41082f1a2a56\",\"type\":\"ToolEvents\"},\"toolbar\":{\"id\":\"4a401773-3c70-4e49-81f8-964f04b4746f\",\"type\":\"Toolbar\"},\"toolbar_location\":\"above\",\"x_range\":{\"id\":\"e33a3b29-68db-4bab-80c7-974cbe767c74\",\"type\":\"DataRange1d\"},\"y_range\":{\"id\":\"ee6f505e-07d3-4dc1-a2f9-0847f5222057\",\"type\":\"DataRange1d\"}},\"id\":\"43e7e004-ff07-4715-8886-62b4e2a3d11a\",\"subtype\":\"Figure\",\"type\":\"Plot\"},{\"attributes\":{\"plot\":{\"id\":\"43e7e004-ff07-4715-8886-62b4e2a3d11a\",\"subtype\":\"Figure\",\"type\":\"Plot\"},\"source\":{\"id\":\"3a4db24e-c445-4b80-b511-bb428f5e5d76\",\"type\":\"ColumnDataSource\"},\"text\":{\"field\":\"names\"},\"text_align\":\"center\",\"text_color\":{\"value\":\"#555555\"},\"text_font_size\":{\"value\":\"8pt\"},\"x\":{\"field\":\"x1\"},\"y\":{\"field\":\"x2\"},\"y_offset\":{\"value\":6}},\"id\":\"677803ae-018b-484d-9afa-5b0bd4fda522\",\"type\":\"LabelSet\"},{\"attributes\":{\"callback\":null,\"column_names\":[\"x1\",\"x2\",\"names\"],\"data\":{\"names\":[\"the\",\"and\",\"to\",\"of\",\"a\",\"that\",\"i\",\"in\",\"it\",\"you\",\"we\",\"is\",\"s\",\"this\",\"so\",\"they\",\"was\",\"for\",\"are\",\"have\",\"but\",\"what\",\"on\",\"with\",\"can\",\"t\",\"about\",\"there\",\"be\",\"as\",\"at\",\"all\",\"not\",\"do\",\"my\",\"one\",\"re\",\"people\",\"like\",\"if\",\"from\",\"now\",\"our\",\"he\",\"an\",\"just\",\"these\",\"or\",\"when\",\"because\",\"very\",\"me\",\"out\",\"by\",\"them\",\"how\",\"know\",\"up\",\"going\",\"had\",\"more\",\"think\",\"who\",\"were\",\"see\",\"your\",\"their\",\"which\",\"would\",\"here\",\"really\",\"get\",\"ve\",\"then\",\"m\",\"world\",\"us\",\"time\",\"some\",\"has\",\"don\",\"actually\",\"into\",\"way\",\"where\",\"will\",\"years\",\"things\",\"other\",\"no\",\"could\",\"go\",\"well\",\"want\",\"been\",\"make\",\"right\",\"she\",\"said\",\"something\",\"those\",\"first\",\"two\",\"than\",\"much\",\"also\",\"look\",\"new\",\"thing\",\"little\",\"got\",\"back\",\"over\",\"most\",\"say\",\"even\",\"his\",\"life\",\"only\",\"work\",\"many\",\"take\",\"need\",\"did\",\"lot\",\"kind\",\"why\",\"good\",\"around\",\"every\",\"different\",\"down\",\"ll\",\"let\",\"her\",\"through\",\"same\",\"being\",\"come\",\"d\",\"day\",\"year\",\"three\",\"use\",\"doing\",\"put\",\"called\",\"any\",\"today\",\"percent\",\"made\",\"after\",\"thank\",\"tell\",\"great\",\"human\",\"find\",\"didn\",\"fact\",\"talk\",\"change\",\"started\",\"another\",\"idea\",\"big\",\"last\",\"own\",\"before\",\"its\",\"never\",\"should\",\"better\",\"give\",\"thought\",\"went\",\"might\",\"important\",\"000\",\"again\",\"able\",\"together\",\"still\",\"problem\",\"off\",\"next\",\"part\",\"course\",\"system\",\"him\",\"does\",\"each\",\"start\",\"show\",\"long\",\"ago\",\"story\",\"came\",\"brain\",\"few\",\"bit\",\"between\",\"used\",\"place\",\"technology\",\"women\",\"too\",\"old\",\"mean\",\"data\",\"water\",\"looking\",\"question\",\"maybe\",\"found\",\"love\",\"doesn\",\"end\",\"example\",\"10\",\"done\",\"point\",\"four\",\"real\",\"wanted\",\"ever\",\"school\",\"understand\",\"sort\",\"live\",\"call\",\"whole\",\"children\",\"always\",\"trying\",\"may\",\"person\",\"away\",\"believe\",\"feel\",\"try\",\"million\",\"working\",\"help\",\"everything\",\"five\",\"country\",\"thinking\",\"second\",\"using\",\"information\",\"money\",\"means\",\"power\",\"took\",\"times\",\"high\",\"space\",\"number\",\"kids\",\"home\",\"become\",\"create\",\"small\",\"design\",\"making\",\"best\",\"left\",\"getting\",\"future\",\"enough\",\"man\",\"quite\",\"city\",\"without\",\"sense\",\"happened\",\"comes\",\"social\",\"probably\",\"less\",\"light\",\"talking\",\"energy\",\"am\",\"building\",\"science\",\"food\",\"body\",\"told\",\"interesting\",\"ask\",\"half\",\"pretty\",\"hard\",\"play\",\"anything\",\"lives\",\"countries\",\"coming\",\"such\",\"family\",\"stuff\",\"dollars\",\"earth\",\"moment\",\"20\",\"imagine\",\"across\",\"side\",\"while\",\"saw\",\"happen\",\"once\",\"okay\",\"build\",\"having\",\"men\",\"later\",\"experience\",\"makes\",\"asked\",\"living\",\"seen\",\"says\",\"room\",\"hand\",\"simple\",\"health\",\"ways\",\"else\",\"case\",\"yet\",\"almost\",\"young\",\"days\",\"nothing\",\"care\",\"bad\",\"happens\",\"goes\",\"move\",\"states\",\"reason\",\"computer\",\"open\",\"learn\",\"africa\",\"process\",\"inside\",\"someone\",\"six\",\"far\",\"mind\",\"project\",\"remember\",\"single\",\"picture\",\"both\",\"whether\",\"problems\",\"saying\",\"community\",\"basically\",\"already\",\"within\",\"looked\",\"myself\",\"billion\",\"often\",\"possible\",\"business\",\"planet\",\"global\",\"everybody\",\"top\",\"sure\",\"public\",\"set\",\"wrong\",\"car\",\"book\",\"keep\",\"yes\",\"answer\",\"oh\",\"hope\",\"sometimes\",\"true\",\"history\",\"war\",\"guy\",\"child\",\"instead\",\"months\",\"ideas\",\"looks\",\"matter\",\"government\",\"amazing\",\"united\",\"since\",\"bring\",\"age\",\"cells\",\"job\",\"heard\",\"until\",\"face\",\"wasn\",\"100\",\"read\",\"control\",\"isn\",\"research\",\"30\",\"words\",\"u\",\"group\",\"under\",\"self\",\"somebody\",\"built\",\"state\",\"woman\",\"turn\",\"friends\",\"beautiful\",\"line\",\"knew\",\"couple\",\"order\",\"form\",\"yeah\",\"internet\",\"middle\",\"music\",\"piece\",\"nature\",\"head\",\"though\",\"stop\",\"everyone\",\"50\",\"places\",\"video\",\"learned\",\"language\",\"run\",\"night\",\"decided\",\"study\",\"word\",\"cancer\",\"taking\",\"works\",\"became\",\"exactly\",\"species\",\"society\",\"completely\",\"education\",\"against\",\"stories\",\"large\",\"share\",\"level\",\"heart\",\"america\",\"model\",\"questions\",\"gets\",\"mother\",\"god\",\"company\",\"turns\",\"ourselves\",\"happening\",\"hear\",\"art\",\"themselves\",\"must\",\"itself\",\"rather\",\"kinds\",\"students\",\"name\",\"hours\",\"disease\",\"front\",\"house\",\"huge\",\"couldn\",\"created\",\"universe\",\"ok\",\"animals\",\"american\",\"environment\",\"worked\",\"minutes\",\"ones\",\"black\",\"perhaps\",\"1\",\"past\",\"third\",\"along\",\"others\",\"finally\",\"sound\",\"early\",\"game\",\"thousands\",\"century\",\"based\",\"least\",\"per\",\"ted\",\"lots\",\"figure\",\"free\",\"guys\",\"particular\",\"happy\",\"news\",\"learning\",\"entire\",\"won\",\"gave\",\"machine\",\"india\",\"during\",\"systems\",\"air\",\"difference\",\"outside\",\"natural\",\"taken\",\"seven\",\"given\",\"changed\",\"leave\",\"cell\",\"15\",\"close\",\"behind\",\"cities\",\"full\",\"scale\",\"difficult\",\"china\",\"takes\",\"companies\",\"yourself\",\"area\",\"reality\",\"seeing\",\"easy\",\"turned\",\"cost\",\"eyes\",\"team\",\"moving\",\"population\",\"culture\",\"york\",\"hands\",\"whatever\",\"began\",\"needs\",\"terms\",\"image\",\"simply\",\"needed\",\"beginning\",\"father\",\"local\",\"realized\",\"media\",\"death\",\"parents\",\"view\",\"walk\",\"white\",\"market\",\"parts\",\"ocean\",\"economic\",\"eight\",\"powerful\",\"known\",\"week\",\"size\",\"felt\",\"humans\",\"certain\",\"spend\",\"longer\",\"phone\",\"wonderful\",\"cannot\",\"grow\",\"common\",\"center\",\"tried\",\"fish\",\"land\",\"oil\",\"political\",\"interested\",\"deal\",\"red\",\"gone\",\"amount\",\"weeks\",\"spent\",\"opportunity\",\"paper\",\"lost\",\"national\",\"quickly\",\"blue\",\"step\",\"poor\",\"green\",\"buy\",\"growth\",\"wouldn\",\"either\",\"patients\",\"sitting\",\"ability\",\"changes\",\"write\",\"challenge\",\"south\",\"low\",\"growing\",\"friend\",\"field\",\"shows\",\"2\",\"born\",\"rest\",\"climate\",\"40\",\"test\",\"street\",\"surface\",\"incredible\",\"average\",\"physical\",\"morning\",\"scientists\",\"program\",\"pay\",\"value\",\"feeling\",\"hundreds\",\"girl\",\"met\",\"behavior\",\"economy\",\"dna\",\"complex\",\"access\",\"risk\",\"animal\",\"structure\",\"feet\",\"attention\",\"areas\",\"anyone\",\"deep\",\"watch\",\"short\",\"absolutely\",\"speak\",\"brought\",\"die\",\"bottom\",\"numbers\",\"audience\",\"stage\",\"realize\",\"law\",\"images\",\"wrote\",\"understanding\",\"knowledge\",\"literally\",\"books\",\"movement\",\"ground\",\"giving\",\"eat\",\"force\",\"seems\",\"alone\",\"telling\",\"starting\",\"hold\",\"nice\",\"forward\",\"sea\",\"developed\",\"individual\",\"kid\",\"millions\",\"support\",\"miles\",\"tools\",\"running\",\"online\",\"result\",\"act\",\"medical\",\"technologies\",\"north\",\"lab\",\"development\",\"blood\",\"fear\",\"nobody\",\"map\",\"personal\",\"issue\",\"voice\",\"material\",\"key\",\"12\",\"recently\",\"theory\",\"cut\",\"cars\",\"sun\",\"fast\",\"changing\",\"playing\",\"clear\",\"especially\",\"soon\",\"girls\",\"patient\",\"choice\",\"fly\",\"creating\",\"normal\",\"discovered\",\"europe\",\"talked\",\"relationship\",\"gives\",\"generation\",\"dark\",\"type\",\"showed\",\"chance\",\"seem\",\"industry\",\"asking\",\"rate\",\"fun\",\"issues\",\"color\",\"designed\",\"hour\",\"university\",\"innovation\",\"several\",\"class\",\"computers\",\"english\",\"tiny\",\"allow\",\"save\",\"focus\",\"digital\",\"solve\",\"developing\",\"network\",\"film\",\"special\",\"wall\",\"situation\",\"baby\",\"solution\",\"reasons\",\"box\",\"knows\",\"meet\",\"dead\",\"stand\",\"begin\",\"haven\",\"impact\",\"anybody\",\"term\",\"beyond\",\"pictures\",\"please\",\"ice\",\"produce\",\"shape\",\"non\",\"resources\",\"robot\",\"cool\",\"groups\",\"likely\",\"stay\",\"available\",\"truth\",\"rights\",\"major\",\"cause\",\"evidence\",\"obviously\",\"writing\",\"experiment\",\"modern\",\"drug\",\"becomes\",\"incredibly\",\"aren\",\"bigger\",\"guess\",\"nine\",\"product\",\"drugs\",\"lived\",\"involved\",\"perfect\",\"google\",\"month\",\"effect\",\"similar\",\"putting\",\"eye\",\"pick\",\"message\",\"quality\",\"violence\",\"web\",\"evolution\",\"security\",\"office\",\"basic\",\"solar\",\"indeed\",\"general\",\"towards\",\"present\",\"drive\",\"send\",\"listen\",\"worth\",\"revolution\",\"explain\",\"hundred\",\"certainly\",\"died\",\"ready\",\"teach\",\"journey\",\"25\",\"hit\",\"walking\",\"led\",\"approach\",\"international\",\"200\",\"scientific\",\"games\",\"60\",\"potential\",\"crazy\",\"communities\",\"chinese\",\"device\",\"source\",\"camera\",\"rules\",\"sex\",\"carbon\",\"sounds\",\"boy\",\"reach\",\"starts\",\"examples\",\"west\",\"3\",\"success\",\"measure\",\"particularly\",\"software\",\"totally\",\"suddenly\",\"action\",\"college\",\"higher\",\"code\",\"eventually\",\"democracy\",\"among\",\"minute\",\"sit\",\"largest\",\"showing\",\"hospital\",\"notice\",\"period\",\"mass\",\"develop\",\"dream\",\"onto\",\"plants\",\"break\",\"add\",\"memory\",\"everywhere\",\"favorite\",\"11\",\"zero\",\"speed\",\"schools\",\"moved\",\"response\",\"wants\",\"extremely\",\"movie\",\"individuals\",\"table\",\"wait\",\"medicine\",\"follow\",\"anyway\",\"trust\",\"plant\",\"biggest\",\"watching\",\"organization\",\"creative\",\"road\",\"choose\",\"worse\",\"lead\",\"results\",\"500\",\"exciting\",\"grew\",\"materials\",\"jobs\",\"plan\",\"east\",\"poverty\",\"positive\",\"safe\",\"strong\",\"fall\",\"essentially\",\"object\",\"door\",\"son\",\"vision\",\"further\",\"happiness\",\"continue\",\"student\",\"doctor\",\"including\",\"named\",\"role\",\"objects\",\"extraordinary\",\"standing\",\"skin\",\"leaders\",\"usually\",\"african\",\"conversation\",\"projects\",\"allowed\",\"models\",\"supposed\",\"faster\",\"interest\",\"families\",\"police\",\"fight\",\"tree\",\"connected\",\"screen\",\"5\",\"cases\",\"goal\",\"somewhere\",\"finding\",\"buildings\",\"shown\"],\"x1\":{\"__ndarray__\":\"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\",\"dtype\":\"float32\",\"shape\":[1000]},\"x2\":{\"__ndarray__\":\"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\",\"dtype\":\"float32\",\"shape\":[1000]}}},\"id\":\"3a4db24e-c445-4b80-b511-bb428f5e5d76\",\"type\":\"ColumnDataSource\"},{\"attributes\":{\"plot\":null,\"text\":\"word2vec T-SNE for most common words\"},\"id\":\"539a7272-66e7-460d-a8dd-34b415259dcd\",\"type\":\"Title\"},{\"attributes\":{\"callback\":null},\"id\":\"e33a3b29-68db-4bab-80c7-974cbe767c74\",\"type\":\"DataRange1d\"},{\"attributes\":{},\"id\":\"baa89be5-d19b-49d2-ac39-41082f1a2a56\",\"type\":\"ToolEvents\"},{\"attributes\":{\"active_drag\":\"auto\",\"active_scroll\":\"auto\",\"active_tap\":\"auto\",\"tools\":[{\"id\":\"90aae440-13d2-4dc7-93e4-a67fe24832c2\",\"type\":\"PanTool\"},{\"id\":\"650e4aba-4120-4a49-862a-52ae716d2807\",\"type\":\"WheelZoomTool\"},{\"id\":\"5e45303c-f8fa-40bb-9d41-646b49967b19\",\"type\":\"ResetTool\"},{\"id\":\"dc6f044a-4378-492a-8e6d-471422c54da2\",\"type\":\"SaveTool\"}]},\"id\":\"4a401773-3c70-4e49-81f8-964f04b4746f\",\"type\":\"Toolbar\"},{\"attributes\":{\"formatter\":{\"id\":\"ae18814c-e493-4fe7-b6e9-0bb978edc94a\",\"type\":\"BasicTickFormatter\"},\"plot\":{\"id\":\"43e7e004-ff07-4715-8886-62b4e2a3d11a\",\"subtype\":\"Figure\",\"type\":\"Plot\"},\"ticker\":{\"id\":\"bc4cdff3-0255-4861-a6d3-3ba67befc045\",\"type\":\"BasicTicker\"}},\"id\":\"2ff29767-9f3f-46ca-8b3d-0a7d8eb04303\",\"type\":\"LinearAxis\"},{\"attributes\":{\"callback\":null},\"id\":\"ee6f505e-07d3-4dc1-a2f9-0847f5222057\",\"type\":\"DataRange1d\"},{\"attributes\":{},\"id\":\"bc4cdff3-0255-4861-a6d3-3ba67befc045\",\"type\":\"BasicTicker\"},{\"attributes\":{\"plot\":{\"id\":\"43e7e004-ff07-4715-8886-62b4e2a3d11a\",\"subtype\":\"Figure\",\"type\":\"Plot\"},\"ticker\":{\"id\":\"bc4cdff3-0255-4861-a6d3-3ba67befc045\",\"type\":\"BasicTicker\"}},\"id\":\"1dd2a87e-7b8f-49f8-ba0f-a16bffe962d2\",\"type\":\"Grid\"},{\"attributes\":{\"formatter\":{\"id\":\"9959d8cd-e159-4abf-ba60-079c9639295b\",\"type\":\"BasicTickFormatter\"},\"plot\":{\"id\":\"43e7e004-ff07-4715-8886-62b4e2a3d11a\",\"subtype\":\"Figure\",\"type\":\"Plot\"},\"ticker\":{\"id\":\"767e2d6e-78bb-4189-b3c5-7c30d0a3b5a2\",\"type\":\"BasicTicker\"}},\"id\":\"dd8ddbfd-c880-4a4f-9d87-1214c1efa29a\",\"type\":\"LinearAxis\"},{\"attributes\":{},\"id\":\"767e2d6e-78bb-4189-b3c5-7c30d0a3b5a2\",\"type\":\"BasicTicker\"},{\"attributes\":{\"dimension\":1,\"plot\":{\"id\":\"43e7e004-ff07-4715-8886-62b4e2a3d11a\",\"subtype\":\"Figure\",\"type\":\"Plot\"},\"ticker\":{\"id\":\"767e2d6e-78bb-4189-b3c5-7c30d0a3b5a2\",\"type\":\"BasicTicker\"}},\"id\":\"0ee4ecbf-5871-4683-857a-741f0b07efb9\",\"type\":\"Grid\"}],\"root_ids\":[\"43e7e004-ff07-4715-8886-62b4e2a3d11a\"]},\"title\":\"Bokeh Application\",\"version\":\"0.12.4\"}};\n",
       "            var render_items = [{\"docid\":\"251dc793-7035-4b6d-8201-903380510ba9\",\"elementid\":\"63cd3283-62ba-4cb0-bfc6-e8533a6efad4\",\"modelid\":\"43e7e004-ff07-4715-8886-62b4e2a3d11a\"}];\n",
       "            \n",
       "            Bokeh.embed.embed_items(docs_json, render_items);\n",
       "          };\n",
       "          if (document.readyState != \"loading\") fn();\n",
       "          else document.addEventListener(\"DOMContentLoaded\", fn);\n",
       "        })();\n",
       "      },\n",
       "      function(Bokeh) {\n",
       "      }\n",
       "    ];\n",
       "  \n",
       "    function run_inline_js() {\n",
       "      \n",
       "      if ((window.Bokeh !== undefined) || (force === true)) {\n",
       "        for (var i = 0; i < inline_js.length; i++) {\n",
       "          inline_js[i](window.Bokeh);\n",
       "        }if (force === true) {\n",
       "          display_loaded();\n",
       "        }} else if (Date.now() < window._bokeh_timeout) {\n",
       "        setTimeout(run_inline_js, 100);\n",
       "      } else if (!window._bokeh_failed_load) {\n",
       "        console.log(\"Bokeh: BokehJS failed to load within specified timeout.\");\n",
       "        window._bokeh_failed_load = true;\n",
       "      } else if (force !== true) {\n",
       "        var cell = $(document.getElementById(\"63cd3283-62ba-4cb0-bfc6-e8533a6efad4\")).parents('.cell').data().cell;\n",
       "        cell.output_area.append_execute_result(NB_LOAD_WARNING)\n",
       "      }\n",
       "  \n",
       "    }\n",
       "  \n",
       "    if (window._bokeh_is_loading === 0) {\n",
       "      console.log(\"Bokeh: BokehJS loaded, going straight to plotting\");\n",
       "      run_inline_js();\n",
       "    } else {\n",
       "      load_libs(js_urls, function() {\n",
       "        console.log(\"Bokeh: BokehJS plotting callback run at\", now());\n",
       "        run_inline_js();\n",
       "      });\n",
       "    }\n",
       "  }(this));\n",
       "</script>"
      ]
     },
     "metadata": {},
     "output_type": "display_data"
    }
   ],
   "source": [
    "p = figure(tools=\"pan,wheel_zoom,reset,save\",\n",
    "           toolbar_location=\"above\",\n",
    "           title=\"word2vec T-SNE for most common words\")\n",
    "\n",
    "source = ColumnDataSource(data=dict(x1=words_top_ted_tsne[:,0],\n",
    "                                    x2=words_top_ted_tsne[:,1],\n",
    "                                    names=words_top_ted))\n",
    "\n",
    "p.scatter(x=\"x1\", y=\"x2\", size=8, source=source)\n",
    "\n",
    "labels = LabelSet(x=\"x1\", y=\"x2\", text=\"names\", y_offset=6,\n",
    "                  text_font_size=\"8pt\", text_color=\"#555555\",\n",
    "                  source=source, text_align='center')\n",
    "p.add_layout(labels)\n",
    "\n",
    "show(p)"
   ]
  },
  {
   "cell_type": "markdown",
   "metadata": {},
   "source": [
    "### Part 5: Wiki Learnt Representations"
   ]
  },
  {
   "cell_type": "markdown",
   "metadata": {},
   "source": [
    "Download dataset"
   ]
  },
  {
   "cell_type": "code",
   "execution_count": 50,
   "metadata": {
    "collapsed": true
   },
   "outputs": [],
   "source": [
    "if not os.path.isfile('wikitext-103-raw-v1.zip'):\n",
    "    urllib.request.urlretrieve(\"https://s3.amazonaws.com/research.metamind.io/wikitext/wikitext-103-raw-v1.zip\", filename=\"wikitext-103-raw-v1.zip\")"
   ]
  },
  {
   "cell_type": "code",
   "execution_count": 51,
   "metadata": {},
   "outputs": [],
   "source": [
    "with zipfile.ZipFile('wikitext-103-raw-v1.zip', 'r') as z:\n",
    "    input_text = str(z.open('wikitext-103-raw/wiki.train.raw', 'r').read(), encoding='utf-8') # Thanks Robert Bastian"
   ]
  },
  {
   "cell_type": "markdown",
   "metadata": {},
   "source": [
    "Preprocess sentences (note that it's important to remove small sentences for performance)"
   ]
  },
  {
   "cell_type": "code",
   "execution_count": 52,
   "metadata": {},
   "outputs": [],
   "source": [
    "sentences_wiki = []\n",
    "for line in input_text.split('\\n'):\n",
    "    s = [x for x in line.split('.') if x and len(x.split()) >= 5]\n",
    "    sentences_wiki.extend(s)\n",
    "    \n",
    "for s_i in range(len(sentences_wiki)):\n",
    "    sentences_wiki[s_i] = re.sub(\"[^a-z]\", \" \", sentences_wiki[s_i].lower())\n",
    "    sentences_wiki[s_i] = re.sub(r'\\([^)]*\\)', '', sentences_wiki[s_i])\n",
    "del input_text"
   ]
  },
  {
   "cell_type": "code",
   "execution_count": 53,
   "metadata": {},
   "outputs": [
    {
     "name": "stdout",
     "output_type": "stream",
     "text": [
      "4267112\n",
      "853422\n"
     ]
    }
   ],
   "source": [
    "# sample 1/5 of the data\n",
    "shuffle(sentences_wiki)\n",
    "print(len(sentences_wiki))\n",
    "sentences_wiki = sentences_wiki[:int(len(sentences_wiki)/5)]\n",
    "print(len(sentences_wiki))"
   ]
  },
  {
   "cell_type": "code",
   "execution_count": 82,
   "metadata": {},
   "outputs": [
    {
     "name": "stdout",
     "output_type": "stream",
     "text": [
      "['analysis', 'of', 'the', 'new', 'towns', 'in', 'wales', 'and', 'england', 'of', 'the', 'period', 'has', 'identified', 'common', 'similarities', 'in', 'their', 'design', 'with', 'most', 'featuring', 'a', 't', 'shaped', 'street', 'plan', 'stretching', 'away', 'from', 'the', 'coast', 'or', 'river', 'aligned', 'with', 'a', 'castle', 'that', 'is', 'usually', 'positioned', 'at', 'a', 'top', 'corner', 'of', 'the', 't']\n"
     ]
    }
   ],
   "source": [
    "sentences_wiki_2=[]\n",
    "for k in sentences_wiki:\n",
    "    sentences_wiki_2.append(k.split())\n",
    "print(sentences_wiki_2[0])"
   ]
  },
  {
   "cell_type": "code",
   "execution_count": null,
   "metadata": {
    "collapsed": true
   },
   "outputs": [],
   "source": []
  },
  {
   "cell_type": "markdown",
   "metadata": {},
   "source": [
    "Now, repeat all the same steps that you performed above. You should be able to reuse essentially all the code."
   ]
  },
  {
   "cell_type": "code",
   "execution_count": 71,
   "metadata": {},
   "outputs": [
    {
     "name": "stdout",
     "output_type": "stream",
     "text": [
      "[1284867, 546435, 500005, 434119, 399090, 357057, 214959]\n"
     ]
    }
   ],
   "source": [
    "wc=collections.Counter()\n",
    "for s in sentences_wiki:\n",
    "    for word in s.split():\n",
    "        wc[word]+=1\n",
    "words_top_wiki=list(k[0] for k in wc.most_common(1000))\n",
    "counts_wiki_top1000=list(k[1] for k in wc.most_common(1000))\n",
    "print(words_top_wiki[:7])"
   ]
  },
  {
   "cell_type": "code",
   "execution_count": 89,
   "metadata": {},
   "outputs": [
    {
     "name": "stdout",
     "output_type": "stream",
     "text": [
      "['the', 'of', 'and', 'in', 'to', 'a', 'was']\n"
     ]
    }
   ],
   "source": [
    "print(words_top_wiki[:7])"
   ]
  },
  {
   "cell_type": "markdown",
   "metadata": {},
   "source": [
    "Plot distribution of top-1000 words"
   ]
  },
  {
   "cell_type": "code",
   "execution_count": 73,
   "metadata": {
    "scrolled": true
   },
   "outputs": [
    {
     "data": {
      "text/html": [
       "\n",
       "\n",
       "    <div class=\"bk-root\">\n",
       "        <div class=\"bk-plotdiv\" id=\"3df0b1fe-ca9d-4f5e-b34c-54b52c0689fe\"></div>\n",
       "    </div>\n",
       "<script type=\"text/javascript\">\n",
       "  \n",
       "  (function(global) {\n",
       "    function now() {\n",
       "      return new Date();\n",
       "    }\n",
       "  \n",
       "    var force = false;\n",
       "  \n",
       "    if (typeof (window._bokeh_onload_callbacks) === \"undefined\" || force === true) {\n",
       "      window._bokeh_onload_callbacks = [];\n",
       "      window._bokeh_is_loading = undefined;\n",
       "    }\n",
       "  \n",
       "  \n",
       "    \n",
       "    if (typeof (window._bokeh_timeout) === \"undefined\" || force === true) {\n",
       "      window._bokeh_timeout = Date.now() + 0;\n",
       "      window._bokeh_failed_load = false;\n",
       "    }\n",
       "  \n",
       "    var NB_LOAD_WARNING = {'data': {'text/html':\n",
       "       \"<div style='background-color: #fdd'>\\n\"+\n",
       "       \"<p>\\n\"+\n",
       "       \"BokehJS does not appear to have successfully loaded. If loading BokehJS from CDN, this \\n\"+\n",
       "       \"may be due to a slow or bad network connection. Possible fixes:\\n\"+\n",
       "       \"</p>\\n\"+\n",
       "       \"<ul>\\n\"+\n",
       "       \"<li>re-rerun `output_notebook()` to attempt to load from CDN again, or</li>\\n\"+\n",
       "       \"<li>use INLINE resources instead, as so:</li>\\n\"+\n",
       "       \"</ul>\\n\"+\n",
       "       \"<code>\\n\"+\n",
       "       \"from bokeh.resources import INLINE\\n\"+\n",
       "       \"output_notebook(resources=INLINE)\\n\"+\n",
       "       \"</code>\\n\"+\n",
       "       \"</div>\"}};\n",
       "  \n",
       "    function display_loaded() {\n",
       "      if (window.Bokeh !== undefined) {\n",
       "        document.getElementById(\"3df0b1fe-ca9d-4f5e-b34c-54b52c0689fe\").textContent = \"BokehJS successfully loaded.\";\n",
       "      } else if (Date.now() < window._bokeh_timeout) {\n",
       "        setTimeout(display_loaded, 100)\n",
       "      }\n",
       "    }\n",
       "  \n",
       "    function run_callbacks() {\n",
       "      window._bokeh_onload_callbacks.forEach(function(callback) { callback() });\n",
       "      delete window._bokeh_onload_callbacks\n",
       "      console.info(\"Bokeh: all callbacks have finished\");\n",
       "    }\n",
       "  \n",
       "    function load_libs(js_urls, callback) {\n",
       "      window._bokeh_onload_callbacks.push(callback);\n",
       "      if (window._bokeh_is_loading > 0) {\n",
       "        console.log(\"Bokeh: BokehJS is being loaded, scheduling callback at\", now());\n",
       "        return null;\n",
       "      }\n",
       "      if (js_urls == null || js_urls.length === 0) {\n",
       "        run_callbacks();\n",
       "        return null;\n",
       "      }\n",
       "      console.log(\"Bokeh: BokehJS not loaded, scheduling load and callback at\", now());\n",
       "      window._bokeh_is_loading = js_urls.length;\n",
       "      for (var i = 0; i < js_urls.length; i++) {\n",
       "        var url = js_urls[i];\n",
       "        var s = document.createElement('script');\n",
       "        s.src = url;\n",
       "        s.async = false;\n",
       "        s.onreadystatechange = s.onload = function() {\n",
       "          window._bokeh_is_loading--;\n",
       "          if (window._bokeh_is_loading === 0) {\n",
       "            console.log(\"Bokeh: all BokehJS libraries loaded\");\n",
       "            run_callbacks()\n",
       "          }\n",
       "        };\n",
       "        s.onerror = function() {\n",
       "          console.warn(\"failed to load library \" + url);\n",
       "        };\n",
       "        console.log(\"Bokeh: injecting script tag for BokehJS library: \", url);\n",
       "        document.getElementsByTagName(\"head\")[0].appendChild(s);\n",
       "      }\n",
       "    };var element = document.getElementById(\"3df0b1fe-ca9d-4f5e-b34c-54b52c0689fe\");\n",
       "    if (element == null) {\n",
       "      console.log(\"Bokeh: ERROR: autoload.js configured with elementid '3df0b1fe-ca9d-4f5e-b34c-54b52c0689fe' but no matching script tag was found. \")\n",
       "      return false;\n",
       "    }\n",
       "  \n",
       "    var js_urls = [];\n",
       "  \n",
       "    var inline_js = [\n",
       "      function(Bokeh) {\n",
       "        (function() {\n",
       "          var fn = function() {\n",
       "            var docs_json = {\"caf0e6f5-8b45-479f-b747-0abaa7ace702\":{\"roots\":{\"references\":[{\"attributes\":{\"active_drag\":\"auto\",\"active_scroll\":\"auto\",\"active_tap\":\"auto\",\"tools\":[{\"id\":\"b0f9d70c-fe56-4d20-ae5d-788cfa497676\",\"type\":\"PanTool\"},{\"id\":\"4023ab96-cbaa-4134-beee-8b2fae24ea73\",\"type\":\"WheelZoomTool\"},{\"id\":\"9a79e2d2-0997-47c2-92a7-9ff479bbded4\",\"type\":\"ResetTool\"},{\"id\":\"1650b010-9532-4286-82ee-5fe43d3e7c5b\",\"type\":\"SaveTool\"}]},\"id\":\"80ff52b7-8747-4131-a982-44c46a66e925\",\"type\":\"Toolbar\"},{\"attributes\":{\"below\":[{\"id\":\"ab5c6794-bc6d-40f8-a74b-e2931a2a83a0\",\"type\":\"LinearAxis\"}],\"left\":[{\"id\":\"4b08c880-f139-4a4c-a41e-636b6dd98f3a\",\"type\":\"LinearAxis\"}],\"renderers\":[{\"id\":\"ab5c6794-bc6d-40f8-a74b-e2931a2a83a0\",\"type\":\"LinearAxis\"},{\"id\":\"c199dcb1-5704-48e8-a2b9-89f292b47f25\",\"type\":\"Grid\"},{\"id\":\"4b08c880-f139-4a4c-a41e-636b6dd98f3a\",\"type\":\"LinearAxis\"},{\"id\":\"5c1a2286-4de0-423e-8f4e-facdc0112136\",\"type\":\"Grid\"},{\"id\":\"b42aca83-e7ac-435c-bee8-b89faee94e1f\",\"type\":\"GlyphRenderer\"}],\"title\":{\"id\":\"735199e6-5f88-4477-bd32-09ffe62c2886\",\"type\":\"Title\"},\"tool_events\":{\"id\":\"a9f4d491-7316-4b37-8f23-e4f7a6b7dc9a\",\"type\":\"ToolEvents\"},\"toolbar\":{\"id\":\"80ff52b7-8747-4131-a982-44c46a66e925\",\"type\":\"Toolbar\"},\"toolbar_location\":\"above\",\"x_range\":{\"id\":\"8d4af572-cec1-4c2e-84f6-fa75499795e6\",\"type\":\"DataRange1d\"},\"y_range\":{\"id\":\"297b6e90-cde8-4af7-9405-beeba06c5052\",\"type\":\"DataRange1d\"}},\"id\":\"4ed1bdb8-ff72-4339-ba33-19e7cd3335a4\",\"subtype\":\"Figure\",\"type\":\"Plot\"},{\"attributes\":{},\"id\":\"9cedf34b-3868-49ce-89bf-a587ee5b78b9\",\"type\":\"BasicTicker\"},{\"attributes\":{\"callback\":null},\"id\":\"297b6e90-cde8-4af7-9405-beeba06c5052\",\"type\":\"DataRange1d\"},{\"attributes\":{\"callback\":null,\"column_names\":[\"left\",\"right\",\"top\"],\"data\":{\"left\":{\"__ndarray__\":\"AAAAAADInUBI4XoUzsfMQEjhehRO69pA9ihcj1q540BI4XoUDv3pQM3MzMxgIPBA9ihcjzpC80AfhetRFGT2QEjhehTuhflAcT0K18en/ECamZmZocn/QOJ6FK69dQFB9ihcj6oGA0EK16Nwl5cEQR+F61GEKAZBNDMzM3G5B0FI4XoUXkoJQVyPwvVK2wpBcT0K1zdsDEGG61G4JP0NQZqZmZkRjg9B16NwPX+PEEHiehSu9VcRQexRuB5sIBJB9ihcj+LoEkEAAAAAWbETQQrXo3DPeRRBFa5H4UVCFUEfhetRvAoWQSlcj8Iy0xZBNDMzM6mbF0E+CtejH2QYQUjhehSWLBlBUrgehQz1GUFcj8L1gr0aQWdmZmb5hRtBcT0K129OHEF7FK5H5hYdQYbrUbhc3x1BkML1KNOnHkGamZmZSXAfQVK4HgVgHCBB16NwPZuAIEFcj8J11uQgQeJ6FK4RSSFBZ2Zm5kytIUHsUbgeiBEiQXE9ClfDdSJB9ihcj/7ZIkF7FK7HOT4jQQAAAAB1oiNBhetROLAGJEEK16Nw62okQZDC9agmzyRBFa5H4WEzJUGamZkZnZclQR+F61HY+yVBpHA9ihNgJkEpXI/CTsQmQa5H4fqJKCdBNDMzM8WMJ0G5HoVrAPEnQT4K16M7VShBw/Uo3Ha5KEFI4XoUsh0pQc3MzEztgSlBUrgehSjmKUHXo3C9Y0oqQVyPwvWeripB4noULtoSK0FnZmZmFXcrQexRuJ5Q2ytBcT0K14s/LEH2KFwPx6MsQXsUrkcCCC1BAAAAgD1sLUGG61G4eNAtQQvXo/CzNC5BkML1KO+YLkEVrkdhKv0uQZqZmZllYS9BH4Xr0aDFL0FSuB4F7hQwQRWuR6ELRzBB16NwPSl5MEGamZnZRqswQVyPwnVk3TBBH4XrEYIPMUHiehSun0ExQaRwPUq9czFBZ2Zm5tqlMUEpXI+C+NcxQexRuB4WCjJBrkfhujM8MkFxPQpXUW4yQTMzM/NuoDJB9ihcj4zSMkG5HoUrqgQzQXsUrsfHNjNBPgrXY+VoM0E=\",\"dtype\":\"float64\",\"shape\":[100]},\"right\":{\"__ndarray__\":\"SOF6FM7HzEBI4XoUTuvaQPYoXI9aueNASOF6FA796UDNzMzMYCDwQPYoXI86QvNAH4XrURRk9kBI4XoU7oX5QHE9CtfHp/xAmpmZmaHJ/0DiehSuvXUBQfYoXI+qBgNBCtejcJeXBEEfhetRhCgGQTQzMzNxuQdBSOF6FF5KCUFcj8L1StsKQXE9Ctc3bAxBhutRuCT9DUGamZmZEY4PQdejcD1/jxBB4noUrvVXEUHsUbgebCASQfYoXI/i6BJBAAAAAFmxE0EK16Nwz3kUQRWuR+FFQhVBH4XrUbwKFkEpXI/CMtMWQTQzMzOpmxdBPgrXox9kGEFI4XoUliwZQVK4HoUM9RlBXI/C9YK9GkFnZmZm+YUbQXE9CtdvThxBexSuR+YWHUGG61G4XN8dQZDC9SjTpx5BmpmZmUlwH0FSuB4FYBwgQdejcD2bgCBBXI/CddbkIEHiehSuEUkhQWdmZuZMrSFB7FG4HogRIkFxPQpXw3UiQfYoXI/+2SJBexSuxzk+I0EAAAAAdaIjQYXrUTiwBiRBCtejcOtqJEGQwvWoJs8kQRWuR+FhMyVBmpmZGZ2XJUEfhetR2PslQaRwPYoTYCZBKVyPwk7EJkGuR+H6iSgnQTQzMzPFjCdBuR6FawDxJ0E+CtejO1UoQcP1KNx2uShBSOF6FLIdKUHNzMxM7YEpQVK4HoUo5ilB16NwvWNKKkFcj8L1nq4qQeJ6FC7aEitBZ2ZmZhV3K0HsUbieUNsrQXE9CteLPyxB9ihcD8ejLEF7FK5HAggtQQAAAIA9bC1BhutRuHjQLUEL16PwszQuQZDC9SjvmC5BFa5HYSr9LkGamZmZZWEvQR+F69GgxS9BUrgeBe4UMEEVrkehC0cwQdejcD0peTBBmpmZ2UarMEFcj8J1ZN0wQR+F6xGCDzFB4noUrp9BMUGkcD1KvXMxQWdmZubapTFBKVyPgvjXMUHsUbgeFgoyQa5H4bozPDJBcT0KV1FuMkEzMzPzbqAyQfYoXI+M0jJBuR6FK6oEM0F7FK7HxzYzQT4K12PlaDNBAAAAAAObM0E=\",\"dtype\":\"float64\",\"shape\":[100]},\"top\":{\"__ndarray__\":\"vurkKRbHEj+m6pq224nHPncJ34VR7LQ+1MtW52Unmj4yjs5IemKPPncJ34VR7HQ+Mo7OSHpijz4yjs5IemKPPgAAAAAAAAAAdwnfhVHsdD4ojs5IemKPPn4J34VR7IQ+fgnfhVHsdD4AAAAAAAAAAAAAAAAAAAAAAAAAAAAAAAB+Cd+FUex0PgAAAAAAAAAAAAAAAAAAAAAAAAAAAAAAAAAAAAAAAAAAAAAAAAAAAAAAAAAAAAAAAAAAAAAAAAAAAAAAAAAAAAAAAAAAAAAAAAAAAAAAAAAAfgnfhVHsdD4AAAAAAAAAAAAAAAAAAAAAfgnfhVHsdD4AAAAAAAAAAAAAAAAAAAAAfgnfhVHsdD4AAAAAAAAAAAAAAAAAAAAAAAAAAAAAAAAAAAAAAAAAAH4J34VR7HQ+AAAAAAAAAAAAAAAAAAAAAAAAAAAAAAAAfgnfhVHsdD4AAAAAAAAAAAAAAAAAAAAAAAAAAAAAAAAAAAAAAAAAAAAAAAAAAAAAAAAAAAAAAAAAAAAAAAAAAAAAAAAAAAAAAAAAAAAAAAAAAAAAAAAAAAAAAAAAAAAAAAAAAAAAAAAAAAAAAAAAAAAAAAAAAAAAAAAAAAAAAAAAAAAAAAAAAAAAAAAAAAAAAAAAAAAAAAAAAAAAAAAAAAAAAAAAAAAAAAAAAAAAAAAAAAAAAAAAAAAAAAAAAAAAAAAAAAAAAAAAAAAAAAAAAAAAAAAAAAAAAAAAAAAAAAAAAAAAAAAAAAAAAAAAAAAAAAAAAAAAAAAAAAAAAAAAAAAAAAAAAAAAAAAAAAAAAAAAAAAAAAAAAAAAAAAAAAAAAAAAAAAAAAAAAAAAAAAAAAAAAAAAAAAAAAAAAAAAAAAAAAAAAAAAAAAAAAAAAAAAAAAAAAAAAAAAAAAAAAAAAAAAAAAAAAAAAAAAAAAAAAAAAAAAAAAAAAAAAAAAAAAAAAAAAAAAAAAAAAAAAAAAAAAAAAAAAAAAAAAAAAAAAAAAAAAAAAAAAAAAAAAAAAAAAAAAAAAAAAAAAAAAAAAAAAAAAAAAAAAAswnfhVHsdD4=\",\"dtype\":\"float64\",\"shape\":[100]}}},\"id\":\"d37e17d0-6cc0-4202-a297-02f8faedd34f\",\"type\":\"ColumnDataSource\"},{\"attributes\":{},\"id\":\"a9f4d491-7316-4b37-8f23-e4f7a6b7dc9a\",\"type\":\"ToolEvents\"},{\"attributes\":{\"dimension\":1,\"plot\":{\"id\":\"4ed1bdb8-ff72-4339-ba33-19e7cd3335a4\",\"subtype\":\"Figure\",\"type\":\"Plot\"},\"ticker\":{\"id\":\"9cedf34b-3868-49ce-89bf-a587ee5b78b9\",\"type\":\"BasicTicker\"}},\"id\":\"5c1a2286-4de0-423e-8f4e-facdc0112136\",\"type\":\"Grid\"},{\"attributes\":{\"plot\":{\"id\":\"4ed1bdb8-ff72-4339-ba33-19e7cd3335a4\",\"subtype\":\"Figure\",\"type\":\"Plot\"}},\"id\":\"b0f9d70c-fe56-4d20-ae5d-788cfa497676\",\"type\":\"PanTool\"},{\"attributes\":{},\"id\":\"47594cac-1221-4842-9b16-a234c064c3df\",\"type\":\"BasicTickFormatter\"},{\"attributes\":{\"plot\":{\"id\":\"4ed1bdb8-ff72-4339-ba33-19e7cd3335a4\",\"subtype\":\"Figure\",\"type\":\"Plot\"}},\"id\":\"4023ab96-cbaa-4134-beee-8b2fae24ea73\",\"type\":\"WheelZoomTool\"},{\"attributes\":{\"plot\":{\"id\":\"4ed1bdb8-ff72-4339-ba33-19e7cd3335a4\",\"subtype\":\"Figure\",\"type\":\"Plot\"},\"ticker\":{\"id\":\"f02173d0-40f7-4b3f-b654-88528743518c\",\"type\":\"BasicTicker\"}},\"id\":\"c199dcb1-5704-48e8-a2b9-89f292b47f25\",\"type\":\"Grid\"},{\"attributes\":{},\"id\":\"f02173d0-40f7-4b3f-b654-88528743518c\",\"type\":\"BasicTicker\"},{\"attributes\":{\"plot\":null,\"text\":\"Top-1000 words distribution\"},\"id\":\"735199e6-5f88-4477-bd32-09ffe62c2886\",\"type\":\"Title\"},{\"attributes\":{\"callback\":null},\"id\":\"8d4af572-cec1-4c2e-84f6-fa75499795e6\",\"type\":\"DataRange1d\"},{\"attributes\":{\"formatter\":{\"id\":\"47594cac-1221-4842-9b16-a234c064c3df\",\"type\":\"BasicTickFormatter\"},\"plot\":{\"id\":\"4ed1bdb8-ff72-4339-ba33-19e7cd3335a4\",\"subtype\":\"Figure\",\"type\":\"Plot\"},\"ticker\":{\"id\":\"9cedf34b-3868-49ce-89bf-a587ee5b78b9\",\"type\":\"BasicTicker\"}},\"id\":\"4b08c880-f139-4a4c-a41e-636b6dd98f3a\",\"type\":\"LinearAxis\"},{\"attributes\":{\"data_source\":{\"id\":\"d37e17d0-6cc0-4202-a297-02f8faedd34f\",\"type\":\"ColumnDataSource\"},\"glyph\":{\"id\":\"b8edb5c2-a608-4d63-a3bc-e5e25bc24e79\",\"type\":\"Quad\"},\"hover_glyph\":null,\"nonselection_glyph\":{\"id\":\"aa212301-3082-4385-8312-5bd97dc165b4\",\"type\":\"Quad\"},\"selection_glyph\":null},\"id\":\"b42aca83-e7ac-435c-bee8-b89faee94e1f\",\"type\":\"GlyphRenderer\"},{\"attributes\":{\"formatter\":{\"id\":\"62490cdc-b961-4693-88a5-8c93848d2d97\",\"type\":\"BasicTickFormatter\"},\"plot\":{\"id\":\"4ed1bdb8-ff72-4339-ba33-19e7cd3335a4\",\"subtype\":\"Figure\",\"type\":\"Plot\"},\"ticker\":{\"id\":\"f02173d0-40f7-4b3f-b654-88528743518c\",\"type\":\"BasicTicker\"}},\"id\":\"ab5c6794-bc6d-40f8-a74b-e2931a2a83a0\",\"type\":\"LinearAxis\"},{\"attributes\":{\"plot\":{\"id\":\"4ed1bdb8-ff72-4339-ba33-19e7cd3335a4\",\"subtype\":\"Figure\",\"type\":\"Plot\"}},\"id\":\"9a79e2d2-0997-47c2-92a7-9ff479bbded4\",\"type\":\"ResetTool\"},{\"attributes\":{},\"id\":\"62490cdc-b961-4693-88a5-8c93848d2d97\",\"type\":\"BasicTickFormatter\"},{\"attributes\":{\"bottom\":{\"value\":0},\"fill_alpha\":{\"value\":0.1},\"fill_color\":{\"value\":\"#1f77b4\"},\"left\":{\"field\":\"left\"},\"line_alpha\":{\"value\":0.1},\"line_color\":{\"value\":\"#1f77b4\"},\"right\":{\"field\":\"right\"},\"top\":{\"field\":\"top\"}},\"id\":\"aa212301-3082-4385-8312-5bd97dc165b4\",\"type\":\"Quad\"},{\"attributes\":{\"plot\":{\"id\":\"4ed1bdb8-ff72-4339-ba33-19e7cd3335a4\",\"subtype\":\"Figure\",\"type\":\"Plot\"}},\"id\":\"1650b010-9532-4286-82ee-5fe43d3e7c5b\",\"type\":\"SaveTool\"},{\"attributes\":{\"bottom\":{\"value\":0},\"fill_color\":{\"value\":\"#1f77b4\"},\"left\":{\"field\":\"left\"},\"line_color\":{\"value\":\"#555555\"},\"right\":{\"field\":\"right\"},\"top\":{\"field\":\"top\"}},\"id\":\"b8edb5c2-a608-4d63-a3bc-e5e25bc24e79\",\"type\":\"Quad\"}],\"root_ids\":[\"4ed1bdb8-ff72-4339-ba33-19e7cd3335a4\"]},\"title\":\"Bokeh Application\",\"version\":\"0.12.4\"}};\n",
       "            var render_items = [{\"docid\":\"caf0e6f5-8b45-479f-b747-0abaa7ace702\",\"elementid\":\"3df0b1fe-ca9d-4f5e-b34c-54b52c0689fe\",\"modelid\":\"4ed1bdb8-ff72-4339-ba33-19e7cd3335a4\"}];\n",
       "            \n",
       "            Bokeh.embed.embed_items(docs_json, render_items);\n",
       "          };\n",
       "          if (document.readyState != \"loading\") fn();\n",
       "          else document.addEventListener(\"DOMContentLoaded\", fn);\n",
       "        })();\n",
       "      },\n",
       "      function(Bokeh) {\n",
       "      }\n",
       "    ];\n",
       "  \n",
       "    function run_inline_js() {\n",
       "      \n",
       "      if ((window.Bokeh !== undefined) || (force === true)) {\n",
       "        for (var i = 0; i < inline_js.length; i++) {\n",
       "          inline_js[i](window.Bokeh);\n",
       "        }if (force === true) {\n",
       "          display_loaded();\n",
       "        }} else if (Date.now() < window._bokeh_timeout) {\n",
       "        setTimeout(run_inline_js, 100);\n",
       "      } else if (!window._bokeh_failed_load) {\n",
       "        console.log(\"Bokeh: BokehJS failed to load within specified timeout.\");\n",
       "        window._bokeh_failed_load = true;\n",
       "      } else if (force !== true) {\n",
       "        var cell = $(document.getElementById(\"3df0b1fe-ca9d-4f5e-b34c-54b52c0689fe\")).parents('.cell').data().cell;\n",
       "        cell.output_area.append_execute_result(NB_LOAD_WARNING)\n",
       "      }\n",
       "  \n",
       "    }\n",
       "  \n",
       "    if (window._bokeh_is_loading === 0) {\n",
       "      console.log(\"Bokeh: BokehJS loaded, going straight to plotting\");\n",
       "      run_inline_js();\n",
       "    } else {\n",
       "      load_libs(js_urls, function() {\n",
       "        console.log(\"Bokeh: BokehJS plotting callback run at\", now());\n",
       "        run_inline_js();\n",
       "      });\n",
       "    }\n",
       "  }(this));\n",
       "</script>"
      ]
     },
     "metadata": {},
     "output_type": "display_data"
    }
   ],
   "source": [
    "hist, edges = np.histogram(counts_wiki_top1000, density=True, bins=100, normed=True)\n",
    "\n",
    "p = figure(tools=\"pan,wheel_zoom,reset,save\",\n",
    "           toolbar_location=\"above\",\n",
    "           title=\"Top-1000 words distribution\")\n",
    "p.quad(top=hist, bottom=0, left=edges[:-1], right=edges[1:], line_color=\"#555555\")\n",
    "show(p)"
   ]
  },
  {
   "cell_type": "code",
   "execution_count": 83,
   "metadata": {
    "collapsed": true
   },
   "outputs": [],
   "source": [
    "wiki_model = Word2Vec(sentences_wiki_2, size=100, window=5, min_count=5, workers=4)"
   ]
  },
  {
   "cell_type": "code",
   "execution_count": 84,
   "metadata": {
    "collapsed": true
   },
   "outputs": [],
   "source": [
    "wiki_model.save('wiki_model')"
   ]
  },
  {
   "cell_type": "code",
   "execution_count": 85,
   "metadata": {
    "collapsed": true
   },
   "outputs": [],
   "source": [
    "model_wiki=Word2Vec.load('wiki_model')"
   ]
  },
  {
   "cell_type": "code",
   "execution_count": 86,
   "metadata": {},
   "outputs": [
    {
     "data": {
      "text/plain": [
       "[('woman', 0.711510956287384),\n",
       " ('boy', 0.6445591449737549),\n",
       " ('girl', 0.6333346366882324),\n",
       " ('person', 0.6003431677818298),\n",
       " ('dog', 0.5928398370742798),\n",
       " ('soldier', 0.5709395408630371),\n",
       " ('creature', 0.5626027584075928),\n",
       " ('mask', 0.5576151609420776),\n",
       " ('joke', 0.5341308116912842),\n",
       " ('kid', 0.5297766327857971)]"
      ]
     },
     "execution_count": 86,
     "metadata": {},
     "output_type": "execute_result"
    }
   ],
   "source": [
    "model_wiki.most_similar(\"man\")"
   ]
  },
  {
   "cell_type": "code",
   "execution_count": 87,
   "metadata": {},
   "outputs": [
    {
     "data": {
      "text/plain": [
       "[('software', 0.7895188331604004),\n",
       " ('computers', 0.7731009721755981),\n",
       " ('hardware', 0.7636091113090515),\n",
       " ('user', 0.7558916807174683),\n",
       " ('technology', 0.7288669943809509),\n",
       " ('simulation', 0.7087910771369934),\n",
       " ('functionality', 0.702410101890564),\n",
       " ('virtual', 0.6961725950241089),\n",
       " ('handheld', 0.6957165598869324),\n",
       " ('graphics', 0.6949478387832642)]"
      ]
     },
     "execution_count": 87,
     "metadata": {},
     "output_type": "execute_result"
    }
   ],
   "source": [
    "model_wiki.most_similar(\"computer\")"
   ]
  },
  {
   "cell_type": "code",
   "execution_count": 88,
   "metadata": {},
   "outputs": [
    {
     "data": {
      "text/plain": [
       "[('3d', 0.5310326814651489),\n",
       " ('robotic', 0.48670458793640137),\n",
       " ('personalized', 0.48617684841156006),\n",
       " ('motor', 0.4809409976005554),\n",
       " ('mobile', 0.47924473881721497),\n",
       " ('synthetic', 0.47842317819595337),\n",
       " ('circuit', 0.4707862138748169),\n",
       " ('neural', 0.4674309194087982),\n",
       " ('memory', 0.46332329511642456),\n",
       " ('chemical', 0.46291378140449524)]"
      ]
     },
     "execution_count": 88,
     "metadata": {},
     "output_type": "execute_result"
    }
   ],
   "source": [
    "model_ted.most_similar('child')\n",
    "model_ted.most_similar(positive=['child','toy'], negative=['man','woman'])"
   ]
  },
  {
   "cell_type": "markdown",
   "metadata": {},
   "source": [
    "#### t-SNE visualization"
   ]
  },
  {
   "cell_type": "code",
   "execution_count": 90,
   "metadata": {
    "collapsed": true
   },
   "outputs": [],
   "source": [
    "# This assumes words_top_wiki is a list of strings, the top 1000 words\n",
    "words_top_vec_wiki = model_wiki[words_top_wiki]\n",
    "\n",
    "tsne = TSNE(n_components=2, random_state=0)\n",
    "words_top_wiki_tsne = tsne.fit_transform(words_top_vec_wiki)"
   ]
  },
  {
   "cell_type": "code",
   "execution_count": 91,
   "metadata": {},
   "outputs": [
    {
     "data": {
      "text/html": [
       "\n",
       "\n",
       "    <div class=\"bk-root\">\n",
       "        <div class=\"bk-plotdiv\" id=\"1b25ad66-a5dd-4da1-9edc-92bc2e3fd190\"></div>\n",
       "    </div>\n",
       "<script type=\"text/javascript\">\n",
       "  \n",
       "  (function(global) {\n",
       "    function now() {\n",
       "      return new Date();\n",
       "    }\n",
       "  \n",
       "    var force = false;\n",
       "  \n",
       "    if (typeof (window._bokeh_onload_callbacks) === \"undefined\" || force === true) {\n",
       "      window._bokeh_onload_callbacks = [];\n",
       "      window._bokeh_is_loading = undefined;\n",
       "    }\n",
       "  \n",
       "  \n",
       "    \n",
       "    if (typeof (window._bokeh_timeout) === \"undefined\" || force === true) {\n",
       "      window._bokeh_timeout = Date.now() + 0;\n",
       "      window._bokeh_failed_load = false;\n",
       "    }\n",
       "  \n",
       "    var NB_LOAD_WARNING = {'data': {'text/html':\n",
       "       \"<div style='background-color: #fdd'>\\n\"+\n",
       "       \"<p>\\n\"+\n",
       "       \"BokehJS does not appear to have successfully loaded. If loading BokehJS from CDN, this \\n\"+\n",
       "       \"may be due to a slow or bad network connection. Possible fixes:\\n\"+\n",
       "       \"</p>\\n\"+\n",
       "       \"<ul>\\n\"+\n",
       "       \"<li>re-rerun `output_notebook()` to attempt to load from CDN again, or</li>\\n\"+\n",
       "       \"<li>use INLINE resources instead, as so:</li>\\n\"+\n",
       "       \"</ul>\\n\"+\n",
       "       \"<code>\\n\"+\n",
       "       \"from bokeh.resources import INLINE\\n\"+\n",
       "       \"output_notebook(resources=INLINE)\\n\"+\n",
       "       \"</code>\\n\"+\n",
       "       \"</div>\"}};\n",
       "  \n",
       "    function display_loaded() {\n",
       "      if (window.Bokeh !== undefined) {\n",
       "        document.getElementById(\"1b25ad66-a5dd-4da1-9edc-92bc2e3fd190\").textContent = \"BokehJS successfully loaded.\";\n",
       "      } else if (Date.now() < window._bokeh_timeout) {\n",
       "        setTimeout(display_loaded, 100)\n",
       "      }\n",
       "    }\n",
       "  \n",
       "    function run_callbacks() {\n",
       "      window._bokeh_onload_callbacks.forEach(function(callback) { callback() });\n",
       "      delete window._bokeh_onload_callbacks\n",
       "      console.info(\"Bokeh: all callbacks have finished\");\n",
       "    }\n",
       "  \n",
       "    function load_libs(js_urls, callback) {\n",
       "      window._bokeh_onload_callbacks.push(callback);\n",
       "      if (window._bokeh_is_loading > 0) {\n",
       "        console.log(\"Bokeh: BokehJS is being loaded, scheduling callback at\", now());\n",
       "        return null;\n",
       "      }\n",
       "      if (js_urls == null || js_urls.length === 0) {\n",
       "        run_callbacks();\n",
       "        return null;\n",
       "      }\n",
       "      console.log(\"Bokeh: BokehJS not loaded, scheduling load and callback at\", now());\n",
       "      window._bokeh_is_loading = js_urls.length;\n",
       "      for (var i = 0; i < js_urls.length; i++) {\n",
       "        var url = js_urls[i];\n",
       "        var s = document.createElement('script');\n",
       "        s.src = url;\n",
       "        s.async = false;\n",
       "        s.onreadystatechange = s.onload = function() {\n",
       "          window._bokeh_is_loading--;\n",
       "          if (window._bokeh_is_loading === 0) {\n",
       "            console.log(\"Bokeh: all BokehJS libraries loaded\");\n",
       "            run_callbacks()\n",
       "          }\n",
       "        };\n",
       "        s.onerror = function() {\n",
       "          console.warn(\"failed to load library \" + url);\n",
       "        };\n",
       "        console.log(\"Bokeh: injecting script tag for BokehJS library: \", url);\n",
       "        document.getElementsByTagName(\"head\")[0].appendChild(s);\n",
       "      }\n",
       "    };var element = document.getElementById(\"1b25ad66-a5dd-4da1-9edc-92bc2e3fd190\");\n",
       "    if (element == null) {\n",
       "      console.log(\"Bokeh: ERROR: autoload.js configured with elementid '1b25ad66-a5dd-4da1-9edc-92bc2e3fd190' but no matching script tag was found. \")\n",
       "      return false;\n",
       "    }\n",
       "  \n",
       "    var js_urls = [];\n",
       "  \n",
       "    var inline_js = [\n",
       "      function(Bokeh) {\n",
       "        (function() {\n",
       "          var fn = function() {\n",
       "            var docs_json = {\"b5ffa73d-e659-4d75-9a31-50972b3c6604\":{\"roots\":{\"references\":[{\"attributes\":{\"active_drag\":\"auto\",\"active_scroll\":\"auto\",\"active_tap\":\"auto\",\"tools\":[{\"id\":\"7554cac9-807e-4a0c-9020-cf7bc9658630\",\"type\":\"PanTool\"},{\"id\":\"a1d6aefb-b6dd-4344-b963-9a6d21353705\",\"type\":\"WheelZoomTool\"},{\"id\":\"fb38853e-238d-4b32-b92d-791437837561\",\"type\":\"ResetTool\"},{\"id\":\"cbfad43a-b1af-41fb-8c30-1b4c9b4f7b19\",\"type\":\"SaveTool\"}]},\"id\":\"79f69a02-e06b-4d35-89e1-ebbfd405ad07\",\"type\":\"Toolbar\"},{\"attributes\":{},\"id\":\"be121af9-fdac-40d6-bc04-b36f15feca37\",\"type\":\"BasicTicker\"},{\"attributes\":{\"callback\":null},\"id\":\"552e9930-18f5-44f2-96dc-937eb5cca2db\",\"type\":\"DataRange1d\"},{\"attributes\":{\"plot\":{\"id\":\"f70ba92d-0d51-4c7f-acbc-a61ea7267c8b\",\"subtype\":\"Figure\",\"type\":\"Plot\"},\"ticker\":{\"id\":\"be121af9-fdac-40d6-bc04-b36f15feca37\",\"type\":\"BasicTicker\"}},\"id\":\"4ed36dee-1451-4a14-bfeb-278163417500\",\"type\":\"Grid\"},{\"attributes\":{\"formatter\":{\"id\":\"89673c80-1944-4af1-98a2-fc68a39a65cb\",\"type\":\"BasicTickFormatter\"},\"plot\":{\"id\":\"f70ba92d-0d51-4c7f-acbc-a61ea7267c8b\",\"subtype\":\"Figure\",\"type\":\"Plot\"},\"ticker\":{\"id\":\"2cc3441d-4f45-4187-832b-f269f2bc1a15\",\"type\":\"BasicTicker\"}},\"id\":\"f32c1cd4-b93a-446c-b0a8-67acd1317a35\",\"type\":\"LinearAxis\"},{\"attributes\":{},\"id\":\"2cc3441d-4f45-4187-832b-f269f2bc1a15\",\"type\":\"BasicTicker\"},{\"attributes\":{\"dimension\":1,\"plot\":{\"id\":\"f70ba92d-0d51-4c7f-acbc-a61ea7267c8b\",\"subtype\":\"Figure\",\"type\":\"Plot\"},\"ticker\":{\"id\":\"2cc3441d-4f45-4187-832b-f269f2bc1a15\",\"type\":\"BasicTicker\"}},\"id\":\"01188dc2-1af5-47a3-a425-e8460976c7d1\",\"type\":\"Grid\"},{\"attributes\":{\"fill_alpha\":{\"value\":0.1},\"fill_color\":{\"value\":\"#1f77b4\"},\"line_alpha\":{\"value\":0.1},\"line_color\":{\"value\":\"#1f77b4\"},\"size\":{\"units\":\"screen\",\"value\":8},\"x\":{\"field\":\"x1\"},\"y\":{\"field\":\"x2\"}},\"id\":\"6dbf1008-eb21-447a-8b9a-aa516ce26b59\",\"type\":\"Circle\"},{\"attributes\":{\"fill_color\":{\"value\":\"#1f77b4\"},\"line_color\":{\"value\":\"#1f77b4\"},\"size\":{\"units\":\"screen\",\"value\":8},\"x\":{\"field\":\"x1\"},\"y\":{\"field\":\"x2\"}},\"id\":\"a0813352-dcde-43ca-8de8-c6c0c13b677a\",\"type\":\"Circle\"},{\"attributes\":{\"plot\":{\"id\":\"f70ba92d-0d51-4c7f-acbc-a61ea7267c8b\",\"subtype\":\"Figure\",\"type\":\"Plot\"}},\"id\":\"7554cac9-807e-4a0c-9020-cf7bc9658630\",\"type\":\"PanTool\"},{\"attributes\":{\"plot\":{\"id\":\"f70ba92d-0d51-4c7f-acbc-a61ea7267c8b\",\"subtype\":\"Figure\",\"type\":\"Plot\"}},\"id\":\"a1d6aefb-b6dd-4344-b963-9a6d21353705\",\"type\":\"WheelZoomTool\"},{\"attributes\":{\"plot\":{\"id\":\"f70ba92d-0d51-4c7f-acbc-a61ea7267c8b\",\"subtype\":\"Figure\",\"type\":\"Plot\"}},\"id\":\"fb38853e-238d-4b32-b92d-791437837561\",\"type\":\"ResetTool\"},{\"attributes\":{\"plot\":{\"id\":\"f70ba92d-0d51-4c7f-acbc-a61ea7267c8b\",\"subtype\":\"Figure\",\"type\":\"Plot\"}},\"id\":\"cbfad43a-b1af-41fb-8c30-1b4c9b4f7b19\",\"type\":\"SaveTool\"},{\"attributes\":{},\"id\":\"89673c80-1944-4af1-98a2-fc68a39a65cb\",\"type\":\"BasicTickFormatter\"},{\"attributes\":{\"data_source\":{\"id\":\"37cca8de-6d34-420a-83cc-32ceb1fa21cb\",\"type\":\"ColumnDataSource\"},\"glyph\":{\"id\":\"a0813352-dcde-43ca-8de8-c6c0c13b677a\",\"type\":\"Circle\"},\"hover_glyph\":null,\"nonselection_glyph\":{\"id\":\"6dbf1008-eb21-447a-8b9a-aa516ce26b59\",\"type\":\"Circle\"},\"selection_glyph\":null},\"id\":\"a9e3205e-0ca9-4547-974d-772ca1019bc7\",\"type\":\"GlyphRenderer\"},{\"attributes\":{\"formatter\":{\"id\":\"a9b9bcaf-cc4e-417b-b6bf-4fdeaaf19371\",\"type\":\"BasicTickFormatter\"},\"plot\":{\"id\":\"f70ba92d-0d51-4c7f-acbc-a61ea7267c8b\",\"subtype\":\"Figure\",\"type\":\"Plot\"},\"ticker\":{\"id\":\"be121af9-fdac-40d6-bc04-b36f15feca37\",\"type\":\"BasicTicker\"}},\"id\":\"a8d87cfe-c06b-4946-9dd3-78bc018daa48\",\"type\":\"LinearAxis\"},{\"attributes\":{\"plot\":{\"id\":\"f70ba92d-0d51-4c7f-acbc-a61ea7267c8b\",\"subtype\":\"Figure\",\"type\":\"Plot\"},\"source\":{\"id\":\"37cca8de-6d34-420a-83cc-32ceb1fa21cb\",\"type\":\"ColumnDataSource\"},\"text\":{\"field\":\"names\"},\"text_align\":\"center\",\"text_color\":{\"value\":\"#555555\"},\"text_font_size\":{\"value\":\"8pt\"},\"x\":{\"field\":\"x1\"},\"y\":{\"field\":\"x2\"},\"y_offset\":{\"value\":6}},\"id\":\"80610d13-eeed-4adb-8d4f-060efffe52d0\",\"type\":\"LabelSet\"},{\"attributes\":{\"below\":[{\"id\":\"a8d87cfe-c06b-4946-9dd3-78bc018daa48\",\"type\":\"LinearAxis\"}],\"left\":[{\"id\":\"f32c1cd4-b93a-446c-b0a8-67acd1317a35\",\"type\":\"LinearAxis\"}],\"renderers\":[{\"id\":\"a8d87cfe-c06b-4946-9dd3-78bc018daa48\",\"type\":\"LinearAxis\"},{\"id\":\"4ed36dee-1451-4a14-bfeb-278163417500\",\"type\":\"Grid\"},{\"id\":\"f32c1cd4-b93a-446c-b0a8-67acd1317a35\",\"type\":\"LinearAxis\"},{\"id\":\"01188dc2-1af5-47a3-a425-e8460976c7d1\",\"type\":\"Grid\"},{\"id\":\"a9e3205e-0ca9-4547-974d-772ca1019bc7\",\"type\":\"GlyphRenderer\"},{\"id\":\"80610d13-eeed-4adb-8d4f-060efffe52d0\",\"type\":\"LabelSet\"}],\"title\":{\"id\":\"6e2c3e5a-a3e5-4b77-b318-69f585ca3c0c\",\"type\":\"Title\"},\"tool_events\":{\"id\":\"1861e2ee-3d25-435e-a3c6-0d1f3e4a2083\",\"type\":\"ToolEvents\"},\"toolbar\":{\"id\":\"79f69a02-e06b-4d35-89e1-ebbfd405ad07\",\"type\":\"Toolbar\"},\"toolbar_location\":\"above\",\"x_range\":{\"id\":\"ced808f5-c784-493d-8818-0e8746bd0117\",\"type\":\"DataRange1d\"},\"y_range\":{\"id\":\"552e9930-18f5-44f2-96dc-937eb5cca2db\",\"type\":\"DataRange1d\"}},\"id\":\"f70ba92d-0d51-4c7f-acbc-a61ea7267c8b\",\"subtype\":\"Figure\",\"type\":\"Plot\"},{\"attributes\":{\"callback\":null,\"column_names\":[\"x1\",\"x2\",\"names\"],\"data\":{\"names\":[\"the\",\"of\",\"and\",\"in\",\"to\",\"a\",\"was\",\"s\",\"on\",\"as\",\"for\",\"that\",\"with\",\"by\",\"is\",\"his\",\"at\",\"he\",\"it\",\"from\",\"were\",\"an\",\"had\",\"which\",\"be\",\"this\",\"but\",\"are\",\"first\",\"not\",\"their\",\"after\",\"one\",\"her\",\"also\",\"its\",\"they\",\"two\",\"or\",\"have\",\"who\",\"been\",\"new\",\"has\",\"she\",\"when\",\"time\",\"during\",\"other\",\"would\",\"into\",\"all\",\"i\",\"more\",\"while\",\"over\",\"him\",\"game\",\"only\",\"later\",\"most\",\"up\",\"three\",\"between\",\"about\",\"out\",\"th\",\"there\",\"than\",\"some\",\"film\",\"may\",\"before\",\"year\",\"no\",\"made\",\"such\",\"second\",\"season\",\"where\",\"war\",\"years\",\"world\",\"them\",\"both\",\"used\",\"however\",\"then\",\"being\",\"series\",\"song\",\"through\",\"these\",\"against\",\"m\",\"album\",\"many\",\"team\",\"number\",\"part\",\"four\",\"city\",\"including\",\"became\",\"north\",\"several\",\"can\",\"united\",\"well\",\"early\",\"under\",\"state\",\"south\",\"music\",\"day\",\"so\",\"episode\",\"states\",\"following\",\"said\",\"known\",\"american\",\"although\",\"could\",\"did\",\"began\",\"work\",\"until\",\"called\",\"like\",\"because\",\"released\",\"t\",\"high\",\"people\",\"end\",\"british\",\"since\",\"around\",\"long\",\"life\",\"best\",\"if\",\"each\",\"national\",\"found\",\"september\",\"same\",\"along\",\"back\",\"west\",\"another\",\"us\",\"million\",\"five\",\"show\",\"took\",\"you\",\"use\",\"group\",\"any\",\"km\",\"century\",\"final\",\"area\",\"off\",\"october\",\"received\",\"august\",\"due\",\"school\",\"what\",\"john\",\"line\",\"will\",\"east\",\"june\",\"july\",\"government\",\"system\",\"home\",\"march\",\"single\",\"games\",\"third\",\"much\",\"november\",\"april\",\"large\",\"down\",\"set\",\"general\",\"family\",\"major\",\"left\",\"based\",\"york\",\"place\",\"company\",\"history\",\"just\",\"december\",\"played\",\"we\",\"house\",\"name\",\"army\",\"january\",\"now\",\"six\",\"included\",\"king\",\"within\",\"character\",\"road\",\"band\",\"wrote\",\"won\",\"main\",\"led\",\"men\",\"near\",\"named\",\"air\",\"video\",\"last\",\"own\",\"according\",\"river\",\"times\",\"death\",\"described\",\"d\",\"battle\",\"those\",\"late\",\"record\",\"release\",\"next\",\"top\",\"original\",\"make\",\"de\",\"even\",\"small\",\"way\",\"ship\",\"very\",\"club\",\"league\",\"st\",\"species\",\"great\",\"still\",\"production\",\"man\",\"route\",\"storm\",\"u\",\"force\",\"public\",\"old\",\"though\",\"february\",\"built\",\"again\",\"days\",\"among\",\"do\",\"play\",\"division\",\"role\",\"power\",\"service\",\"university\",\"held\",\"further\",\"side\",\"having\",\"b\",\"book\",\"match\",\"story\",\"members\",\"french\",\"german\",\"white\",\"h\",\"often\",\"water\",\"point\",\"player\",\"continued\",\"career\",\"former\",\"black\",\"local\",\"order\",\"park\",\"without\",\"town\",\"despite\",\"half\",\"considered\",\"came\",\"party\",\"form\",\"take\",\"island\",\"different\",\"england\",\"support\",\"songs\",\"county\",\"few\",\"military\",\"moved\",\"c\",\"development\",\"version\",\"written\",\"period\",\"forces\",\"become\",\"lost\",\"given\",\"president\",\"tropical\",\"ii\",\"international\",\"country\",\"court\",\"building\",\"london\",\"english\",\"similar\",\"little\",\"my\",\"attack\",\"re\",\"never\",\"produced\",\"gave\",\"track\",\"aircraft\",\"n\",\"performance\",\"returned\",\"published\",\"using\",\"went\",\"position\",\"lead\",\"class\",\"church\",\"street\",\"short\",\"stated\",\"making\",\"tour\",\"ships\",\"royal\",\"land\",\"television\",\"how\",\"good\",\"include\",\"highway\",\"week\",\"father\",\"control\",\"western\",\"live\",\"run\",\"women\",\"recorded\",\"total\",\"children\",\"star\",\"right\",\"upon\",\"himself\",\"fire\",\"australia\",\"per\",\"central\",\"young\",\"throughout\",\"characters\",\"once\",\"love\",\"ft\",\"design\",\"players\",\"less\",\"seven\",\"ten\",\"writing\",\"previous\",\"away\",\"me\",\"rock\",\"title\",\"red\",\"instead\",\"age\",\"months\",\"night\",\"head\",\"station\",\"across\",\"return\",\"developed\",\"law\",\"remained\",\"light\",\"r\",\"result\",\"sea\",\"e\",\"political\",\"eight\",\"james\",\"died\",\"felt\",\"various\",\"hurricane\",\"southern\",\"office\",\"announced\",\"reported\",\"created\",\"william\",\"america\",\"noted\",\"field\",\"son\",\"miles\",\"followed\",\"too\",\"win\",\"eventually\",\"low\",\"style\",\"race\",\"should\",\"center\",\"college\",\"construction\",\"japanese\",\"sent\",\"award\",\"served\",\"areas\",\"act\",\"reached\",\"seen\",\"performed\",\"modern\",\"member\",\"together\",\"northern\",\"range\",\"taken\",\"established\",\"killed\",\"campaign\",\"able\",\"others\",\"full\",\"mm\",\"george\",\"born\",\"common\",\"chart\",\"football\",\"appeared\",\"action\",\"works\",\"success\",\"critics\",\"originally\",\"australian\",\"caused\",\"body\",\"stage\",\"project\",\"points\",\"located\",\"thought\",\"post\",\"addition\",\"features\",\"get\",\"front\",\"level\",\"started\",\"fourth\",\"behind\",\"playing\",\"bridge\",\"present\",\"rather\",\"decided\",\"go\",\"special\",\"formed\",\"guns\",\"site\",\"every\",\"sold\",\"director\",\"damage\",\"o\",\"feet\",\"f\",\"david\",\"saw\",\"fleet\",\"completed\",\"eastern\",\"championship\",\"almost\",\"close\",\"awards\",\"heavy\",\"popular\",\"added\",\"open\",\"strong\",\"opened\",\"non\",\"soon\",\"initially\",\"see\",\"population\",\"command\",\"free\",\"working\",\"important\",\"leading\",\"mother\",\"michael\",\"art\",\"region\",\"kingdom\",\"scene\",\"towards\",\"ground\",\"worked\",\"event\",\"france\",\"scored\",\"l\",\"coast\",\"case\",\"union\",\"mi\",\"allowed\",\"wanted\",\"training\",\"sound\",\"help\",\"ever\",\"provided\",\"average\",\"weeks\",\"records\",\"generally\",\"featured\",\"brought\",\"hit\",\"hall\",\"victory\",\"navy\",\"least\",\"placed\",\"does\",\"recording\",\"joined\",\"wife\",\"either\",\"put\",\"cup\",\"henry\",\"troops\",\"believed\",\"runs\",\"example\",\"studio\",\"council\",\"designed\",\"events\",\"opening\",\"co\",\"human\",\"washington\",\"mid\",\"list\",\"replaced\",\"far\",\"official\",\"japan\",\"minutes\",\"police\",\"robert\",\"magazine\",\"squadron\",\"europe\",\"hours\",\"brown\",\"successful\",\"highest\",\"earlier\",\"met\",\"finished\",\"start\",\"involved\",\"nine\",\"summer\",\"operation\",\"base\",\"saying\",\"review\",\"mph\",\"possible\",\"x\",\"society\",\"european\",\"films\",\"big\",\"process\",\"largest\",\"media\",\"beginning\",\"test\",\"significant\",\"rest\",\"month\",\"particularly\",\"crew\",\"outside\",\"al\",\"forced\",\"association\",\"change\",\"turned\",\"come\",\"cast\",\"shot\",\"available\",\"radio\",\"reviews\",\"praised\",\"taking\",\"research\",\"increased\",\"community\",\"charles\",\"relationship\",\"goal\",\"stone\",\"social\",\"move\",\"above\",\"hill\",\"captain\",\"additional\",\"ended\",\"business\",\"appearance\",\"future\",\"san\",\"going\",\"section\",\"winds\",\"real\",\"passed\",\"better\",\"interest\",\"infantry\",\"signed\",\"ordered\",\"middle\",\"thus\",\"previously\",\"rights\",\"lower\",\"lake\",\"positive\",\"thomas\",\"canada\",\"space\",\"committee\",\"gold\",\"overall\",\"enough\",\"staff\",\"must\",\"spent\",\"program\",\"critical\",\"board\",\"elements\",\"units\",\"don\",\"cross\",\"give\",\"gun\",\"chief\",\"round\",\"california\",\"failed\",\"groups\",\"female\",\"find\",\"plan\",\"told\",\"required\",\"type\",\"brother\",\"india\",\"reception\",\"attempt\",\"parts\",\"musical\",\"paul\",\"directed\",\"cover\",\"sometimes\",\"personal\",\"castle\",\"room\",\"hand\",\"district\",\"germany\",\"introduced\",\"whom\",\"complete\",\"ny\",\"g\",\"v\",\"lines\",\"money\",\"grand\",\"students\",\"itself\",\"p\",\"news\",\"square\",\"term\",\"bill\",\"usually\",\"indian\",\"background\",\"port\",\"loss\",\"turn\",\"plot\",\"asked\",\"whose\",\"evidence\",\"effects\",\"election\",\"claimed\",\"services\",\"entire\",\"prior\",\"education\",\"civil\",\"debut\",\"fifth\",\"our\",\"flight\",\"quickly\",\"blue\",\"stars\",\"britain\",\"battalion\",\"past\",\"governor\",\"already\",\"especially\",\"smith\",\"novel\",\"score\",\"length\",\"woman\",\"idea\",\"speed\",\"surface\",\"person\",\"living\",\"car\",\"study\",\"green\",\"movement\",\"teams\",\"uk\",\"limited\",\"response\",\"carried\",\"richard\",\"bay\",\"shows\",\"arrived\",\"voice\",\"issue\",\"village\",\"industry\",\"writer\",\"mark\",\"food\",\"centre\",\"commander\",\"science\",\"material\",\"anti\",\"might\",\"leader\",\"k\",\"peter\",\"latter\",\"estimated\",\"suggested\",\"la\",\"department\",\"episodes\",\"press\",\"operations\",\"cut\",\"leaving\",\"queen\",\"defeated\",\"nearly\",\"god\",\"minister\",\"influence\",\"decision\",\"structure\",\"earth\",\"depression\",\"appointed\",\"spanish\",\"approximately\",\"larger\",\"entered\",\"language\",\"provide\",\"islands\",\"remaining\",\"pop\",\"self\",\"shortly\",\"tracks\",\"changes\",\"scenes\",\"naval\",\"today\",\"child\",\"agreed\",\"pressure\",\"intended\",\"supported\",\"destroyed\",\"virginia\",\"size\",\"winning\",\"becoming\",\"percent\",\"brigade\",\"empire\",\"running\",\"los\",\"dark\",\"date\",\"current\",\"commercial\",\"chicago\",\"hot\",\"cost\",\"report\",\"nature\",\"view\",\"proposed\",\"course\",\"finally\",\"cm\",\"compared\",\"wide\",\"professional\",\"network\",\"fans\",\"daughter\",\"soviet\",\"nd\",\"railway\",\"producer\",\"health\",\"your\",\"fact\",\"related\",\"contract\",\"natural\",\"planned\",\"done\",\"married\",\"subsequently\",\"helped\",\"friends\",\"upper\",\"experience\",\"minor\",\"regular\",\"manager\",\"whether\",\"jackson\",\"face\",\"changed\",\"effect\",\"fort\",\"lack\",\"officer\",\"immediately\",\"remains\",\"private\",\"captured\",\"chinese\",\"yet\",\"countries\",\"edward\",\"museum\",\"plans\",\"longer\",\"higher\",\"awarded\",\"initial\",\"extended\",\"numerous\",\"create\",\"associated\",\"soldiers\",\"probably\",\"corps\",\"buildings\",\"billboard\",\"really\",\"always\",\"regiment\",\"trade\",\"ball\",\"friend\",\"know\",\"lyrics\",\"federal\",\"conference\",\"moving\",\"pacific\",\"themselves\",\"officers\",\"christian\",\"johnson\",\"poor\",\"guitar\",\"ran\",\"forward\",\"singles\",\"appear\",\"books\",\"got\",\"something\",\"difficult\",\"feature\",\"j\",\"copies\",\"pass\",\"inspired\",\"dead\",\"majority\",\"china\",\"issued\",\"texas\",\"mostly\",\"lord\",\"problems\",\"leave\",\"independent\",\"dance\",\"location\",\"energy\",\"suffered\",\"singer\",\"mixed\",\"florida\",\"via\",\"information\",\"cause\",\"albums\",\"attacks\",\"offered\"],\"x1\":{\"__ndarray__\":\"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\",\"dtype\":\"float32\",\"shape\":[1000]},\"x2\":{\"__ndarray__\":\"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\",\"dtype\":\"float32\",\"shape\":[1000]}}},\"id\":\"37cca8de-6d34-420a-83cc-32ceb1fa21cb\",\"type\":\"ColumnDataSource\"},{\"attributes\":{},\"id\":\"a9b9bcaf-cc4e-417b-b6bf-4fdeaaf19371\",\"type\":\"BasicTickFormatter\"},{\"attributes\":{\"plot\":null,\"text\":\"word2vec T-SNE for most common words\"},\"id\":\"6e2c3e5a-a3e5-4b77-b318-69f585ca3c0c\",\"type\":\"Title\"},{\"attributes\":{\"callback\":null},\"id\":\"ced808f5-c784-493d-8818-0e8746bd0117\",\"type\":\"DataRange1d\"},{\"attributes\":{},\"id\":\"1861e2ee-3d25-435e-a3c6-0d1f3e4a2083\",\"type\":\"ToolEvents\"}],\"root_ids\":[\"f70ba92d-0d51-4c7f-acbc-a61ea7267c8b\"]},\"title\":\"Bokeh Application\",\"version\":\"0.12.4\"}};\n",
       "            var render_items = [{\"docid\":\"b5ffa73d-e659-4d75-9a31-50972b3c6604\",\"elementid\":\"1b25ad66-a5dd-4da1-9edc-92bc2e3fd190\",\"modelid\":\"f70ba92d-0d51-4c7f-acbc-a61ea7267c8b\"}];\n",
       "            \n",
       "            Bokeh.embed.embed_items(docs_json, render_items);\n",
       "          };\n",
       "          if (document.readyState != \"loading\") fn();\n",
       "          else document.addEventListener(\"DOMContentLoaded\", fn);\n",
       "        })();\n",
       "      },\n",
       "      function(Bokeh) {\n",
       "      }\n",
       "    ];\n",
       "  \n",
       "    function run_inline_js() {\n",
       "      \n",
       "      if ((window.Bokeh !== undefined) || (force === true)) {\n",
       "        for (var i = 0; i < inline_js.length; i++) {\n",
       "          inline_js[i](window.Bokeh);\n",
       "        }if (force === true) {\n",
       "          display_loaded();\n",
       "        }} else if (Date.now() < window._bokeh_timeout) {\n",
       "        setTimeout(run_inline_js, 100);\n",
       "      } else if (!window._bokeh_failed_load) {\n",
       "        console.log(\"Bokeh: BokehJS failed to load within specified timeout.\");\n",
       "        window._bokeh_failed_load = true;\n",
       "      } else if (force !== true) {\n",
       "        var cell = $(document.getElementById(\"1b25ad66-a5dd-4da1-9edc-92bc2e3fd190\")).parents('.cell').data().cell;\n",
       "        cell.output_area.append_execute_result(NB_LOAD_WARNING)\n",
       "      }\n",
       "  \n",
       "    }\n",
       "  \n",
       "    if (window._bokeh_is_loading === 0) {\n",
       "      console.log(\"Bokeh: BokehJS loaded, going straight to plotting\");\n",
       "      run_inline_js();\n",
       "    } else {\n",
       "      load_libs(js_urls, function() {\n",
       "        console.log(\"Bokeh: BokehJS plotting callback run at\", now());\n",
       "        run_inline_js();\n",
       "      });\n",
       "    }\n",
       "  }(this));\n",
       "</script>"
      ]
     },
     "metadata": {},
     "output_type": "display_data"
    }
   ],
   "source": [
    "p = figure(tools=\"pan,wheel_zoom,reset,save\",\n",
    "           toolbar_location=\"above\",\n",
    "           title=\"word2vec T-SNE for most common words\")\n",
    "\n",
    "source = ColumnDataSource(data=dict(x1=words_top_wiki_tsne[:,0],\n",
    "                                    x2=words_top_wiki_tsne[:,1],\n",
    "                                    names=words_top_wiki))\n",
    "\n",
    "p.scatter(x=\"x1\", y=\"x2\", size=8, source=source)\n",
    "\n",
    "labels = LabelSet(x=\"x1\", y=\"x2\", text=\"names\", y_offset=6,\n",
    "                  text_font_size=\"8pt\", text_color=\"#555555\",\n",
    "                  source=source, text_align='center')\n",
    "p.add_layout(labels)\n",
    "\n",
    "show(p)"
   ]
  },
  {
   "cell_type": "code",
   "execution_count": null,
   "metadata": {
    "collapsed": true
   },
   "outputs": [],
   "source": []
  }
 ],
 "metadata": {
  "anaconda-cloud": {},
  "kernelspec": {
   "display_name": "Python 3",
   "language": "python",
   "name": "python3"
  },
  "language_info": {
   "codemirror_mode": {
    "name": "ipython",
    "version": 3
   },
   "file_extension": ".py",
   "mimetype": "text/x-python",
   "name": "python",
   "nbconvert_exporter": "python",
   "pygments_lexer": "ipython3",
   "version": "3.6.0"
  }
 },
 "nbformat": 4,
 "nbformat_minor": 1
}
